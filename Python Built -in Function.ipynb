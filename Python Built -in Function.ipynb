{
 "cells": [
  {
   "cell_type": "markdown",
   "id": "c93c12f0",
   "metadata": {},
   "source": [
    "# Python Built in Function\n",
    "- function that are alredy present in python\n",
    "\n",
    "##### List of inbuilt function :\n",
    "\n",
    "\n",
    "\n",
    "- filter()\n",
    "- globals()\n",
    "\n",
    "- locals()\n",
    "- maps()\n",
    "- sorted()\n",
    "- super()\n",
    "     \n",
    "- __dict__\n",
    "8) lambda()\n",
    "9) reduce()\n",
    "19) __init__()\n",
    "20) globals \n"
   ]
  },
  {
   "cell_type": "code",
   "execution_count": null,
   "id": "7640ce09",
   "metadata": {},
   "outputs": [],
   "source": []
  },
  {
   "cell_type": "code",
   "execution_count": 13,
   "id": "cdd69801",
   "metadata": {},
   "outputs": [
    {
     "name": "stdout",
     "output_type": "stream",
     "text": [
      "45\n",
      "5\n",
      "1\n",
      "19\n",
      "(2, 0)\n",
      "16\n"
     ]
    }
   ],
   "source": [
    "# abs =used to return absolut value \n",
    "x = -45\n",
    "print(abs(x))\n",
    "\n",
    "#min ,max ,sum\n",
    "a = [1,2,3,4,4,5]\n",
    "print(max(a))\n",
    "print(min(a))\n",
    "print(sum(a))\n",
    "\n",
    "# divmod() = Returns the quotient and the remainder when argument1 is divided by argument2and returns a tuple containing the quotient and the remainder.\n",
    "print(divmod(4,2))\n",
    "\n",
    "# pow() = Returns the value of x to the power of y\n",
    "print(pow(4,2))\n",
    "\n",
    "# round() = This function is used to round a floating-point number to a specified number of decimal places\n",
    "num = 3.14159\n",
    "rounded_num = round(num, 2)  # Rounds to 2 decimal places\n",
    "print(rounded_num)\n",
    "\n"
   ]
  },
  {
   "cell_type": "code",
   "execution_count": 7,
   "id": "2c748ba2",
   "metadata": {},
   "outputs": [
    {
     "name": "stdout",
     "output_type": "stream",
     "text": [
      "4\n",
      "7\n",
      "11\n",
      "13\n"
     ]
    }
   ],
   "source": [
    "#eval()= used to evaluate a string as a Python expression and return the result.\n",
    "# use it if we want to input function automatically identify data type\n",
    "\n",
    "x = int(input( ))\n",
    "X = eval(input( ))\n",
    "print(x+X)\n",
    "\n",
    "# Using eval() to perform arithmetic operations\n",
    "expression = \"3 + 5 * 2\"\n",
    "result = eval(expression)\n",
    "print(result)  # Output: 13\n"
   ]
  },
  {
   "cell_type": "code",
   "execution_count": 8,
   "id": "053d55ce",
   "metadata": {},
   "outputs": [
    {
     "name": "stdout",
     "output_type": "stream",
     "text": [
      "False\n",
      "True\n"
     ]
    }
   ],
   "source": [
    "# all = return true if all elemnts of iterable are true (or if the iterable is empty)\n",
    "# any = returns true if at least one elemnt in iterable is considered as true\n",
    "\n",
    "numbers = [ 2,4,6,8,10,11]\n",
    "result1 = all(num%2 == 0 for num in numbers)\n",
    "print(result1)\n",
    "\n",
    "result2 = any(num%2 != 0 for num in numbers)\n",
    "print(result2 )"
   ]
  },
  {
   "cell_type": "code",
   "execution_count": 17,
   "id": "797b2c52",
   "metadata": {},
   "outputs": [
    {
     "name": "stdout",
     "output_type": "stream",
     "text": [
      "('a', 'b')\n",
      "[2, 3, 4]\n"
     ]
    }
   ],
   "source": [
    "#slice() creates a slice object that can be used to extract a portion of a sequence (e.g., list, tuple, string).\n",
    "\"\"\"syntax = slice(start, end, step)\n",
    "start\tOptional. An integer number specifying at which position to start the slicing. Default is 0\n",
    "end\t An integer number specifying at which position to end the slicing\n",
    "step\tOptional. An integer number specifying the step of the slicing. Default is 1\"\"\"\n",
    "\n",
    "a = (\"a\", \"b\", \"c\", \"d\", \"e\", \"f\", \"g\", \"h\")\n",
    "x = slice(2)\n",
    "print(a[x])\n",
    "\n",
    "b = [1,2,3,4]\n",
    "s = slice(1,4)\n",
    "sliced_list = b[s]\n",
    "print(sliced_list)"
   ]
  },
  {
   "cell_type": "code",
   "execution_count": 9,
   "id": "4ccaf0f1",
   "metadata": {},
   "outputs": [
    {
     "name": "stdout",
     "output_type": "stream",
     "text": [
      "True\n",
      "False\n",
      "10.0\n",
      "10\n"
     ]
    }
   ],
   "source": [
    "# - bool(),int ,float(),str() = functions is  used to convert a value in to boolean,int ,float ,string\n",
    "\n",
    "x = 10\n",
    "y = 0 \n",
    "\n",
    "print(bool(x))\n",
    "print(bool(y))      # if y=0 and empty  sequence return false \n",
    "print(float(x))\n",
    "print(str(x))\n"
   ]
  },
  {
   "cell_type": "code",
   "execution_count": 14,
   "id": "e53205f4",
   "metadata": {},
   "outputs": [
    {
     "name": "stdout",
     "output_type": "stream",
     "text": [
      "['H', 'a', 'r', 's', 'h', 'a', 'l', 'i']\n",
      "42\n",
      "<class 'str'>\n",
      "(2, 3, 5)\n",
      "{1, 2, 3, 4, 5}\n",
      "{'name': 'harshali', 'marks': 98}\n",
      "dict_keys(['name', 'marks'])\n",
      "dict_values(['harshali', 98])\n",
      "dict_items([('name', 'harshali'), ('marks', 98)])\n",
      "harshali\n",
      "harshali\n",
      "{'marks': 98}\n",
      "{'marks': 98, 'class': 'A'}\n"
     ]
    }
   ],
   "source": [
    "# list() - Converts an iterable (e.g., a string, tuple, or dictionary) into a list.\n",
    "s= 'Harshali'\n",
    "print(list(s))\n",
    "\n",
    "#str() - Converts an object into a string.\n",
    "num = 42\n",
    "nstr = str(num)\n",
    "print(nstr)  \n",
    "print(type(nstr))\n",
    "\n",
    "#tuple() - Creates a tuple from an iterable or converts another sequence-like object to a tuple.\n",
    "l = [ 2,3,5]\n",
    "t = tuple(l)\n",
    "print(t)\n",
    "\n",
    "#set():The set() function is used to create an unordered collection of unique elements.\n",
    "my_set = set([1,2,2,3,4,4,5])\n",
    "print(my_set)\n",
    "\n",
    "# dict() - Creates a new dictionary or converts a sequence of key-value pairs into a dictionary.\n",
    "#data = [(\"key1\", \"value1\"), (\"key2\", \"value2\")]\n",
    "#syntax = dict(data)\n",
    "data = [('name','harshali'),('marks',98)]\n",
    "Dict = dict(data)\n",
    "print(Dict)\n",
    "\n",
    "#keys(), values(), items() - These methods are used with dictionaries to extract keys, values, and key-value pairs (items), respectively.\n",
    "print(Dict.keys())\n",
    "print(Dict.values())\n",
    "print(Dict.items())\n",
    "\n",
    "#get() - Retrieves the value associated with a specified key in a dictionary.\n",
    "names = Dict.get('name')\n",
    "print(names)\n",
    "\n",
    "#pop() - Removes and returns the value associated with a specified key in a dictionary.\n",
    "name = Dict.pop('name')\n",
    "print(name)\n",
    "print(Dict)\n",
    "\n",
    "#update() - Updates a dictionary with elements from another dictionary or an iterable of key-value pairs.\n",
    "Dict2 = {'class': \"A\"}\n",
    "Dict.update(Dict2)\n",
    "print(Dict)"
   ]
  },
  {
   "cell_type": "code",
   "execution_count": 4,
   "id": "f9dff69e",
   "metadata": {},
   "outputs": [
    {
     "name": "stdout",
     "output_type": "stream",
     "text": [
      "[(0, 'apple'), (1, 'banana'), (2, 'cherry')]\n",
      "6\n",
      "1234[('rose', 'red'), ('mogara', 'white')]\n",
      "[7, 6, 5, 4, 3, 1]\n",
      "1\n",
      "2\n"
     ]
    }
   ],
   "source": [
    "# enumerate() =to iterate through an iterable (e.g., list, tuple) while keeping track of the index or position of each item.\n",
    "x = ('apple', 'banana', 'cherry')\n",
    "y = enumerate(x)\n",
    "print(list(y))\n",
    "\n",
    "# len()= The len() function is used to find the length (number of items) of an object,\n",
    "#such as a string, list, tuple, or dictionary.\n",
    "a = (1,2,3,4,5,6)\n",
    "print(len(a))\n",
    "\n",
    "# range() = The range() function generates a sequence of numbers within a specified range.\n",
    "#It is commonly used in for loops.\n",
    "for i in range(1,5):\n",
    "    print(i,end = '')\n",
    "    \n",
    "# Zip() = The zip() function is used to combine multiple iterables (e.g., lists or tuples)\n",
    "#element-wise into tuples.\n",
    "a = ['rose','mogara']\n",
    "b= ['red','white']\n",
    "c= list(zip(a,b))\n",
    "print(c)\n",
    "\n",
    "# reversed() =The reversed() function is used to reverse an iterable (e.g., a list) and return an\n",
    "#iterator\n",
    "A= [1,3,4,5,6,7]\n",
    "reverse_list = list(reversed(A))\n",
    "print(reverse_list)\n",
    "\n",
    "# iter()= The iter() function is used to create an iterator object from an iterable.\n",
    "  #--An iterable is an object that can be looped over, such as a list, tuple, string, or dictionary\n",
    "  # SYNTAX = iter(object, sentinel)\n",
    "    #object\tRequired. An iterable object\n",
    "    #sentinel\tOptional. If the object is a callable object the iteration will stop when \n",
    "    the returned value is the same as the s  \n",
    "\n",
    "my_list = [1, 2, 3, 4, 5]\n",
    "my_iterator = iter(my_list)       \n",
    "\n",
    "                        # Access elements using the iterator\n",
    "print(next(my_iterator)) \n",
    "print(next(my_iterator))    \n",
    "    \n",
    "        \n",
    "# next()=The next() function returns the next item in an iterator.\n",
    " # You can add a default return value, to return if the iterable has reached to its end.\n",
    "   # syntax (iterable ,default)\n"
   ]
  },
  {
   "cell_type": "code",
   "execution_count": 23,
   "id": "644cb97d",
   "metadata": {},
   "outputs": [
    {
     "name": "stdout",
     "output_type": "stream",
     "text": [
      "a\n",
      "b\n",
      "c\n",
      "Iterator is exhausted.\n",
      "No more items\n"
     ]
    }
   ],
   "source": [
    "my_tuple = ('a', 'b', 'c')\n",
    "\n",
    "# Create an iterator from the iterable\n",
    "my_iterator = iter(my_tuple)\n",
    "\n",
    "# Access elements using the iterator\n",
    "print(next(my_iterator))  # Output: 'a'\n",
    "print(next(my_iterator))  # Output: 'b'\n",
    "print(next(my_iterator))  # Output: 'c'\n",
    "\n",
    "# Attempting to access more items after exhaustion\n",
    "try:\n",
    "    print(next(my_iterator))  # Raises StopIteration\n",
    "except StopIteration:\n",
    "    print(\"Iterator is exhausted.\")\n",
    "\n",
    "# Using a default value with next() when exhausted\n",
    "default_value = \"No more items\"\n",
    "print(next(my_iterator, default_value))"
   ]
  },
  {
   "cell_type": "code",
   "execution_count": 45,
   "id": "ad30988c",
   "metadata": {},
   "outputs": [
    {
     "name": "stdout",
     "output_type": "stream",
     "text": [
      "Hello World Python is awesome\n"
     ]
    }
   ],
   "source": [
    "# join() = The join() function in Python is a string method used to concatenate (join) \n",
    "#  elements from an iterable into a single string, with a specified delimiter. \n",
    "This is particularly useful when you want to convert a list of strings into a single string,\n",
    "separated by a specific character\n",
    "#syntax = delimiter_string.join(iterable)\n",
    "#delimiter_string: The string that will be used to separate the elements in the iterable.\n",
    "#iterable: The sequence of strings or elements that you want to join.\n",
    "\n",
    "words = [\"Hello\", \"World\", \"Python\", \"is\", \"awesome\"]\n",
    "sentence = \" \".join(words)\n",
    "print(sentence)"
   ]
  },
  {
   "cell_type": "code",
   "execution_count": 15,
   "id": "a9d4e726",
   "metadata": {},
   "outputs": [
    {
     "name": "stdout",
     "output_type": "stream",
     "text": [
      "Alice\n"
     ]
    }
   ],
   "source": [
    "#setattr(): setattr() is used to set the value of an attribute of an object.\n",
    "\n",
    "class Person:\n",
    "    pass\n",
    "\n",
    "person = Person()\n",
    "setattr(person, 'name', 'Alice')\n",
    "print(person.name)"
   ]
  },
  {
   "cell_type": "code",
   "execution_count": 8,
   "id": "e671c338",
   "metadata": {},
   "outputs": [
    {
     "name": "stdout",
     "output_type": "stream",
     "text": [
      "Alice\n",
      "Unknown\n"
     ]
    }
   ],
   "source": [
    "# getattr()=  is used to get the value of an attribute of an object. \n",
    "#It takes three arguments: the object, the attribute name as a string, and an optional default value if the attribute doesn't exist.\n",
    "\n",
    "class Person:\n",
    "    def __init__(self, name, age):\n",
    "        self.name = name\n",
    "        self.age = age\n",
    "\n",
    "person = Person(\"Alice\", 30)\n",
    "\n",
    "# Get the 'name' attribute of the person object\n",
    "name = getattr(person, \"name\")\n",
    "print(name) \n",
    "\n",
    "# Attempt to get an attribute that doesn't exist with a default value\n",
    "city = getattr(person, \"city\", \"Unknown\")\n",
    "print(city) \n",
    "\n"
   ]
  },
  {
   "cell_type": "code",
   "execution_count": 9,
   "id": "10dfe5e9",
   "metadata": {},
   "outputs": [
    {
     "name": "stdout",
     "output_type": "stream",
     "text": [
      "True\n",
      "False\n"
     ]
    }
   ],
   "source": [
    "#hasattr()\tReturns True if the specified object has the specified attribute (property/method)\n",
    "# It takes two arguments: the object and the attribute name as a string. \n",
    "It returns True if the attribute exists, otherwise False.\n",
    "\n",
    "class Person:\n",
    "    def __init__(self, name, age):\n",
    "        self.name = name\n",
    "        self.age = age\n",
    "\n",
    "person = Person(\"Alice\", 30)\n",
    "\n",
    "has_name_attr = hasattr(person, \"name\")\n",
    "print(has_name_attr)  # Output: True\n",
    "\n",
    "has_email_attr = hasattr(person, \"email\")\n",
    "print(has_email_attr)  \n"
   ]
  },
  {
   "cell_type": "code",
   "execution_count": 5,
   "id": "ffa4bdbb",
   "metadata": {},
   "outputs": [],
   "source": [
    "# delattr() = Deleat the specific attribute from specific object.\n",
    "#The delattr() function is used to delete an attribute from an object.\n",
    "#It takes two arguments: the object from which to delete the attribute and the attribute name as a string.\n",
    "# attribute delattr() must be string, not 'int'\n",
    "\n",
    "class Person:\n",
    "  name = \"John\"\n",
    "  age = 36\n",
    "  country = \"Norway\"\n",
    "\n",
    "delattr(Person, 'age')\n"
   ]
  },
  {
   "cell_type": "code",
   "execution_count": 18,
   "id": "4937c14a",
   "metadata": {},
   "outputs": [
    {
     "name": "stdout",
     "output_type": "stream",
     "text": [
      "1\n"
     ]
    }
   ],
   "source": []
  },
  {
   "cell_type": "code",
   "execution_count": 17,
   "id": "5c3fbcc9",
   "metadata": {},
   "outputs": [
    {
     "name": "stdout",
     "output_type": "stream",
     "text": [
      "['__class__', '__delattr__', '__dict__', '__dir__', '__doc__', '__eq__', '__format__', '__ge__', '__getattribute__', '__gt__', '__hash__', '__init__', '__init_subclass__', '__le__', '__lt__', '__module__', '__ne__', '__new__', '__reduce__', '__reduce_ex__', '__repr__', '__setattr__', '__sizeof__', '__str__', '__subclasshook__', '__weakref__', 'age', 'country', 'name']\n",
      "['__call__', '__class__', '__delattr__', '__dir__', '__doc__', '__eq__', '__format__', '__ge__', '__getattribute__', '__gt__', '__hash__', '__init__', '__init_subclass__', '__le__', '__lt__', '__module__', '__name__', '__ne__', '__new__', '__qualname__', '__reduce__', '__reduce_ex__', '__repr__', '__self__', '__setattr__', '__sizeof__', '__str__', '__subclasshook__', '__text_signature__']\n"
     ]
    }
   ],
   "source": [
    "# dir()=  returns a list of specific object properties and methods\n",
    "\n",
    "class Person:\n",
    "  name = \"John\"\n",
    "  age = 36\n",
    "  country = \"Norway\"\n",
    "\n",
    "print(dir(Person))\n"
   ]
  },
  {
   "cell_type": "code",
   "execution_count": 12,
   "id": "c93debc4",
   "metadata": {},
   "outputs": [
    {
     "name": "stdout",
     "output_type": "stream",
     "text": [
      "Help on built-in module math:\n",
      "\n",
      "NAME\n",
      "    math\n",
      "\n",
      "DESCRIPTION\n",
      "    This module provides access to the mathematical functions\n",
      "    defined by the C standard.\n",
      "\n",
      "FUNCTIONS\n",
      "    acos(x, /)\n",
      "        Return the arc cosine (measured in radians) of x.\n",
      "        \n",
      "        The result is between 0 and pi.\n",
      "    \n",
      "    acosh(x, /)\n",
      "        Return the inverse hyperbolic cosine of x.\n",
      "    \n",
      "    asin(x, /)\n",
      "        Return the arc sine (measured in radians) of x.\n",
      "        \n",
      "        The result is between -pi/2 and pi/2.\n",
      "    \n",
      "    asinh(x, /)\n",
      "        Return the inverse hyperbolic sine of x.\n",
      "    \n",
      "    atan(x, /)\n",
      "        Return the arc tangent (measured in radians) of x.\n",
      "        \n",
      "        The result is between -pi/2 and pi/2.\n",
      "    \n",
      "    atan2(y, x, /)\n",
      "        Return the arc tangent (measured in radians) of y/x.\n",
      "        \n",
      "        Unlike atan(y/x), the signs of both x and y are considered.\n",
      "    \n",
      "    atanh(x, /)\n",
      "        Return the inverse hyperbolic tangent of x.\n",
      "    \n",
      "    ceil(x, /)\n",
      "        Return the ceiling of x as an Integral.\n",
      "        \n",
      "        This is the smallest integer >= x.\n",
      "    \n",
      "    comb(n, k, /)\n",
      "        Number of ways to choose k items from n items without repetition and without order.\n",
      "        \n",
      "        Evaluates to n! / (k! * (n - k)!) when k <= n and evaluates\n",
      "        to zero when k > n.\n",
      "        \n",
      "        Also called the binomial coefficient because it is equivalent\n",
      "        to the coefficient of k-th term in polynomial expansion of the\n",
      "        expression (1 + x)**n.\n",
      "        \n",
      "        Raises TypeError if either of the arguments are not integers.\n",
      "        Raises ValueError if either of the arguments are negative.\n",
      "    \n",
      "    copysign(x, y, /)\n",
      "        Return a float with the magnitude (absolute value) of x but the sign of y.\n",
      "        \n",
      "        On platforms that support signed zeros, copysign(1.0, -0.0)\n",
      "        returns -1.0.\n",
      "    \n",
      "    cos(x, /)\n",
      "        Return the cosine of x (measured in radians).\n",
      "    \n",
      "    cosh(x, /)\n",
      "        Return the hyperbolic cosine of x.\n",
      "    \n",
      "    degrees(x, /)\n",
      "        Convert angle x from radians to degrees.\n",
      "    \n",
      "    dist(p, q, /)\n",
      "        Return the Euclidean distance between two points p and q.\n",
      "        \n",
      "        The points should be specified as sequences (or iterables) of\n",
      "        coordinates.  Both inputs must have the same dimension.\n",
      "        \n",
      "        Roughly equivalent to:\n",
      "            sqrt(sum((px - qx) ** 2.0 for px, qx in zip(p, q)))\n",
      "    \n",
      "    erf(x, /)\n",
      "        Error function at x.\n",
      "    \n",
      "    erfc(x, /)\n",
      "        Complementary error function at x.\n",
      "    \n",
      "    exp(x, /)\n",
      "        Return e raised to the power of x.\n",
      "    \n",
      "    expm1(x, /)\n",
      "        Return exp(x)-1.\n",
      "        \n",
      "        This function avoids the loss of precision involved in the direct evaluation of exp(x)-1 for small x.\n",
      "    \n",
      "    fabs(x, /)\n",
      "        Return the absolute value of the float x.\n",
      "    \n",
      "    factorial(x, /)\n",
      "        Find x!.\n",
      "        \n",
      "        Raise a ValueError if x is negative or non-integral.\n",
      "    \n",
      "    floor(x, /)\n",
      "        Return the floor of x as an Integral.\n",
      "        \n",
      "        This is the largest integer <= x.\n",
      "    \n",
      "    fmod(x, y, /)\n",
      "        Return fmod(x, y), according to platform C.\n",
      "        \n",
      "        x % y may differ.\n",
      "    \n",
      "    frexp(x, /)\n",
      "        Return the mantissa and exponent of x, as pair (m, e).\n",
      "        \n",
      "        m is a float and e is an int, such that x = m * 2.**e.\n",
      "        If x is 0, m and e are both 0.  Else 0.5 <= abs(m) < 1.0.\n",
      "    \n",
      "    fsum(seq, /)\n",
      "        Return an accurate floating point sum of values in the iterable seq.\n",
      "        \n",
      "        Assumes IEEE-754 floating point arithmetic.\n",
      "    \n",
      "    gamma(x, /)\n",
      "        Gamma function at x.\n",
      "    \n",
      "    gcd(*integers)\n",
      "        Greatest Common Divisor.\n",
      "    \n",
      "    hypot(...)\n",
      "        hypot(*coordinates) -> value\n",
      "        \n",
      "        Multidimensional Euclidean distance from the origin to a point.\n",
      "        \n",
      "        Roughly equivalent to:\n",
      "            sqrt(sum(x**2 for x in coordinates))\n",
      "        \n",
      "        For a two dimensional point (x, y), gives the hypotenuse\n",
      "        using the Pythagorean theorem:  sqrt(x*x + y*y).\n",
      "        \n",
      "        For example, the hypotenuse of a 3/4/5 right triangle is:\n",
      "        \n",
      "            >>> hypot(3.0, 4.0)\n",
      "            5.0\n",
      "    \n",
      "    isclose(a, b, *, rel_tol=1e-09, abs_tol=0.0)\n",
      "        Determine whether two floating point numbers are close in value.\n",
      "        \n",
      "          rel_tol\n",
      "            maximum difference for being considered \"close\", relative to the\n",
      "            magnitude of the input values\n",
      "          abs_tol\n",
      "            maximum difference for being considered \"close\", regardless of the\n",
      "            magnitude of the input values\n",
      "        \n",
      "        Return True if a is close in value to b, and False otherwise.\n",
      "        \n",
      "        For the values to be considered close, the difference between them\n",
      "        must be smaller than at least one of the tolerances.\n",
      "        \n",
      "        -inf, inf and NaN behave similarly to the IEEE 754 Standard.  That\n",
      "        is, NaN is not close to anything, even itself.  inf and -inf are\n",
      "        only close to themselves.\n",
      "    \n",
      "    isfinite(x, /)\n",
      "        Return True if x is neither an infinity nor a NaN, and False otherwise.\n",
      "    \n",
      "    isinf(x, /)\n",
      "        Return True if x is a positive or negative infinity, and False otherwise.\n",
      "    \n",
      "    isnan(x, /)\n",
      "        Return True if x is a NaN (not a number), and False otherwise.\n",
      "    \n",
      "    isqrt(n, /)\n",
      "        Return the integer part of the square root of the input.\n",
      "    \n",
      "    lcm(*integers)\n",
      "        Least Common Multiple.\n",
      "    \n",
      "    ldexp(x, i, /)\n",
      "        Return x * (2**i).\n",
      "        \n",
      "        This is essentially the inverse of frexp().\n",
      "    \n",
      "    lgamma(x, /)\n",
      "        Natural logarithm of absolute value of Gamma function at x.\n",
      "    \n",
      "    log(...)\n",
      "        log(x, [base=math.e])\n",
      "        Return the logarithm of x to the given base.\n",
      "        \n",
      "        If the base not specified, returns the natural logarithm (base e) of x.\n",
      "    \n",
      "    log10(x, /)\n",
      "        Return the base 10 logarithm of x.\n",
      "    \n",
      "    log1p(x, /)\n",
      "        Return the natural logarithm of 1+x (base e).\n",
      "        \n",
      "        The result is computed in a way which is accurate for x near zero.\n",
      "    \n",
      "    log2(x, /)\n",
      "        Return the base 2 logarithm of x.\n",
      "    \n",
      "    modf(x, /)\n",
      "        Return the fractional and integer parts of x.\n",
      "        \n",
      "        Both results carry the sign of x and are floats.\n",
      "    \n",
      "    nextafter(x, y, /)\n",
      "        Return the next floating-point value after x towards y.\n",
      "    \n",
      "    perm(n, k=None, /)\n",
      "        Number of ways to choose k items from n items without repetition and with order.\n",
      "        \n",
      "        Evaluates to n! / (n - k)! when k <= n and evaluates\n",
      "        to zero when k > n.\n",
      "        \n",
      "        If k is not specified or is None, then k defaults to n\n",
      "        and the function returns n!.\n",
      "        \n",
      "        Raises TypeError if either of the arguments are not integers.\n",
      "        Raises ValueError if either of the arguments are negative.\n",
      "    \n",
      "    pow(x, y, /)\n",
      "        Return x**y (x to the power of y).\n",
      "    \n",
      "    prod(iterable, /, *, start=1)\n",
      "        Calculate the product of all the elements in the input iterable.\n",
      "        \n",
      "        The default start value for the product is 1.\n",
      "        \n",
      "        When the iterable is empty, return the start value.  This function is\n",
      "        intended specifically for use with numeric values and may reject\n",
      "        non-numeric types.\n",
      "    \n",
      "    radians(x, /)\n",
      "        Convert angle x from degrees to radians.\n",
      "    \n",
      "    remainder(x, y, /)\n",
      "        Difference between x and the closest integer multiple of y.\n",
      "        \n",
      "        Return x - n*y where n*y is the closest integer multiple of y.\n",
      "        In the case where x is exactly halfway between two multiples of\n",
      "        y, the nearest even value of n is used. The result is always exact.\n",
      "    \n",
      "    sin(x, /)\n",
      "        Return the sine of x (measured in radians).\n",
      "    \n",
      "    sinh(x, /)\n",
      "        Return the hyperbolic sine of x.\n",
      "    \n",
      "    sqrt(x, /)\n",
      "        Return the square root of x.\n",
      "    \n",
      "    tan(x, /)\n",
      "        Return the tangent of x (measured in radians).\n",
      "    \n",
      "    tanh(x, /)\n",
      "        Return the hyperbolic tangent of x.\n",
      "    \n",
      "    trunc(x, /)\n",
      "        Truncates the Real x to the nearest Integral toward 0.\n",
      "        \n",
      "        Uses the __trunc__ magic method.\n",
      "    \n",
      "    ulp(x, /)\n",
      "        Return the value of the least significant bit of the float x.\n",
      "\n",
      "DATA\n",
      "    e = 2.718281828459045\n",
      "    inf = inf\n",
      "    nan = nan\n",
      "    pi = 3.141592653589793\n",
      "    tau = 6.283185307179586\n",
      "\n",
      "FILE\n",
      "    (built-in)\n",
      "\n",
      "\n"
     ]
    }
   ],
   "source": [
    "#help():= help() is used to access Python's built-in documentation and provides\n",
    "#information about a specific object, module, or function.\n",
    "\n",
    "# Get help on the built-in 'print' function\n",
    "help(print)\n",
    "\n",
    "# Get help on a module (e.g., math)\n",
    "import math\n",
    "help(math)\n",
    "\n",
    "# Get help on a user-defined class\n",
    "class MyClass:\n",
    "    \"\"\"This is a docstring for MyClass.\"\"\"\n",
    "    def __init__(self):\n",
    "        pass\n",
    "\n",
    "help(MyClass)"
   ]
  },
  {
   "cell_type": "code",
   "execution_count": null,
   "id": "6a6f8912",
   "metadata": {},
   "outputs": [],
   "source": []
  },
  {
   "cell_type": "code",
   "execution_count": 26,
   "id": "6902972b",
   "metadata": {},
   "outputs": [
    {
     "name": "stdout",
     "output_type": "stream",
     "text": [
      "<class 'str'>\n",
      "True\n"
     ]
    }
   ],
   "source": [
    "# type =\n",
    "a = 'harshali'\n",
    "print(type(a))\n",
    "\n",
    "# isinstance = used to check if an object belongs to a specified class or type. \n",
    "#It helps you determine whether an object is an instance of a particular class or a subclass of that class. \n",
    "# syntax = isinstance(object, classinfo) \n",
    "#object: The object you want to check.\n",
    "#classinfo: A class, type, or a tuple of classes and types.\n",
    "\n",
    "print(isinstance(a,str))"
   ]
  },
  {
   "cell_type": "code",
   "execution_count": 27,
   "id": "d91200a3",
   "metadata": {},
   "outputs": [
    {
     "name": "stdout",
     "output_type": "stream",
     "text": [
      "True\n",
      "True\n",
      "True\n"
     ]
    }
   ],
   "source": [
    "# Define a class called 'Person'\n",
    "class Person:\n",
    "    pass\n",
    "\n",
    "# Create an instance of the 'Person' class\n",
    "person = Person()\n",
    "\n",
    "# Check if 'person' is an instance of the 'Person' class\n",
    "result = isinstance(person, Person)\n",
    "print(result)  # Output: True\n",
    "\n",
    "# Check if 'person' is an instance of the 'object' class\n",
    "result = isinstance(person, object)\n",
    "print(result)  # Output: True\n",
    "\n",
    "# Check if 'person' is an instance of a tuple of classes\n",
    "result = isinstance(person, (Person, str, int))\n",
    "print(result)"
   ]
  },
  {
   "cell_type": "code",
   "execution_count": 29,
   "id": "27c67b75",
   "metadata": {},
   "outputs": [],
   "source": [
    "# File Handling:\n",
    "#open(): Used to open a file.\n",
    " file = open(\"filename.txt\", \"r\")\n",
    "    \n",
    "#read(): Used to read the content of a file.\n",
    " content = filename.read()\n",
    "    \n",
    "#write(): Used to write content to a file.\n",
    " file = open(\"filename.txt\", \"w\")\n",
    "    \n",
    "\n",
    "# Writing content to the file\n",
    "file.write(\"Hello, World!\")\n",
    "    \n",
    "#close(): Used to close an open file.\n",
    " filename.close()"
   ]
  },
  {
   "cell_type": "code",
   "execution_count": null,
   "id": "9f8685cf",
   "metadata": {},
   "outputs": [],
   "source": [
    "# exception handling\n",
    "try, except, raise, finally\n",
    "\n",
    "try is used to wrap a block of code that may raise an exception.\n",
    "except is used to catch and handle exceptions.\n",
    "raise is used to manually raise an exception.\n",
    "finally is used to execute code regardless of whether an exception "
   ]
  },
  {
   "cell_type": "code",
   "execution_count": null,
   "id": "31afcfa0",
   "metadata": {},
   "outputs": [],
   "source": [
    "# opps ;\n",
    "class, super(), self,issubclass\n",
    "\n",
    "class is used to define a class in Python.\n",
    "super() is used to call a method from the parent class.\n",
    "self is used inside methods to refer to the instance of the class.\n"
   ]
  },
  {
   "cell_type": "code",
   "execution_count": null,
   "id": "9f031bc9",
   "metadata": {},
   "outputs": [],
   "source": [
    "# golbal \n",
    "# local\n"
   ]
  },
  {
   "cell_type": "markdown",
   "id": "ccb3e603",
   "metadata": {},
   "source": [
    "#### sorted = Returns a sorted list\n",
    "- The sorted() function returns a sorted list of the specified iterable object.\n",
    "- You can specify ascending or descending order. Strings are sorted alphabetically, and numbers are sorted numerically\n",
    "-Syntax = sorted(iterable, key=key, reverse=reverse)\n",
    "- iterable\tRequired. The sequence to sort, list, dictionary, tuple etc.\n",
    "- key\tOptional. A Function to execute to decide the order. Default is None\n",
    "- reverse\tOptional. A Boolean. False will sort ascending, True will sort descending. Default is False"
   ]
  },
  {
   "cell_type": "code",
   "execution_count": 8,
   "id": "adf41751",
   "metadata": {},
   "outputs": [
    {
     "name": "stdout",
     "output_type": "stream",
     "text": [
      "['T', 'b', 'e', 'k', 'o', 'o', 's', 't']\n"
     ]
    }
   ],
   "source": [
    "X = 'tesTbook'\n",
    "print(sorted(X))\n",
    "\n",
    "    # sored asending order  and first sored capital letter\n"
   ]
  },
  {
   "cell_type": "markdown",
   "id": "a2e73eb7",
   "metadata": {},
   "source": [
    "#### map(function, iterable) Function:\n",
    "- map() applies a given function to each item of an iterable (e.g., a list) and returns an iterable (typically a map object or list) containing the results.\n",
    "- General Syntax: map(function, iterable)\n",
    "\n"
   ]
  },
  {
   "cell_type": "code",
   "execution_count": 10,
   "id": "026ee8f0",
   "metadata": {},
   "outputs": [],
   "source": [
    "def even_or_odd(num):\n",
    "    if num%2 == 0:\n",
    "        return \"The number {} is even\".format(num)\n",
    "    else:\n",
    "        return \"The number {} is odd\".format(num)"
   ]
  },
  {
   "cell_type": "code",
   "execution_count": 11,
   "id": "d4d00360",
   "metadata": {},
   "outputs": [
    {
     "data": {
      "text/plain": [
       "'The number 24 is even'"
      ]
     },
     "execution_count": 11,
     "metadata": {},
     "output_type": "execute_result"
    }
   ],
   "source": [
    "even_or_odd(24)"
   ]
  },
  {
   "cell_type": "code",
   "execution_count": 12,
   "id": "2098c8e3",
   "metadata": {},
   "outputs": [
    {
     "data": {
      "text/plain": [
       "['The number 1 is odd',\n",
       " 'The number 2 is even',\n",
       " 'The number 3 is odd',\n",
       " 'The number 4 is even',\n",
       " 'The number 5 is odd',\n",
       " 'The number 6 is even',\n",
       " 'The number 7 is odd']"
      ]
     },
     "execution_count": 12,
     "metadata": {},
     "output_type": "execute_result"
    }
   ],
   "source": [
    "## suppose we want to apply same fumction(even_or_odd)of multipele number then we use map fuction\n",
    "\n",
    "l = [1,2,3,4,5,6,7]\n",
    "\n",
    "list(map(even_or_odd,l))"
   ]
  },
  {
   "cell_type": "markdown",
   "id": "673e7144",
   "metadata": {},
   "source": [
    "#### filter(function, iterable) Function:\n",
    "-  filter() filters elements from an iterable based on a given function's criteria and returns an iterable (usually a filter object or list) containing the elements that satisfy the condition.\n",
    "\n",
    "- General Syntax: filter(function, iterable)"
   ]
  },
  {
   "cell_type": "code",
   "execution_count": 39,
   "id": "257f553b",
   "metadata": {},
   "outputs": [],
   "source": [
    "def even(num):\n",
    "    if num%2 == 0:\n",
    "        return True"
   ]
  },
  {
   "cell_type": "code",
   "execution_count": 44,
   "id": "4b37c66b",
   "metadata": {},
   "outputs": [
    {
     "data": {
      "text/plain": [
       "[2, 4, 6, 8]"
      ]
     },
     "execution_count": 44,
     "metadata": {},
     "output_type": "execute_result"
    }
   ],
   "source": [
    "l = [1,2,3,4,5,6,7,8]\n",
    "\n",
    "list(filter(even,l))\n"
   ]
  },
  {
   "cell_type": "code",
   "execution_count": 45,
   "id": "22d12444",
   "metadata": {},
   "outputs": [
    {
     "data": {
      "text/plain": [
       "[None, True, None, True, None, True, None, True]"
      ]
     },
     "execution_count": 45,
     "metadata": {},
     "output_type": "execute_result"
    }
   ],
   "source": [
    "list(map(even,l))\n",
    "\n",
    "#diif bet filter and map = by appling using map funcing we get every elemnt in list but \n",
    "# those elemnrt not follow even function they writen none /false "
   ]
  },
  {
   "cell_type": "code",
   "execution_count": null,
   "id": "258e3efe",
   "metadata": {},
   "outputs": [],
   "source": []
  },
  {
   "cell_type": "markdown",
   "id": "7c78e070",
   "metadata": {},
   "source": [
    "#### lambda Function: /anonymous function = krish naik practical video\n",
    "- lambda allows you to create small, anonymous (unnamed) functions on the fly. It is often used in combination with map() and filter() to define simple functions inline.\n",
    "\n",
    "- General Syntax: lambda arguments: expression\n",
    "- lambda fun used to execute multiple expression insted of creationg function"
   ]
  },
  {
   "cell_type": "code",
   "execution_count": 46,
   "id": "d4f618e1",
   "metadata": {},
   "outputs": [],
   "source": [
    "def addition(a,b):\n",
    "    return a+b"
   ]
  },
  {
   "cell_type": "code",
   "execution_count": 47,
   "id": "ef525c5c",
   "metadata": {},
   "outputs": [
    {
     "data": {
      "text/plain": [
       "10"
      ]
     },
     "execution_count": 47,
     "metadata": {},
     "output_type": "execute_result"
    }
   ],
   "source": [
    "addition(4,6)"
   ]
  },
  {
   "cell_type": "code",
   "execution_count": 48,
   "id": "5ec03c39",
   "metadata": {},
   "outputs": [],
   "source": [
    "add = lambda a,b: a+b"
   ]
  },
  {
   "cell_type": "code",
   "execution_count": 49,
   "id": "b268d303",
   "metadata": {},
   "outputs": [
    {
     "data": {
      "text/plain": [
       "8"
      ]
     },
     "execution_count": 49,
     "metadata": {},
     "output_type": "execute_result"
    }
   ],
   "source": [
    "add(3,5)"
   ]
  },
  {
   "cell_type": "code",
   "execution_count": 18,
   "id": "4b4379ca",
   "metadata": {},
   "outputs": [
    {
     "name": "stdout",
     "output_type": "stream",
     "text": [
      "[11, 12, 13, 14, 15, 16]\n"
     ]
    }
   ],
   "source": [
    "A = [1, 2, 3, 4, 5, 6]\n",
    "b = 10\n",
    "mult = list(map(lambda a: a + b, A))\n",
    "\n",
    "print(mult)"
   ]
  },
  {
   "cell_type": "code",
   "execution_count": 16,
   "id": "a3399776",
   "metadata": {},
   "outputs": [
    {
     "name": "stdout",
     "output_type": "stream",
     "text": [
      "[11, 12, 13, 14, 15, 16]\n"
     ]
    }
   ],
   "source": [
    "A = [1, 2, 3, 4, 5, 6]\n",
    "add_value = 10\n",
    "\n",
    "result = list(map(lambda x: x + add_value, A))\n",
    "\n",
    "print(result)"
   ]
  },
  {
   "cell_type": "markdown",
   "id": "38709b94",
   "metadata": {},
   "source": [
    "#### reduce(function, iterable, initial=None) Function:\n",
    "- reduce() applies a function cumulatively to the items of an iterable, from left to right, so as to reduce the iterable to a single value. It requires the functools module in Python 3 and above.\n",
    "- thse fun is used to reduce a sequence of elemnt to a single value by processing the elemnts according to a function supplied .it returns a single vallue.\n",
    "- thse function is part of functools modules so you have to import befir it \n",
    "- General Syntax: reduce(function, iterable, initial=None)"
   ]
  },
  {
   "cell_type": "code",
   "execution_count": 50,
   "id": "0a93c607",
   "metadata": {},
   "outputs": [],
   "source": [
    "A = [1,2,3,4,5,6]\n",
    "\n",
    "def addition(a,b):\n",
    "    return (a+b)\n"
   ]
  },
  {
   "cell_type": "code",
   "execution_count": 51,
   "id": "66755948",
   "metadata": {},
   "outputs": [
    {
     "data": {
      "text/plain": [
       "6"
      ]
     },
     "execution_count": 51,
     "metadata": {},
     "output_type": "execute_result"
    }
   ],
   "source": [
    "addition(2,4)"
   ]
  },
  {
   "cell_type": "code",
   "execution_count": 53,
   "id": "ac632567",
   "metadata": {},
   "outputs": [
    {
     "data": {
      "text/plain": [
       "21"
      ]
     },
     "execution_count": 53,
     "metadata": {},
     "output_type": "execute_result"
    }
   ],
   "source": [
    "from functools import reduce\n",
    "\n",
    "reduce(addition ,A)"
   ]
  },
  {
   "cell_type": "markdown",
   "id": "e91c310f",
   "metadata": {},
   "source": [
    "### Q . finding the sum of squares of even numbers in a list of integers.\n",
    "\n",
    "- Square each number.\n",
    "- Filter out the even squared numbers.\n",
    "- Sum the filtered numbers."
   ]
  },
  {
   "cell_type": "code",
   "execution_count": 20,
   "id": "c093c4e8",
   "metadata": {},
   "outputs": [
    {
     "name": "stdout",
     "output_type": "stream",
     "text": [
      "[1, 4, 9, 16, 25, 36]\n",
      "[4, 16, 36]\n",
      "56\n"
     ]
    }
   ],
   "source": [
    "numbers = [1, 2, 3, 4, 5, 6]\n",
    "from functools import reduce\n",
    "\n",
    "# Step 1: Square each number using map and lambda\n",
    "squred_numbers =list(map(lambda a: a*a , numbers) )\n",
    "\n",
    "# Step 2: Filter out even squared numbers using filter and lambda\n",
    "even_squares = list(filter(lambda a : a%2 == 0, squred_numbers))\n",
    "\n",
    "# Step 3: Sum the filtered even squared numbers using reduce\n",
    "sum_of_even_suares = reduce(lambda a,b : a+b ,even_squares)\n",
    "\n",
    "print(squred_numbers)\n",
    "print(even_squares)\n",
    "print(sum_of_even_suares)"
   ]
  },
  {
   "cell_type": "markdown",
   "id": "422e7ab0",
   "metadata": {},
   "source": [
    "# User defined function\n",
    "\n",
    "##### what are use defined functio \n",
    "- Functions that we define ourselves to do certain specific tasks are referred to asuser-defined functions.\n",
    "- When we want to use the same lines of code again and again in different parts of thecode, it is advisable to create a user-defined function, to optimize the code\n",
    "- To create a user-defined function in python we use the keyword def.\n",
    "\n",
    "### syntax \n",
    "###### A sample structure of the user-defined function is:\n",
    "- def function_name(arguement1,arguement2,):\n",
    "-  ........Code lines \n",
    "-  return variables\n",
    "  \n",
    "###### While calling the function:\n",
    "  function_name(parameters)\n",
    "  \n",
    "- 1.def:keyword for creating a user-defined function\n",
    "- 2.function_name:A user-defined name following the same name convention as variables\n",
    "- 3.argument1, arguement2,...:= These are arguments and depend on the user, generally the input to thefunction\n",
    "4. return:A return statement is used to end the execution of the function call and“returns” the result (value of the expression following the return keyword)to the caller. The statements after the return statements are not executed.If the return statement is without any expression, then the special value‘None’ is returned.\n",
    "- 5.variables:variables inside the function that we want to return\n",
    "\n",
    "#### Advantages of user defined ffunction :\n",
    "- 1.User-defined functions help decompose a large program into small segments,making code easy to comprehend, maintain and debug.\n",
    "- 2.Suppose repeated code occurs in a program. A function can be used to includethose codes and execute them when needed by calling that function.\n",
    "- 3.Programmers working on large projects can divide the workload by makingdifferent functions\n",
    "\n",
    "##### why function = kirsh naik video = interview question\n",
    "\n",
    "1. to make code more readable \n",
    "2. to make code more efficient  \n",
    "3. to make code more maintainable \n",
    "4. to make code more reusable\n",
    "5. to make code more extensible"
   ]
  },
  {
   "cell_type": "code",
   "execution_count": 7,
   "id": "fb59ea9a",
   "metadata": {},
   "outputs": [
    {
     "name": "stdout",
     "output_type": "stream",
     "text": [
      "greeting :welcome to krish youtube channel\n",
      "greeting :welcome to krish youtube channel\n",
      "greeting :welcome to krish youtube channel\n",
      "None\n"
     ]
    }
   ],
   "source": [
    "#if we want print welcome message 3 time in programme = then insted of writing 3 time seperate code inted of that we use create function of tat .\n",
    "# and changes made on it that will atimatically peforme on allprint code\n",
    "\n",
    "def welcome():\n",
    "    print('greeting :welcome to krish youtube channel')\n",
    "    \n",
    "#print welcome message 3 times    \n",
    "welcome()\n",
    "welcome()\n",
    "print(welcome())\n",
    "\n",
    "# we chage in mesaage\n",
    "#welcome()\n",
    "#welcome()\n",
    "\n",
    "# thse shoe code more readable ,reusable ,efficient"
   ]
  },
  {
   "cell_type": "code",
   "execution_count": 2,
   "id": "11c731a0",
   "metadata": {},
   "outputs": [
    {
     "name": "stdout",
     "output_type": "stream",
     "text": [
      "welcome to krish youtube channel\n"
     ]
    },
    {
     "data": {
      "text/plain": [
       "'welcome to krish youtube channel'"
      ]
     },
     "execution_count": 2,
     "metadata": {},
     "output_type": "execute_result"
    }
   ],
   "source": [
    "def welcome():\n",
    "    return 'welcome to krish youtube channel'\n",
    "\n",
    "print(welcome())\n",
    "welcome()"
   ]
  },
  {
   "cell_type": "code",
   "execution_count": 9,
   "id": "dff7cd3c",
   "metadata": {},
   "outputs": [
    {
     "name": "stdout",
     "output_type": "stream",
     "text": [
      "welcome to krish youtube channelplease suscribe\n"
     ]
    }
   ],
   "source": [
    "def welcome():\n",
    "    return 'welcome to krish youtube channel'\n",
    "msg = welcome()\n",
    "print(msg +'please suscribe')"
   ]
  },
  {
   "cell_type": "code",
   "execution_count": 11,
   "id": "cdbb155a",
   "metadata": {},
   "outputs": [
    {
     "data": {
      "text/plain": [
       "6"
      ]
     },
     "execution_count": 11,
     "metadata": {},
     "output_type": "execute_result"
    }
   ],
   "source": [
    "def add_numbers(a, b):\n",
    "    \"\"\"\n",
    "    This function adds two numbers.\n",
    "\n",
    "    Parameters:\n",
    "    - a (int): The first number to be added.\n",
    "    - b (int): The second number to be added.\n",
    "\n",
    "    Returns:\n",
    "    int: The sum of a and b.\n",
    "    \"\"\"\n",
    "    \n",
    "    result = a + b\n",
    "    return result\n",
    "add_numbers(2,4)"
   ]
  },
  {
   "cell_type": "code",
   "execution_count": 12,
   "id": "837e3b6c",
   "metadata": {},
   "outputs": [
    {
     "name": "stdout",
     "output_type": "stream",
     "text": [
      "Help on function add_numbers in module __main__:\n",
      "\n",
      "add_numbers(a, b)\n",
      "    This function adds two numbers.\n",
      "    \n",
      "    Parameters:\n",
      "    - a (int): The first number to be added.\n",
      "    - b (int): The second number to be added.\n",
      "    \n",
      "    Returns:\n",
      "    int: The sum of a and b.\n",
      "\n"
     ]
    }
   ],
   "source": [
    "help(add_numbers)"
   ]
  },
  {
   "cell_type": "code",
   "execution_count": 8,
   "id": "66e66a03",
   "metadata": {},
   "outputs": [],
   "source": [
    "def welcome() -> str:\n",
    "   \"\"\"  \n",
    "   Description : This function will show a welcome message\n",
    "   return : thse function will return the welcome message\n",
    "   \"\"\"\n",
    "   return 'welcome to krish youtube channel'"
   ]
  },
  {
   "cell_type": "code",
   "execution_count": 9,
   "id": "09937feb",
   "metadata": {},
   "outputs": [
    {
     "name": "stdout",
     "output_type": "stream",
     "text": [
      "Help on function welcome in module __main__:\n",
      "\n",
      "welcome() -> str\n",
      "    Description : This function will show a welcome message\n",
      "    return : thse function will return the welcome message\n",
      "\n"
     ]
    }
   ],
   "source": [
    "help(welcome)"
   ]
  },
  {
   "cell_type": "code",
   "execution_count": 12,
   "id": "f61aac52",
   "metadata": {},
   "outputs": [
    {
     "name": "stdout",
     "output_type": "stream",
     "text": [
      "welcome allplease suscribe\n"
     ]
    }
   ],
   "source": [
    "def welcome(msg) -> str:\n",
    "   \"\"\"  \n",
    "   Description : This function will show a welcome message\n",
    "   return : thse function will return the welcome message\n",
    "   \"\"\"\n",
    "   return msg\n",
    "\n",
    "msg = welcome('welcome all')\n",
    "print(msg + 'please suscribe')\n"
   ]
  },
  {
   "cell_type": "code",
   "execution_count": 42,
   "id": "a7819b10",
   "metadata": {},
   "outputs": [
    {
     "name": "stdout",
     "output_type": "stream",
     "text": [
      "12 9\n"
     ]
    }
   ],
   "source": [
    "# function to add even and odd numbers \n",
    "\n",
    "def even_or_odd(lst):\n",
    "    \"\"\"  \n",
    "    Description: This function will return the sum of even and odd numbers in the given list.\n",
    "    Args:\n",
    "        lst (list): List of numbers.\n",
    "\n",
    "    Returns:\n",
    "              thse e function return  sum of even numbers and the sum of odd numbers.\n",
    "    \"\"\"\n",
    "    even_sum = 0\n",
    "    odd_sum = 0\n",
    "\n",
    "    for i in lst:\n",
    "        if i % 2 == 0:\n",
    "            even_sum += i\n",
    "        else:\n",
    "            odd_sum += i\n",
    "\n",
    "    return even_sum, odd_sum\n",
    "\n",
    "sum1 ,sum2 = even_or_odd([1, 2, 3, 4, 5, 6])\n",
    "print(sum1,sum2)"
   ]
  },
  {
   "cell_type": "code",
   "execution_count": 14,
   "id": "6225826a",
   "metadata": {},
   "outputs": [
    {
     "name": "stdout",
     "output_type": "stream",
     "text": [
      "(12, 9)\n"
     ]
    }
   ],
   "source": [
    "def even_or_odd(lst):\n",
    "    \"\"\"  \n",
    "    Description: This function will return the sum of even and odd numbers in the given list.\n",
    "    Args:\n",
    "        lst (list): List of numbers.\n",
    "\n",
    "    Returns:\n",
    "              tuple: A tuple containing the sum of even numbers and the sum of odd numbers.\n",
    "    \"\"\"\n",
    "    even_sum = 0\n",
    "    odd_sum = 0\n",
    "\n",
    "    for i in lst:\n",
    "        if i % 2 == 0:\n",
    "            even_sum += i\n",
    "        else:\n",
    "            odd_sum += i\n",
    "\n",
    "    return even_sum, odd_sum\n",
    "\n",
    "sum = even_or_odd([1, 2, 3, 4, 5, 6])\n",
    "print(sum)"
   ]
  },
  {
   "cell_type": "code",
   "execution_count": 83,
   "id": "f1b571cc",
   "metadata": {},
   "outputs": [
    {
     "name": "stdout",
     "output_type": "stream",
     "text": [
      "8\n"
     ]
    }
   ],
   "source": [
    "def add(a, b):  # 'a' and 'b' are parameters\n",
    "    return a + b\n",
    "\n",
    "result = add(3, 5)\n",
    "print(result)"
   ]
  },
  {
   "cell_type": "markdown",
   "id": "23efbe64",
   "metadata": {},
   "source": [
    "### positional  and keyword argument"
   ]
  },
  {
   "cell_type": "code",
   "execution_count": 46,
   "id": "2ecd07ae",
   "metadata": {},
   "outputs": [
    {
     "name": "stdout",
     "output_type": "stream",
     "text": [
      "hellokrishyou are32years old\n"
     ]
    }
   ],
   "source": [
    "def hello (name ,age):                     # name and age is positional agrument\n",
    "    print('hello' +name +'you are'+ str(age) +'years old')\n",
    "    \n",
    "hello( 'krish' , 32 )     \n",
    "\n",
    "# jb bhi mai koi arameter define karu ((name ,age))aour jab bhi mai  function call kar raha hu tab mai specific value writr kar raha hoo\n",
    "# tab mai (name ,age ) kahuga positional argumnet\n"
   ]
  },
  {
   "cell_type": "code",
   "execution_count": 85,
   "id": "9559753f",
   "metadata": {},
   "outputs": [
    {
     "name": "stdout",
     "output_type": "stream",
     "text": [
      "hello,krish\n",
      "hii,krish\n"
     ]
    }
   ],
   "source": [
    "def greet (name ,gretting = 'hello'):     # name  is positional agrument and age=32 is keyword argumen    \n",
    "    print(f\"{gretting},{name}\")\n",
    "greet( 'krish')     \n",
    "\n",
    "# agar mere fo age ko postion argument ke conver karna chata ho to kar sakta hoo\n",
    "greet ('krish' ,'hii')   # default = hello\n"
   ]
  },
  {
   "cell_type": "code",
   "execution_count": 54,
   "id": "dd53fcc8",
   "metadata": {},
   "outputs": [
    {
     "name": "stdout",
     "output_type": "stream",
     "text": [
      "('krish', 'naike')\n",
      "{'age': 34, 'dob': 1989}\n"
     ]
    }
   ],
   "source": [
    "                              # *args = positional aggumenr , **kwargs = keyargumnet\n",
    "def hello(*args, **kwargs):\n",
    "    print(args)\n",
    "    print(kwargs)\n",
    "\n",
    "# Call hello function\n",
    "hello('krish', 'naike', age=34, dob=1989)            # word in '' thse are postion argumnent value which refers *args that written in  tuples . we can ce change it into strning ,list\n",
    "                                                     # jo value key maui reperesent kar rahe hai which refers **kwargs that written in dictionary \n",
    "        "
   ]
  },
  {
   "cell_type": "code",
   "execution_count": 57,
   "id": "5d85bb9a",
   "metadata": {},
   "outputs": [
    {
     "name": "stdout",
     "output_type": "stream",
     "text": [
      "(['krish', 'naike'], {'age': 32, 'dob': 1989})\n",
      "{}\n",
      "('krish', 'naike')\n",
      "{'age': 32, 'dob': 1989}\n"
     ]
    }
   ],
   "source": [
    "lst = list(('krish', 'naike'))\n",
    "dict_val = {'age': 32 ,'dob':1989}\n",
    "\n",
    "hello(lst,dict_val)     # yaha pai sabko *args samaj raha hai aur tuple mai dono ko write kiya aur dict empty hai.ie dono ko vo positional agumnet samaja raha hai\n",
    " \n",
    "# how to chage it into positional and kword argumnet\n",
    "hello(*lst,**dict_val) \n"
   ]
  },
  {
   "cell_type": "code",
   "execution_count": 59,
   "id": "bc8b538c",
   "metadata": {},
   "outputs": [
    {
     "name": "stdout",
     "output_type": "stream",
     "text": [
      "('krish', 'naik', '1', '2', '3')\n",
      "{'age': 10, 'dob': 1990}\n"
     ]
    }
   ],
   "source": [
    "\n",
    "hello('krish' ,'naik','1','2','3',age = 10, dob = 1990)"
   ]
  },
  {
   "cell_type": "markdown",
   "id": "873cceeb",
   "metadata": {},
   "source": [
    "## scope =\n",
    "- scope refers to the region of a program where a particular variable is accessible or visible. \n",
    "- It defines the context in which a variable can be used and accessed\n",
    "\n",
    "\n",
    "#### global scope= \n",
    "- Variables defined at the top level of a Python script or module are in the global scope.\n",
    "- Global variables can be accessed and modified from anywhere in the program.\n",
    "- They are accessible both inside and outside functions or classes.\n",
    "#### Local Scope:\n",
    "- Local scope refers to the innermost level of scope, typically within a function or method.\n",
    "- Variables defined inside a function or method are in local scope.\n",
    "- Local variables are only accessible within the function or method where they are defined\n",
    "\n",
    "#### Enclosing (Non-Local) Scope:\n",
    "- This scope applies to variables in a nested function, specifically when a function is defined inside another function.\n",
    "- Variables from the enclosing (non-local) function's scope are accessible within the nested function.\n",
    "- However, these variables are not considered global and are separate from global scope variables.\n",
    "\n",
    "#### Python uses the LEGB rule to determine the order in which it looks for a variable:\n",
    "\n",
    "- Local Scope (inside the current function)\n",
    "- Enclosing (Non-Local) Scope (inside enclosing functions)\n",
    "- Global Scope (at the top level of the script or module)\n",
    "- Built-in Scope (Python's built-in functions and modules)\n",
    "\n",
    "Diagramme\n",
    "\n",
    "######  Understanding and managing variable scope is crucial for writing clean, maintainable, and bug-free code, as it helps you avoid unintended variable conflicts and allows for better code organization and encapsulation.\n",
    "\n",
    "\n",
    "\n",
    "\n"
   ]
  },
  {
   "cell_type": "markdown",
   "id": "639abfa1",
   "metadata": {},
   "source": [
    "## global scope and variable "
   ]
  },
  {
   "cell_type": "code",
   "execution_count": 28,
   "id": "99edf7f6",
   "metadata": {},
   "outputs": [
    {
     "name": "stdout",
     "output_type": "stream",
     "text": [
      "20\n"
     ]
    }
   ],
   "source": [
    "\n",
    "def func():\n",
    "    m= 20         # local variavle and scope of thses variable is only local scope i.e func functio\n",
    "    print(m)\n",
    "    \n",
    "#print(m)           ## error() in it because m is local variable and it scope is func function , hence to solve thse by print variable with funct function\n",
    "func()"
   ]
  },
  {
   "cell_type": "code",
   "execution_count": 72,
   "id": "a40ec291",
   "metadata": {},
   "outputs": [
    {
     "name": "stdout",
     "output_type": "stream",
     "text": [
      "120\n"
     ]
    }
   ],
   "source": [
    "x = 100            # x global variable\n",
    "def func():\n",
    "    m= x+20        # m local varable\n",
    "    print(m)\n",
    "    \n",
    "func()"
   ]
  },
  {
   "cell_type": "code",
   "execution_count": 1,
   "id": "bd5a4f0f",
   "metadata": {},
   "outputs": [
    {
     "ename": "UnboundLocalError",
     "evalue": "local variable 'm' referenced before assignment",
     "output_type": "error",
     "traceback": [
      "\u001b[1;31m---------------------------------------------------------------------------\u001b[0m",
      "\u001b[1;31mUnboundLocalError\u001b[0m                         Traceback (most recent call last)",
      "Cell \u001b[1;32mIn[1], line 6\u001b[0m\n\u001b[0;32m      3\u001b[0m     m\u001b[38;5;241m=\u001b[39m m\u001b[38;5;241m+\u001b[39m\u001b[38;5;241m20\u001b[39m        \n\u001b[0;32m      4\u001b[0m     \u001b[38;5;28mprint\u001b[39m(m)\n\u001b[1;32m----> 6\u001b[0m \u001b[43mfunc\u001b[49m\u001b[43m(\u001b[49m\u001b[43m)\u001b[49m\n",
      "Cell \u001b[1;32mIn[1], line 3\u001b[0m, in \u001b[0;36mfunc\u001b[1;34m()\u001b[0m\n\u001b[0;32m      2\u001b[0m \u001b[38;5;28;01mdef\u001b[39;00m \u001b[38;5;21mfunc\u001b[39m():\n\u001b[1;32m----> 3\u001b[0m     m\u001b[38;5;241m=\u001b[39m \u001b[43mm\u001b[49m\u001b[38;5;241m+\u001b[39m\u001b[38;5;241m20\u001b[39m        \n\u001b[0;32m      4\u001b[0m     \u001b[38;5;28mprint\u001b[39m(m)\n",
      "\u001b[1;31mUnboundLocalError\u001b[0m: local variable 'm' referenced before assignment"
     ]
    }
   ],
   "source": [
    "m = 100            # global variable\n",
    "def func():\n",
    "    m= m+20        \n",
    "    print(m)\n",
    "    \n",
    "func()     # error ,they think ap local variable use karna chate hai pr ham to global variable use karna chahate hai,to hame une bata na padega ki hame global variable ka use karna hai\n"
   ]
  },
  {
   "cell_type": "code",
   "execution_count": 37,
   "id": "c03036a3",
   "metadata": {},
   "outputs": [
    {
     "name": "stdout",
     "output_type": "stream",
     "text": [
      "120\n",
      "20\n"
     ]
    }
   ],
   "source": [
    "m = 100            # global variable\n",
    "def func():\n",
    "    global m\n",
    "    m= m+20             # m local variable\n",
    "    print(m)\n",
    "    m= 20               #  local variable \n",
    "    print(m)\n",
    "    \n",
    "func()     "
   ]
  },
  {
   "cell_type": "markdown",
   "id": "d83072c8",
   "metadata": {},
   "source": [
    "## local scope and variable"
   ]
  },
  {
   "cell_type": "code",
   "execution_count": 80,
   "id": "741f31d9",
   "metadata": {},
   "outputs": [
    {
     "name": "stdout",
     "output_type": "stream",
     "text": [
      "10\n"
     ]
    }
   ],
   "source": [
    "def show ():\n",
    "    f = 10         ## local variable\n",
    "    print(f) \n",
    "    \n",
    "show()"
   ]
  },
  {
   "cell_type": "code",
   "execution_count": null,
   "id": "626091f7",
   "metadata": {},
   "outputs": [],
   "source": [
    "def show ():\n",
    "    f = 10         ## local variable\n",
    "    print(f) \n",
    "    \n",
    "show()\n",
    "print(f)     ## error = becaue local variable (f) not acss in global space\n"
   ]
  },
  {
   "cell_type": "code",
   "execution_count": 81,
   "id": "8d3396aa",
   "metadata": {},
   "outputs": [
    {
     "name": "stdout",
     "output_type": "stream",
     "text": [
      "10\n",
      "30\n"
     ]
    }
   ],
   "source": [
    "def add(y):\n",
    "    x = 10\n",
    "    print(x)\n",
    "    print(x+y)\n",
    "    \n",
    "add(20)"
   ]
  },
  {
   "cell_type": "code",
   "execution_count": null,
   "id": "4da03eba",
   "metadata": {},
   "outputs": [],
   "source": []
  },
  {
   "cell_type": "markdown",
   "id": "63eef69f",
   "metadata": {},
   "source": [
    "## nonlocal"
   ]
  },
  {
   "cell_type": "code",
   "execution_count": 42,
   "id": "b7fdbf6b",
   "metadata": {},
   "outputs": [],
   "source": [
    "#non - local variable  concept comes only in nestend fuction\n",
    "\n",
    "x = 100\n",
    "def func():\n",
    "    x = 20          # non local varisble \n",
    "    def inner():\n",
    "        x = 200       # local variable \n",
    "        print(x)\n",
    "\n",
    "## if we want to use non local function inside inner function then        "
   ]
  },
  {
   "cell_type": "code",
   "execution_count": 2,
   "id": "82c75814",
   "metadata": {},
   "outputs": [
    {
     "ename": "UnboundLocalError",
     "evalue": "local variable 'x' referenced before assignment",
     "output_type": "error",
     "traceback": [
      "\u001b[1;31m---------------------------------------------------------------------------\u001b[0m",
      "\u001b[1;31mUnboundLocalError\u001b[0m                         Traceback (most recent call last)",
      "Cell \u001b[1;32mIn[2], line 11\u001b[0m\n\u001b[0;32m      7\u001b[0m         \u001b[38;5;28mprint\u001b[39m(x)      \u001b[38;5;66;03m# error # error ,they think ap local variable use karna chate hai pr ham to non local variable use karna chahate hai to unhe vo batana padega \u001b[39;00m\n\u001b[0;32m      9\u001b[0m     inner()\n\u001b[1;32m---> 11\u001b[0m \u001b[43mfunc\u001b[49m\u001b[43m(\u001b[49m\u001b[43m)\u001b[49m\n",
      "Cell \u001b[1;32mIn[2], line 9\u001b[0m, in \u001b[0;36mfunc\u001b[1;34m()\u001b[0m\n\u001b[0;32m      6\u001b[0m     x \u001b[38;5;241m=\u001b[39m \u001b[38;5;241m200\u001b[39m       \u001b[38;5;66;03m# local variable \u001b[39;00m\n\u001b[0;32m      7\u001b[0m     \u001b[38;5;28mprint\u001b[39m(x)      \u001b[38;5;66;03m# error # error ,they think ap local variable use karna chate hai pr ham to non local variable use karna chahate hai to unhe vo batana padega \u001b[39;00m\n\u001b[1;32m----> 9\u001b[0m \u001b[43minner\u001b[49m\u001b[43m(\u001b[49m\u001b[43m)\u001b[49m\n",
      "Cell \u001b[1;32mIn[2], line 5\u001b[0m, in \u001b[0;36mfunc.<locals>.inner\u001b[1;34m()\u001b[0m\n\u001b[0;32m      4\u001b[0m \u001b[38;5;28;01mdef\u001b[39;00m \u001b[38;5;21minner\u001b[39m():\n\u001b[1;32m----> 5\u001b[0m     x \u001b[38;5;241m=\u001b[39m \u001b[43mx\u001b[49m\u001b[38;5;241m+\u001b[39m\u001b[38;5;241m20\u001b[39m\n\u001b[0;32m      6\u001b[0m     x \u001b[38;5;241m=\u001b[39m \u001b[38;5;241m200\u001b[39m       \u001b[38;5;66;03m# local variable \u001b[39;00m\n\u001b[0;32m      7\u001b[0m     \u001b[38;5;28mprint\u001b[39m(x)\n",
      "\u001b[1;31mUnboundLocalError\u001b[0m: local variable 'x' referenced before assignment"
     ]
    }
   ],
   "source": [
    "x = 100\n",
    "def func():\n",
    "    x = 20          # non local varisble \n",
    "    def inner():\n",
    "        x = x+20\n",
    "        x = 200       # local variable \n",
    "        print(x)      # error # error ,they think ap local variable use karna chate hai pr ham to non local variable use karna chahate hai to unhe vo batana padega \n",
    "\n",
    "    inner()\n",
    "    \n",
    "func()\n"
   ]
  },
  {
   "cell_type": "code",
   "execution_count": 82,
   "id": "d4b947f6",
   "metadata": {},
   "outputs": [
    {
     "name": "stdout",
     "output_type": "stream",
     "text": [
      "200\n"
     ]
    }
   ],
   "source": [
    "x = 100\n",
    "def func():\n",
    "    x = 20          # non local varisble / enclosed variable \n",
    "    def inner():\n",
    "        nonlocal x\n",
    "        x = x+20\n",
    "        x = 200       # local variable \n",
    "        print(x)      \n",
    "    inner()\n",
    "    \n",
    "func()\n"
   ]
  },
  {
   "cell_type": "markdown",
   "id": "e7ddb43c",
   "metadata": {},
   "source": [
    "### LEGB RULE \n",
    "- specify how python wiill search values for variable\n",
    "- how decide = first they see - what is currenct scope of thses print statemnet.\n",
    "\n",
    " - then IF print statement present in local scope then value for particular variable search  first in local scop -> nonlocal scope -> global scope -> bulit in scope -> erorr (variable not define)\n",
    " \n",
    "- then IF print statement present in global scope then value for particular variable search  first in global scop -> nonlocal scope -> local scope ->  erorr (variable not define)"
   ]
  },
  {
   "cell_type": "code",
   "execution_count": 62,
   "id": "303948d7",
   "metadata": {},
   "outputs": [
    {
     "name": "stdout",
     "output_type": "stream",
     "text": [
      "200\n"
     ]
    }
   ],
   "source": [
    "w = 100             # global variable \n",
    "def func():\n",
    "    w = 10          # non local varisble / enclosed variable \n",
    "    def inner():\n",
    "        w = 200       # local variable \n",
    "        print(w)         # within local scope  = search pattern of value of variable = local scope -> nonlocal -> global -> buil_in -> error \n",
    "\n",
    "    inner()\n",
    "func()\n"
   ]
  },
  {
   "cell_type": "code",
   "execution_count": 56,
   "id": "a2e6928d",
   "metadata": {},
   "outputs": [
    {
     "name": "stdout",
     "output_type": "stream",
     "text": [
      "10\n"
     ]
    }
   ],
   "source": [
    "z = 100             # global variable \n",
    "def func():\n",
    "    z = 10          # non local varisble / enclosed variable \n",
    "    def inner():\n",
    "        z = 200       # local variable       \n",
    "    inner()\n",
    "    print(z)         # within non- local /eclose scope = search patter = nonlocal -> global -> error\n",
    "func()\n"
   ]
  },
  {
   "cell_type": "code",
   "execution_count": 66,
   "id": "aafa04c2",
   "metadata": {},
   "outputs": [
    {
     "name": "stdout",
     "output_type": "stream",
     "text": [
      "100\n"
     ]
    }
   ],
   "source": [
    "p = 100             # global variable \n",
    "def func():\n",
    "    p = 10          # non local varisble / enclosed variable \n",
    "    def inner():\n",
    "        p = 200       # local variable \n",
    "        #print(p)         # within global scope  = search pattern of value of variable =  global -> buil_in -> error \n",
    "\n",
    "    inner()\n",
    "func()\n",
    "print(p)"
   ]
  }
 ],
 "metadata": {
  "kernelspec": {
   "display_name": "Python 3 (ipykernel)",
   "language": "python",
   "name": "python3"
  },
  "language_info": {
   "codemirror_mode": {
    "name": "ipython",
    "version": 3
   },
   "file_extension": ".py",
   "mimetype": "text/x-python",
   "name": "python",
   "nbconvert_exporter": "python",
   "pygments_lexer": "ipython3",
   "version": "3.10.9"
  }
 },
 "nbformat": 4,
 "nbformat_minor": 5
}
