{
 "cells": [
  {
   "cell_type": "markdown",
   "id": "3d064782",
   "metadata": {},
   "source": [
    "# FOR LOOPS \n",
    "\n",
    "used for iteraing ovwr a sequence (list ,tuple ,dictionary ,string)\n",
    "for loop does not require an indexing variable to set befor hand .\n",
    "\n",
    "\n",
    "- intoduction = .iteration .iterable /iterator\n",
    "\n",
    "- loops = for loop and while loop\n",
    "- range function.\n",
    "- loop with else nested loop.\n",
    "- break statement .\n",
    "- continue statement. \n",
    "- pass statement ."
   ]
  },
  {
   "cell_type": "markdown",
   "id": "5befe21b",
   "metadata": {},
   "source": [
    "###  range()\n",
    "\n",
    "syntax = (start , end , step)"
   ]
  },
  {
   "cell_type": "code",
   "execution_count": null,
   "id": "097ddc8c",
   "metadata": {},
   "outputs": [],
   "source": [
    "x = 'welcome'\n",
    "for i in range(len(x)):\n",
    "    print(i)"
   ]
  },
  {
   "cell_type": "code",
   "execution_count": null,
   "id": "221cdb25",
   "metadata": {},
   "outputs": [],
   "source": [
    "i = 0\n",
    "while i < 6:\n",
    "    print(i)\n",
    "    i+=2"
   ]
  },
  {
   "cell_type": "code",
   "execution_count": null,
   "id": "4fedf536",
   "metadata": {},
   "outputs": [],
   "source": [
    "i = 0\n",
    "while i < 5:\n",
    "    print(i,end = \" \")\n",
    "    i+=1"
   ]
  },
  {
   "cell_type": "markdown",
   "id": "9737b769",
   "metadata": {},
   "source": [
    "#### loop with range function"
   ]
  },
  {
   "cell_type": "code",
   "execution_count": null,
   "id": "983afe7f",
   "metadata": {},
   "outputs": [],
   "source": [
    "# for loop with range function \n",
    "\n",
    "for i in range (5,10):\n",
    "    print(i)"
   ]
  },
  {
   "cell_type": "markdown",
   "id": "a4538be9",
   "metadata": {},
   "source": [
    "#### range function with while loop\n",
    "use the range function in a while loop by converting the range object to a\n",
    "list and then iterating through it using a while loop."
   ]
  },
  {
   "cell_type": "code",
   "execution_count": null,
   "id": "eb45afe2",
   "metadata": {},
   "outputs": [],
   "source": [
    "# Using range function in a while loop\n",
    "\n",
    "start = 1\n",
    "end = 6\n",
    "i = start\n",
    "\n",
    "while i < end:\n",
    "    print(i)\n",
    "    i += 1"
   ]
  },
  {
   "cell_type": "code",
   "execution_count": null,
   "id": "fa6f33bd",
   "metadata": {},
   "outputs": [],
   "source": [
    "i = 0\n",
    "while i < 6:\n",
    "    print(i)\n",
    "    i+=2"
   ]
  },
  {
   "cell_type": "code",
   "execution_count": null,
   "id": "bb4324e0",
   "metadata": {},
   "outputs": [],
   "source": [
    "i = 0\n",
    "while i < 5:\n",
    "    print(i,end = \" \")\n",
    "    i+=1"
   ]
  },
  {
   "cell_type": "markdown",
   "id": "92b63db2",
   "metadata": {},
   "source": [
    "#### list  for loop"
   ]
  },
  {
   "cell_type": "code",
   "execution_count": null,
   "id": "60d40f55",
   "metadata": {},
   "outputs": [],
   "source": [
    "# list\n",
    "A= [1,2,3,5]\n",
    "for i in A:\n",
    "    print(i)           # iterate elemnt"
   ]
  },
  {
   "cell_type": "code",
   "execution_count": null,
   "id": "3bc3358c",
   "metadata": {},
   "outputs": [],
   "source": [
    "list = [10, 20, 30, 40, 50]\n",
    "\n",
    "for i in range(len(list)):        # end = len(list)\n",
    "    item = list[i]\n",
    "    print(item )               # iterate elemnt"
   ]
  },
  {
   "cell_type": "code",
   "execution_count": null,
   "id": "06a8ef81",
   "metadata": {},
   "outputs": [],
   "source": [
    "list = [10, 20, 30, 40, 50]\n",
    "\n",
    "for i in range(len(list)):\n",
    "    print(list[i] )               # iterate elemnt"
   ]
  },
  {
   "cell_type": "code",
   "execution_count": null,
   "id": "41974b4d",
   "metadata": {},
   "outputs": [],
   "source": []
  },
  {
   "cell_type": "code",
   "execution_count": null,
   "id": "ea589ced",
   "metadata": {},
   "outputs": [],
   "source": [
    "list = [10, 20, 30, 40, 50]\n",
    "\n",
    "for i in range(len(list)):\n",
    "    item = list[i]\n",
    "    print( i)             # iterate indexposition of elemnt"
   ]
  },
  {
   "cell_type": "code",
   "execution_count": null,
   "id": "6ee38a81",
   "metadata": {},
   "outputs": [],
   "source": [
    "list = [10, 20, 30, 40, 50]\n",
    "\n",
    "for i in range(len(list)):\n",
    "    item = list[i]\n",
    "    print(item  , i)               # iterate elemnt and there index position"
   ]
  },
  {
   "cell_type": "code",
   "execution_count": null,
   "id": "3297f940",
   "metadata": {},
   "outputs": [],
   "source": []
  },
  {
   "cell_type": "code",
   "execution_count": null,
   "id": "72a101e0",
   "metadata": {},
   "outputs": [],
   "source": [
    "fruits = [\"apple\", \"banana\", \"cherry\"]\n",
    "for fruit in fruits:\n",
    "    print(fruit)                    # iterate elemnt "
   ]
  },
  {
   "cell_type": "code",
   "execution_count": null,
   "id": "ab4b61f6",
   "metadata": {},
   "outputs": [],
   "source": [
    "list = [\"apple\", \"banana\", \"cherry\"]\n",
    "\n",
    "for index in range(len(list)):\n",
    "    string = list[index]\n",
    "    print( index , string)"
   ]
  },
  {
   "cell_type": "markdown",
   "id": "02a1e3de",
   "metadata": {},
   "source": [
    "#### list for while loop"
   ]
  },
  {
   "cell_type": "code",
   "execution_count": null,
   "id": "3fa80061",
   "metadata": {},
   "outputs": [],
   "source": [
    "\n",
    "l= [1,2,3,4,5]\n",
    "i=0 \n",
    "while i<len(l):\n",
    "    print(l[i])      # iterate element  \n",
    "    i+=1"
   ]
  },
  {
   "cell_type": "code",
   "execution_count": null,
   "id": "d8330e72",
   "metadata": {},
   "outputs": [],
   "source": [
    "l= [1,2,3,4,5]\n",
    "i=0 \n",
    "while i<len(l):\n",
    "    print(i)      # iterate element  index position \n",
    "    i+=1"
   ]
  },
  {
   "cell_type": "code",
   "execution_count": null,
   "id": "5bf50901",
   "metadata": {},
   "outputs": [],
   "source": [
    "l= [1,2,3,4,5]\n",
    "i=0 \n",
    "while i<len(l):\n",
    "    A = l[i]\n",
    "    print(A,i)    # iterate element  and there index position \n",
    "    i+=1"
   ]
  },
  {
   "cell_type": "code",
   "execution_count": null,
   "id": "7e972c15",
   "metadata": {},
   "outputs": [],
   "source": [
    "l = ['chiku','cherry','apple','greps','@@@']\n",
    "i = 0\n",
    "\n",
    "while i < len(l):\n",
    "    print(l[i])              # iterate element \n",
    "    i+= 1\n",
    "  "
   ]
  },
  {
   "cell_type": "code",
   "execution_count": null,
   "id": "75b1b85a",
   "metadata": {},
   "outputs": [],
   "source": [
    "l = ['chiku','cherry','apple','greps','@@@']\n",
    "i = 0\n",
    "\n",
    "while i < len(l):\n",
    "    print(l[i])              # iterate element \n",
    "    i+= 1\n",
    "  "
   ]
  },
  {
   "cell_type": "code",
   "execution_count": null,
   "id": "072b65fb",
   "metadata": {},
   "outputs": [],
   "source": [
    "#You can use a while loop to iterate over the list l by maintaining an index\n",
    " #variable that keeps track of the current position in the list.\n",
    "    #Here's an example of how to use a while loop to iterate through the list:    \n",
    "    \n",
    "\n",
    "l = ['chiku','cherry','apple','greps','@@@']\n",
    "i = 0\n",
    "\n",
    "while i < len(l):\n",
    "    fruit = l[i]\n",
    "    print(fruit)              # iterate element \n",
    "    i+= 1\n",
    "    \n",
    "# We initialize the index variable to 0, which represents the current \n",
    "  # position in the list.\n",
    "#The while loop continues as long as index is less than the length of the\n",
    "  #list l.\n",
    "#Inside the loop, we retrieve the element at the current index, print it\n",
    "  #, and then increment index by 1 to move to the next element.\n",
    "#The loop will continue until all elements in the list have been processed.\n",
    " #This code will print each element in the list l one by one."
   ]
  },
  {
   "cell_type": "code",
   "execution_count": null,
   "id": "c5c14b7d",
   "metadata": {},
   "outputs": [],
   "source": [
    "\n",
    "l = ['chiku','cherry','apple','greps']\n",
    "i = 0\n",
    "\n",
    "while i < len(l):\n",
    "    print(i)                        # iterate index poition \n",
    "    i+= 1\n",
    "    "
   ]
  },
  {
   "cell_type": "code",
   "execution_count": null,
   "id": "51d1c1f5",
   "metadata": {},
   "outputs": [],
   "source": [
    "\n",
    "l = ['chiku','cherry','apple','greps','@@@']\n",
    "i = 0\n",
    "\n",
    "while i < len(l):\n",
    "    fruit = l[i]\n",
    "    print(fruit,i)              # iterate element and there index position\n",
    "    i+= 1\n",
    "    "
   ]
  },
  {
   "cell_type": "markdown",
   "id": "eff25fc6",
   "metadata": {},
   "source": [
    "#### Tuples with for loop"
   ]
  },
  {
   "cell_type": "code",
   "execution_count": null,
   "id": "4102f117",
   "metadata": {},
   "outputs": [],
   "source": [
    "# tuples\n",
    "B = ('pen','pencil','book')\n",
    "\n",
    "for i in B:\n",
    "    print(B)"
   ]
  },
  {
   "cell_type": "code",
   "execution_count": null,
   "id": "6e312e27",
   "metadata": {},
   "outputs": [],
   "source": [
    "fruits = (\"apple\", \"banana\", \"cherry\")\n",
    "for fruit in fruits:\n",
    "    print(fruit)                          # iterate elemnt "
   ]
  },
  {
   "cell_type": "code",
   "execution_count": null,
   "id": "18b4933a",
   "metadata": {},
   "outputs": [],
   "source": [
    "list = (\"apple\", \"banana\", \"cherry\")\n",
    "\n",
    "for index in range(len(list)):\n",
    "    string = list[index]\n",
    "    print( index )                     # iterate index position"
   ]
  },
  {
   "cell_type": "code",
   "execution_count": null,
   "id": "cb23a706",
   "metadata": {},
   "outputs": [],
   "source": [
    "list = [\"apple\", \"banana\", \"cherry\"]\n",
    "\n",
    "for index in range(len(list)):\n",
    "    string = list[index]\n",
    "    print( string)                      # iterate element "
   ]
  },
  {
   "cell_type": "code",
   "execution_count": null,
   "id": "5d89a35b",
   "metadata": {},
   "outputs": [],
   "source": [
    "list = [\"apple\", \"banana\", \"cherry\"]\n",
    "\n",
    "for index in range(len(list)):\n",
    "    string = list[index]\n",
    "    print( index , string)             # iterate index position and elemnt "
   ]
  },
  {
   "cell_type": "markdown",
   "id": "8b981f26",
   "metadata": {},
   "source": [
    "#### tuples with while lopp"
   ]
  },
  {
   "cell_type": "code",
   "execution_count": null,
   "id": "7dfdeab4",
   "metadata": {},
   "outputs": [],
   "source": [
    "# tuples \n",
    "A = (1,3,'%',\"hena\")\n",
    "i = 0\n",
    "\n",
    "while i < len(A):     \n",
    "    print(i)              # iterate index position of elemnt \n",
    "    i+=1\n",
    "    "
   ]
  },
  {
   "cell_type": "code",
   "execution_count": null,
   "id": "e2b92a30",
   "metadata": {},
   "outputs": [],
   "source": [
    "A = (1,3,'%',\"hena\")\n",
    "i = 0\n",
    "\n",
    "while i < len(A):     \n",
    "    print(A[i])            # iterate elemnt         \n",
    "    i+=1"
   ]
  },
  {
   "cell_type": "code",
   "execution_count": null,
   "id": "ab0eabbb",
   "metadata": {},
   "outputs": [],
   "source": [
    "S = 'india'\n",
    "i = 0\n",
    "\n",
    "while i <len(S):\n",
    "    char = S[i]          \n",
    "    print(char,i)        # iterating element and there index position\n",
    "    i+=1"
   ]
  },
  {
   "cell_type": "code",
   "execution_count": null,
   "id": "3f92376a",
   "metadata": {},
   "outputs": [],
   "source": []
  },
  {
   "cell_type": "markdown",
   "id": "ed2b21fb",
   "metadata": {},
   "source": [
    "#### string with for loop"
   ]
  },
  {
   "cell_type": "code",
   "execution_count": null,
   "id": "b3a9393c",
   "metadata": {},
   "outputs": [],
   "source": [
    "# string\n",
    "C = 'Harshali'\n",
    "for i in C:\n",
    "    print(i)"
   ]
  },
  {
   "cell_type": "code",
   "execution_count": null,
   "id": "9e397d9b",
   "metadata": {},
   "outputs": [],
   "source": [
    "C = 'Harshali'\n",
    "for i in C:\n",
    "    print(i, end = \" \")"
   ]
  },
  {
   "cell_type": "code",
   "execution_count": null,
   "id": "7c57d90f",
   "metadata": {},
   "outputs": [],
   "source": [
    "C = 'Harshali'\n",
    "for i in  range(len(C)):\n",
    "    print(i)        # in [i] the [] bracket is optional\n",
    "                        # iterate index position of elemnt"
   ]
  },
  {
   "cell_type": "code",
   "execution_count": null,
   "id": "84d26316",
   "metadata": {},
   "outputs": [],
   "source": [
    "C = 'Harshali'\n",
    "for i in  range(len(C)):\n",
    "    print(C[i])                # iterate elemnt"
   ]
  },
  {
   "cell_type": "code",
   "execution_count": null,
   "id": "014968cd",
   "metadata": {},
   "outputs": [],
   "source": [
    "C = 'Harshali'\n",
    "for i in  range(len(C)):\n",
    "    D = C[i]                \n",
    "    print(D , end =' ')                      # iterate elemnt"
   ]
  },
  {
   "cell_type": "code",
   "execution_count": null,
   "id": "1825a123",
   "metadata": {},
   "outputs": [],
   "source": [
    "C = 'Harshali'\n",
    "for i in  range(len(C)):\n",
    "    D = C[i]                \n",
    "    print(D , i)                 # iterate elemnt with there index position"
   ]
  },
  {
   "cell_type": "markdown",
   "id": "658581c0",
   "metadata": {},
   "source": [
    "#### string on while loop"
   ]
  },
  {
   "cell_type": "code",
   "execution_count": null,
   "id": "22fec536",
   "metadata": {},
   "outputs": [],
   "source": [
    "S = 'india'\n",
    "i=0\n",
    "\n",
    "while i<len(S):\n",
    "    print(S[i])       # iterate elemnt \n",
    "    i+=1"
   ]
  },
  {
   "cell_type": "code",
   "execution_count": null,
   "id": "c7b6d935",
   "metadata": {},
   "outputs": [],
   "source": [
    "S = 'india'\n",
    "i = 0\n",
    "\n",
    "while i <len(S):\n",
    "    char = S[i]          \n",
    "    print(char)        # iterating element\n",
    "    i+=1"
   ]
  },
  {
   "cell_type": "code",
   "execution_count": null,
   "id": "e6c9c1f4",
   "metadata": {},
   "outputs": [],
   "source": [
    "S = 'india'\n",
    "i = 0\n",
    "\n",
    "while i <len(S):\n",
    "    char = S[i]          \n",
    "    print(char,i)        # iterating element and there index position\n",
    "    i+=1"
   ]
  },
  {
   "cell_type": "code",
   "execution_count": null,
   "id": "8245967d",
   "metadata": {},
   "outputs": [],
   "source": []
  },
  {
   "cell_type": "markdown",
   "id": "bea23e28",
   "metadata": {},
   "source": [
    "#### Dictionary  with for loop"
   ]
  },
  {
   "cell_type": "code",
   "execution_count": null,
   "id": "70304451",
   "metadata": {},
   "outputs": [],
   "source": [
    "# Dictionary \n",
    "D = {'name':'nitu','marks': 34,'class':'A'}\n",
    "for i in D:\n",
    "    print(i)"
   ]
  },
  {
   "cell_type": "code",
   "execution_count": null,
   "id": "20e2aff9",
   "metadata": {},
   "outputs": [],
   "source": [
    "dict = {'name': 'John', 'age': 30, 'city': 'New York'}\n",
    "\n",
    "for key, value in dict.items():\n",
    "    print(key , value)"
   ]
  },
  {
   "cell_type": "code",
   "execution_count": null,
   "id": "f7a8687e",
   "metadata": {},
   "outputs": [],
   "source": [
    "my_dict = {'a': 1, 'b': 2, 'c': 3, 'd': 4}\n",
    "\n",
    "for value in my_dict.values():\n",
    "    print(value)"
   ]
  },
  {
   "cell_type": "code",
   "execution_count": null,
   "id": "3240287c",
   "metadata": {},
   "outputs": [],
   "source": [
    "my_dict = {'a': 1, 'b': 2, 'c': 3, 'd': 4}\n",
    "\n",
    "for value in my_dict.values():\n",
    "    print(value)"
   ]
  },
  {
   "cell_type": "code",
   "execution_count": null,
   "id": "03005f46",
   "metadata": {},
   "outputs": [],
   "source": [
    "my_dict = {'a': 1, 'b': 2, 'c': 3, 'd': 4}\n",
    "\n",
    "for value in my_dict.keys():\n",
    "    print(value)"
   ]
  },
  {
   "cell_type": "code",
   "execution_count": null,
   "id": "298d95ad",
   "metadata": {},
   "outputs": [],
   "source": [
    " index wise iteration over dictionary \n",
    "\n",
    "dictionaries are unordered collections of key-value pairs. \n",
    "Since dictionaries are not indexed like lists or tuples, you cannot\n",
    "directly iterate through a dictionary using an index as you would with a list.\n",
    "However, you can iterate over the key-value pairs in a \n",
    "dictionary using the .items() method,."
   ]
  },
  {
   "cell_type": "code",
   "execution_count": null,
   "id": "e6ed4c2a",
   "metadata": {},
   "outputs": [],
   "source": [
    "my_dict = {'name': 'John', 'age': 30, 'city': 'New York'}\n",
    "\n",
    "for index, (key, value) in enumerate(my_dict.items()):\n",
    "    print(index ,key ,value)"
   ]
  },
  {
   "cell_type": "markdown",
   "id": "8c26c20e",
   "metadata": {},
   "source": [
    "#### dict while loop"
   ]
  },
  {
   "cell_type": "code",
   "execution_count": null,
   "id": "d01326d8",
   "metadata": {},
   "outputs": [],
   "source": [
    "D = {'name': 'John', 'age': 30, 'city': 'New York'}\n",
    "keys = list(D.keys())                                 # Get a list of keys\n",
    "i = 0\n",
    "\n",
    "while i < len(keys):\n",
    "    key = keys[i]\n",
    "    value = D[key]\n",
    "    print(key ,value)      # iterate key:value pair\n",
    "    i += 1"
   ]
  },
  {
   "cell_type": "code",
   "execution_count": null,
   "id": "6aa903ef",
   "metadata": {},
   "outputs": [],
   "source": [
    "D = {'name': 'John', 'age': 30, 'city': 'New York'}\n",
    "keys = list(D.keys())                                 # Get a list of keys\n",
    "i = 0\n",
    "\n",
    "while i < len(keys):\n",
    "    key = keys[i]\n",
    "    #value = D[key]\n",
    "    print(key,i )      # iterate key \n",
    "    i += 1"
   ]
  },
  {
   "cell_type": "code",
   "execution_count": null,
   "id": "592ad164",
   "metadata": {},
   "outputs": [],
   "source": [
    "D = { 'name':'john' , 'age':30 ,'city':'new york'}\n",
    "keys = list(D.keys())\n",
    "i=0\n",
    "\n",
    "while i<len(keys):\n",
    "    key = keys[i]\n",
    "    value = D[key]\n",
    "    print(value)             # iterating  of dict ,we also add value \n",
    "    i+=1"
   ]
  },
  {
   "cell_type": "code",
   "execution_count": null,
   "id": "d8193ca6",
   "metadata": {},
   "outputs": [],
   "source": [
    "D = {'name': 'John', 'age': 30, 'city': 'New York'}\n",
    "keys = list(D.keys())                                 # Get a list of keys\n",
    "i = 0\n",
    "\n",
    "while i < len(keys):\n",
    "    key = keys[i]\n",
    "    value = D[key]\n",
    "    print(key ,value,i)      # iterate key:value pair and index position\n",
    "    i += 1"
   ]
  },
  {
   "cell_type": "markdown",
   "id": "a59b7427",
   "metadata": {},
   "source": [
    "#### use multiple statement in for loop"
   ]
  },
  {
   "cell_type": "code",
   "execution_count": null,
   "id": "fe449e31",
   "metadata": {},
   "outputs": [],
   "source": [
    "# use multiple statement in for loop\n",
    "A = [1,2,3,4,5]\n",
    "\n",
    "for i in A:\n",
    "    a = i*100\n",
    "    b= i/2\n",
    "    print(a)\n",
    "  \n"
   ]
  },
  {
   "cell_type": "markdown",
   "id": "5c900cdf",
   "metadata": {},
   "source": [
    "####  for loop with Break "
   ]
  },
  {
   "cell_type": "code",
   "execution_count": 130,
   "id": "4c8a69ea",
   "metadata": {},
   "outputs": [
    {
     "name": "stdout",
     "output_type": "stream",
     "text": [
      "0\n",
      "1\n",
      "2\n",
      "3\n"
     ]
    }
   ],
   "source": [
    "for i in range(6):\n",
    "    print(i)\n",
    "    if i == 3:\n",
    "        break\n",
    "        "
   ]
  },
  {
   "cell_type": "code",
   "execution_count": 131,
   "id": "e24ff5dc",
   "metadata": {},
   "outputs": [
    {
     "name": "stdout",
     "output_type": "stream",
     "text": [
      "0\n",
      "1\n",
      "2\n",
      "3\n",
      "4\n",
      "5\n",
      "finished\n"
     ]
    }
   ],
   "source": [
    "i=0\n",
    "\n",
    "while i <9 :\n",
    "    print(i)\n",
    "    if i == 5:\n",
    "        break\n",
    "    i +=1\n",
    "\n",
    "print('finished')"
   ]
  },
  {
   "cell_type": "code",
   "execution_count": 132,
   "id": "3f819a28",
   "metadata": {},
   "outputs": [
    {
     "name": "stdout",
     "output_type": "stream",
     "text": [
      "10\n",
      "20\n"
     ]
    }
   ],
   "source": [
    "I = [10,20,30,40,50,60]\n",
    "\n",
    "for i in I :\n",
    "    if i == 30:\n",
    "        break\n",
    "    print(i)"
   ]
  },
  {
   "cell_type": "code",
   "execution_count": 133,
   "id": "561f6765",
   "metadata": {},
   "outputs": [
    {
     "name": "stdout",
     "output_type": "stream",
     "text": [
      "0\n",
      "1\n",
      "2\n",
      "3\n",
      "4\n"
     ]
    }
   ],
   "source": [
    "I = [10,20,30,40,50,60]\n",
    "i = 0\n",
    "\n",
    "while i < len(I):\n",
    "    print(i)\n",
    "    if i ==4:\n",
    "        break\n",
    "    i+= 1\n"
   ]
  },
  {
   "cell_type": "code",
   "execution_count": 134,
   "id": "63daccba",
   "metadata": {},
   "outputs": [
    {
     "name": "stdout",
     "output_type": "stream",
     "text": [
      "apple\n"
     ]
    }
   ],
   "source": [
    "fruits = [\"apple\", \"banana\", \"cherry\"]\n",
    "for fruit in fruits:\n",
    "    if fruit == 'banana':\n",
    "        break\n",
    "    print(fruit)          \n",
    "    \n"
   ]
  },
  {
   "cell_type": "code",
   "execution_count": 135,
   "id": "f6e31dd9",
   "metadata": {},
   "outputs": [
    {
     "name": "stdout",
     "output_type": "stream",
     "text": [
      "apple\n",
      "banana\n"
     ]
    }
   ],
   "source": [
    "fruits = [\"apple\", \"banana\", \"cherry\"]\n",
    "i = 0\n",
    "\n",
    "while i <len(fruits):\n",
    "    print(fruits[i])\n",
    "    if fruits[i] == 'banana':\n",
    "        break\n",
    "    i+=1 "
   ]
  },
  {
   "cell_type": "code",
   "execution_count": 136,
   "id": "2967d518",
   "metadata": {},
   "outputs": [
    {
     "name": "stdout",
     "output_type": "stream",
     "text": [
      "apple\n",
      "banana\n"
     ]
    }
   ],
   "source": [
    "fruits = [\"apple\", \"banana\", \"cherry\"]\n",
    "index = 0\n",
    "\n",
    "while index < len(fruits):\n",
    "    fruit = fruits[index]\n",
    "    print(fruit)\n",
    "    if fruit == 'banana':\n",
    "        break\n",
    "    index += 1"
   ]
  },
  {
   "cell_type": "code",
   "execution_count": 137,
   "id": "af52e56b",
   "metadata": {},
   "outputs": [
    {
     "name": "stdout",
     "output_type": "stream",
     "text": [
      "H\n",
      "a\n",
      "r\n",
      "Loop finished\n"
     ]
    }
   ],
   "source": [
    "# string\n",
    "C = 'Harshali'\n",
    "for i in C:\n",
    "    if i =='s':\n",
    "        break\n",
    "    print(i)\n",
    "\n",
    "print(\"Loop finished\")"
   ]
  },
  {
   "cell_type": "code",
   "execution_count": 138,
   "id": "cf96f928",
   "metadata": {},
   "outputs": [
    {
     "name": "stdout",
     "output_type": "stream",
     "text": [
      "H e l l o ,   "
     ]
    }
   ],
   "source": [
    "string = \"Hello, World!\"\n",
    "index = 0\n",
    "\n",
    "while index < len(string):\n",
    "    char = string[index]\n",
    "    if char == 'W':\n",
    "        break                   # Exit the loop when 'W' is found\n",
    "    print(char, end=' ')\n",
    "    index += 1"
   ]
  },
  {
   "cell_type": "code",
   "execution_count": 139,
   "id": "093a42cd",
   "metadata": {},
   "outputs": [
    {
     "name": "stdout",
     "output_type": "stream",
     "text": [
      "name John\n",
      "age 30\n"
     ]
    }
   ],
   "source": [
    "dict = {'name': 'John', 'age': 30, 'city': 'New York'}\n",
    "\n",
    "for key, value in dict.items():\n",
    "    print(key ,value)\n",
    "    if key == 'age':\n",
    "        break                           # Exit the loop when 'age' is found\n",
    "\n"
   ]
  },
  {
   "cell_type": "code",
   "execution_count": 140,
   "id": "acadd6bb",
   "metadata": {},
   "outputs": [
    {
     "name": "stdout",
     "output_type": "stream",
     "text": [
      "name John\n",
      "age 30\n"
     ]
    }
   ],
   "source": [
    "D = {'name': 'John', 'age': 30, 'city': 'New York'}\n",
    "keys = list(D.keys())                                 # Get a list of keys\n",
    "i = 0\n",
    "\n",
    "while i < len(keys):\n",
    "    key = keys[i]\n",
    "    value = D[key]\n",
    "    print(key ,value)      # iterate key:value pair and index position\n",
    "    if key =='age':\n",
    "        break\n",
    "    i += 1"
   ]
  },
  {
   "cell_type": "code",
   "execution_count": 142,
   "id": "bb6db826",
   "metadata": {},
   "outputs": [
    {
     "name": "stdout",
     "output_type": "stream",
     "text": [
      "0 name John\n",
      "1 age 30\n"
     ]
    }
   ],
   "source": [
    "D = {'name': 'John', 'age': 30, 'city': 'New York'}\n",
    "keys = list(D.keys())                                # Get a list of keys\n",
    "i = 0\n",
    "\n",
    "while i < len(keys):\n",
    "    key = keys[i]\n",
    "    value = D[key]\n",
    "    print(i,key ,value)\n",
    "    \n",
    "    if key == 'age':\n",
    "        break\n",
    "\n",
    "    i += 1"
   ]
  },
  {
   "cell_type": "markdown",
   "id": "ca2bb9f0",
   "metadata": {},
   "source": [
    "### Continus statement "
   ]
  },
  {
   "cell_type": "code",
   "execution_count": 150,
   "id": "a3987327",
   "metadata": {},
   "outputs": [
    {
     "name": "stdout",
     "output_type": "stream",
     "text": [
      "1\n",
      "2\n",
      "3\n",
      "6\n"
     ]
    }
   ],
   "source": [
    "i = 0\n",
    "\n",
    "while i < 6:\n",
    "    i += 1\n",
    "    if i == 4 or i == 5:      # Use 'or' instead of 'and'\n",
    "        continue\n",
    "    print(i)\n"
   ]
  },
  {
   "cell_type": "code",
   "execution_count": 145,
   "id": "0ab5934d",
   "metadata": {},
   "outputs": [
    {
     "name": "stdout",
     "output_type": "stream",
     "text": [
      "1\n",
      "2\n",
      "5\n"
     ]
    }
   ],
   "source": [
    "A= [1,2,3,5]\n",
    "for i in A:\n",
    "    if i == 3:\n",
    "        continue\n",
    "    print(i)           # iterate elemnt"
   ]
  },
  {
   "cell_type": "code",
   "execution_count": 146,
   "id": "39572fe6",
   "metadata": {},
   "outputs": [
    {
     "name": "stdout",
     "output_type": "stream",
     "text": [
      "10\n",
      "20\n",
      "40\n",
      "50\n",
      "60\n"
     ]
    }
   ],
   "source": [
    "I = [10,20,30,40,50,60]\n",
    "\n",
    "for i in I :\n",
    "    if i == 30:\n",
    "        continue            # skip 30\n",
    "    print(i)"
   ]
  },
  {
   "cell_type": "code",
   "execution_count": 153,
   "id": "14653cf7",
   "metadata": {},
   "outputs": [
    {
     "name": "stdout",
     "output_type": "stream",
     "text": [
      "10\n",
      "20\n",
      "40\n",
      "50\n",
      "60\n"
     ]
    }
   ],
   "source": [
    "\n",
    "I = [10, 20, 30, 40, 50, 60]\n",
    "i = 0\n",
    "\n",
    "while i < len(I):\n",
    "    if I[i] == 30:\n",
    "        i += 1        # Skip the element with the value 30\n",
    "        continue\n",
    "    print(I[i])\n",
    "    i += 1"
   ]
  },
  {
   "cell_type": "code",
   "execution_count": 147,
   "id": "e920b3a2",
   "metadata": {},
   "outputs": [
    {
     "name": "stdout",
     "output_type": "stream",
     "text": [
      "apple\n",
      "cherry\n"
     ]
    }
   ],
   "source": [
    "fruits = [\"apple\", \"banana\", \"cherry\"]\n",
    "index = 0\n",
    "\n",
    "for index in fruits:\n",
    "    if index == 'banana':\n",
    "        continue\n",
    "    print(index)"
   ]
  },
  {
   "cell_type": "code",
   "execution_count": 152,
   "id": "0d5770b0",
   "metadata": {},
   "outputs": [
    {
     "name": "stdout",
     "output_type": "stream",
     "text": [
      "1\n",
      "3\n",
      "hena\n"
     ]
    }
   ],
   "source": [
    "A = (1,3,'%',\"hena\")\n",
    "i = 0\n",
    "\n",
    "while i <len(A):\n",
    "    if A[i]== '%':\n",
    "        i+= 1\n",
    "        continue\n",
    "    print(A[i])\n",
    "    i+= 1"
   ]
  },
  {
   "cell_type": "code",
   "execution_count": 148,
   "id": "04ddfcd0",
   "metadata": {},
   "outputs": [
    {
     "name": "stdout",
     "output_type": "stream",
     "text": [
      "H e l l o   ,   w o l d "
     ]
    }
   ],
   "source": [
    "A = 'Hello , world'\n",
    "i = 0\n",
    "\n",
    "for i in A:\n",
    "    if i =='r':\n",
    "        continue\n",
    "    print(i,end = ' ')"
   ]
  },
  {
   "cell_type": "code",
   "execution_count": 154,
   "id": "b4cefa45",
   "metadata": {},
   "outputs": [
    {
     "name": "stdout",
     "output_type": "stream",
     "text": [
      "H a r h a l i "
     ]
    }
   ],
   "source": [
    "B = 'Harshali'\n",
    "i = 0\n",
    "\n",
    "while i < len(B):\n",
    "    if B[i] == 's':\n",
    "        i+= 1\n",
    "        continue\n",
    "    print(B[i] , end = ' ')\n",
    "    i+=1"
   ]
  },
  {
   "cell_type": "code",
   "execution_count": 149,
   "id": "ab793c6c",
   "metadata": {},
   "outputs": [
    {
     "name": "stdout",
     "output_type": "stream",
     "text": [
      "name John\n",
      "city New York\n"
     ]
    }
   ],
   "source": [
    "Dict = {'name': 'John', 'age': 30, 'city': 'New York'}\n",
    "\n",
    "for key, value in Dict.items():\n",
    "    if key == 'age':\n",
    "        continue\n",
    "    print(key , value)"
   ]
  },
  {
   "cell_type": "code",
   "execution_count": 151,
   "id": "c622470e",
   "metadata": {},
   "outputs": [
    {
     "name": "stdout",
     "output_type": "stream",
     "text": [
      "name John\n",
      "city New York\n"
     ]
    }
   ],
   "source": [
    "Dict = {'name': 'John', 'age': 30, 'city': 'New York'}\n",
    "\n",
    "                              # Get a list of keys\n",
    "keys = list(Dict.keys())\n",
    "i = 0\n",
    "\n",
    "while i < len(keys):\n",
    "    key = keys[i]\n",
    "    value = Dict[key]\n",
    "    \n",
    "    if key == 'age':\n",
    "        i += 1        # Skip the 'age' key-value pair\n",
    "        continue\n",
    "\n",
    "    print(key, value)\n",
    "    i += 1"
   ]
  },
  {
   "cell_type": "markdown",
   "id": "f48fbc12",
   "metadata": {},
   "source": [
    "# pass statement\n",
    "\n",
    "-In Python, the pass statement is a null statement.\n",
    "\n",
    "-It is used when syntactically some code is required, but you don't want to        execute any specific instructions.\n",
    "\n",
    "-The pass statement is essentially a placeholder, and it does nothing when       executed.\n",
    "\n",
    "-Its primary purpose is to maintain the syntactical structure of your code,        especially in situations where you plan to add functionality later.\n",
    "\n",
    "common use;-\n",
    "\n",
    "1.Empty Blocks: It can be used when you have an empty code block, such as in a function or a loop, that you intend to implement later.\n",
    "\n",
    "\n",
    "    def my_function():\n",
    "       pass  # To be implemented later\n",
    "\n",
    "\n",
    "2.Placeholder in Conditional Statements: It can be used as a placeholder in conditional statements when you want to skip a particular condition temporarily\n",
    "  \n",
    "  if condition:\n",
    "    pass  # To be implemented later\n",
    "   else:\n",
    "    # Code for the 'else' condition\n",
    "    \n",
    "3.Class Definitions: In class definitions, you can use pass as a placeholder for the class body if you haven't defined any methods or attributes yet.\n",
    "\n",
    "   class MyClass:\n",
    "     pass \n",
    "     \n",
    "The key difference between a comment and a pass statement is that while the Python interpreter completely ignores comments, the pass statement is not ignored. \n",
    "\n",
    "This means that if you put a pass statement in your code, it is treated as a valid statement, whereas comments are entirely ignored by the interpreter.\n",
    "\n",
    "This can be useful when you need a placeholder that doesn't affect the execution of your program but is recognized by Python's syntax rules."
   ]
  },
  {
   "cell_type": "code",
   "execution_count": null,
   "id": "3854d40d",
   "metadata": {},
   "outputs": [],
   "source": [
    "# range "
   ]
  },
  {
   "cell_type": "code",
   "execution_count": 156,
   "id": "4686d121",
   "metadata": {},
   "outputs": [],
   "source": [
    "A = [1,2,3,4,5]\n",
    "\n",
    "for i in A:\n",
    "    if i == 3:\n",
    "        pass"
   ]
  },
  {
   "cell_type": "code",
   "execution_count": 157,
   "id": "f0e16436",
   "metadata": {},
   "outputs": [],
   "source": [
    "A = [1, 2, 3, 4, 5]\n",
    "i = 0            # Initialize i to 0\n",
    "\n",
    "while i < len(A):\n",
    "    if A[i] == 3:\n",
    "        pass           # Do nothing if the current element is 3\n",
    "    i +=1"
   ]
  },
  {
   "cell_type": "code",
   "execution_count": 158,
   "id": "6ab75a62",
   "metadata": {},
   "outputs": [
    {
     "name": "stdout",
     "output_type": "stream",
     "text": [
      "1\n",
      "2\n",
      "3\n",
      "4\n",
      "5\n"
     ]
    }
   ],
   "source": [
    "A = [1,2,3,4,5]\n",
    "\n",
    "for i in A:\n",
    "    print(i)\n",
    "    pass\n",
    "       "
   ]
  },
  {
   "cell_type": "code",
   "execution_count": 159,
   "id": "3beffb27",
   "metadata": {},
   "outputs": [],
   "source": [
    "A = [1,2,3,4,5]\n",
    "\n",
    "for i in A:\n",
    "    pass\n",
    "   "
   ]
  },
  {
   "cell_type": "code",
   "execution_count": 160,
   "id": "397b850d",
   "metadata": {},
   "outputs": [],
   "source": [
    "fruits = [\"apple\", \"banana\", \"cherry\"]\n",
    "i = 0\n",
    "for i in fruits:\n",
    "    if i =='cherry':\n",
    "        pass"
   ]
  },
  {
   "cell_type": "code",
   "execution_count": 161,
   "id": "a383f9cf",
   "metadata": {},
   "outputs": [],
   "source": [
    "fruits = [\"apple\", \"banana\", \"cherry\"]\n",
    "i = 0\n",
    "    \n",
    "while i < len(fruits):\n",
    "    if fruits[i] == 'cherry':\n",
    "        pass           # Do nothing if the current element is 3\n",
    "    i +=1"
   ]
  },
  {
   "cell_type": "code",
   "execution_count": 162,
   "id": "e4457555",
   "metadata": {},
   "outputs": [],
   "source": [
    "s = 'harshali '\n",
    "i = 0 \n",
    "\n",
    "for i in s:\n",
    "    pass"
   ]
  },
  {
   "cell_type": "code",
   "execution_count": null,
   "id": "91533996",
   "metadata": {},
   "outputs": [],
   "source": [
    "s = \"Hello, World!\"\n",
    "i = 0  # Initialize i to 0\n",
    "\n",
    "while i < len(s):\n",
    "    pass\n",
    "    i += 1\n",
    "    "
   ]
  },
  {
   "cell_type": "code",
   "execution_count": 163,
   "id": "9881ec41",
   "metadata": {},
   "outputs": [],
   "source": [
    "dict = {'name': 'John', 'age': 30, 'city': 'New York'}\n",
    "keys = list(dict.keys())  # Correct the 'keys' variable assignment\n",
    "\n",
    "for key in keys:          # Use 'key' instead of 'i', and iterate over the list of keys\n",
    "    pass"
   ]
  },
  {
   "cell_type": "code",
   "execution_count": 164,
   "id": "e8418c59",
   "metadata": {},
   "outputs": [],
   "source": [
    "Dict = {'name': 'John', 'age': 30, 'city': 'New York'}\n",
    "\n",
    "                              # Get a list of keys\n",
    "keys = list(Dict.keys())\n",
    "i = 0\n",
    "\n",
    "while i < len(Dict):\n",
    "    pass\n",
    "    i+=1"
   ]
  },
  {
   "cell_type": "markdown",
   "id": "9560cbd8",
   "metadata": {},
   "source": [
    "### for loops with else statement \n",
    "\n",
    "else statement when  \n",
    "- iteration completed \n",
    "- given condititon not a given range."
   ]
  },
  {
   "cell_type": "code",
   "execution_count": 15,
   "id": "06aa8d6f",
   "metadata": {},
   "outputs": [
    {
     "name": "stdout",
     "output_type": "stream",
     "text": [
      "0 1 2 3 4 5 terminated\n"
     ]
    }
   ],
   "source": [
    "i = 0 \n",
    "\n",
    "for i in range (6):\n",
    "    print (i,end =' ')\n",
    "else:\n",
    "    print ('terminated')"
   ]
  },
  {
   "cell_type": "code",
   "execution_count": 4,
   "id": "dd52bc7a",
   "metadata": {},
   "outputs": [
    {
     "name": "stdout",
     "output_type": "stream",
     "text": [
      "0\n",
      "1\n",
      "2\n",
      "3\n",
      "4\n",
      "5\n",
      "6\n",
      "7\n",
      "8\n",
      "9\n",
      "finished\n"
     ]
    }
   ],
   "source": [
    "i = 0\n",
    "\n",
    "while i < 10:\n",
    "    print(i)  \n",
    "    i+=1\n",
    "else:\n",
    "    print('finished')\n",
    "    "
   ]
  },
  {
   "cell_type": "code",
   "execution_count": 5,
   "id": "91c0b6b9",
   "metadata": {},
   "outputs": [
    {
     "name": "stdout",
     "output_type": "stream",
     "text": [
      "stop\n"
     ]
    }
   ],
   "source": [
    "i =0 \n",
    "for i in range (6):\n",
    "    if i == '22':\n",
    "        print(i)\n",
    "else :\n",
    "    print('stop')"
   ]
  },
  {
   "cell_type": "code",
   "execution_count": 6,
   "id": "986f9203",
   "metadata": {},
   "outputs": [
    {
     "name": "stdout",
     "output_type": "stream",
     "text": [
      "finished\n"
     ]
    }
   ],
   "source": [
    "i = 0\n",
    "\n",
    "while i < 10:\n",
    "    if i == '%%%':\n",
    "        print(i)  \n",
    "    i+=1\n",
    "else:\n",
    "    print('finished')\n",
    "    "
   ]
  },
  {
   "cell_type": "code",
   "execution_count": 7,
   "id": "aba2519f",
   "metadata": {},
   "outputs": [
    {
     "name": "stdout",
     "output_type": "stream",
     "text": [
      "1\n",
      "2\n",
      "3\n",
      "4\n",
      "iteration finished\n"
     ]
    }
   ],
   "source": [
    "x = [1,2,3,4]\n",
    "for i in x:\n",
    "    print(i)\n",
    "else :\n",
    "    print('iteration finished')"
   ]
  },
  {
   "cell_type": "code",
   "execution_count": 9,
   "id": "b60b941a",
   "metadata": {},
   "outputs": [
    {
     "name": "stdout",
     "output_type": "stream",
     "text": [
      "0\n",
      "1\n",
      "2\n",
      "3\n",
      "4\n",
      "finished\n"
     ]
    }
   ],
   "source": [
    "x = [1, 2, 3, 5, 4]\n",
    "i = 0  # Initialize i to 0\n",
    "\n",
    "while i < len(x):\n",
    "    print(i)\n",
    "    i += 1\n",
    "else:\n",
    "    print('finished')"
   ]
  },
  {
   "cell_type": "code",
   "execution_count": 8,
   "id": "a0a57bc4",
   "metadata": {},
   "outputs": [
    {
     "name": "stdout",
     "output_type": "stream",
     "text": [
      "iteration finished\n"
     ]
    }
   ],
   "source": [
    "x = [1,2,3,5,4]\n",
    "\n",
    "for i in x:\n",
    "    if i == '#':\n",
    "        print(i)\n",
    "else:\n",
    "    print('iteration finished')"
   ]
  },
  {
   "cell_type": "code",
   "execution_count": 21,
   "id": "927cfbae",
   "metadata": {},
   "outputs": [
    {
     "ename": "TypeError",
     "evalue": "'<' not supported between instances of 'str' and 'int'",
     "output_type": "error",
     "traceback": [
      "\u001b[1;31m---------------------------------------------------------------------------\u001b[0m",
      "\u001b[1;31mTypeError\u001b[0m                                 Traceback (most recent call last)",
      "Cell \u001b[1;32mIn[21], line 3\u001b[0m\n\u001b[0;32m      1\u001b[0m x \u001b[38;5;241m=\u001b[39m [\u001b[38;5;241m1\u001b[39m,\u001b[38;5;241m2\u001b[39m,\u001b[38;5;241m3\u001b[39m,\u001b[38;5;241m5\u001b[39m,\u001b[38;5;241m4\u001b[39m]\n\u001b[1;32m----> 3\u001b[0m \u001b[38;5;28;01mwhile\u001b[39;00m \u001b[43mi\u001b[49m\u001b[43m \u001b[49m\u001b[38;5;241;43m<\u001b[39;49m\u001b[43m \u001b[49m\u001b[38;5;28;43mlen\u001b[39;49m\u001b[43m(\u001b[49m\u001b[43mx\u001b[49m\u001b[43m)\u001b[49m:\n\u001b[0;32m      4\u001b[0m     \u001b[38;5;28;01mif\u001b[39;00m x[i] \u001b[38;5;241m==\u001b[39m \u001b[38;5;241m3\u001b[39m:\n\u001b[0;32m      5\u001b[0m         \u001b[38;5;28mprint\u001b[39m(i)\n",
      "\u001b[1;31mTypeError\u001b[0m: '<' not supported between instances of 'str' and 'int'"
     ]
    }
   ],
   "source": [
    "x = [1,2,3,5,4]\n",
    "\n",
    "while i < len(x):\n",
    "    if x[i] == 3:\n",
    "        print(i)\n",
    "else:\n",
    "    print('finished')"
   ]
  },
  {
   "cell_type": "code",
   "execution_count": 17,
   "id": "b69ee4bc",
   "metadata": {},
   "outputs": [
    {
     "name": "stdout",
     "output_type": "stream",
     "text": [
      "apple\n",
      "banana\n",
      "cherry\n",
      "No kiwi found.\n"
     ]
    }
   ],
   "source": [
    "fruits = ['apple', 'banana', 'cherry']\n",
    "\n",
    "for i in fruits:\n",
    "        print(i)\n",
    "else:\n",
    "    print(\"No kiwi found.\")"
   ]
  },
  {
   "cell_type": "code",
   "execution_count": 16,
   "id": "d4c90542",
   "metadata": {},
   "outputs": [
    {
     "name": "stdout",
     "output_type": "stream",
     "text": [
      "apple\n",
      "banana\n",
      "cherry\n",
      "finished\n"
     ]
    }
   ],
   "source": [
    "fruits = ['apple', 'banana', 'cherry']\n",
    "i = 0  # Initialize i to 0\n",
    "\n",
    "while i < len(fruits):\n",
    "    print(fruits[i])\n",
    "    i += 1\n",
    "else:\n",
    "    print('finished')"
   ]
  },
  {
   "cell_type": "code",
   "execution_count": 18,
   "id": "ea4bea6b",
   "metadata": {},
   "outputs": [
    {
     "name": "stdout",
     "output_type": "stream",
     "text": [
      "No kiwi found.\n"
     ]
    }
   ],
   "source": [
    "fruits = ['apple', 'banana', 'cherry']\n",
    "\n",
    "for i in fruits:\n",
    "    if i == 'kiwi':\n",
    "        print(\"Found kiwi!\")\n",
    "else:\n",
    "    print(\"No kiwi found.\")"
   ]
  },
  {
   "cell_type": "code",
   "execution_count": 22,
   "id": "0c524bcb",
   "metadata": {},
   "outputs": [
    {
     "name": "stdout",
     "output_type": "stream",
     "text": [
      "H a r s h a l i code run\n"
     ]
    }
   ],
   "source": [
    "s = 'Harshali'\n",
    "for i in s:\n",
    "    print(i , end =' ')\n",
    "else:\n",
    "    print('code run')"
   ]
  },
  {
   "cell_type": "code",
   "execution_count": 23,
   "id": "bfab7ec2",
   "metadata": {},
   "outputs": [
    {
     "name": "stdout",
     "output_type": "stream",
     "text": [
      "H\n",
      "a\n",
      "r\n",
      "s\n",
      "h\n",
      "a\n",
      "l\n",
      "i\n",
      "code run\n"
     ]
    }
   ],
   "source": [
    "s= 'Harshali'\n",
    "i =0\n",
    "\n",
    "while i<len(s):\n",
    "    print(s[i])\n",
    "    i+=1\n",
    "else:\n",
    "    print('code run')"
   ]
  },
  {
   "cell_type": "code",
   "execution_count": null,
   "id": "70a33343",
   "metadata": {},
   "outputs": [],
   "source": [
    "s = 'Harshali'\n",
    "for i in s:\n",
    "    if i == 'm':\n",
    "        print(i , end =' ')\n",
    "else:\n",
    "    print('m not present in s')"
   ]
  },
  {
   "cell_type": "code",
   "execution_count": null,
   "id": "b2543dae",
   "metadata": {},
   "outputs": [],
   "source": [
    "s= 'Harshali'\n",
    "i =0\n",
    "\n",
    "while i<len(s):\n",
    "    if i == 'm':\n",
    "        print(s[i])\n",
    "    i+=1\n",
    "else:\n",
    "    print('m not present in s')"
   ]
  },
  {
   "cell_type": "code",
   "execution_count": 11,
   "id": "09a7ad10",
   "metadata": {},
   "outputs": [
    {
     "name": "stdout",
     "output_type": "stream",
     "text": [
      "name: John\n",
      "age: 30\n",
      "city: New York\n",
      "Iteration over key-value pairs finished\n"
     ]
    }
   ],
   "source": [
    "\n",
    "dict = {'name': 'John', 'age': 30, 'city': 'New York'}\n",
    "\n",
    "for key, value in dict.items():                  \n",
    "    print(f'{key}: {value}')\n",
    "\n",
    "else:\n",
    "    print('Iteration over key-value pairs finished')"
   ]
  },
  {
   "cell_type": "code",
   "execution_count": 12,
   "id": "39ffbde9",
   "metadata": {},
   "outputs": [
    {
     "name": "stdout",
     "output_type": "stream",
     "text": [
      "name: John\n",
      "age: 30\n",
      "city: New York\n",
      "Finished iterating through the dictionary\n"
     ]
    }
   ],
   "source": [
    "dict = {'name': 'John', 'age': 30, 'city': 'New York'}\n",
    "keys = list(dict.keys())      # Get a list of keys from the dictionary\n",
    "i = 0                          # Initialize i to 0\n",
    "\n",
    "while i < len(keys):\n",
    "    key = keys[i]                  # Get the key at index i\n",
    "    value = dict[key]          # Get the corresponding value\n",
    "    print(f'{key}: {value}')\n",
    "    i += 1\n",
    "else:\n",
    "    print('Finished iterating through the dictionary')"
   ]
  },
  {
   "cell_type": "code",
   "execution_count": 13,
   "id": "0036ffe1",
   "metadata": {},
   "outputs": [
    {
     "name": "stdout",
     "output_type": "stream",
     "text": [
      "Iteration over key-value pairs finished\n"
     ]
    }
   ],
   "source": [
    "\n",
    "dict = {'name': 'John', 'age': 30, 'city': 'New York'}\n",
    "\n",
    "for key, value in dict.items():\n",
    "    if key == 'marks':\n",
    "        print(f'{key}: {value}')\n",
    "\n",
    "else:\n",
    "    print('Iteration over key-value pairs finished')"
   ]
  },
  {
   "cell_type": "code",
   "execution_count": 14,
   "id": "b2798e08",
   "metadata": {},
   "outputs": [
    {
     "name": "stdout",
     "output_type": "stream",
     "text": [
      "marks key not present\n"
     ]
    }
   ],
   "source": [
    "dict = {'name': 'John', 'age': 30, 'city': 'New York'}\n",
    "keys =list(dict . keys())\n",
    "i =0\n",
    "\n",
    "while i < len(keys):\n",
    "    key = keys[i]\n",
    "    value = dict[key]\n",
    "    \n",
    "    if key == 'marks':\n",
    "        print(key , value)\n",
    "    i+=1\n",
    "else :\n",
    "    print('marks key not present')"
   ]
  },
  {
   "cell_type": "markdown",
   "id": "1631f71c",
   "metadata": {},
   "source": [
    "### nested loops \n",
    "\n",
    "-You can use loops inside other loops to create nested loops.\n",
    "\n",
    "-This is useful for iterating over multi-dimensional data structures or            performing complex repetitive tasks.\n",
    "\n",
    "Why AND WHEN use nested loops:\n",
    "\n",
    "1.Multi-dimensional Data: Nested loops are often used when dealing with multi-dimensional data structures like matrices, grids, and 2D lists. They allow you to traverse and manipulate elements in rows and columns.\n",
    "Nested loops to iterate through rows and columns of a 2D list or array.\n",
    "The outer FOR /while loop iterates over the rows of the 2D list.\n",
    "The inner For /while loop iterates over the columns of each row.\n",
    "in cse of while loop = We use the row and col variables to keep track of the current row and column indices\n",
    "Finally, we increment both col to move to the next column by (col += 1 ) inner query  and row to move to the next by (row += 1 ) in outer query .row when appropriate.\n",
    "\n",
    "2.Nested Data Structures: When working with nested data structures like lists of lists or dictionaries of dictionaries, nested loops are necessary to access and process data at different levels of nesting.\n",
    "Nested loops for iterating through items in a nested list or dictionary.\n",
    "\n",
    "3.Combinations and Permutations: When you need to generate combinations or permutations of elements from multiple collections (e.g., nested for loops can be used for generating combinations of items).\n",
    "Generating combinations or permutations.\n",
    "\n",
    "4.Pattern Matching and Searching: Nested loops can be employed when searching for patterns or specific elements within multi-layered data structures.\n",
    "\n",
    "5.Hierarchical Data: When dealing with hierarchical data, such as organizational charts or nested directories, nested loops help you traverse and manipulate the structure.\n",
    "Exploring hierarchical data structures."
   ]
  },
  {
   "cell_type": "markdown",
   "id": "d437699c",
   "metadata": {},
   "source": [
    "### Nested Loops for 2D Lists\n",
    "\n",
    "1.Multi-dimensional Data: \n",
    "-Nested loops are often used when dealing with multi-dimensional data    structures like matrices, grids, and 2D lists. \n",
    "   They allow you to traverse and manipulate elements in rows and       nested loops to iterate through rows and columns of a 2D list or array.\n",
    "   \n",
    "-The outer FOR /while loop iterates over the rows of the 2D list.\n",
    "\n",
    "-The inner For /while loop iterates over the columns of each row.\n",
    "\n",
    "-in cse of while loop = We use the row and col variables to keep     track of the current row and column indices\n",
    "\n",
    "-Finally, we increment both col to move to the next column by (col += 1 ) inner query  and row to move to the next by (row += 1 ) in outer query .row when appropriate.\n",
    "\n",
    "row = row-index\n",
    "col = col- index\n",
    "\n",
    "-len[ matrix] = no of row / no of list in array /2D list\n",
    "\n",
    "-len[matrix [0]] = no of column (assuming all rows have the same no column)\n",
    "\n",
    "-len[matrix [row] = column in current row\n",
    "\n",
    "-matrix [row][col]  =  elemnts in matrix"
   ]
  },
  {
   "cell_type": "code",
   "execution_count": 29,
   "id": "d5ac44ad",
   "metadata": {},
   "outputs": [
    {
     "name": "stdout",
     "output_type": "stream",
     "text": [
      "1\n",
      "2\n",
      "3\n",
      "\n",
      "4\n",
      "5\n",
      "6\n",
      "\n",
      "7\n",
      "8\n",
      "9\n",
      "\n"
     ]
    }
   ],
   "source": [
    "#Nested Loops for 2D Lists:\n",
    "#Icase 3D = USE 3 TIME FOR LOOP IN CODWE\n",
    "\n",
    "\n",
    "#1 . iterating base on row and column \n",
    "\n",
    "matrix = [[1, 2, 3], [4, 5, 6], [7, 8, 9]]\n",
    "for row in matrix:\n",
    "    for item in row:\n",
    "        print(item)\n",
    "    print()"
   ]
  },
  {
   "cell_type": "code",
   "execution_count": null,
   "id": "c70e437d",
   "metadata": {},
   "outputs": [],
   "source": []
  },
  {
   "cell_type": "code",
   "execution_count": 26,
   "id": "485b67d2",
   "metadata": {},
   "outputs": [
    {
     "name": "stdout",
     "output_type": "stream",
     "text": [
      "1 2 3 \n",
      "4 5 6 \n",
      "7 8 9 \n"
     ]
    }
   ],
   "source": [
    "matrix = [[1, 2, 3], [4, 5, 6], [7, 8, 9]]\n",
    "\n",
    "row = 0  # Initialize the row index to 0\n",
    "\n",
    "while row < len(matrix):\n",
    "    col = 0  # Initialize the column index to 0 for each new row\n",
    "    \n",
    "    while col < len(matrix[row]):\n",
    "        element = matrix[row][col]\n",
    "        print(element, end=' ')  # Print elements on the same line\n",
    "        col += 1  # Move to the next column\n",
    "        \n",
    "    print()  # Print a newline after each row\n",
    "    row += 1  # Move to the next row"
   ]
  },
  {
   "cell_type": "code",
   "execution_count": null,
   "id": "e13992e7",
   "metadata": {},
   "outputs": [],
   "source": [
    "#"
   ]
  },
  {
   "cell_type": "code",
   "execution_count": 28,
   "id": "1fd1746e",
   "metadata": {},
   "outputs": [
    {
     "name": "stdout",
     "output_type": "stream",
     "text": [
      " student_ID: Alice\n",
      "  age: 20\n",
      "  grade: A\n",
      "\n",
      " student_ID: Bob\n",
      "  age: 22\n",
      "  grade: B\n",
      "\n"
     ]
    }
   ],
   "source": [
    "student_data = {'Alice': { 'age': 20,'grade': 'A'  },\n",
    "                'Bob': { 'age': 22,'grade': 'B'}}\n",
    "\n",
    "for key1, value1 in student_data.items():      # key1 & value1 = for outer dict\n",
    "    print(f\" student_ID: {key1}\")\n",
    "    for key2, value2 in value1.items():  # key1 & value1 = for inner dict\n",
    "        print(f\"  {key2}: {value2}\")     \n",
    "    print()                          # seperate two different list \n",
    "  "
   ]
  },
  {
   "cell_type": "code",
   "execution_count": 33,
   "id": "3bd17169",
   "metadata": {},
   "outputs": [
    {
     "name": "stdout",
     "output_type": "stream",
     "text": [
      "1 2 3 \n",
      "4 5 6 \n",
      "7 8 9 \n"
     ]
    }
   ],
   "source": [
    "# iterating based on rows \n",
    "\n",
    "M = [[1,2,3],[4,5,6],[7,8,9]]\n",
    "for row in M:\n",
    "    for i in row:\n",
    "        print(i , end = ' ')\n",
    "    print()"
   ]
  },
  {
   "cell_type": "code",
   "execution_count": 32,
   "id": "0bd43538",
   "metadata": {},
   "outputs": [
    {
     "name": "stdout",
     "output_type": "stream",
     "text": [
      "1\n",
      "2\n",
      "3\n",
      "\n",
      "4\n",
      "5\n",
      "6\n",
      "\n",
      "7\n",
      "8\n",
      "9\n",
      "\n"
     ]
    }
   ],
   "source": [
    "# Example 2D list\n",
    "matrix = [ [1, 2, 3], [4, 5, 6], [7, 8, 9]]\n",
    "\n",
    "# Initialize row and column indices\n",
    "\n",
    "row = 0\n",
    "\n",
    "while row < len(matrix):          # Outer loop for rows\n",
    "    col = 0                 # Initialize column index for each row\n",
    "    \n",
    "    while col < len(matrix[row]):   # Inner loop for columns in the current row\n",
    "        element = matrix[row][col]\n",
    "        print(element)\n",
    "        \n",
    "        col += 1  # Move to the next column\n",
    "    print()\n",
    "        \n",
    "    row += 1  # Move to the next row"
   ]
  },
  {
   "cell_type": "code",
   "execution_count": null,
   "id": "5f634d37",
   "metadata": {},
   "outputs": [],
   "source": [
    "# iterating based on column "
   ]
  },
  {
   "cell_type": "code",
   "execution_count": 38,
   "id": "828d846d",
   "metadata": {},
   "outputs": [
    {
     "name": "stdout",
     "output_type": "stream",
     "text": [
      "1 4 7 \n",
      "2 5 8 \n",
      "3 6 9 \n"
     ]
    }
   ],
   "source": [
    "matrix = [[1, 2, 3],[4, 5, 6],[7, 8, 9]]\n",
    "\n",
    "num_columns = len(matrix[0])  # Get the number of columns (assuming all rows have the same length)\n",
    "\n",
    "for col in range(num_columns):\n",
    "    for row in matrix:\n",
    "        print(row[col],end=' ')\n",
    "    print()"
   ]
  },
  {
   "cell_type": "code",
   "execution_count": 42,
   "id": "79c1af99",
   "metadata": {},
   "outputs": [
    {
     "name": "stdout",
     "output_type": "stream",
     "text": [
      "1 4 7 \n",
      "2 5 8 \n",
      "3 6 9 \n"
     ]
    }
   ],
   "source": [
    "matrix = [[1, 2, 3],[4, 5, 6], [7, 8, 9]]\n",
    "\n",
    "num_rows = len(matrix)\n",
    "num_cols = len(matrix[0])  # Assuming all rows have the same number of columns\n",
    "\n",
    "col = 0\n",
    "\n",
    "while col < num_cols:\n",
    "    row = 0\n",
    "    while row < num_rows:\n",
    "        print(matrix[row][col] , end = ' ')\n",
    "        row += 1\n",
    "    col += 1\n",
    "    print()\n",
    "    \n"
   ]
  },
  {
   "cell_type": "markdown",
   "id": "369352c5",
   "metadata": {},
   "source": [
    " ### Nested Loops for Combining Elements:\n",
    " \n",
    "2.Nested Data Structures: \n",
    "\n",
    "-When working with nested data structures like lists of lists or dictionaries of dictionaries, nested loops are necessary to access and process data at different levels of nesting.\n",
    "\n",
    "-Nested loops for iterating through items in a nested list or dictionary."
   ]
  },
  {
   "cell_type": "code",
   "execution_count": 44,
   "id": "e2ae29be",
   "metadata": {},
   "outputs": [
    {
     "name": "stdout",
     "output_type": "stream",
     "text": [
      "red small\n",
      "red medium\n",
      "red large\n",
      "green small\n",
      "green medium\n",
      "green large\n",
      "blue small\n",
      "blue medium\n",
      "blue large\n"
     ]
    }
   ],
   "source": [
    "#Nested Loops for Combining Elements:\n",
    "\n",
    "colors = ['red', 'green', 'blue']\n",
    "sizes = ['small', 'medium', 'large']\n",
    "for color in colors:\n",
    "    for size in sizes:\n",
    "        print(color, size)"
   ]
  },
  {
   "cell_type": "code",
   "execution_count": 46,
   "id": "cb6894af",
   "metadata": {},
   "outputs": [
    {
     "name": "stdout",
     "output_type": "stream",
     "text": [
      "apple red\n",
      "apple sweet\n",
      "apple tasty\n",
      "\n",
      "banana red\n",
      "banana sweet\n",
      "banana tasty\n",
      "\n",
      "cherry red\n",
      "cherry sweet\n",
      "cherry tasty\n",
      "\n"
     ]
    }
   ],
   "source": [
    "A = ['apple', 'banana','cherry']\n",
    "B = ['red','sweet','tasty']\n",
    "\n",
    "for i in A:\n",
    "    for x in B:\n",
    "        print(i,x)\n",
    "        \n",
    "    print()"
   ]
  },
  {
   "cell_type": "code",
   "execution_count": 48,
   "id": "2257b6ea",
   "metadata": {},
   "outputs": [
    {
     "name": "stdout",
     "output_type": "stream",
     "text": [
      "(1, 'a')\n",
      "(1, 'b')\n",
      "(1, 'c')\n",
      "\n",
      "(2, 'a')\n",
      "(2, 'b')\n",
      "(2, 'c')\n",
      "\n",
      "(3, 'a')\n",
      "(3, 'b')\n",
      "(3, 'c')\n",
      "\n"
     ]
    }
   ],
   "source": [
    "list1 = [1, 2, 3]\n",
    "list2 = ['a', 'b', 'c']\n",
    "\n",
    "i = 0                         # Initialize the first index for list1\n",
    "j = 0                         # Initialize the first index for list2\n",
    "\n",
    "while i < len(list1):\n",
    "    while j < len(list2):\n",
    "        combined = (list1[i], list2[j])\n",
    "        print(combined)\n",
    "        j += 1                     # Move to the next index in list2\n",
    "    i += 1                         # Move to the next index in list1\n",
    "    j = 0                          # Reset the index for list2\n",
    "    print()\n",
    "    \n",
    "#After processing all elements of list2, the j index is reset \n",
    "#    to 0 to start from the beginning of list2 again"
   ]
  },
  {
   "cell_type": "markdown",
   "id": "067c9c0a",
   "metadata": {},
   "source": [
    "###  Nested Loops for Pattern Printing:\n",
    "\n",
    "for creating diiferent pattern  do cange in range fun\n",
    "\n",
    "- for Asending oder  = first add leading space on each line by substracting i (5-i) and\n",
    "                       then add astrik on each line by adding i(i+1)\n",
    "                     \n",
    "                     \n",
    "- for Desending order = first try to add leading space on each line by adding i(i) each line \n",
    "                         then try to remove astrik on each line by (5-i) "
   ]
  },
  {
   "cell_type": "code",
   "execution_count": 87,
   "id": "b7b27cb5",
   "metadata": {},
   "outputs": [
    {
     "name": "stdout",
     "output_type": "stream",
     "text": [
      "\n",
      "* \n",
      "* * \n",
      "* * * \n",
      "* * * * \n"
     ]
    }
   ],
   "source": [
    "   for i in range(5):                #  # Print leading spaces\n",
    "        for j in range(i):            # Print asterisks\n",
    "            print(\"*\", end=' ')\n",
    "        print()\n",
    "        \n",
    "        \n",
    "# The expression ( for j in range(i)) in which range(i)\n",
    " #is used to control the number of asterisks printed on each line. The variable i takes on values from 0 to 4 in the outer loop, and it's subtracted from 5 to determine how many asterisks are printed on each line.\n",
    "\n",
    "#Here's how it works for each value of i:\n",
    "\n",
    "#When i is 0, i is 5, so it prints 0 asterisks on the first line.\n",
    "#When i is 1, i is 4, so it prints 1 asterisks on the second line.\n",
    "#When i is 2, i is 3, so it prints 2 asterisks on the third line.\n",
    "#When i is 3, i is 2, so it prints 3 asterisks on the fourth line.\n",
    "#When i is 4, i is 1, so it prints 4 asterisk on the fifth line.\n",
    "\n",
    "\n",
    "#This is how the (i) expression controls the number of asterisks printed on each line"
   ]
  },
  {
   "cell_type": "code",
   "execution_count": 73,
   "id": "83349178",
   "metadata": {},
   "outputs": [
    {
     "name": "stdout",
     "output_type": "stream",
     "text": [
      "* * * * * \n",
      "* * * * \n",
      "* * * \n",
      "* * \n",
      "* \n"
     ]
    }
   ],
   "source": [
    "   for i in range(5):                #  # Print leading spaces\n",
    "        for j in range(5-i):            # controls the number of asterisks printed on each line.\n",
    "            print(\"*\", end=' ')\n",
    "        print()\n",
    "        \n",
    "\n",
    "# The expression 5 - i is used to control the number of asterisks printed on each line. The variable i takes on values from 0 to 4 in the outer loop, and it's subtracted from 5 to determine how many asterisks are printed on each line.\n",
    "\n",
    "#Here's how it works for each value of i:\n",
    "\n",
    "#When i is 0, 5 - i is 5, so it prints 5 asterisks on the first line.\n",
    "#When i is 1, 5 - i is 4, so it prints 4 asterisks on the second line.\n",
    "#When i is 2, 5 - i is 3, so it prints 3 asterisks on the third line.\n",
    "#When i is 3, 5 - i is 2, so it prints 2 asterisks on the fourth line.\n",
    "#When i is 4, 5 - i is 1, so it prints 1 asterisk on the fifth line.\n",
    "\n",
    "#This is how the 5 - i expression controls the number of asterisks printed on each line, with the number decreasing by 1 with each iteration of the outer loop.\n",
    "\n",
    "\n",
    "\n",
    "\n"
   ]
  },
  {
   "cell_type": "code",
   "execution_count": 111,
   "id": "00b01893",
   "metadata": {},
   "outputs": [
    {
     "name": "stdout",
     "output_type": "stream",
     "text": [
      "          * \n",
      "        * * \n",
      "      * * * \n",
      "    * * * * \n",
      "  * * * * * \n"
     ]
    }
   ],
   "source": [
    "\n",
    "    for i in range(5):\n",
    "        # Print leading spaces\n",
    "        for j in range(5 - i):        # or( 5 -i-1) = same pattern produce \n",
    "            print(\" \", end=' ')             \n",
    "            \n",
    "        # Print asterisks\n",
    "        for j in range(1+i):            # in (i+1) in whic + no reprent first row astrik\n",
    "            print(\"*\", end=' ')\n",
    "        \n",
    "        print()\n",
    "        \n",
    "        \n",
    "# The expression (5 - i )is used to control the number leading space remain on on each line. \n",
    "# The expression (i + 1) )is used to control the number astrik printed  on each line. \n",
    "\n",
    "#Here's how it works for each value of i:\n",
    "\n",
    "#When i is 0, 5 - i is 5, so it prints 5 leading space on the first line.\n",
    "#              1+ 0 is 1 ,so print 1 astrik on first line\n",
    "#When i is 1, 5 - i is 4, so it prints 4 leading space on the second line.\n",
    " #             1+ 1 is 2 ,so print 2 astrik on 2 line\n",
    "#When i is 2, 5 - i is 3, so it prints 3leading space on the third line.\n",
    "#              1+ 2 is 3 ,so print 3 astrik on 3 line\n",
    "#When i is 3, 5 - i is 2, so it prints 2 leading spaces on the fourth line.\n",
    " #             1+ 3 is 4 ,so print 4 astrik on 4 line\n",
    "#When i is 4, 5 - i is 1, so it prints 1 leading space on the fifth line.\n",
    "#              1+ 4 is 5 ,so print 5 astrik on 5 line\n",
    "\n",
    "#This is how the 5 - i expression controls the number ofleading space printed on each line, with the number decreasing by 1 with each iteration of the outer loop.\n",
    "\n",
    "#This is how the 1+i expression controls the number of astrik  printed on each line, with the number adding  by 1 with each iteration of the outer loop\n"
   ]
  },
  {
   "cell_type": "code",
   "execution_count": 115,
   "id": "a59f6cc2",
   "metadata": {},
   "outputs": [
    {
     "name": "stdout",
     "output_type": "stream",
     "text": [
      "* * * * * \n",
      "  * * * * \n",
      "    * * * \n",
      "      * * \n",
      "        * \n"
     ]
    }
   ],
   "source": [
    " for i in range(5):\n",
    "        # Print leading spaces\n",
    "        for j in range(i):         \n",
    "            print(\" \", end=' ')             \n",
    "            \n",
    "        # Print asterisks\n",
    "        for j in range(5-i):            \n",
    "            print(\"*\", end=' ')\n",
    "        \n",
    "        print()\n",
    "        \n",
    "        \n",
    "# The expression (i)is used to control the number leading space remain on on each line. \n",
    "# The expression (5-i) )is used to control the number astrik printed  on each line. \n",
    "\n",
    "#Here's how it works for each value of i:\n",
    "\n",
    "#When i is 0,  i is 0, so it no prints leading space on the first line.\n",
    "#             5-0 is 5 ,so print 5 astrik on first line\n",
    "#When i is 1, i is 1, so it prints 4 leading space on the second line.\n",
    " #            5-1 is 4 ,so print 4 astrik on 2 line\n",
    "#When i is 2, i is 2, so it prints 2 leading space on the third line.\n",
    "#              5-2 is 3 ,so print 3 astrik on 3 line\n",
    "#When i is 3, i is 3, so it prints  leading spaces on the fourth line.\n",
    " #            5-3 is 2 ,so print 2 astrik on 4 line\n",
    "#When i is 4, i is 4, so it prints 4 leading space on the fifth line.\n",
    "#              5-4 is 1 ,so print 1 astrik on 5 line\n",
    "#When i is 5, i is 5, so it prints 5 leading space on the fifth line.\n",
    "#              5-5 is 0 ,so print no astrik on 5 line\n",
    "\n",
    "#This is how the (i) expression controls the number ofleading space printed on each line, \n",
    "\n",
    "#This is how the (5-1) expression controls the number of astrik  printed on each line, with the number substracting by 1 with each iteration of the outer loop\n"
   ]
  },
  {
   "cell_type": "code",
   "execution_count": 88,
   "id": "9b628eec",
   "metadata": {},
   "outputs": [
    {
     "name": "stdout",
     "output_type": "stream",
     "text": [
      "* * * \n",
      "  * * \n",
      "    * \n",
      "      \n",
      "        \n"
     ]
    }
   ],
   "source": [
    "for i in range(5):\n",
    "    # Print leading spaces\n",
    "    for j in range(i):         # Adjusted the range here\n",
    "        print(\" \", end=' ')\n",
    "\n",
    "    # Print asterisks\n",
    "    for j in range(5 - i - 2):   # Adjusted the range here\n",
    "        print(\"*\", end=' ')\n",
    "\n",
    "    print()"
   ]
  },
  {
   "cell_type": "code",
   "execution_count": 116,
   "id": "d600945b",
   "metadata": {},
   "outputs": [
    {
     "name": "stdout",
     "output_type": "stream",
     "text": [
      "      * \n",
      "    * * \n",
      "  * * * \n",
      "* * * * \n",
      "* * * * * \n"
     ]
    }
   ],
   "source": [
    "\n",
    "    for i in range(5):\n",
    "        # Print leading spaces\n",
    "        for j in range(5 - i-2):        \n",
    "            print(\" \", end=' ')         \n",
    "        \n",
    "        # Print asterisks\n",
    "        for j in range(1+i):           \n",
    "            print(\"*\", end=' ')\n",
    "        \n",
    "        print()\n",
    "        \n",
    "        \n",
    "# The expression (5 - i-2)is used to control the number leading space remain on on each line from left side \n",
    "# The expression (i + 1) )is used to control the number astrik printed  on each line. \n",
    "\n",
    "#Here's how it works for each value of i:\n",
    "\n",
    "#When i is 0,( 5 - i-2  )is 3, so it prints 3 leading space on the first line.\n",
    "#              1+ 0 is 1 ,so print 1 astrik on first line\n",
    "#When i is 1, (5 - i-2) is 2, so it prints 4 leading space on the second line.\n",
    " #             1+ 1 is 2 ,so print 2 astrik on 2 line\n",
    "#When i is 2, (5 - i-2) is 1, so it prints 3leading space on the third line.\n",
    "#              1+ 2 is 3 ,so print 3 astrik on 3 line\n",
    "#When i is 3,( 5 - i-2) is 0, so it not  prints  leading spaces on the fourth line.\n",
    " #             1+ 3 is 4 ,so print 4 astrik on 4 line\n",
    "#When i is 4,( 5 - i-2) is -1, so it not prints leading space on the fifth line.\n",
    "#              1+ 4 is 5 ,so print 5 astrik on 5 line\n",
    "\n",
    "#This is how the 5 - i expression controls the number ofleading space printed on each line, with the number decreasing by 2 with each iteration of the outer loop.\n",
    "\n",
    "#This is how the 1+i expression controls the number of astrik  printed on each line, with the number adding  by 1 with each iteration of the outer loop\n"
   ]
  },
  {
   "cell_type": "code",
   "execution_count": 84,
   "id": "ea5eeb2c",
   "metadata": {},
   "outputs": [
    {
     "name": "stdout",
     "output_type": "stream",
     "text": [
      "entre number :5\n",
      "    * \n",
      "  * * \n",
      "* * * \n",
      "* * * * \n",
      "* * * * * \n"
     ]
    }
   ],
   "source": [
    "rows = int(input ('entre number :'))\n",
    "for i in range(rows):\n",
    "    for j in range(rows - i - 3):\n",
    "        print(\" \", end=' ')\n",
    "    for j in range(i + 1):             # +1 repersent no of astrik in first row \n",
    "        print(\"*\", end=' ')\n",
    "    print()\n"
   ]
  },
  {
   "cell_type": "code",
   "execution_count": 105,
   "id": "910d232c",
   "metadata": {},
   "outputs": [
    {
     "name": "stdout",
     "output_type": "stream",
     "text": [
      "        * \n",
      "      * * * \n",
      "    * * * * * \n",
      "  * * * * * * * \n",
      "* * * * * * * * * \n"
     ]
    }
   ],
   "source": [
    "for i in range(5):\n",
    "        # Print leading spaces\n",
    "        for j in range(5 - i - 1): \n",
    "            print(\" \", end=' ')\n",
    "        \n",
    "        # Print asterisks\n",
    "        for j in range(i * 2 + 1):              # *2 it double (i+1)pattern\n",
    "            print(\"*\", end=' ')\n",
    "        \n",
    "        # Move to the next line\n",
    "        print()  \n",
    "        \n",
    "        \n",
    "# The expression (5 - i-2)is used to control the number leading space remain on on each line from left side \n",
    "# The expression (i * 2 + 1))is used to control the number astrik printed  on each line and kept space remain before and after astrik. \n",
    "\n",
    "#Here's how it works for each value of i:\n",
    "\n",
    "#When i is 0,( 5 - i-1  )is 4, so it prints 4 leading space on the first line.\n",
    "#              (i * 2 + 1) is 1 ,so print 1 astrik on first line and remain 4 leading space on both side of astrik \n",
    "#When i is 1, (5 - i-1) is 3, so it prints 3 leading space on the second line.\n",
    " #             (i * 2 + 1) is 3 ,so print 3 astrik on second  line and remain 3 leading space on both side of astrik\n",
    "#When i is 2, (5 - i-1) is 2, so it prints 2leading space on the third line.\n",
    "#             (i * 2 + 1)is 5 ,so print 5 astrik on third  line and rmain 2 leading space on both side of astrik\n",
    "#When i is 3,( 5 - i-1) is 1, so it  prints 1 leading spaces on the fourth line.\n",
    " #             (i * 2 + 1) is 7 ,so print 7 astrik on 4 line and remain 1 leading space on both side \n",
    "#When i is 4,( 5 - i-1) is 0, so it not prints leading space on the fifth line.\n",
    "#             (i * 2 + 1)is 9 ,so print 9 astrik on 5 line and no remiin leading space on both side \n",
    "\n",
    "#This is how the (5 - i-1) expression controls the number ofleading space printed on each line, with the number decreasing by 1 with each iteration of the outer loop. \n",
    "#This is how the(i * 2 + 1): expression controls the number of astrik  printed on each line, with the number adding  by 1 with each iteration of the outer loop\n",
    "                        #      and leading space remain on both side of astrik"
   ]
  },
  {
   "cell_type": "code",
   "execution_count": 107,
   "id": "d27d43b4",
   "metadata": {},
   "outputs": [
    {
     "name": "stdout",
     "output_type": "stream",
     "text": [
      "entre number :5\n",
      "        * \n",
      "      * * * * \n",
      "    * * * * * * * \n",
      "  * * * * * * * * * * \n",
      "* * * * * * * * * * * * * \n"
     ]
    }
   ],
   "source": [
    "rows = int(input ('entre number :'))\n",
    "for i in range(rows):\n",
    "        # Print leading spaces\n",
    "        for j in range(rows - i - 1): \n",
    "            print(\" \", end=' ')\n",
    "        \n",
    "        # Print asterisks\n",
    "        for j in range(i*3 + 1):            # *3 it triple (i+1)pattern\n",
    "            print(\"*\", end=' ')\n",
    "        \n",
    "        # Move to the next line\n",
    "        print()        \n",
    "                       \n",
    "                       \n"
   ]
  },
  {
   "cell_type": "code",
   "execution_count": 109,
   "id": "6d31166a",
   "metadata": {},
   "outputs": [
    {
     "name": "stdout",
     "output_type": "stream",
     "text": [
      "  * * * * * \n",
      "    * * * \n",
      "      * \n",
      "        \n",
      "          \n"
     ]
    }
   ],
   "source": [
    "for i in range(5):\n",
    "        # Print leading spaces\n",
    "        for j in range(i): \n",
    "            print(\" \", end=' ')\n",
    "        \n",
    "        # Print asterisks\n",
    "        for j in range(5-i*2):                    # *2 is double the (i+1)pattern\n",
    "            print(\"*\", end=' ')\n",
    "        \n",
    "        # Move to the next line\n",
    "        print()  \n",
    "        \n",
    "\n",
    "#       \n",
    "# The expression (i+1)is used to control the number leading space remain on on each line from left side \n",
    "# The expression ((5-i*2)is used to control the number astrik printed  on each line and kept space remain before and after astrik. \n",
    "\n",
    "#Here's how it works for each value of i:\n",
    "\n",
    "#When i is 0,(i)is 0, so it no  prints leading space on the first line.\n",
    "#             ( 5-i*2) is 5 ,so print 5 astrik on first line and no remain  leading space on both side of astrik \n",
    "#When i is 1, (i) is 1, so it prints 1 leading space on the second line.\n",
    " #             (5-i*2) is 3 ,so print 3 astrik on second  line and remain 1 leading space on both side of astrik\n",
    "#When i is 2, (i) is 2, so it prints 2leading space on the third line.\n",
    "#             (5-i*2)is 1 ,so print 1 astrik on third  line and rmain 2 leading space on both side of astrik\n",
    "#When i is 3,(i) is 3, so it  prints 3 leading spaces on the fourth line.\n",
    " #             (5-i*2) is -1 ,so print no astrik on  line and no  remain  leading space on both side \n",
    "\n",
    "\n",
    "#This is how the (5 - i-1) expression controls the number ofleading space printed on each line, with the number decreasing by 1 with each iteration of the outer loop. \n",
    "#This is how the(i * 2 + 1): expression controls the number of astrik  printed on each line, with the number adding  by 1 with each iteration of the outer loop\n",
    "                        #      and leading space remain on both side of astrik\n",
    "    "
   ]
  },
  {
   "cell_type": "code",
   "execution_count": 30,
   "id": "2245e3b9",
   "metadata": {},
   "outputs": [
    {
     "name": "stdout",
     "output_type": "stream",
     "text": [
      "    *\n",
      "   ***\n",
      "  *****\n",
      " *******\n",
      "*********\n"
     ]
    }
   ],
   "source": [
    "for i in range(5):\n",
    "        spaces = ' ' * (5 - i - 1)\n",
    "        stars = '*' * (2 * i + 1)                     \n",
    "        print(spaces + stars)\n"
   ]
  },
  {
   "cell_type": "code",
   "execution_count": 110,
   "id": "48af694d",
   "metadata": {},
   "outputs": [
    {
     "name": "stdout",
     "output_type": "stream",
     "text": [
      "* \n",
      "* * \n",
      "* * * \n",
      "* * * * \n",
      "* * * * * \n"
     ]
    }
   ],
   "source": [
    "row = 1\n",
    "\n",
    "while row <= 5:\n",
    "    column = 1               \n",
    "\n",
    "    while column <= row:\n",
    "        print(\"*\", end=\" \")\n",
    "        column += 1\n",
    "\n",
    "    print()  # Move to the next line after each row\n",
    "    row += 1\n"
   ]
  },
  {
   "cell_type": "markdown",
   "id": "cb3b7551",
   "metadata": {},
   "source": [
    "# Nested Loops for Hierarchical Data:\n",
    "\n",
    "Same as "
   ]
  },
  {
   "cell_type": "code",
   "execution_count": 118,
   "id": "860fc3bd",
   "metadata": {},
   "outputs": [
    {
     "name": "stdout",
     "output_type": "stream",
     "text": [
      "fruits\n",
      "- apple\n",
      "- banana\n",
      "\n",
      "colors\n",
      "- red\n",
      "- yellow\n",
      "\n"
     ]
    }
   ],
   "source": [
    "#Nested Loops for Hierarchical Data:\n",
    "\n",
    "data = {'fruits': ['apple', 'banana'], 'colors': ['red', 'yellow']}\n",
    "for category, items in data.items():\n",
    "    print(category)\n",
    "    for item in items:\n",
    "        print('-', item)\n",
    "    print()"
   ]
  },
  {
   "cell_type": "code",
   "execution_count": 119,
   "id": "7dbce4b0",
   "metadata": {},
   "outputs": [
    {
     "name": "stdout",
     "output_type": "stream",
     "text": [
      "fruits\n",
      "- apple\n",
      "- banana\n",
      "colors\n",
      "- red\n",
      "- yellow\n"
     ]
    }
   ],
   "source": [
    "data = {'fruits': ['apple', 'banana'], 'colors': ['red', 'yellow']}\n",
    "categories = list(data.keys())  # Get a list of category names\n",
    "\n",
    "i = 0  # Initialize index for categories\n",
    "\n",
    "while i < len(categories):\n",
    "    category = categories[i]\n",
    "    print(category)\n",
    "    \n",
    "    items = data[category]\n",
    "    j = 0  # Initialize index for items\n",
    "    \n",
    "    while j < len(items):\n",
    "        item = items[j]\n",
    "        print('-', item)\n",
    "        j += 1  # Move to the next item\n",
    "    i+=1"
   ]
  },
  {
   "cell_type": "code",
   "execution_count": 123,
   "id": "0be3f7f5",
   "metadata": {},
   "outputs": [
    {
     "name": "stdout",
     "output_type": "stream",
     "text": [
      "fruits\n",
      "- m\n",
      "- a\n",
      "- n\n",
      "- g\n",
      "- o\n",
      "test\n",
      "- s\n",
      "- w\n",
      "- e\n",
      "- e\n",
      "- t\n"
     ]
    }
   ],
   "source": [
    "data = { 'fruits' : \"mango\",\"test\" : 'sweet'}\n",
    "\n",
    "for key,value in data.items():\n",
    "    print(key)\n",
    "    for v in value:\n",
    "        print('-',v)\n",
    "    "
   ]
  },
  {
   "cell_type": "code",
   "execution_count": 124,
   "id": "26fc471c",
   "metadata": {},
   "outputs": [
    {
     "name": "stdout",
     "output_type": "stream",
     "text": [
      "fruits\n",
      "- mango\n",
      "test\n",
      "- sweet\n"
     ]
    }
   ],
   "source": [
    "data = { 'fruits' : [\"mango\"],\"test\" : ['sweet']}\n",
    "\n",
    "for key,value in data.items():\n",
    "    print(key)\n",
    "    for v in value:\n",
    "        print('-',v)\n",
    "    "
   ]
  },
  {
   "cell_type": "code",
   "execution_count": 125,
   "id": "8b4b6dba",
   "metadata": {},
   "outputs": [
    {
     "name": "stdout",
     "output_type": "stream",
     "text": [
      "fruits\n",
      "- mango\n",
      "test\n",
      "- sweet\n"
     ]
    }
   ],
   "source": [
    "data = {'fruits': [\"mango\"], \"test\": ['sweet']}\n",
    "keys = list(data.keys())  # Get a list of keys\n",
    "\n",
    "i = 0  # Initialize i to 0\n",
    "\n",
    "while i < len(keys):\n",
    "    key = keys[i]\n",
    "    print(key)\n",
    "    \n",
    "    values = data[key]  # Get the list of values associated with the key\n",
    "    \n",
    "    j = 0  # Initialize j to 0\n",
    "    while j < len(values):\n",
    "        value = values[j]\n",
    "        print('-', value)\n",
    "        j += 1\n",
    "    \n",
    "    i += 1"
   ]
  },
  {
   "cell_type": "code",
   "execution_count": 126,
   "id": "2093c2f4",
   "metadata": {},
   "outputs": [
    {
     "name": "stdout",
     "output_type": "stream",
     "text": [
      "* fruits ['mango']\n",
      "- mango\n",
      "& f\n",
      "& r\n",
      "& u\n",
      "& i\n",
      "& t\n",
      "& s\n",
      "* test ['sweet']\n",
      "- sweet\n",
      "& t\n",
      "& e\n",
      "& s\n",
      "& t\n"
     ]
    }
   ],
   "source": [
    "data = { 'fruits' : [\"mango\"],\"test\" : ['sweet']}\n",
    "\n",
    "for key,value in data.items():\n",
    "    print('*',key,value)\n",
    "    for v in value:\n",
    "        print('-',v)\n",
    "    for k in key:\n",
    "        print('&',k)\n",
    "    \n"
   ]
  },
  {
   "cell_type": "markdown",
   "id": "e164d8d3",
   "metadata": {},
   "source": [
    "###  While loops\n",
    "\n",
    "- in numerical datatype we iterate element by direct applying condition\n",
    "- if when only number are iterate sometime we not consider list /tuple/\n",
    "syntax-1 = \n",
    "    i = 0\n",
    "    while i < 5:\n",
    "         print(i,end = \" \")\n",
    "         stoping cond\n",
    "\n",
    "- if we iterate number element through list / tuples \n",
    " syntax-3 = syntax3 =  while i operator condn such as (len(l)/other condition):\n",
    "            print(i)\n",
    "            condition stoping         # thses syntax give index positionof ele           \n",
    " \n",
    "- but incase other than numerical datatype (string , list/tuples /dictionary [contain diff dtypres] we can iterate elemnt by iterating thruogh there index position. thsee method also use in numerical datatypes.\n",
    "\n",
    "l= [  ]\n",
    "i = 0\n",
    " syntax2 =  while i operator len(l):\n",
    "            x = l[i]\n",
    "            print(l)\n",
    "            condition stoping            # thses syntax give element \n",
    "            \n",
    "  syntax3 =  while i operator len(--):\n",
    "            print(i)\n",
    "            condition stoping         # thses syntax give index positionof ele           "
   ]
  },
  {
   "cell_type": "markdown",
   "id": "926b7ed9",
   "metadata": {},
   "source": [
    "###  Python for loop  using the zip () function for parallel iteration\n",
    "\n",
    "zip() function for parallel iteration, which means iterating through multiple iterables simultaneously. This is particularly useful when you have multiple lists or sequences of data and want to process corresponding elements together. "
   ]
  },
  {
   "cell_type": "code",
   "execution_count": 127,
   "id": "d395e86b",
   "metadata": {},
   "outputs": [
    {
     "name": "stdout",
     "output_type": "stream",
     "text": [
      "apple: $1.0\n",
      "banana: $0.5\n",
      "cherry: $2.0\n"
     ]
    }
   ],
   "source": [
    "fruits = ['apple', 'banana', 'cherry']\n",
    "prices = [1.0, 0.5, 2.0]\n",
    "\n",
    "for fruit, price in zip(fruits, prices):\n",
    "    print(f'{fruit}: ${price}')"
   ]
  },
  {
   "cell_type": "code",
   "execution_count": null,
   "id": "12f2ef0f",
   "metadata": {},
   "outputs": [],
   "source": []
  },
  {
   "cell_type": "markdown",
   "id": "f3312961",
   "metadata": {},
   "source": [
    "### Python while  loop  using the zip () function for parallel iteration\n",
    "\n",
    "Using a while loop with the zip() function for parallel iteration in Python is not common because zip() is typically used in conjunction with for loops to iterate over multiple sequences in parallel. However, if you want to achieve parallel iteration using a while loop, you can do so by manually incrementing an index variable. "
   ]
  },
  {
   "cell_type": "code",
   "execution_count": 128,
   "id": "1e4a8a26",
   "metadata": {},
   "outputs": [
    {
     "name": "stdout",
     "output_type": "stream",
     "text": [
      "1 a\n",
      "2 b\n",
      "3 c\n"
     ]
    }
   ],
   "source": [
    "list1 = [1, 2, 3]\n",
    "list2 = ['a', 'b', 'c']\n",
    "\n",
    "i = 0  # Initialize an index variable\n",
    "\n",
    "while i < len(list1) and i < len(list2):\n",
    "    element1 = list1[i]\n",
    "    element2 = list2[i]\n",
    "    \n",
    "    print(element1, element2)\n",
    "    \n",
    "    i += 1"
   ]
  }
 ],
 "metadata": {
  "kernelspec": {
   "display_name": "Python 3 (ipykernel)",
   "language": "python",
   "name": "python3"
  },
  "language_info": {
   "codemirror_mode": {
    "name": "ipython",
    "version": 3
   },
   "file_extension": ".py",
   "mimetype": "text/x-python",
   "name": "python",
   "nbconvert_exporter": "python",
   "pygments_lexer": "ipython3",
   "version": "3.10.9"
  }
 },
 "nbformat": 4,
 "nbformat_minor": 5
}
