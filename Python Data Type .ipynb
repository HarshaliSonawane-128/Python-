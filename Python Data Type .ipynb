{
 "cells": [
  {
   "cell_type": "markdown",
   "id": "9ab865d5",
   "metadata": {},
   "source": [
    "# Data Types "
   ]
  },
  {
   "cell_type": "markdown",
   "id": "d903b16c",
   "metadata": {},
   "source": [
    "###  String Dtype"
   ]
  },
  {
   "cell_type": "markdown",
   "id": "51208a9f",
   "metadata": {},
   "source": [
    "######  Escape character"
   ]
  },
  {
   "cell_type": "code",
   "execution_count": null,
   "id": "580c28f8",
   "metadata": {},
   "outputs": [],
   "source": [
    "print ('''I am so \"happy\" here''')"
   ]
  },
  {
   "cell_type": "code",
   "execution_count": null,
   "id": "d1a2292b",
   "metadata": {},
   "outputs": [],
   "source": [
    "print(\"hello\\nindia\")"
   ]
  },
  {
   "cell_type": "code",
   "execution_count": null,
   "id": "489ae448",
   "metadata": {},
   "outputs": [],
   "source": [
    "\"it\\'s alright'\""
   ]
  },
  {
   "cell_type": "code",
   "execution_count": null,
   "id": "ea2ee9d5",
   "metadata": {},
   "outputs": [],
   "source": [
    "print(\"i am\\\"harshali\\\"\")"
   ]
  },
  {
   "cell_type": "code",
   "execution_count": null,
   "id": "5672f47e",
   "metadata": {},
   "outputs": [],
   "source": [
    "print(\"hello\\\\india\")"
   ]
  },
  {
   "cell_type": "code",
   "execution_count": null,
   "id": "d6cf2f12",
   "metadata": {},
   "outputs": [],
   "source": [
    "print(\"hello\\rindia\")"
   ]
  },
  {
   "cell_type": "code",
   "execution_count": null,
   "id": "d902b410",
   "metadata": {},
   "outputs": [],
   "source": [
    "print(\"hello\\bindia\")"
   ]
  },
  {
   "cell_type": "code",
   "execution_count": null,
   "id": "40be746a",
   "metadata": {},
   "outputs": [],
   "source": [
    "print(\"hello\\\\:india\")"
   ]
  },
  {
   "cell_type": "markdown",
   "id": "26a95cff",
   "metadata": {},
   "source": [
    "#####  string /output formating "
   ]
  },
  {
   "cell_type": "code",
   "execution_count": null,
   "id": "27d9515c",
   "metadata": {},
   "outputs": [],
   "source": [
    "Name = 'harshali'\n",
    "age = 23"
   ]
  },
  {
   "cell_type": "code",
   "execution_count": null,
   "id": "e331897d",
   "metadata": {},
   "outputs": [],
   "source": [
    "f\"my name is {Name} amd i am {age} old\""
   ]
  },
  {
   "cell_type": "code",
   "execution_count": null,
   "id": "5fc7c781",
   "metadata": {},
   "outputs": [],
   "source": [
    "\n"
   ]
  },
  {
   "cell_type": "code",
   "execution_count": null,
   "id": "73dadfbf",
   "metadata": {},
   "outputs": [],
   "source": [
    "print(F\"my name is {'priya'} and i am {23} years old\")"
   ]
  },
  {
   "cell_type": "code",
   "execution_count": null,
   "id": "919909c5",
   "metadata": {},
   "outputs": [],
   "source": []
  },
  {
   "cell_type": "code",
   "execution_count": null,
   "id": "c1a4baef",
   "metadata": {},
   "outputs": [],
   "source": [
    "print('my name is ' , Name , 'and age is' ,age)"
   ]
  },
  {
   "cell_type": "markdown",
   "id": "c2b794a9",
   "metadata": {},
   "source": [
    "##### Sring Method"
   ]
  },
  {
   "cell_type": "code",
   "execution_count": null,
   "id": "55e5d25e",
   "metadata": {},
   "outputs": [],
   "source": [
    "str.__doc__"
   ]
  },
  {
   "cell_type": "code",
   "execution_count": null,
   "id": "c289dfe4",
   "metadata": {},
   "outputs": [],
   "source": [
    "A = 'Harshali'"
   ]
  },
  {
   "cell_type": "code",
   "execution_count": null,
   "id": "4ef9b499",
   "metadata": {},
   "outputs": [],
   "source": [
    "print(A.upper())\n",
    "print(A .lower())\n",
    "print(A .replace('H','V'))\n",
    "print(A .find('ar'))\n",
    "print(A .split())\n",
    "print(A .capitalize())\n",
    "print(A .casefold())\n",
    "print(A .encode())\n",
    "print(A .endswith('i'))\n",
    "print(A .expandtabs(2))"
   ]
  },
  {
   "cell_type": "code",
   "execution_count": null,
   "id": "cece45ba",
   "metadata": {},
   "outputs": [],
   "source": [
    "\n",
    "print(A.isalnum())\n",
    "print(A.isalpha())\n",
    "print(A.isascii())\n",
    "print(A.isdecimal())\n",
    "print(A.isdigit())\n",
    "print(A.isidentifier())\n",
    "print(A.islower())\n",
    "print(A.isupper())\n",
    "print(A.isnumeric())\n",
    "print(B.isspace())\n",
    "print(A.istitle())\n"
   ]
  },
  {
   "cell_type": "code",
   "execution_count": null,
   "id": "b1ef90bc",
   "metadata": {},
   "outputs": [],
   "source": [
    "print(B.title())\n",
    "print(A.swapcase())\n",
    "print(B.strip())\n",
    "print(B.rstrip())\n",
    "print(B.lstrip())\n",
    "print(A.splitlines())\n",
    "print(B.splitlines())\n",
    "print(B.split())\n",
    "print(B.rsplit())\n"
   ]
  },
  {
   "cell_type": "code",
   "execution_count": null,
   "id": "76df6608",
   "metadata": {},
   "outputs": [],
   "source": [
    "B = 'MY Dream will completing ?'"
   ]
  },
  {
   "cell_type": "code",
   "execution_count": null,
   "id": "e22dc8c2",
   "metadata": {},
   "outputs": [],
   "source": [
    "print(len(A))\n",
    "print(A.count('a'))                                                        #count(substring, start, end)\n",
    "print(A.center(12, '*'))                                                   #center(width, fillchar)\n",
    "print(A.rjust(12, '*'))\n",
    "print(A.index('a'))                                                        #index(substring, start, end)\n",
    "print(A.rindex('a'))\n",
    "print(A.rfind('a'))\n",
    "print('my name is {}'.format(A) )\n",
    "print(B.partition(\"%\"))\n",
    "print(B.rpartition(\"%\"))\n",
    "print(B.startswith('H'))\n",
    "print(B.startswith('MY'))\n"
   ]
  },
  {
   "cell_type": "code",
   "execution_count": null,
   "id": "ead98eb3",
   "metadata": {},
   "outputs": [],
   "source": [
    "C = str.maketrans('Hali','@123')\n",
    "print(A.translate(C))"
   ]
  },
  {
   "cell_type": "code",
   "execution_count": null,
   "id": "bd108129",
   "metadata": {},
   "outputs": [],
   "source": [
    "D = ['tina','mona','neha']\n",
    "print(\" \".join(D))"
   ]
  },
  {
   "cell_type": "code",
   "execution_count": null,
   "id": "9df071e7",
   "metadata": {},
   "outputs": [],
   "source": [
    "D = ['tina','mona','neha' ]\n",
    "print(\" IS GOOD GIRL  ,  \". join(D))"
   ]
  },
  {
   "cell_type": "markdown",
   "id": "c7c7167a",
   "metadata": {},
   "source": [
    "#### print and   INPUT function\n"
   ]
  },
  {
   "cell_type": "code",
   "execution_count": null,
   "id": "5a881791",
   "metadata": {},
   "outputs": [],
   "source": [
    "input('entre your name')"
   ]
  },
  {
   "cell_type": "code",
   "execution_count": null,
   "id": "6b95954e",
   "metadata": {},
   "outputs": [],
   "source": [
    "print(int(input('total marks')))"
   ]
  },
  {
   "cell_type": "code",
   "execution_count": null,
   "id": "f48db021",
   "metadata": {},
   "outputs": [],
   "source": [
    "int(input('marks'))"
   ]
  },
  {
   "cell_type": "code",
   "execution_count": null,
   "id": "d09c713e",
   "metadata": {},
   "outputs": [],
   "source": [
    "A = input('entre name')\n",
    "B = int(input('age'))\n",
    "\n",
    "print('may name is' , A , 'and i am ',B ,\"year old\")"
   ]
  },
  {
   "cell_type": "markdown",
   "id": "61ab6c6a",
   "metadata": {},
   "source": [
    "### List Methods"
   ]
  },
  {
   "cell_type": "code",
   "execution_count": null,
   "id": "1c04c2f6",
   "metadata": {},
   "outputs": [],
   "source": [
    "A = [3, 1, 4, 1, 5]\n",
    "print(max(A))\n",
    "print(min(A))\n",
    "print(sum(A))\n"
   ]
  },
  {
   "cell_type": "code",
   "execution_count": null,
   "id": "41392fc9",
   "metadata": {},
   "outputs": [],
   "source": [
    "a = 3 in A\n",
    "b = 4 not in A\n",
    "\n",
    "print(a)\n",
    "print(b)"
   ]
  },
  {
   "cell_type": "code",
   "execution_count": null,
   "id": "c206b681",
   "metadata": {},
   "outputs": [],
   "source": [
    "A.sort()\n",
    "print(A)"
   ]
  },
  {
   "cell_type": "code",
   "execution_count": null,
   "id": "3f2bfbe2",
   "metadata": {},
   "outputs": [],
   "source": [
    "A.sort(reverse = True)\n",
    "print (A)"
   ]
  },
  {
   "cell_type": "code",
   "execution_count": null,
   "id": "8ae162ce",
   "metadata": {},
   "outputs": [],
   "source": [
    "A.reverse()\n",
    "print(A)"
   ]
  },
  {
   "cell_type": "code",
   "execution_count": null,
   "id": "3198038b",
   "metadata": {},
   "outputs": [],
   "source": [
    "A.append('good')\n",
    "print(A)"
   ]
  },
  {
   "cell_type": "code",
   "execution_count": null,
   "id": "238efead",
   "metadata": {},
   "outputs": [],
   "source": [
    "A.extend(['00' ,'hellow'])\n",
    "print(A)"
   ]
  },
  {
   "cell_type": "code",
   "execution_count": null,
   "id": "8c3620de",
   "metadata": {},
   "outputs": [],
   "source": [
    "A.insert(0,'hii')\n",
    "print(A)"
   ]
  },
  {
   "cell_type": "code",
   "execution_count": null,
   "id": "41a4131e",
   "metadata": {},
   "outputs": [],
   "source": [
    "A.remove(1)\n",
    "print(A)"
   ]
  },
  {
   "cell_type": "code",
   "execution_count": null,
   "id": "7f4af119",
   "metadata": {},
   "outputs": [],
   "source": [
    "A.pop(6)\n",
    "print(A)"
   ]
  },
  {
   "cell_type": "code",
   "execution_count": null,
   "id": "79fab441",
   "metadata": {},
   "outputs": [],
   "source": [
    "del A[2]\n",
    "print(A)"
   ]
  },
  {
   "cell_type": "code",
   "execution_count": null,
   "id": "278fd42e",
   "metadata": {},
   "outputs": [],
   "source": [
    "del A[1:3]\n",
    "print(A)"
   ]
  },
  {
   "cell_type": "code",
   "execution_count": null,
   "id": "0f34c742",
   "metadata": {},
   "outputs": [],
   "source": [
    "A.count(5)"
   ]
  },
  {
   "cell_type": "code",
   "execution_count": null,
   "id": "837c033f",
   "metadata": {},
   "outputs": [],
   "source": [
    "len(A)"
   ]
  },
  {
   "cell_type": "code",
   "execution_count": null,
   "id": "e3d77a51",
   "metadata": {},
   "outputs": [],
   "source": [
    "shallow_copy_of_A = A.copy()\n",
    "print(shallow_copy_of_A)"
   ]
  },
  {
   "cell_type": "code",
   "execution_count": null,
   "id": "3e63ed8b",
   "metadata": {},
   "outputs": [],
   "source": [
    "D = iter(A)\n",
    "print(D)"
   ]
  },
  {
   "cell_type": "code",
   "execution_count": null,
   "id": "3782beb6",
   "metadata": {},
   "outputs": [],
   "source": [
    "A.clear()\n",
    "print(A)"
   ]
  },
  {
   "cell_type": "markdown",
   "id": "52e9f4e2",
   "metadata": {},
   "source": [
    "##### list cOMPRESSION"
   ]
  },
  {
   "cell_type": "code",
   "execution_count": null,
   "id": "64311058",
   "metadata": {},
   "outputs": [],
   "source": [
    "R= [i for i in  range(2,8) if i%2 == 0]\n",
    "print(R)"
   ]
  },
  {
   "cell_type": "code",
   "execution_count": null,
   "id": "8f9c79d5",
   "metadata": {},
   "outputs": [],
   "source": [
    "A = [1,2,3,4,5]\n",
    "B = [x**2 for x in A]\n",
    "print(B)"
   ]
  },
  {
   "cell_type": "markdown",
   "id": "091a856f",
   "metadata": {},
   "source": [
    "###  Tuples Methods "
   ]
  },
  {
   "cell_type": "code",
   "execution_count": null,
   "id": "8711ade5",
   "metadata": {},
   "outputs": [],
   "source": [
    "a = (1,2,3,3,5)\n",
    "print(a)"
   ]
  },
  {
   "cell_type": "code",
   "execution_count": null,
   "id": "b8476f4d",
   "metadata": {},
   "outputs": [],
   "source": [
    "a.count(3)"
   ]
  },
  {
   "cell_type": "code",
   "execution_count": null,
   "id": "888927ac",
   "metadata": {},
   "outputs": [],
   "source": [
    "a.index(3)"
   ]
  },
  {
   "cell_type": "code",
   "execution_count": null,
   "id": "082e0267",
   "metadata": {},
   "outputs": [],
   "source": [
    "len(a)"
   ]
  },
  {
   "cell_type": "markdown",
   "id": "4c3f9161",
   "metadata": {},
   "source": [
    "### Dictonary "
   ]
  },
  {
   "cell_type": "code",
   "execution_count": null,
   "id": "300069f4",
   "metadata": {},
   "outputs": [],
   "source": [
    "#Accesing dictonary and it element that present in it\n",
    "a = {\"name\":'hina',\n",
    "    \"marks\":123,\n",
    "    1:\"$\"}\n",
    "print(a)\n",
    "print(a.get(1))\n",
    "print(a[\"name\"])"
   ]
  },
  {
   "cell_type": "code",
   "execution_count": null,
   "id": "726b46cd",
   "metadata": {},
   "outputs": [],
   "source": [
    "# changing values of key \n",
    "a['name'] = 'tina'\n",
    "print(a)\n",
    "print(a['name'] == 'tina')"
   ]
  },
  {
   "cell_type": "code",
   "execution_count": null,
   "id": "e897a18c",
   "metadata": {},
   "outputs": [],
   "source": [
    "a.update({1:'@@@@'})\n",
    "a"
   ]
  },
  {
   "cell_type": "code",
   "execution_count": null,
   "id": "f56d3afa",
   "metadata": {},
   "outputs": [],
   "source": [
    "# adding key:value pair in it \n",
    "a['div'] = 'A'\n",
    "a"
   ]
  },
  {
   "cell_type": "code",
   "execution_count": null,
   "id": "c2b80673",
   "metadata": {},
   "outputs": [],
   "source": [
    "A = {'name':'nita'}                                                     # Initialize an empty dictionary\n",
    "value = A.setdefault(\"b\", 42)                             # Insert \"b\" with a default value of 42 \n",
    "#value = A.setdefault(\"b\", 42 ,'name',2)                  # setdefault expected at most 2 arguments, got 4\n",
    "\n",
    "print(value)                                              # This will print 42\n",
    "print(A)"
   ]
  },
  {
   "cell_type": "code",
   "execution_count": null,
   "id": "de99ad6a",
   "metadata": {},
   "outputs": [],
   "source": [
    "# removing element from dictonary \n",
    "\n",
    "print(a.pop(1))                # remove key 1 value\n",
    "print(a.popitem())             # remove last key:value pair\n"
   ]
  },
  {
   "cell_type": "code",
   "execution_count": null,
   "id": "a5a7bc2c",
   "metadata": {},
   "outputs": [],
   "source": [
    "print(a)"
   ]
  },
  {
   "cell_type": "code",
   "execution_count": null,
   "id": "22242200",
   "metadata": {},
   "outputs": [],
   "source": [
    "print(a.clear())             # remove all key:value pair in dictonary "
   ]
  },
  {
   "cell_type": "code",
   "execution_count": null,
   "id": "4db88295",
   "metadata": {},
   "outputs": [],
   "source": [
    "a"
   ]
  },
  {
   "cell_type": "code",
   "execution_count": null,
   "id": "b787f8c1",
   "metadata": {},
   "outputs": [],
   "source": [
    "a = {1 :'abc'}"
   ]
  },
  {
   "cell_type": "code",
   "execution_count": null,
   "id": "7fbcc253",
   "metadata": {},
   "outputs": [],
   "source": [
    "del a                     # deleate complete dictionary "
   ]
  },
  {
   "cell_type": "code",
   "execution_count": null,
   "id": "6f25f9ca",
   "metadata": {},
   "outputs": [],
   "source": [
    "print(a)"
   ]
  },
  {
   "cell_type": "code",
   "execution_count": null,
   "id": "a9f252a9",
   "metadata": {},
   "outputs": [],
   "source": [
    "###### pYTHON DICTONARY COM[PRESSION  = 2 way \n",
    "\n",
    "A = {i:i*i for i in range(9)}\n",
    "print(A)"
   ]
  },
  {
   "cell_type": "code",
   "execution_count": null,
   "id": "5157dd64",
   "metadata": {},
   "outputs": [],
   "source": [
    "A ={}\n",
    "for i in range (6):\n",
    "    A[i] = i*i\n",
    "print(A)"
   ]
  },
  {
   "cell_type": "code",
   "execution_count": null,
   "id": "824542c5",
   "metadata": {},
   "outputs": [],
   "source": [
    "B = {X:X**2 for X in range(4)}\n",
    "print(B)"
   ]
  },
  {
   "cell_type": "code",
   "execution_count": null,
   "id": "cea16979",
   "metadata": {},
   "outputs": [],
   "source": [
    "B = {}\n",
    "for x in range(6):\n",
    "    B[x] = x/6\n",
    "print(B)\n",
    "    "
   ]
  },
  {
   "cell_type": "code",
   "execution_count": null,
   "id": "9ae64270",
   "metadata": {},
   "outputs": [],
   "source": [
    "# Dictionary membership test \n",
    "\n",
    "C = {\"name\":'hina', \"marks\":123, 1:\"$\"}"
   ]
  },
  {
   "cell_type": "code",
   "execution_count": null,
   "id": "fd308211",
   "metadata": {},
   "outputs": [],
   "source": [
    "print(C)\n",
    "print(C['name'] == 'tina')\n",
    "print(1 in C)                                  # check key present in dic ,\n",
    "print('hina' in  C)                            # we do not direct check particular value which are present in  dic\n",
    "print(8 in C)"
   ]
  },
  {
   "cell_type": "code",
   "execution_count": null,
   "id": "23e5ad9f",
   "metadata": {},
   "outputs": [],
   "source": [
    "# iterating Through a dictionary \n",
    "\n",
    "C = {\"name\":'hina', \"marks\":123, 1:\"$\"}\n",
    "\n",
    "for i in C:\n",
    "    print(C[i])\n"
   ]
  },
  {
   "cell_type": "code",
   "execution_count": null,
   "id": "2825f297",
   "metadata": {},
   "outputs": [],
   "source": [
    "#Copy of dictonary \n",
    "A = C.copy()\n",
    "print(A)"
   ]
  },
  {
   "cell_type": "code",
   "execution_count": null,
   "id": "e5a33c77",
   "metadata": {},
   "outputs": [],
   "source": [
    "z = dict(C)\n",
    "print(z)"
   ]
  },
  {
   "cell_type": "code",
   "execution_count": null,
   "id": "6b16ff40",
   "metadata": {},
   "outputs": [],
   "source": [
    "# nested Dictionary "
   ]
  },
  {
   "cell_type": "code",
   "execution_count": null,
   "id": "762b8612",
   "metadata": {},
   "outputs": [],
   "source": [
    "MYFAMILY = { 'child-1' : {'name': 'tina', \"marks\":45},\n",
    "            'child-2' : {'name': 'tina', \"marks\":45}}\n",
    "print(MYFAMILY)"
   ]
  },
  {
   "cell_type": "code",
   "execution_count": null,
   "id": "d3e8b0cd",
   "metadata": {},
   "outputs": [],
   "source": [
    "student1 = {'name': 'tina', 'marks': 45}\n",
    "student2 = {'name': 'Neha', 'marks': 89}\n",
    "\n",
    "school = {1: student1, 2: student2}\n",
    "print(school)"
   ]
  },
  {
   "cell_type": "code",
   "execution_count": null,
   "id": "310db874",
   "metadata": {},
   "outputs": [],
   "source": [
    "print(school[1][\"name\"])"
   ]
  },
  {
   "cell_type": "markdown",
   "id": "c3d1e56d",
   "metadata": {},
   "source": [
    "### DiCTIONARY Built- in function \n",
    "the fromkeys() method is a built-in method in Python that is used to create a new dictionary with specified keys from a sequence (like a list, tuple, or range) and optionally, a default value for all the keys\n",
    "Here's the syntax:\n",
    "\n",
    "dict.fromkeys(seq, [value])\n",
    "\n",
    "seq: This is the sequence of keys that you want to create in the new dictionary.\n",
    "value (optional): This is the default value that will be assigned to all the keys in the new dictionary. \n",
    "\n",
    "If you don't provide a value, it will default to None."
   ]
  },
  {
   "cell_type": "code",
   "execution_count": null,
   "id": "35ce7645",
   "metadata": {},
   "outputs": [],
   "source": [
    "# Example 1: Create a dictionary with keys from a list\n",
    "keys = ['a', 'b', 'c']\n",
    "new_dict = dict.fromkeys(keys)\n",
    "print(new_dict)"
   ]
  },
  {
   "cell_type": "code",
   "execution_count": null,
   "id": "afe3a1eb",
   "metadata": {},
   "outputs": [],
   "source": [
    "keys = ['a', 'b', 'c']\n",
    "new_dict = dict.fromkeys(keys,('@'))\n",
    "print(new_dict)"
   ]
  },
  {
   "cell_type": "code",
   "execution_count": null,
   "id": "f6695d93",
   "metadata": {},
   "outputs": [],
   "source": [
    "# Example 2: Create a dictionary with keys from a tuple and a default value\n",
    "keys = ('x', 'y', 'z')\n",
    "values = \"bnm\"\n",
    "new_dict = dict.fromkeys(keys, values)\n",
    "print(new_dict)"
   ]
  },
  {
   "cell_type": "code",
   "execution_count": null,
   "id": "e165ab64",
   "metadata": {},
   "outputs": [],
   "source": [
    "C = {\"name\":'hina', \"marks\":123, 1:\"$\"}"
   ]
  },
  {
   "cell_type": "code",
   "execution_count": null,
   "id": "64879e2d",
   "metadata": {},
   "outputs": [],
   "source": [
    "print(C.items())\n",
    "print(C.keys())\n",
    "print(C.values())"
   ]
  },
  {
   "cell_type": "code",
   "execution_count": null,
   "id": "26ae297c",
   "metadata": {},
   "outputs": [],
   "source": [
    "A = {'name':'nita'}                                                     # Initialize an empty dictionary\n",
    "value = A.setdefault(\"b\", 42)                             # Insert \"b\" with a default value of 42 \n",
    "#value = A.setdefault(\"b\", 42 ,'name',2)                  # setdefault expected at most 2 arguments, got 4\n",
    "\n",
    "print(value)                                              # This will print 42\n",
    "print(A)"
   ]
  },
  {
   "cell_type": "code",
   "execution_count": null,
   "id": "fa7854b4",
   "metadata": {},
   "outputs": [],
   "source": [
    "my_dict = {'b': 2, 'a': 1, 'c': 3}\n",
    "\n",
    "sorted_keys = sorted(my_dict.keys())\n",
    "sorted_values = sorted(my_dict.values())\n",
    "\n",
    "print(sorted_values)\n",
    "print(sorted_keys)"
   ]
  },
  {
   "cell_type": "code",
   "execution_count": null,
   "id": "2005e2e3",
   "metadata": {},
   "outputs": [],
   "source": [
    "my_dict = {'a': False, 'b': False, 'c': True}\n",
    "result = any(my_dict.values())\n",
    "print(result) "
   ]
  },
  {
   "cell_type": "code",
   "execution_count": null,
   "id": "4dcb919e",
   "metadata": {},
   "outputs": [],
   "source": [
    "my_dict = {'a': True, 'b': True, 'c': False}\n",
    "result = all(my_dict.values())\n",
    "print(result) "
   ]
  },
  {
   "cell_type": "code",
   "execution_count": null,
   "id": "e39dd2bc",
   "metadata": {},
   "outputs": [],
   "source": [
    "print(len(my_dict))"
   ]
  },
  {
   "cell_type": "markdown",
   "id": "d5466d33",
   "metadata": {},
   "source": [
    "### SET"
   ]
  },
  {
   "cell_type": "code",
   "execution_count": null,
   "id": "874367f2",
   "metadata": {},
   "outputs": [],
   "source": [
    "# CREATING SET \n",
    "\n",
    "A = { 1,2,3,4}"
   ]
  },
  {
   "cell_type": "code",
   "execution_count": null,
   "id": "97e0d9a2",
   "metadata": {},
   "outputs": [],
   "source": [
    "# CREATING SET BY LIST ,TUPLES ,AND STRING  AND EMPTY SET == SET() FUNCTION\n",
    "\n",
    "my_list = [1, 2, 2, 3, 3, 4, 5, 5]\n",
    "my_set = set(my_list)\n",
    "print(my_set)\n",
    "\n",
    "my_string = \"hello\"\n",
    "my_set = set(my_string)\n",
    "print(my_set)"
   ]
  },
  {
   "cell_type": "code",
   "execution_count": null,
   "id": "1a81a842",
   "metadata": {},
   "outputs": [],
   "source": [
    "# Empty curly braces{} will make an empty dictionary  in Python.\n",
    "To make a set with out any elements,we use the set() function \n",
    "without any argument\n",
    "\n",
    "#A={}\n",
    "#print(type(A))   # error\n",
    "\n",
    "A = set()\n",
    "print(A)"
   ]
  },
  {
   "cell_type": "code",
   "execution_count": null,
   "id": "07777ad5",
   "metadata": {},
   "outputs": [],
   "source": [
    "A = set()\n",
    "print(type(A))"
   ]
  },
  {
   "cell_type": "markdown",
   "id": "785386ee",
   "metadata": {},
   "source": [
    "####  MODIFING SET \n",
    "WE CAN NOT ACCESS OR CHANGR SET BY USING INDEXING AND SLINSING INSTED OF THAT WE USE DIFFERENT FUNCTUION "
   ]
  },
  {
   "cell_type": "code",
   "execution_count": null,
   "id": "5b6edecf",
   "metadata": {},
   "outputs": [],
   "source": [
    "MY_SET = {1,2,3}"
   ]
  },
  {
   "cell_type": "code",
   "execution_count": null,
   "id": "75a08e6f",
   "metadata": {},
   "outputs": [],
   "source": [
    "MY_SET.add(4)               # add single object \n",
    "print(MY_SET)"
   ]
  },
  {
   "cell_type": "code",
   "execution_count": null,
   "id": "98b5a00b",
   "metadata": {},
   "outputs": [],
   "source": [
    "MY_SET.update([5,\"@\",'good'])               # add Multiple  object \n",
    "print(MY_SET)"
   ]
  },
  {
   "cell_type": "code",
   "execution_count": null,
   "id": "f16e116e",
   "metadata": {},
   "outputs": [],
   "source": [
    "MY_SET.update([6,7],{8,9})               # add Multiple  object \n",
    "print(MY_SET)"
   ]
  },
  {
   "cell_type": "markdown",
   "id": "c43c843c",
   "metadata": {},
   "source": [
    "##### Removing element of an set "
   ]
  },
  {
   "cell_type": "code",
   "execution_count": null,
   "id": "d1bfab8e",
   "metadata": {},
   "outputs": [],
   "source": [
    "MY_SET.remove(4)          #remove a single specified element from the set"
   ]
  },
  {
   "cell_type": "code",
   "execution_count": null,
   "id": "0e6f51bf",
   "metadata": {},
   "outputs": [],
   "source": [
    "MY_SET.discard(6)       #remove a single specified element from the set"
   ]
  },
  {
   "cell_type": "code",
   "execution_count": null,
   "id": "c4b7f581",
   "metadata": {},
   "outputs": [],
   "source": [
    "MY_SET.pop()           #element removed by pop() is not necessarily the \n",
    "                     #first or last element in the set; it's a random choice."
   ]
  },
  {
   "cell_type": "code",
   "execution_count": null,
   "id": "6d14235c",
   "metadata": {},
   "outputs": [],
   "source": [
    "print(MY_SET)"
   ]
  },
  {
   "cell_type": "code",
   "execution_count": null,
   "id": "a411f110",
   "metadata": {},
   "outputs": [],
   "source": [
    "MY_SET.clear() "
   ]
  },
  {
   "cell_type": "markdown",
   "id": "a6b40ccd",
   "metadata": {},
   "source": [
    "#### Python SET operation"
   ]
  },
  {
   "cell_type": "code",
   "execution_count": null,
   "id": "62dcebb5",
   "metadata": {},
   "outputs": [],
   "source": [
    "A= {1,2,3,4,5}\n",
    "B = {4,5,6,7,8}"
   ]
  },
  {
   "cell_type": "code",
   "execution_count": null,
   "id": "80253928",
   "metadata": {},
   "outputs": [],
   "source": [
    "print(A|B)         # UNION"
   ]
  },
  {
   "cell_type": "code",
   "execution_count": null,
   "id": "3041686c",
   "metadata": {},
   "outputs": [],
   "source": [
    "print(A&B)         #INTESECTION\n",
    "\n",
    "Result = A.intersection(B)\n",
    "print(Result)\n",
    "\n",
    "A.intersection_update(B)\n",
    "print(A)"
   ]
  },
  {
   "cell_type": "code",
   "execution_count": null,
   "id": "3718288a",
   "metadata": {},
   "outputs": [],
   "source": [
    "print(A-B)        # DIFFERENCE\n",
    "\n",
    "Result = A. difference(B)\n",
    "print(Result)\n",
    "\n",
    "A.difference_update(B)\n",
    "print(A)"
   ]
  },
  {
   "cell_type": "code",
   "execution_count": null,
   "id": "630dafea",
   "metadata": {},
   "outputs": [],
   "source": [
    "print(A^B)          # SET SYMMETRIC DIFFERENCE\n",
    "\n",
    "result = A.symmetric_difference(B)\n",
    "print(result)\n",
    "\n",
    "A.symmetric_difference_update(B)\n",
    "print(A)"
   ]
  },
  {
   "cell_type": "markdown",
   "id": "45d98aaa",
   "metadata": {},
   "source": [
    "#### SET Compression"
   ]
  },
  {
   "cell_type": "code",
   "execution_count": null,
   "id": "11bc8748",
   "metadata": {},
   "outputs": [],
   "source": [
    "my_list = [1, 2, 2, 3, 4, 5, 6, 6, 6, 7]\n",
    "\n",
    "B = set()  # Create an empty set\n",
    "\n",
    "# Using a loop to construct the output set\n",
    "for var in my_list:\n",
    "    if var % 2 == 0:\n",
    "        B.add(var)  # Use the add() method to add elements to the set\n",
    "\n",
    "print(B)\n"
   ]
  },
  {
   "cell_type": "code",
   "execution_count": null,
   "id": "841d9895",
   "metadata": {},
   "outputs": [],
   "source": [
    "callable(list)\n",
    "callable(set)"
   ]
  },
  {
   "cell_type": "code",
   "execution_count": null,
   "id": "87775730",
   "metadata": {},
   "outputs": [],
   "source": [
    "list = [1,2,33,33,4,4,5,5]\n",
    "B = set()\n",
    "\n",
    "set_com = {i for i in list if B%3 == 0}\n",
    "print (set_com)"
   ]
  },
  {
   "cell_type": "markdown",
   "id": "e52e6b52",
   "metadata": {},
   "source": [
    "#### set Membership test "
   ]
  },
  {
   "cell_type": "code",
   "execution_count": null,
   "id": "f67585c8",
   "metadata": {},
   "outputs": [],
   "source": [
    "myset = {'Apple' ,'Mango'}"
   ]
  },
  {
   "cell_type": "code",
   "execution_count": null,
   "id": "08a1e739",
   "metadata": {},
   "outputs": [],
   "source": [
    "print('A' in myset )"
   ]
  },
  {
   "cell_type": "code",
   "execution_count": null,
   "id": "4e8b82ea",
   "metadata": {},
   "outputs": [],
   "source": [
    "print('Mango' not in myset )"
   ]
  },
  {
   "cell_type": "markdown",
   "id": "958941e9",
   "metadata": {},
   "source": [
    "#### Iterating through set "
   ]
  },
  {
   "cell_type": "code",
   "execution_count": null,
   "id": "09c0f239",
   "metadata": {},
   "outputs": [],
   "source": [
    "my_set = {1, 2, 3, 4, 5}\n",
    "\n",
    "for item in my_set:\n",
    "    print(item)"
   ]
  },
  {
   "cell_type": "markdown",
   "id": "b6a90a4b",
   "metadata": {},
   "source": [
    "#### Python set method "
   ]
  },
  {
   "cell_type": "code",
   "execution_count": null,
   "id": "9513f3aa",
   "metadata": {},
   "outputs": [],
   "source": [
    "#union(): Returns the set of all elements that are in either of the sets.\n",
    "\n",
    "A = {1,2,3,4,5}\n",
    "B = {4,5,6,7,8}\n",
    "\n",
    "print(A.union(B))"
   ]
  },
  {
   "cell_type": "code",
   "execution_count": null,
   "id": "cdd25f80",
   "metadata": {},
   "outputs": [],
   "source": [
    "# isdisjoint(): Returns True if two sets have no common elements\n",
    "\n",
    "print(A.isdisjoint(B))"
   ]
  },
  {
   "cell_type": "code",
   "execution_count": null,
   "id": "62d1d866",
   "metadata": {},
   "outputs": [],
   "source": [
    "# issubset(): Returns True if one set is a subset of another.\n",
    "set1 = {1, 2}\n",
    "set2 = {1, 2, 3, 4}\n",
    "result = set1.issubset(set2)\n",
    "print(result)"
   ]
  },
  {
   "cell_type": "code",
   "execution_count": null,
   "id": "1b1240d3",
   "metadata": {},
   "outputs": [],
   "source": [
    "# issuperset(): Returns True if one set is a superset of another.\n",
    "\n",
    "set1 = {1, 2, 3, 4}\n",
    "set2 = {1, 2}\n",
    "result = set1.issuperset(set2)\n",
    "print(result) "
   ]
  },
  {
   "cell_type": "code",
   "execution_count": null,
   "id": "1a0ffe3c",
   "metadata": {},
   "outputs": [],
   "source": [
    "A = frozenset([1,2,3,4])\n",
    "print(A)"
   ]
  },
  {
   "cell_type": "code",
   "execution_count": null,
   "id": "8a26ec8f",
   "metadata": {},
   "outputs": [],
   "source": [
    "BA = frozenset([3,4,5,6,7])\n",
    "print(BA)"
   ]
  },
  {
   "cell_type": "code",
   "execution_count": null,
   "id": "4ea321d4",
   "metadata": {},
   "outputs": [],
   "source": [
    "A|BA"
   ]
  },
  {
   "cell_type": "markdown",
   "id": "c3b11843",
   "metadata": {},
   "source": [
    "### Boolean "
   ]
  },
  {
   "cell_type": "code",
   "execution_count": null,
   "id": "16fd2564",
   "metadata": {},
   "outputs": [],
   "source": [
    "print(10>9)"
   ]
  },
  {
   "cell_type": "code",
   "execution_count": null,
   "id": "b9705703",
   "metadata": {},
   "outputs": [],
   "source": [
    "print(bool('hellow'))"
   ]
  },
  {
   "cell_type": "code",
   "execution_count": null,
   "id": "78b4347e",
   "metadata": {},
   "outputs": [],
   "source": [
    "print(bool(0))"
   ]
  },
  {
   "cell_type": "code",
   "execution_count": null,
   "id": "5bc04b1f",
   "metadata": {},
   "outputs": [],
   "source": [
    "print(bool(\" \"))"
   ]
  }
 ],
 "metadata": {
  "kernelspec": {
   "display_name": "Python 3 (ipykernel)",
   "language": "python",
   "name": "python3"
  },
  "language_info": {
   "codemirror_mode": {
    "name": "ipython",
    "version": 3
   },
   "file_extension": ".py",
   "mimetype": "text/x-python",
   "name": "python",
   "nbconvert_exporter": "python",
   "pygments_lexer": "ipython3",
   "version": "3.10.9"
  }
 },
 "nbformat": 4,
 "nbformat_minor": 5
}
