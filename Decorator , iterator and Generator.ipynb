{
 "cells": [
  {
   "cell_type": "markdown",
   "id": "f7110c00",
   "metadata": {},
   "source": [
    "## Decorator\n",
    "-  A decorator takes another function as its argument, and it returns yet another function with modified behaviour.\n",
    "- A decorator is a design pattern in Python that allows a user to add new functionality to an existing object without modifying its structure. Decorators are usually called before the definition of a function you want to decorate.\n",
    "- a decorator is a special type of function that can be used to modify the behavior of another function.\n",
    "- . Python has built-in decorators, such as @staticmethod, @classmethod, and @property.\n",
    "- You can also create your own custom decorators to suit your specific needs.\n",
    "- Decorators enhance code readability and maintainability by allowing you to separate concerns and reuse code across functions.\n",
    "\n",
    "### Why do we use decorators in Python?\n",
    "You'll use a decorator when you need to change the behavior of a function without modifying the function itself"
   ]
  },
  {
   "cell_type": "code",
   "execution_count": 155,
   "id": "27aa5476",
   "metadata": {},
   "outputs": [
    {
     "name": "stdout",
     "output_type": "stream",
     "text": [
      "this is start of my fun\n",
      "13\n",
      "this is end of my fun\n"
     ]
    }
   ],
   "source": [
    "def decor(func):\n",
    "    def inner_dec():\n",
    "        print('this is start of my fun')\n",
    "        func()\n",
    "        print('this is end of my fun')\n",
    "    return inner_dec\n",
    "\n",
    "@decor           # applying the decorator to the test function.\n",
    "def test():\n",
    "    print(6+7)\n",
    "    \n",
    "test()\n",
    "\n",
    "# decor is a decorator function that takes another function (func) as an argument, creates a new function (inner_dec) that\n",
    "# adds some behavior before and after calling the original function, and then returns this new function"
   ]
  },
  {
   "cell_type": "code",
   "execution_count": 1,
   "id": "bf342d63",
   "metadata": {},
   "outputs": [
    {
     "name": "stdout",
     "output_type": "stream",
     "text": [
      "entre name :harshali \n",
      " surname :sonawane \n"
     ]
    },
    {
     "data": {
      "text/plain": [
       "['HARSHALI', 'SONAWANE']"
      ]
     },
     "execution_count": 1,
     "metadata": {},
     "output_type": "execute_result"
    }
   ],
   "source": [
    "## multiple Decorator\n",
    "\n",
    "def decor1 (func):\n",
    "    def inner():\n",
    "        return func().upper()\n",
    "    return inner\n",
    "\n",
    "def decor2 (func):\n",
    "    def inner():\n",
    "        return func().split()\n",
    "    return inner\n",
    "\n",
    "@decor2\n",
    "@decor1 \n",
    "def get_name():\n",
    "    name = input('entre name :')\n",
    "    surname = input(' surname :')\n",
    "    \n",
    "    fullname = name + \" \"+ surname\n",
    "    return fullname \n",
    "\n",
    "get_name ()\n",
    "    "
   ]
  },
  {
   "cell_type": "code",
   "execution_count": 160,
   "id": "0ee08ed2",
   "metadata": {},
   "outputs": [
    {
     "name": "stdout",
     "output_type": "stream",
     "text": [
      "Calling add with arguments (3, 5) and keyword arguments {}\n",
      "add returned: 8\n",
      "Calling multiply with arguments (4, 6) and keyword arguments {}\n",
      "multiply returned: 24\n"
     ]
    },
    {
     "data": {
      "text/plain": [
       "24"
      ]
     },
     "execution_count": 160,
     "metadata": {},
     "output_type": "execute_result"
    }
   ],
   "source": [
    "def log_function_call(func):\n",
    "    def wrapper(*args, **kwargs):\n",
    "        result = func(*args, **kwargs)\n",
    "        print(f\"Calling {func.__name__} with arguments {args} and keyword arguments {kwargs}\")\n",
    "        print(f\"{func.__name__} returned: {result}\")\n",
    "        return result\n",
    "    return wrapper\n",
    "\n",
    "@log_function_call\n",
    "def add(a, b):\n",
    "    return a + b\n",
    "\n",
    "@log_function_call\n",
    "def multiply(x, y):\n",
    "    return x * y\n",
    "\n",
    "# Testing the decorated functions\n",
    "add(3, 5)\n",
    "multiply(4, 6)\n"
   ]
  },
  {
   "cell_type": "markdown",
   "id": "0606ce98",
   "metadata": {},
   "source": [
    "## class method \n",
    "\n",
    "- A class method is a method that is bound to the class and not the object of the class. \n",
    "- They have the access to the state of the class as it takes a class parameter that points to the class and not the object instance.\n",
    "- It can modify a class state that would apply across all the instances of the class.\n",
    "- There are two things we need to do to use a class method :\n",
    "Identify our method as class method using the decorator @classmethod (more on decorators in a bit);\n",
    "Pass cls instead of self as the first argument.\n",
    "- What is the difference between class method and regular method in Python?\n",
    "Regular (instance) methods need a class instance and can access the instance through self . They can read and modify an objects state freely. Class methods, marked with the @classmethod decorator, don't need a class instance. They can't access the instance (self) but they have access to the class itself via cls"
   ]
  },
  {
   "cell_type": "code",
   "execution_count": 168,
   "id": "0346e6ce",
   "metadata": {},
   "outputs": [
    {
     "data": {
      "text/plain": [
       "'mohan'"
      ]
     },
     "execution_count": 168,
     "metadata": {},
     "output_type": "execute_result"
    }
   ],
   "source": [
    "# regular method \n",
    "\n",
    "class pwskills :\n",
    "    \n",
    "    def __init__(self ,name ,email):\n",
    "        self.name  = name \n",
    "        self.email = email \n",
    "        \n",
    "    def student_details(self):\n",
    "        print(self.name , self.email)\n",
    "        \n",
    "pw = pwskills('mohan' , 'modsfwfwrfhwr@gmail')     # create objevct for  passi ng of info \n",
    "pw.name"
   ]
  },
  {
   "cell_type": "code",
   "execution_count": 7,
   "id": "0654699d",
   "metadata": {},
   "outputs": [
    {
     "name": "stdout",
     "output_type": "stream",
     "text": [
      "mohan modsfwfwrfhwr@gmail\n"
     ]
    }
   ],
   "source": [
    "pw.student_details()"
   ]
  },
  {
   "cell_type": "code",
   "execution_count": 163,
   "id": "58817c5d",
   "metadata": {},
   "outputs": [],
   "source": [
    "## class method \n",
    "\n",
    "class pwskill1:\n",
    "    \n",
    "    def __init__(self ,name , email):\n",
    "        self.name = name \n",
    "        self.email = email \n",
    "        \n",
    "    @classmethod \n",
    "    def details(cls , name ,email):\n",
    "        return cls(name ,email)\n",
    "    \n",
    "    def student_details(self):\n",
    "        print(self.name , self.email)"
   ]
  },
  {
   "cell_type": "code",
   "execution_count": 165,
   "id": "9f1afe74",
   "metadata": {},
   "outputs": [
    {
     "data": {
      "text/plain": [
       "<__main__.pwskill1 at 0x26b18ed1060>"
      ]
     },
     "execution_count": 165,
     "metadata": {},
     "output_type": "execute_result"
    }
   ],
   "source": [
    "## Pass data in to thse class without creating object \n",
    "\n",
    "pwskill1.details('ram' ,'ram@gmail.com')"
   ]
  },
  {
   "cell_type": "code",
   "execution_count": 15,
   "id": "63b4a7be",
   "metadata": {},
   "outputs": [
    {
     "data": {
      "text/plain": [
       "'ram'"
      ]
     },
     "execution_count": 15,
     "metadata": {},
     "output_type": "execute_result"
    }
   ],
   "source": [
    "# fetch data //attribute \n",
    "\n",
    "pw  = pwskill1.details('ram' ,'ram@gmail.com')\n",
    "pw.name"
   ]
  },
  {
   "cell_type": "code",
   "execution_count": 25,
   "id": "457d6c33",
   "metadata": {},
   "outputs": [
    {
     "name": "stdout",
     "output_type": "stream",
     "text": [
      "93079225635\n",
      "mohan modsfwfwrfhwr@gmail 93079225635\n"
     ]
    }
   ],
   "source": [
    "## by usinf normal method how to access class variable \n",
    "\n",
    "class pwskills :\n",
    "    \n",
    "    Mob_no = 93079225635\n",
    "    \n",
    "    def __init__(self ,name ,email):\n",
    "        self.name  = name \n",
    "        self.email = email \n",
    "        \n",
    "    def student_details(self):\n",
    "        print(self.name , self.email , pwskills.Mob_no)\n",
    "        \n",
    "pw = pwskills('mohan' , 'modsfwfwrfhwr@gmail')     # create objevct for  passi ng of info \n",
    "\n",
    "print(pw.Mob_no)\n",
    "pw.student_details()"
   ]
  },
  {
   "cell_type": "code",
   "execution_count": 170,
   "id": "16a052b0",
   "metadata": {},
   "outputs": [],
   "source": [
    "## by usinf class method we can accces thse classs variable \n",
    "\n",
    "class pwskill2:\n",
    "    \n",
    "    Mob_no = 93079225635\n",
    "    \n",
    "    def __init__(self ,name , email):\n",
    "        self.name = name \n",
    "        self.email = email \n",
    "        \n",
    "    @classmethod \n",
    "    def details(cls , name ,email):\n",
    "        return cls(name ,email )\n",
    "    \n",
    "    def student_details(self):\n",
    "        print(self.name , self.email)\n",
    "        \n"
   ]
  },
  {
   "cell_type": "code",
   "execution_count": 18,
   "id": "c56c7ab3",
   "metadata": {},
   "outputs": [
    {
     "data": {
      "text/plain": [
       "93079225635"
      ]
     },
     "execution_count": 18,
     "metadata": {},
     "output_type": "execute_result"
    }
   ],
   "source": [
    "pwskill2.Mob_no\n"
   ]
  },
  {
   "cell_type": "code",
   "execution_count": 30,
   "id": "ffd332ea",
   "metadata": {},
   "outputs": [
    {
     "data": {
      "text/plain": [
       "1234567"
      ]
     },
     "execution_count": 30,
     "metadata": {},
     "output_type": "execute_result"
    }
   ],
   "source": [
    "## by usinf class method we can change  thse classs variable value\n",
    "\n",
    "class pwskill2:\n",
    "    \n",
    "    Mob_no = 93079225635\n",
    "    \n",
    "    def __init__(self ,name , email):\n",
    "        self.name = name \n",
    "        self.email = email \n",
    "        \n",
    "    @classmethod\n",
    "    def change_number(cls , mobile):\n",
    "        pwskill2.Mob_no = mobile\n",
    "        \n",
    "    @classmethod \n",
    "    def details(cls , name ,email):\n",
    "        return cls(name ,email)\n",
    "    \n",
    "    def student_details(self):\n",
    "        print(self.name , self.email)\n",
    " \n",
    "pwskill2.change_number(1234567)\n",
    "\n",
    "pwskill2.Mob_no"
   ]
  },
  {
   "cell_type": "code",
   "execution_count": 171,
   "id": "c9c10f3a",
   "metadata": {},
   "outputs": [
    {
     "name": "stdout",
     "output_type": "stream",
     "text": [
      "rffs fwefw\n"
     ]
    }
   ],
   "source": [
    "### by using class method we can access another normal method which is associated with thsose classs\n",
    "\n",
    "class pwskill2:\n",
    "    \n",
    "    Mob_no = 93079225635\n",
    "    \n",
    "    def __init__(self ,name , email):\n",
    "        self.name = name \n",
    "        self.email = email \n",
    "        \n",
    "    @classmethod\n",
    "    def change_number(cls , mobile):\n",
    "        pwskill2.Mob_no = mobile\n",
    "        \n",
    "    @classmethod \n",
    "    def details(cls , name ,email):\n",
    "        return cls(name ,email)\n",
    "    \n",
    "    def student_details(self):\n",
    "        print(self.name , self.email)\n",
    " \n",
    "a = pwskill2.details('rffs','fwefw')\n",
    "a.student_details()"
   ]
  },
  {
   "cell_type": "code",
   "execution_count": 39,
   "id": "f78bef9d",
   "metadata": {},
   "outputs": [],
   "source": [
    "### by using class method we can add external funtion into class \n",
    "\n",
    "class pwskills3:\n",
    "    \n",
    "    Mob_no = 93079225635\n",
    "    \n",
    "    def __init__(self ,name , email):\n",
    "        self.name = name \n",
    "        self.email = email \n",
    "        \n",
    "    @classmethod\n",
    "    def change_number(cls , mobile):\n",
    "        pwskill2.Mob_no = mobile\n"
   ]
  },
  {
   "cell_type": "code",
   "execution_count": 37,
   "id": "16a2f0cc",
   "metadata": {},
   "outputs": [],
   "source": [
    "def course_details(cls ,course_name):\n",
    "    print('course name is ' ,course_name )"
   ]
  },
  {
   "cell_type": "code",
   "execution_count": 40,
   "id": "64da648f",
   "metadata": {},
   "outputs": [],
   "source": [
    "pwskills3.course_details = classmethod(course_details)"
   ]
  },
  {
   "cell_type": "code",
   "execution_count": 41,
   "id": "b4f9e51a",
   "metadata": {},
   "outputs": [
    {
     "name": "stdout",
     "output_type": "stream",
     "text": [
      "course name is  data science masters\n"
     ]
    }
   ],
   "source": [
    "pwskills3.course_details('data science masters')"
   ]
  },
  {
   "cell_type": "code",
   "execution_count": 174,
   "id": "3037416c",
   "metadata": {},
   "outputs": [],
   "source": [
    "### class method also helps to deleat particular method ,class variable from a class\n",
    "\n",
    "class pwskill4:\n",
    "    \n",
    "    Mob_no = 93079225635\n",
    "    \n",
    "    def __init__(self ,name , email):\n",
    "        self.name = name \n",
    "        self.email = email \n",
    "        \n",
    "    @classmethod\n",
    "    def change_number(cls , mobile):\n",
    "        pwskill2.Mob_no = mobile\n",
    "        \n",
    "    @classmethod \n",
    "    def details(cls , name ,email):\n",
    "        return cls(name ,email)\n",
    "    \n",
    "    def student_details(self):\n",
    "        print(self.name , self.email)\n",
    "        \n",
    "# delate function of class method \n",
    "\n",
    "del pwskill4.change_number\n",
    "\n",
    "delattr( pwskill4 ,'details')\n",
    "\n",
    "delattr ( pwskill4 , 'student_details')\n",
    "\n",
    "delattr( pwskill4 ,'Mob_no')"
   ]
  },
  {
   "cell_type": "markdown",
   "id": "ca9abfbf",
   "metadata": {},
   "source": [
    "## static Method \n",
    "\n",
    "- Static methods in Python are extremely similar to python class level methods, the difference being that a static method is bound to a class rather than the objects for that class. This means that a static method can be called without an object for that class. \n",
    "\n",
    "- Static methods in Python are methods that are bound to a class rather than an instance of the class. They don't have access to the instance or its attributes. \n",
    "- You can use static methods to avoid repetition of code when you have a function that doesn't need access to instance-specific data.\n",
    "- how to use static methods to avoid code repetition when multiple objects directly access the same function without creating repeated instances. If that's the case, you can use a static method in a class."
   ]
  },
  {
   "cell_type": "code",
   "execution_count": null,
   "id": "f56ece36",
   "metadata": {},
   "outputs": [],
   "source": [
    "## create thses type of function which is impleent(cassses there sork) directly without creating objects "
   ]
  },
  {
   "cell_type": "code",
   "execution_count": 63,
   "id": "266b2c9c",
   "metadata": {},
   "outputs": [
    {
     "name": "stdout",
     "output_type": "stream",
     "text": [
      "sudh sudh@gmail.com 34536737\n",
      "krish krish@gmail.com 6643536737\n"
     ]
    }
   ],
   "source": [
    "# regular fuction  acces the fiction by creating object \n",
    "class pwskills :\n",
    "    def mentor_details(self , name , mail_id , number):\n",
    "        print(name , mail_id ,number)\n",
    "        \n",
    "        \n",
    "sud1 = pwskills()\n",
    "sud2 = pwskills()\n",
    "\n",
    "sud1.mentor_details('sudh' ,'sudh@gmail.com' , 34536737)\n",
    "sud2.mentor_details('krish' ,'krish@gmail.com' , 6643536737)\n",
    "\n"
   ]
  },
  {
   "cell_type": "code",
   "execution_count": null,
   "id": "61901397",
   "metadata": {},
   "outputs": [],
   "source": []
  },
  {
   "cell_type": "code",
   "execution_count": 98,
   "id": "fcdcae68",
   "metadata": {},
   "outputs": [
    {
     "name": "stdout",
     "output_type": "stream",
     "text": [
      "['DS', 'ML']\n"
     ]
    }
   ],
   "source": [
    "# static method \n",
    "\n",
    "class pwskill1 :\n",
    "    def mentor_details(self , name , mail_id , number):\n",
    "        print(name , mail_id ,number)\n",
    "        \n",
    "    @staticmethod \n",
    "    def mentor_class (list_mentor):\n",
    "        print(list_mentor)\n",
    "        \n",
    "        \n",
    "pwskill1.mentor_class (['DS','ML'])\n"
   ]
  },
  {
   "cell_type": "code",
   "execution_count": 71,
   "id": "a293939a",
   "metadata": {},
   "outputs": [
    {
     "name": "stdout",
     "output_type": "stream",
     "text": [
      "Addition Result: 8\n",
      "Multiplication Result: 24\n"
     ]
    }
   ],
   "source": [
    "# how to use static methods to avoid code repetition when multiple objects directly access the same function\n",
    "without creating repeated instances. If that's the case, you can use a static method in a class.\n",
    "\n",
    "class MathOperations:\n",
    "    @staticmethod\n",
    "    def add(x, y):\n",
    "        return x + y\n",
    "\n",
    "    @staticmethod\n",
    "    def multiply(x, y):\n",
    "        return x * y\n",
    "\n",
    "# Using static methods without creating an instance of the class\n",
    "result_add = MathOperations.add(3, 5)\n",
    "result_multiply = MathOperations.multiply(4, 6)\n",
    "\n",
    "print(\"Addition Result:\", result_add)\n",
    "print(\"Multiplication Result:\", result_multiply)\n",
    "\n",
    "#MathOperations class has two static methods: add and multiply. You can call these methods directly on \n",
    "the class without creating an instance. This helps in avoiding the repetition of code, \n",
    "as you don't need to instantiate the class every time you want to perform an operation."
   ]
  },
  {
   "cell_type": "code",
   "execution_count": 73,
   "id": "e53b5092",
   "metadata": {},
   "outputs": [],
   "source": [
    "## how to access the static methos in another static method "
   ]
  },
  {
   "cell_type": "code",
   "execution_count": 119,
   "id": "9c9b1548",
   "metadata": {},
   "outputs": [
    {
     "name": "stdout",
     "output_type": "stream",
     "text": [
      " hello have a nice day \n",
      "krish\n",
      " hello have a nice day \n",
      "sudh\n"
     ]
    }
   ],
   "source": [
    "class pwskill1:\n",
    "    def mentor_details(self, name, mail_id, number):\n",
    "        print(name, mail_id, number)\n",
    "\n",
    "    @staticmethod\n",
    "    def greeting (greet):\n",
    "        print(greet)\n",
    "\n",
    "    @staticmethod\n",
    "    def greeting_to_mentor(mentor):\n",
    "        pwskill1.greeting(' hello have a nice day ')                  \n",
    "        print(mentor)\n",
    "        \n",
    "# Calling the static method\n",
    "pwskill1.greeting_to_mentor( 'krish')\n",
    "\n",
    "pwskill1.greeting_to_mentor( 'sudh')"
   ]
  },
  {
   "cell_type": "code",
   "execution_count": 120,
   "id": "a060868b",
   "metadata": {},
   "outputs": [
    {
     "name": "stdout",
     "output_type": "stream",
     "text": [
      " mentor krish teach \n",
      "['DS', 'ML']\n",
      " mentor sudh teach \n",
      "['DS', 'ML']\n"
     ]
    }
   ],
   "source": [
    "## how to access the static methos in class method \n",
    "\n",
    "class pwskill2:\n",
    "    def student_details(self, name, mail_id, number):\n",
    "        print(name, mail_id, number)\n",
    "\n",
    "    @staticmethod\n",
    "    def mentor_class(list_mentor):\n",
    "        print(list_mentor)\n",
    "\n",
    "    @classmethod\n",
    "    def course_tech_by_mentor (cls,name):\n",
    "        print(f\" mentor {name} teach \")\n",
    "        cls.mentor_class(['DS', 'ML'])\n",
    "        \n",
    "# Calling the class_name method using the directly without crating object \n",
    "\n",
    "pwskill2.course_tech_by_mentor('krish')\n",
    "pwskill2.course_tech_by_mentor('sudh')"
   ]
  },
  {
   "cell_type": "code",
   "execution_count": 178,
   "id": "7465624e",
   "metadata": {},
   "outputs": [
    {
     "name": "stdout",
     "output_type": "stream",
     "text": [
      "student Harshali learn under guidance of\n",
      "krish\n"
     ]
    }
   ],
   "source": [
    "## how to access static method inctance method \n",
    "\n",
    "\n",
    "class pwskill4:\n",
    "    def student_details(self, name, mail_id, number):\n",
    "        print(name, mail_id, number)\n",
    "\n",
    "    @staticmethod\n",
    "    def mentor_class(list_mentor):\n",
    "        print(list_mentor)\n",
    "\n",
    "    @classmethod\n",
    "    def course_tech_by_mentor (cls,name):\n",
    "        print(f\" mentor {name} teach \")\n",
    "        cls.mentor_class(['DS', 'ML'])\n",
    "        \n",
    "    def mentor_under_students(self ,name):\n",
    "        print(f\"student {name} learn under guidance of\")\n",
    "        self.mentor_class('krish')\n",
    "        \n",
    "pw = pwskill4()\n",
    "\n",
    "# print student name with respect krish mentor\n",
    "pw.mentor_under_students('Harshali')"
   ]
  },
  {
   "cell_type": "markdown",
   "id": "5f846418",
   "metadata": {},
   "source": [
    "## special (magic /dunder Method)"
   ]
  },
  {
   "cell_type": "markdown",
   "id": "eab20912",
   "metadata": {},
   "source": [
    "## Property Decorator \n",
    "\n",
    "- The @property is a built-in decorator for the property() function in Python. It is used to give \"special\" functionality to certain methods to make them act as getters, setters, or deleters when we define properties in a class"
   ]
  },
  {
   "cell_type": "code",
   "execution_count": 136,
   "id": "69c6ee09",
   "metadata": {},
   "outputs": [
    {
     "data": {
      "text/plain": [
       "35000"
      ]
     },
     "execution_count": 136,
     "metadata": {},
     "output_type": "execute_result"
    }
   ],
   "source": [
    "class pwskills :\n",
    "    \n",
    "    def __init__(self ,course_price ,course_name):\n",
    "        self.__course_price = course_price\n",
    "        self.course_name = course_name\n",
    "        \n",
    "        \n",
    "    @property                                           ## help to acces private variable \n",
    "    def course_price_access(self):\n",
    "        return self.__course_price\n",
    "     \n",
    "    @course_price_access .setter                           ### modify the values of private variable \n",
    "    def course_price_set(self , price):\n",
    "        if price <= 35000:\n",
    "            pass\n",
    "        else :\n",
    "            self.____course_price = price\n",
    "    \n",
    "    \n",
    "    \n",
    "pw = pwskills(35000 , 'data science master')\n",
    "# pw.__course_price  # =====================================error\n",
    "\n",
    "pw.course_price_access         ## ========== 35000\n",
    "\n",
    "pw.course_price_set = 45000\n",
    "pw.course_price_access         ## =========\n",
    "\n"
   ]
  },
  {
   "cell_type": "code",
   "execution_count": 144,
   "id": "e9bcd896",
   "metadata": {},
   "outputs": [
    {
     "data": {
      "text/plain": [
       "35000"
      ]
     },
     "execution_count": 144,
     "metadata": {},
     "output_type": "execute_result"
    }
   ],
   "source": [
    "pw.course_price_set = 45000\n",
    "pw.course_price_set         ## =========\n"
   ]
  },
  {
   "cell_type": "code",
   "execution_count": 180,
   "id": "c8cfda4e",
   "metadata": {},
   "outputs": [
    {
     "name": "stdout",
     "output_type": "stream",
     "text": [
      "35000\n",
      "45000\n"
     ]
    }
   ],
   "source": [
    "class pwskills:\n",
    "    def __init__(self, course_price, course_name):\n",
    "        self.__course_price = course_price\n",
    "        self.course_name = course_name\n",
    "\n",
    "    @property                                  # ## help to acces private variable \n",
    "    def course_price_access(self):\n",
    "        return self.__course_price\n",
    "\n",
    "    @course_price_access.setter               ### modify the values of private variable\n",
    "    def course_price_set(self, price):\n",
    "        if price <= 35000:\n",
    "            pass\n",
    "        else:\n",
    "            self.__course_price = price\n",
    "        \n",
    "    @course_price_access.deleter\n",
    "    def delete_course_price (self):\n",
    "        del self.__course_price\n",
    "            \n",
    " \n",
    "\n",
    "pw = pwskills(35000, 'data science master')\n",
    "# pw.__course_price  # =====================================error\n",
    "\n",
    "#access thse private attribute by crating new method with property decorator \n",
    "\n",
    "print(pw.course_price_access)  # Output: 35000\n",
    "pw.course_price_set = 45000\n",
    "\n",
    "# modifying the private attribute by crate \n",
    "print(pw.course_price_access)  # Output: 45000\n",
    "\n",
    "\n",
    "# delete coucr price attributr \n",
    "del pw.delete_course_price\n",
    "\n",
    "pw.course_price_access"
   ]
  },
  {
   "cell_type": "markdown",
   "id": "04fd448c",
   "metadata": {},
   "source": [
    "# Iterator "
   ]
  },
  {
   "cell_type": "code",
   "execution_count": 1,
   "id": "19a79190",
   "metadata": {},
   "outputs": [
    {
     "name": "stdout",
     "output_type": "stream",
     "text": [
      "1\n",
      "2\n",
      "3\n",
      "4\n",
      "5\n"
     ]
    }
   ],
   "source": [
    "# in normal method\n",
    "\n",
    "a = [1,2,3,4,5]\n",
    "for i in a:\n",
    "    print(i)"
   ]
  },
  {
   "cell_type": "code",
   "execution_count": 6,
   "id": "424cf8a3",
   "metadata": {},
   "outputs": [
    {
     "name": "stdout",
     "output_type": "stream",
     "text": [
      "<list_iterator object at 0x0000028FDB157F40>\n",
      "1\n",
      "2\n",
      "3\n",
      "4\n",
      "5\n"
     ]
    },
    {
     "ename": "StopIteration",
     "evalue": "",
     "output_type": "error",
     "traceback": [
      "\u001b[1;31m---------------------------------------------------------------------------\u001b[0m",
      "\u001b[1;31mStopIteration\u001b[0m                             Traceback (most recent call last)",
      "Cell \u001b[1;32mIn[6], line 15\u001b[0m\n\u001b[0;32m     13\u001b[0m \u001b[38;5;28mprint\u001b[39m(\u001b[38;5;28mnext\u001b[39m(i))\n\u001b[0;32m     14\u001b[0m \u001b[38;5;28mprint\u001b[39m(\u001b[38;5;28mnext\u001b[39m(i))\n\u001b[1;32m---> 15\u001b[0m \u001b[38;5;28mprint\u001b[39m(\u001b[38;5;28;43mnext\u001b[39;49m\u001b[43m(\u001b[49m\u001b[43mi\u001b[49m\u001b[43m)\u001b[49m)\n",
      "\u001b[1;31mStopIteration\u001b[0m: "
     ]
    }
   ],
   "source": [
    "# by using Iterator \n",
    "\n",
    "a = [1,2,3,4,5]\n",
    "\n",
    "i = iter(a)\n",
    "\n",
    "print(i)        # ========================== create object insted of printing value \n",
    "\n",
    "print(i.__next__())\n",
    "print(i.__next__())\n",
    "\n",
    "print(next(i))\n",
    "print(next(i))\n",
    "print(next(i))\n",
    "print(next(i))\n"
   ]
  },
  {
   "cell_type": "code",
   "execution_count": 19,
   "id": "87b133ab",
   "metadata": {},
   "outputs": [
    {
     "name": "stdout",
     "output_type": "stream",
     "text": [
      "<__main__.five object at 0x0000028FDB6CC490>\n",
      "1\n",
      "2\n",
      "3\n",
      "4\n"
     ]
    },
    {
     "ename": "NameError",
     "evalue": "name 'stopiteration' is not defined",
     "output_type": "error",
     "traceback": [
      "\u001b[1;31m---------------------------------------------------------------------------\u001b[0m",
      "\u001b[1;31mNameError\u001b[0m                                 Traceback (most recent call last)",
      "Cell \u001b[1;32mIn[19], line 22\u001b[0m\n\u001b[0;32m     18\u001b[0m a \u001b[38;5;241m=\u001b[39m five()\n\u001b[0;32m     19\u001b[0m \u001b[38;5;28mprint\u001b[39m(a)                           \u001b[38;5;66;03m#================= create object \u001b[39;00m\n\u001b[1;32m---> 22\u001b[0m \u001b[38;5;28;01mfor\u001b[39;00m i \u001b[38;5;129;01min\u001b[39;00m a :\n\u001b[0;32m     23\u001b[0m     \u001b[38;5;28mprint\u001b[39m(i)\n",
      "Cell \u001b[1;32mIn[19], line 16\u001b[0m, in \u001b[0;36mfive.__next__\u001b[1;34m(self)\u001b[0m\n\u001b[0;32m     14\u001b[0m     \u001b[38;5;28;01mreturn\u001b[39;00m value\n\u001b[0;32m     15\u001b[0m \u001b[38;5;28;01melse\u001b[39;00m:\n\u001b[1;32m---> 16\u001b[0m     \u001b[38;5;28;01mraise\u001b[39;00m \u001b[43mstopiteration\u001b[49m\n",
      "\u001b[1;31mNameError\u001b[0m: name 'stopiteration' is not defined"
     ]
    }
   ],
   "source": [
    "## custome Iterator \n",
    "\n",
    "class five:\n",
    "    def __init__(self):\n",
    "        self.num = 1 \n",
    "        \n",
    "    def __iter__ (self):\n",
    "        return self\n",
    "    \n",
    "    def __next__ (self):\n",
    "        if self.num < 5:\n",
    "            value = self.num\n",
    "            self.num +=1\n",
    "            return value\n",
    "        else:\n",
    "            raise stopiteration \n",
    "\n",
    "a = five()\n",
    "print(a)                           #================= create object \n",
    "\n",
    "\n",
    "for i in a :\n",
    "    print(i)\n",
    "\n"
   ]
  },
  {
   "cell_type": "code",
   "execution_count": 11,
   "id": "9e60caab",
   "metadata": {
    "scrolled": true
   },
   "outputs": [
    {
     "name": "stdout",
     "output_type": "stream",
     "text": [
      "<__main__.five object at 0x000001C21D8E1C90>\n",
      "<__main__.five object at 0x000001C21D8E1C90>\n",
      "1\n",
      "2\n",
      "3\n",
      "4\n"
     ]
    },
    {
     "ename": "TypeError",
     "evalue": "exceptions must derive from BaseException",
     "output_type": "error",
     "traceback": [
      "\u001b[1;31m---------------------------------------------------------------------------\u001b[0m",
      "\u001b[1;31mTypeError\u001b[0m                                 Traceback (most recent call last)",
      "Cell \u001b[1;32mIn[11], line 31\u001b[0m\n\u001b[0;32m     26\u001b[0m \u001b[38;5;28mprint\u001b[39m(\u001b[38;5;28mnext\u001b[39m(a))\n\u001b[0;32m     27\u001b[0m \u001b[38;5;66;03m#print(next(a))\u001b[39;00m\n\u001b[0;32m     28\u001b[0m \n\u001b[0;32m     29\u001b[0m \n\u001b[0;32m     30\u001b[0m \u001b[38;5;66;03m## using for loop print iterator \u001b[39;00m\n\u001b[1;32m---> 31\u001b[0m \u001b[38;5;28;01mfor\u001b[39;00m i \u001b[38;5;129;01min\u001b[39;00m a:\n\u001b[0;32m     32\u001b[0m     \u001b[38;5;28mprint\u001b[39m(i)\n",
      "Cell \u001b[1;32mIn[11], line 16\u001b[0m, in \u001b[0;36mfive.__next__\u001b[1;34m(self)\u001b[0m\n\u001b[0;32m     14\u001b[0m     \u001b[38;5;28;01mreturn\u001b[39;00m value\n\u001b[0;32m     15\u001b[0m \u001b[38;5;28;01melse\u001b[39;00m:\n\u001b[1;32m---> 16\u001b[0m     \u001b[38;5;28;01mraise\u001b[39;00m \u001b[38;5;124m'\u001b[39m\u001b[38;5;124mstopiteration\u001b[39m\u001b[38;5;124m'\u001b[39m\n",
      "\u001b[1;31mTypeError\u001b[0m: exceptions must derive from BaseException"
     ]
    }
   ],
   "source": [
    "## custome Iterator \n",
    "\n",
    "class five:\n",
    "    def __init__(self):\n",
    "        self.num = 1 \n",
    "        \n",
    "    def __iter__ (self):\n",
    "        return self\n",
    "    \n",
    "    def __next__ (self):\n",
    "        if self.num < 5:\n",
    "            value = self.num\n",
    "            self.num +=1\n",
    "            return value\n",
    "        else:\n",
    "            raise 'stopiteration' \n",
    "\n",
    "a = five()\n",
    "print(a)                           #================= create object \n",
    "print(iter(a))\n",
    "\n",
    "# using next and iter method used tp print iterator \n",
    "print(next(a))\n",
    "print(next(a))\n",
    "print(next(a))\n",
    "print(next(a))\n",
    "#print(next(a))\n",
    "\n",
    "\n",
    "## using for loop print iterator \n",
    "for i in a:\n",
    "    print(i)\n",
    "\n"
   ]
  },
  {
   "cell_type": "code",
   "execution_count": 14,
   "id": "b4364732",
   "metadata": {},
   "outputs": [
    {
     "name": "stdout",
     "output_type": "stream",
     "text": [
      "<__main__.Example object at 0x000001C21C73AE00>\n",
      "<__main__.Example object at 0x000001C21C73AE00>\n",
      "1\n",
      "3\n",
      "5\n"
     ]
    }
   ],
   "source": [
    "class Example:\n",
    "    def __iter__(self):\n",
    "        self.a = 1\n",
    "        return self\n",
    "    def __next__(self):\n",
    "        x = self.a\n",
    "        self.a += 2\n",
    "        return x\n",
    "    \n",
    "e1 = Example ()\n",
    "\n",
    "print(iter(e1))\n",
    "print(e1)            ## it show object of \n",
    "\n",
    "print(next(e1))\n",
    "print(next(e1))\n",
    "print(next(e1))"
   ]
  },
  {
   "cell_type": "markdown",
   "id": "d7239b61",
   "metadata": {},
   "source": [
    "# Generator "
   ]
  },
  {
   "cell_type": "code",
   "execution_count": 74,
   "id": "49ad035a",
   "metadata": {},
   "outputs": [
    {
     "name": "stdout",
     "output_type": "stream",
     "text": [
      "1\n"
     ]
    }
   ],
   "source": [
    "def my_iter(a):\n",
    "    for i in a:\n",
    "        return i\n",
    "\n",
    "a= [1,2,3]\n",
    "                             # Using next with the iterator\n",
    "iterator = my_iter(a)\n",
    "\n",
    "print(iterator)\n"
   ]
  },
  {
   "cell_type": "code",
   "execution_count": 69,
   "id": "577f100f",
   "metadata": {},
   "outputs": [
    {
     "name": "stdout",
     "output_type": "stream",
     "text": [
      "1\n",
      "2\n",
      "3\n"
     ]
    }
   ],
   "source": [
    "def my_iter(a):\n",
    "    for i in a:\n",
    "        print(i)\n",
    "\n",
    "a= [1,2,3]\n",
    "                             # Using next with the iterator\n",
    "iterator = my_iter(a)\n"
   ]
  },
  {
   "cell_type": "code",
   "execution_count": 72,
   "id": "ea6acf6a",
   "metadata": {},
   "outputs": [
    {
     "name": "stdout",
     "output_type": "stream",
     "text": [
      "1\n",
      "2\n",
      "3\n"
     ]
    }
   ],
   "source": [
    "def my_iter(a):\n",
    "    for i in a:\n",
    "        yield i\n",
    "\n",
    "a= [1,2,3]\n",
    "                             # Using next with the iterator\n",
    "iterator = my_iter(a)\n",
    "\n",
    "print(iterator .__next__())\n",
    "print(iterator .__next__())\n",
    "print(next(iterator))\n"
   ]
  },
  {
   "cell_type": "code",
   "execution_count": 75,
   "id": "2a47a08a",
   "metadata": {},
   "outputs": [
    {
     "name": "stdout",
     "output_type": "stream",
     "text": [
      "0\n",
      "1\n",
      "2\n",
      "3\n",
      "4\n"
     ]
    }
   ],
   "source": [
    "def my_gen(n):\n",
    "    for i in range(n):\n",
    "        yield i\n",
    "\n",
    "A = my_gen(5)\n",
    "\n",
    "# Using A.__next__()\n",
    "print(A.__next__())\n",
    "print(next(A))\n",
    "print(next(A))\n",
    "print(next(A))\n",
    "print(next(A))\n"
   ]
  }
 ],
 "metadata": {
  "kernelspec": {
   "display_name": "Python 3 (ipykernel)",
   "language": "python",
   "name": "python3"
  },
  "language_info": {
   "codemirror_mode": {
    "name": "ipython",
    "version": 3
   },
   "file_extension": ".py",
   "mimetype": "text/x-python",
   "name": "python",
   "nbconvert_exporter": "python",
   "pygments_lexer": "ipython3",
   "version": "3.10.9"
  }
 },
 "nbformat": 4,
 "nbformat_minor": 5
}
