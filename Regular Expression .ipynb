{
 "cells": [
  {
   "cell_type": "markdown",
   "id": "f8a52d04",
   "metadata": {},
   "source": [
    "# Regular Expression "
   ]
  },
  {
   "cell_type": "markdown",
   "id": "c2a729f4",
   "metadata": {},
   "source": [
    "#### Meta Character in String "
   ]
  },
  {
   "cell_type": "code",
   "execution_count": 6,
   "id": "ee139b8d",
   "metadata": {},
   "outputs": [
    {
     "data": {
      "text/plain": [
       "<re.Match object; span=(6, 7), match='.'>"
      ]
     },
     "execution_count": 6,
     "metadata": {},
     "output_type": "execute_result"
    }
   ],
   "source": [
    "import re\n",
    "A = 'ayushi.jain@gmail.com'\n",
    "\n",
    "re.search(\"\\.\" ,A)"
   ]
  },
  {
   "cell_type": "code",
   "execution_count": 10,
   "id": "3ff4659e",
   "metadata": {},
   "outputs": [
    {
     "name": "stdout",
     "output_type": "stream",
     "text": [
      "<re.Match object; span=(0, 1), match='a'>\n"
     ]
    },
    {
     "data": {
      "text/plain": [
       "['a', 'y', 'a', 'a']"
      ]
     },
     "execution_count": 10,
     "metadata": {},
     "output_type": "execute_result"
    }
   ],
   "source": [
    "import re\n",
    "A = 'ayushi.jain@gmail.com'\n",
    "\n",
    "print(re.search('[ay]',A))\n",
    "re.findall('[ay]',A)"
   ]
  },
  {
   "cell_type": "code",
   "execution_count": 13,
   "id": "bb0d48ac",
   "metadata": {},
   "outputs": [
    {
     "data": {
      "text/plain": [
       "<re.Match object; span=(0, 1), match='H'>"
      ]
     },
     "execution_count": 13,
     "metadata": {},
     "output_type": "execute_result"
    }
   ],
   "source": [
    "import re\n",
    "\n",
    "A = 'Harshali'\n",
    "\n",
    "re.search ('^H',A)"
   ]
  },
  {
   "cell_type": "code",
   "execution_count": 16,
   "id": "a0b863fa",
   "metadata": {},
   "outputs": [
    {
     "data": {
      "text/plain": [
       "<re.Match object; span=(7, 8), match='i'>"
      ]
     },
     "execution_count": 16,
     "metadata": {},
     "output_type": "execute_result"
    }
   ],
   "source": [
    "import re\n",
    "\n",
    "A = 'Harshali'\n",
    "\n",
    "re.search('i$',A)"
   ]
  },
  {
   "cell_type": "code",
   "execution_count": 18,
   "id": "fb9df254",
   "metadata": {},
   "outputs": [
    {
     "data": {
      "text/plain": [
       "['cha', 'cha', 'coa']"
      ]
     },
     "execution_count": 18,
     "metadata": {},
     "output_type": "execute_result"
    }
   ],
   "source": [
    "A = 'chaeline chapline coa and  the chocalet factory'\n",
    "\n",
    "re.findall('c.a',A)"
   ]
  },
  {
   "cell_type": "code",
   "execution_count": 19,
   "id": "1b701b8c",
   "metadata": {},
   "outputs": [
    {
     "data": {
      "text/plain": [
       "['cha', 'cha', 'fac']"
      ]
     },
     "execution_count": 19,
     "metadata": {},
     "output_type": "execute_result"
    }
   ],
   "source": [
    "A = 'chaeline chapline coa and  the chocalet factory'\n",
    "\n",
    "re.findall('cha|fac' ,A)"
   ]
  },
  {
   "cell_type": "code",
   "execution_count": 34,
   "id": "ba9d09c6",
   "metadata": {},
   "outputs": [
    {
     "name": "stdout",
     "output_type": "stream",
     "text": [
      "<re.Match object; span=(0, 3), match='cha'>\n",
      "[]\n",
      "[]\n"
     ]
    }
   ],
   "source": [
    "A = 'charli chapline '\n",
    "\n",
    "print(re.search('ch?a',A))\n",
    "print(re.findall('sm?a',A))\n",
    "print(re.findall('ch?m',A))"
   ]
  },
  {
   "cell_type": "code",
   "execution_count": 38,
   "id": "9ccb178f",
   "metadata": {},
   "outputs": [
    {
     "data": {
      "text/plain": [
       "['har']"
      ]
     },
     "execution_count": 38,
     "metadata": {},
     "output_type": "execute_result"
    }
   ],
   "source": [
    "A = 'charli chapline'\n",
    "\n",
    "re.findall('ha*r',A)"
   ]
  },
  {
   "cell_type": "code",
   "execution_count": 39,
   "id": "26d791c7",
   "metadata": {},
   "outputs": [
    {
     "name": "stdout",
     "output_type": "stream",
     "text": [
      "<re.Match object; span=(0, 3), match='XYZ'>\n"
     ]
    }
   ],
   "source": [
    "A = 'XYZ ,XYZZ,XYYZ ,XXZZY ,ZYZ,XXY,XYYY'\n",
    "\n",
    "import re \n",
    "re.findall('XY+Z',A)\n",
    "print(re.search('XY+Z',A))"
   ]
  },
  {
   "cell_type": "code",
   "execution_count": 30,
   "id": "edca3d8c",
   "metadata": {},
   "outputs": [
    {
     "name": "stdout",
     "output_type": "stream",
     "text": [
      "<re.Match object; span=(11, 13), match='YY'>\n",
      "['YY', 'YYYY']\n"
     ]
    }
   ],
   "source": [
    "A = 'XYZ ,XYZZ,XYYZ ,XXZZY ,ZYZ,XXY,XYYYY'\n",
    "\n",
    "print(re.search('Y{2,4}',A))\n",
    "print(re.findall('Y{2,4}',A))"
   ]
  },
  {
   "cell_type": "code",
   "execution_count": 32,
   "id": "cf75db46",
   "metadata": {},
   "outputs": [
    {
     "data": {
      "text/plain": [
       "['X', 'X']"
      ]
     },
     "execution_count": 32,
     "metadata": {},
     "output_type": "execute_result"
    }
   ],
   "source": [
    "A = 'XYZ ,XYZZ,XYYZ ,XXZZY ,ZYZ,XXY,XYYYY'\n",
    "\n",
    "re.findall('(X)YZ',A)"
   ]
  },
  {
   "cell_type": "markdown",
   "id": "e068268e",
   "metadata": {},
   "source": [
    "# Special Sequence in Regex "
   ]
  },
  {
   "cell_type": "code",
   "execution_count": 44,
   "id": "d3669fc3",
   "metadata": {},
   "outputs": [
    {
     "name": "stdout",
     "output_type": "stream",
     "text": [
      "<re.Match object; span=(0, 3), match='har'>\n",
      "['har']\n"
     ]
    }
   ],
   "source": [
    "import re \n",
    "\n",
    "A = 'harry potter'\n",
    "\n",
    "print(re.search( '\\Ahar',A))\n",
    "print(re.findall('\\Ahar',A))"
   ]
  },
  {
   "cell_type": "code",
   "execution_count": 59,
   "id": "f097ddd8",
   "metadata": {},
   "outputs": [
    {
     "name": "stdout",
     "output_type": "stream",
     "text": [
      "[]\n",
      "None\n"
     ]
    }
   ],
   "source": [
    "import re\n",
    "\n",
    "A = 'harshali'\n",
    "\n",
    "print(re.findall('har\\b', A))\n",
    "print(re.search('\\br', A))"
   ]
  },
  {
   "cell_type": "code",
   "execution_count": 63,
   "id": "cb08bec6",
   "metadata": {},
   "outputs": [
    {
     "name": "stdout",
     "output_type": "stream",
     "text": [
      "<re.Match object; span=(0, 1), match='h'>\n",
      "<re.Match object; span=(7, 8), match='i'>\n"
     ]
    }
   ],
   "source": [
    "import re\n",
    "\n",
    "A = 'harshali'\n",
    "\n",
    "print(re.search('h\\B', A))\n",
    "print(re.search('\\Bi', A))"
   ]
  },
  {
   "cell_type": "code",
   "execution_count": 66,
   "id": "3663a181",
   "metadata": {},
   "outputs": [
    {
     "name": "stdout",
     "output_type": "stream",
     "text": [
      "['1', '2', '3']\n"
     ]
    }
   ],
   "source": [
    "import re\n",
    "\n",
    "A = 'harshali123'\n",
    "\n",
    "print(re.findall('\\d', A))"
   ]
  },
  {
   "cell_type": "code",
   "execution_count": 67,
   "id": "0cab04e6",
   "metadata": {},
   "outputs": [
    {
     "name": "stdout",
     "output_type": "stream",
     "text": [
      "['h', 'a', 'r', 's', 'h', 'a', 'l', 'i']\n"
     ]
    }
   ],
   "source": [
    "import re\n",
    "\n",
    "A = 'harshali123'\n",
    "\n",
    "print(re.findall('\\D', A))"
   ]
  },
  {
   "cell_type": "code",
   "execution_count": 68,
   "id": "564b690c",
   "metadata": {},
   "outputs": [
    {
     "name": "stdout",
     "output_type": "stream",
     "text": [
      "[' ']\n"
     ]
    }
   ],
   "source": [
    "\n",
    "A = 'harry potter'\n",
    "print(re.findall('\\s',A))"
   ]
  },
  {
   "cell_type": "code",
   "execution_count": 70,
   "id": "37c33f5c",
   "metadata": {},
   "outputs": [
    {
     "data": {
      "text/plain": [
       "['h', 'a', 'r', '1', '2', '3']"
      ]
     },
     "execution_count": 70,
     "metadata": {},
     "output_type": "execute_result"
    }
   ],
   "source": [
    "A = 'har@#$123'\n",
    "\n",
    "re.findall('\\w',A)"
   ]
  },
  {
   "cell_type": "code",
   "execution_count": 71,
   "id": "2fea3742",
   "metadata": {},
   "outputs": [
    {
     "data": {
      "text/plain": [
       "['@', '#', '$']"
      ]
     },
     "execution_count": 71,
     "metadata": {},
     "output_type": "execute_result"
    }
   ],
   "source": [
    "A = 'har@#$123'\n",
    "\n",
    "re.findall('\\W',A)"
   ]
  },
  {
   "cell_type": "code",
   "execution_count": 75,
   "id": "0223d62c",
   "metadata": {},
   "outputs": [
    {
     "name": "stdout",
     "output_type": "stream",
     "text": [
      "['i']\n",
      "<re.Match object; span=(7, 8), match='i'>\n"
     ]
    }
   ],
   "source": [
    "A = 'Harshali'\n",
    "\n",
    "print(re.findall('i\\Z',A))\n",
    "print(re.search('i\\Z',A))"
   ]
  },
  {
   "cell_type": "markdown",
   "id": "a7e51b00",
   "metadata": {},
   "source": [
    "# Regex sets "
   ]
  },
  {
   "cell_type": "code",
   "execution_count": 78,
   "id": "2acb1ca5",
   "metadata": {},
   "outputs": [
    {
     "name": "stdout",
     "output_type": "stream",
     "text": [
      "['r', 's']\n",
      "<re.Match object; span=(2, 3), match='r'>\n"
     ]
    }
   ],
   "source": [
    "import re \n",
    "\n",
    "A= 'Harshali'\n",
    "print(re.findall('[rs]',A))\n",
    "print(re.search('[rs]',A))"
   ]
  },
  {
   "cell_type": "code",
   "execution_count": 80,
   "id": "4a6528b9",
   "metadata": {},
   "outputs": [
    {
     "name": "stdout",
     "output_type": "stream",
     "text": [
      "['H', 'a', 'h', 'a', 'l', 'i']\n"
     ]
    }
   ],
   "source": [
    "import re \n",
    "\n",
    "A= 'Harshali'\n",
    "print(re.findall('[^rs]',A))\n"
   ]
  },
  {
   "cell_type": "code",
   "execution_count": 89,
   "id": "c5887f83",
   "metadata": {},
   "outputs": [
    {
     "data": {
      "text/plain": [
       "['c', 'b', 'a']"
      ]
     },
     "execution_count": 89,
     "metadata": {},
     "output_type": "execute_result"
    }
   ],
   "source": [
    "import re \n",
    "A = 'edcba'\n",
    "re.findall('[a-c]' ,A)"
   ]
  },
  {
   "cell_type": "code",
   "execution_count": 90,
   "id": "81207965",
   "metadata": {},
   "outputs": [
    {
     "data": {
      "text/plain": [
       "['1', '2', '3']"
      ]
     },
     "execution_count": 90,
     "metadata": {},
     "output_type": "execute_result"
    }
   ],
   "source": [
    "import re\n",
    "A = '123jonm@#'\n",
    "\n",
    "re.findall('[123]',A)"
   ]
  },
  {
   "cell_type": "code",
   "execution_count": 91,
   "id": "3d4e70d0",
   "metadata": {},
   "outputs": [
    {
     "data": {
      "text/plain": [
       "['1', '2', '3']"
      ]
     },
     "execution_count": 91,
     "metadata": {},
     "output_type": "execute_result"
    }
   ],
   "source": [
    "import re\n",
    "A = '1293jonm@#'\n",
    "\n",
    "re.findall('[1-7]',A)"
   ]
  },
  {
   "cell_type": "code",
   "execution_count": 93,
   "id": "a3021d93",
   "metadata": {},
   "outputs": [
    {
     "data": {
      "text/plain": [
       "['12', '03', '12']"
      ]
     },
     "execution_count": 93,
     "metadata": {},
     "output_type": "execute_result"
    }
   ],
   "source": [
    "import re \n",
    "\n",
    "A = '12har03@#12'\n",
    "\n",
    "re.findall('[0-9][0-9]',A)"
   ]
  },
  {
   "cell_type": "code",
   "execution_count": 96,
   "id": "31d386e5",
   "metadata": {},
   "outputs": [
    {
     "name": "stdout",
     "output_type": "stream",
     "text": [
      "['H', 'a', 'r', 's', 'h', 'a', 'L', 'i']\n"
     ]
    }
   ],
   "source": [
    "import re\n",
    "\n",
    "A = 'HarshaLi'\n",
    "result = re.findall('[a-zA-Z]', A)\n",
    "print(result)\n"
   ]
  },
  {
   "cell_type": "code",
   "execution_count": 97,
   "id": "67ce1698",
   "metadata": {},
   "outputs": [
    {
     "data": {
      "text/plain": [
       "['Jo', 'Sc', 'Li']"
      ]
     },
     "execution_count": 97,
     "metadata": {},
     "output_type": "execute_result"
    }
   ],
   "source": [
    "A = 'Jon has a Scored 80 and Lisha got 90'\n",
    "\n",
    "re.findall('[A-Z][a-z]',A)"
   ]
  },
  {
   "cell_type": "code",
   "execution_count": 107,
   "id": "8d42bfa8",
   "metadata": {},
   "outputs": [
    {
     "name": "stdout",
     "output_type": "stream",
     "text": [
      "['@', '#', '%', '?']\n"
     ]
    }
   ],
   "source": [
    "import re\n",
    "\n",
    "A = 'harshali@#%?\\\\'\n",
    "result = re.findall(\"[#@%?$zz]\", A)\n",
    "print(result)\n",
    "\n",
    "\n",
    "\n"
   ]
  },
  {
   "cell_type": "markdown",
   "id": "8de5d309",
   "metadata": {},
   "source": [
    "# Regex Function "
   ]
  },
  {
   "cell_type": "code",
   "execution_count": 110,
   "id": "06729cc7",
   "metadata": {},
   "outputs": [
    {
     "data": {
      "text/plain": [
       "['a', 'a', 'b', 'c']"
      ]
     },
     "execution_count": 110,
     "metadata": {},
     "output_type": "execute_result"
    }
   ],
   "source": [
    "import re \n",
    "\n",
    "A = 'aabc@!#'\n",
    "\n",
    "re.findall('[\\w]',A)"
   ]
  },
  {
   "cell_type": "code",
   "execution_count": 111,
   "id": "ddd3ffe4",
   "metadata": {},
   "outputs": [
    {
     "data": {
      "text/plain": [
       "<re.Match object; span=(0, 1), match='a'>"
      ]
     },
     "execution_count": 111,
     "metadata": {},
     "output_type": "execute_result"
    }
   ],
   "source": [
    "import re \n",
    "\n",
    "A = 'aabc@!#'\n",
    "\n",
    "re.search('[\\w]',A)"
   ]
  },
  {
   "cell_type": "code",
   "execution_count": 119,
   "id": "f3a0109a",
   "metadata": {},
   "outputs": [
    {
     "name": "stdout",
     "output_type": "stream",
     "text": [
      "re.compile('\\\\d+')\n",
      "<re.Match object; span=(3, 6), match='123'>\n",
      "['456']\n"
     ]
    }
   ],
   "source": [
    "# With re.compile\n",
    "pattern = re.compile('\\d+')\n",
    "result1 = pattern.search('abc123xyz')\n",
    "result2 = pattern.findall('def456ghi')\n",
    "\n",
    "print(pattern)\n",
    "print(result1)\n",
    "print(result2)"
   ]
  },
  {
   "cell_type": "code",
   "execution_count": 120,
   "id": "021b477e",
   "metadata": {},
   "outputs": [
    {
     "name": "stdout",
     "output_type": "stream",
     "text": [
      "['apple', 'orange', 'banana', 'grape']\n"
     ]
    }
   ],
   "source": [
    "import re\n",
    "\n",
    "# Splitting a string at each occurrence of a comma\n",
    "input_string = \"apple,orange,banana,grape\"\n",
    "result = re.split(',', input_string)\n",
    "\n",
    "print(result)\n"
   ]
  },
  {
   "cell_type": "code",
   "execution_count": 126,
   "id": "6e38ede4",
   "metadata": {},
   "outputs": [
    {
     "name": "stdout",
     "output_type": "stream",
     "text": [
      "abcNUMxyzNUM\n"
     ]
    }
   ],
   "source": [
    "A ='abc123xyz456'\n",
    "\n",
    "new_string = re.sub(r'\\d+', 'NUM', A)\n",
    "print(new_string)\n"
   ]
  },
  {
   "cell_type": "code",
   "execution_count": 127,
   "id": "b8817d8c",
   "metadata": {},
   "outputs": [
    {
     "name": "stdout",
     "output_type": "stream",
     "text": [
      "('abcNUMxyzNUM', 2)\n"
     ]
    }
   ],
   "source": [
    "A ='abc123xyz456'\n",
    "\n",
    "new_string = re.subn(r'\\d+', 'NUM', A)\n",
    "print(new_string)\n"
   ]
  },
  {
   "cell_type": "code",
   "execution_count": 136,
   "id": "2df54891",
   "metadata": {},
   "outputs": [
    {
     "data": {
      "text/plain": [
       "'harshali%\\\\ @\\\\ vils\\\\ sonawane'"
      ]
     },
     "execution_count": 136,
     "metadata": {},
     "output_type": "execute_result"
    }
   ],
   "source": [
    "A = 'harshali% @ vils sonawane'\n",
    "\n",
    "re.escape(A)"
   ]
  },
  {
   "cell_type": "code",
   "execution_count": 134,
   "id": "02cb38d6",
   "metadata": {},
   "outputs": [
    {
     "name": "stdout",
     "output_type": "stream",
     "text": [
      "\\.\\*\\+\\?\\(\\)\\[\\]\\{\\}\\|\\\\\\^\\$\n"
     ]
    }
   ],
   "source": [
    "import re\n",
    "\n",
    "special_chars = \".*+?()[]{}|\\^$\"\n",
    "pattern = re.escape(special_chars)\n",
    "\n",
    "print(pattern)"
   ]
  },
  {
   "cell_type": "code",
   "execution_count": 137,
   "id": "ff7c72d4",
   "metadata": {},
   "outputs": [
    {
     "name": "stdout",
     "output_type": "stream",
     "text": [
      "No match\n"
     ]
    }
   ],
   "source": [
    "import re\n",
    "\n",
    "special_chars = \".*+?()[]{}|\\^$\"\n",
    "pattern = re.escape(special_chars)\n",
    "\n",
    "text = \"Escape these: . * + ? ( ) [ ] { } | \\ ^ $\"\n",
    "\n",
    "# Using the escaped pattern for literal matching\n",
    "match = re.search(pattern, text)\n",
    "\n",
    "if match:\n",
    "    print(\"Found a match:\", match.group())\n",
    "else:\n",
    "    print(\"No match\")\n"
   ]
  },
  {
   "cell_type": "markdown",
   "id": "1745a578",
   "metadata": {},
   "source": [
    "## Phone number Verification "
   ]
  },
  {
   "cell_type": "code",
   "execution_count": 140,
   "id": "2a867ffc",
   "metadata": {},
   "outputs": [
    {
     "name": "stdout",
     "output_type": "stream",
     "text": [
      "Mobile no is verified number\n"
     ]
    }
   ],
   "source": [
    "import re \n",
    "\n",
    "phone_no = '9307-9226-00'\n",
    "\n",
    "if re.search('\\d{4}-\\d{4}-\\d{2}',phone_no):\n",
    "    print('Mobile no is verified number')\n",
    "else:\n",
    "    print('Mobile number is not valid')"
   ]
  },
  {
   "cell_type": "markdown",
   "id": "efc2343e",
   "metadata": {},
   "source": [
    "## Email Addres Verification "
   ]
  },
  {
   "cell_type": "code",
   "execution_count": 3,
   "id": "d5e54d8c",
   "metadata": {},
   "outputs": [
    {
     "name": "stdout",
     "output_type": "stream",
     "text": [
      "Entere Emil_id :harshali68@gmail.com\n",
      "Email_id is valid\n"
     ]
    }
   ],
   "source": [
    "import re\n",
    "\n",
    "A = input('Entere Emil_id :')\n",
    "\n",
    "if re.search( '\\w\\d+@gmail.com' ,A):\n",
    "    print('Email_id is valid')\n",
    "else:\n",
    "    print('entre valid email id ')\n",
    "    "
   ]
  },
  {
   "cell_type": "markdown",
   "id": "30d983b3",
   "metadata": {},
   "source": [
    "## web Scraping "
   ]
  },
  {
   "cell_type": "code",
   "execution_count": 14,
   "id": "35eae8e3",
   "metadata": {},
   "outputs": [
    {
     "name": "stdout",
     "output_type": "stream",
     "text": [
      "['1544586448', '1544586448', '1544586448', '1544586448', '1544586448', '1544586448', '1544586448', '1544586448', '1544586448', '1544586448', '1544586448', '2206260628', '2054306877', '2201260713', '2254116674', '7001010530', '8867894000', '2394022856', '7001010530', '8867894000', '2336402629', '7001010530', '2425642243', '7001010530', '8867890005', '2400163650', '7001010530', '2211116759', '2208080556', '1884654124', '2107270328', '2216508073', '2208150450', '8048372319', '1544586448', '1544586448', '1544586448', '1544586448', '1544586448', '1544586448', '1544586448']\n",
      "1544586448\n",
      "1544586448\n",
      "1544586448\n",
      "1544586448\n",
      "1544586448\n",
      "1544586448\n",
      "1544586448\n",
      "1544586448\n",
      "1544586448\n",
      "1544586448\n",
      "1544586448\n",
      "2206260628\n",
      "2054306877\n",
      "2201260713\n",
      "2254116674\n",
      "7001010530\n",
      "8867894000\n",
      "2394022856\n",
      "7001010530\n",
      "8867894000\n",
      "2336402629\n",
      "7001010530\n",
      "2425642243\n",
      "7001010530\n",
      "8867890005\n",
      "2400163650\n",
      "7001010530\n",
      "2211116759\n",
      "2208080556\n",
      "1884654124\n",
      "2107270328\n",
      "2216508073\n",
      "2208150450\n",
      "8048372319\n",
      "1544586448\n",
      "1544586448\n",
      "1544586448\n",
      "1544586448\n",
      "1544586448\n",
      "1544586448\n",
      "1544586448\n"
     ]
    }
   ],
   "source": [
    "import re \n",
    "import urllib\n",
    "\n",
    "url = 'https://www.indiamart.com/proddetail/fancy-mobile-numbers-15445864488.html'\n",
    "a= urllib.request.urlopen(url)\n",
    "html = a.read()\n",
    "htmlstr = html.decode()\n",
    "ph = re.findall('\\d{10}',htmlstr)\n",
    "print(ph)\n",
    "\n",
    "for i in ph:\n",
    "    print(i)"
   ]
  },
  {
   "cell_type": "code",
   "execution_count": null,
   "id": "fad69401",
   "metadata": {},
   "outputs": [],
   "source": []
  }
 ],
 "metadata": {
  "kernelspec": {
   "display_name": "Python 3 (ipykernel)",
   "language": "python",
   "name": "python3"
  },
  "language_info": {
   "codemirror_mode": {
    "name": "ipython",
    "version": 3
   },
   "file_extension": ".py",
   "mimetype": "text/x-python",
   "name": "python",
   "nbconvert_exporter": "python",
   "pygments_lexer": "ipython3",
   "version": "3.10.9"
  }
 },
 "nbformat": 4,
 "nbformat_minor": 5
}
