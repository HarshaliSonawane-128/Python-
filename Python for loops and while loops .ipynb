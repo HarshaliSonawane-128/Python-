{
 "cells": [
  {
   "cell_type": "code",
   "execution_count": null,
   "id": "cad894aa",
   "metadata": {},
   "outputs": [],
   "source": [
    "\"\"\" Write a Python program to check the validity of passwords input by users.\n",
    "Validation :\n",
    "\n",
    "At least 1 letter between [a-z] and 1 letter between [A-Z].\n",
    "At least 1 number between [0-9].\n",
    "At least 1 character from [$#@].\n",
    "Minimum length 6 characters.\n",
    "Maximum length 16 characters.\"\"\"\n",
    "\n",
    "\n",
    "import re\n",
    "p= input(\"Input your password\")\n",
    "x = True\n",
    "while x:  \n",
    "    if (len(p)<6 or len(p)>12):\n",
    "        break\n",
    "    elif not re.search(\"[a-z]\",p):\n",
    "        break\n",
    "    elif not re.search(\"[0-9]\",p):\n",
    "        break\n",
    "    elif not re.search(\"[A-Z]\",p):\n",
    "        break\n",
    "    elif not re.search(\"[$#@]\",p):\n",
    "        break\n",
    "    elif re.search(\"\\s\",p):\n",
    "        break\n",
    "    else:\n",
    "        print(\"Valid Password\")\n",
    "        x=False\n",
    "        break\n",
    "\n",
    "if x:\n",
    "    print(\"Not a Valid Password\")\n"
   ]
  },
  {
   "cell_type": "code",
   "execution_count": 3,
   "id": "33095bcf",
   "metadata": {},
   "outputs": [
    {
     "name": "stdout",
     "output_type": "stream",
     "text": [
      "0 1 2 3 4 5 6 7 8 9 10 "
     ]
    }
   ],
   "source": [
    "# print the first 10 natural numbers using loop\n",
    "\n",
    "for i in range (11) :\n",
    "    print (i,end = ' ')"
   ]
  },
  {
   "cell_type": "code",
   "execution_count": 5,
   "id": "d0a7779d",
   "metadata": {},
   "outputs": [
    {
     "name": "stdout",
     "output_type": "stream",
     "text": [
      "0\n",
      "2\n",
      "4\n",
      "6\n",
      "8\n"
     ]
    }
   ],
   "source": [
    "#: Python program to print all the even numbers within the given range.\n",
    "\n",
    "for i in range (10):\n",
    "    if i%2 == 0 :\n",
    "        print(i)"
   ]
  },
  {
   "cell_type": "code",
   "execution_count": 8,
   "id": "a42f4cb5",
   "metadata": {},
   "outputs": [
    {
     "name": "stdout",
     "output_type": "stream",
     "text": [
      "The sum of all numbers from 1 to 10 is: 55\n"
     ]
    }
   ],
   "source": [
    "#  Python program to calculate the sum of all numbers from 1 to a given number.\n",
    "\n",
    "n= 10\n",
    "total_sum = 0\n",
    "\n",
    "for i in range (1,n+1):\n",
    "    total_sum += i\n",
    "print(\"The sum of all numbers from 1 to\", n, \"is:\", total_sum)    \n"
   ]
  },
  {
   "cell_type": "code",
   "execution_count": 11,
   "id": "648d168e",
   "metadata": {},
   "outputs": [
    {
     "name": "stdout",
     "output_type": "stream",
     "text": [
      "25\n"
     ]
    }
   ],
   "source": [
    "# Python program to calculate the sum of all the odd numbers within the given range.\n",
    "\n",
    "n= 10 \n",
    "sum_odd = 0 \n",
    "for i in range (1 ,n+1):\n",
    "    if i%2 != 0:\n",
    "        sum_odd +=i\n",
    "print(sum_odd)\n"
   ]
  },
  {
   "cell_type": "code",
   "execution_count": 14,
   "id": "1290ea0a",
   "metadata": {},
   "outputs": [
    {
     "name": "stdout",
     "output_type": "stream",
     "text": [
      "entre number2\n",
      "2 x 1 = 2\n",
      "2 x 2 = 4\n",
      "2 x 3 = 6\n",
      "2 x 4 = 8\n",
      "2 x 5 = 10\n",
      "2 x 6 = 12\n",
      "2 x 7 = 14\n",
      "2 x 8 = 16\n",
      "2 x 9 = 18\n",
      "2 x 10 = 20\n"
     ]
    }
   ],
   "source": [
    "#Python program to print a multiplication table of a given number\n",
    "\n",
    "number  = int(input('entre number'))\n",
    "\n",
    "for i in range (1,11):\n",
    "    result = number*i\n",
    "    print(f\"{number} x {i} = {result}\")\n"
   ]
  },
  {
   "cell_type": "code",
   "execution_count": 15,
   "id": "044e8f59",
   "metadata": {},
   "outputs": [
    {
     "name": "stdout",
     "output_type": "stream",
     "text": [
      "1 2 3 4 5 6 "
     ]
    }
   ],
   "source": [
    "#  Python program to display numbers from a list using a for loop.\n",
    "\n",
    "A = [1,2,3,4,5,6]\n",
    "\n",
    "for i in A:\n",
    "    print(i ,end =' ')"
   ]
  },
  {
   "cell_type": "code",
   "execution_count": 1,
   "id": "f145ddac",
   "metadata": {},
   "outputs": [
    {
     "name": "stdout",
     "output_type": "stream",
     "text": [
      "entre number2\n",
      "total number of digit 1\n"
     ]
    }
   ],
   "source": [
    "#Python program to count the total number of digits in a number.\n",
    "\n",
    "num= int(input('entre number'))\n",
    "count = 0\n",
    "\n",
    "while num >0:\n",
    "    num = num//10\n",
    "    count+=1 \n",
    "print('total number of digit' , count)"
   ]
  },
  {
   "cell_type": "code",
   "execution_count": 4,
   "id": "6198296e",
   "metadata": {},
   "outputs": [
    {
     "name": "stdout",
     "output_type": "stream",
     "text": [
      "entre number45\n",
      "2\n"
     ]
    }
   ],
   "source": [
    "num= int(input('entre number'))\n",
    "num = str(num)\n",
    "count = 0\n",
    "\n",
    "for i in num:\n",
    "    count+= 1\n",
    "print(count)"
   ]
  },
  {
   "cell_type": "code",
   "execution_count": 12,
   "id": "64ead839",
   "metadata": {},
   "outputs": [
    {
     "name": "stdout",
     "output_type": "stream",
     "text": [
      "thestring madam is palindrime\n"
     ]
    }
   ],
   "source": [
    "# Python program to check if the given string is a palindrome.\n",
    "\n",
    "given_string = 'madam'\n",
    "reverse_string = given_string[::-1]\n",
    "if given_string == reverse_string:\n",
    "    print('thestring', given_string ,'is palindrime')\n",
    "else:\n",
    "    print(\"The string\",given_string,\"is NOT a Palindrome.\")"
   ]
  },
  {
   "cell_type": "code",
   "execution_count": 13,
   "id": "7c7d7213",
   "metadata": {},
   "outputs": [
    {
     "name": "stdout",
     "output_type": "stream",
     "text": [
      "entre wordhasjalui\n",
      "reversed word: iulajsah\n"
     ]
    }
   ],
   "source": [
    "#Python program that accepts a word from the user and reverses it.\n",
    "\n",
    "word = input('entre word')\n",
    "reverse_string = word[::-1]\n",
    "print('reversed word:',reverse_string)"
   ]
  },
  {
   "cell_type": "code",
   "execution_count": 15,
   "id": "277ca3d2",
   "metadata": {},
   "outputs": [
    {
     "name": "stdout",
     "output_type": "stream",
     "text": [
      "The given number 153 is an Amstrong number.\n"
     ]
    }
   ],
   "source": [
    "#Python program to check if a given number is an Armstrong number\n",
    "\n",
    "\n",
    "given_number = 153\n",
    "given_number = str(given_number)\n",
    "string_length = len(given_number)\n",
    " \n",
    "sum = 0\n",
    "\n",
    "for i in given_number:\n",
    "    sum += int(i)**string_length\n",
    "if sum == int(given_number):\n",
    "    print(\"The given number\",given_number,\"is an Amstrong number.\")\n",
    "else:\n",
    "    print(\"The given number\",given_number,\"is Not an Amstrong number.\")\n",
    "\n"
   ]
  },
  {
   "cell_type": "code",
   "execution_count": 2,
   "id": "9c871091",
   "metadata": {},
   "outputs": [
    {
     "name": "stdout",
     "output_type": "stream",
     "text": [
      "Enter a number: 153\n",
      "153 is an Armstrong number.\n"
     ]
    }
   ],
   "source": [
    "num = int(input('Enter a number: '))\n",
    "num_digit = len(str(num))\n",
    "\n",
    "sum_digits = 0\n",
    "temp = num  # Use a temporary variable to store a copy of the original number\n",
    "\n",
    "while temp > 0:\n",
    "    digit = temp % 10\n",
    "    sum_digits += digit ** num_digit\n",
    "    temp //= 10\n",
    "\n",
    "if num == sum_digits:\n",
    "    print(f\"{num} is an Armstrong number.\")\n",
    "else:\n",
    "    print(f\"{num} is not an Armstrong number.\")"
   ]
  },
  {
   "cell_type": "code",
   "execution_count": 6,
   "id": "ba8d26f0",
   "metadata": {},
   "outputs": [
    {
     "name": "stdout",
     "output_type": "stream",
     "text": [
      "Enter a number: 79\n",
      "0 is not an Armstrong number.\n"
     ]
    }
   ],
   "source": [
    "num = int(input('Enter a number: '))\n",
    "num_digit = len(str(num))\n",
    "\n",
    "sum_digits = 0\n",
    "for _ in range(num_digit):\n",
    "    digit = num%10\n",
    "    sum_digits += digit**num_digit\n",
    "    num//=10\n",
    "        \n",
    "if num== sum_digits:\n",
    "    print(f\"{num} is an Armstrong number.\")\n",
    "else:\n",
    "    \n",
    "    print(f\"{num} is not an Armstrong number.\")"
   ]
  },
  {
   "cell_type": "code",
   "execution_count": 14,
   "id": "10407f78",
   "metadata": {},
   "outputs": [
    {
     "name": "stdout",
     "output_type": "stream",
     "text": [
      "1 is an odd number.\n",
      "3 is an odd number.\n",
      "5 is an odd number.\n",
      "6 is an even number.\n",
      "99 is an odd number.\n",
      "134 is an even number.\n",
      "55 is an odd number.\n"
     ]
    }
   ],
   "source": [
    "#Python program to count the number of even and odd numbers from a series of numbers.\n",
    "num_list = [1,3,5,6,99,134,55]\n",
    " \n",
    "for i in num_list:\n",
    "    if i%2==0:\n",
    "        print(i,\"is an even number.\")\n",
    "    else:\n",
    "        print(i,\"is an odd number.\")"
   ]
  },
  {
   "cell_type": "code",
   "execution_count": 8,
   "id": "9c069115",
   "metadata": {},
   "outputs": [],
   "source": [
    "# Python program to display all numbers within a range except the prime numbers\n"
   ]
  },
  {
   "cell_type": "markdown",
   "id": "4e85b22e",
   "metadata": {},
   "source": [
    "# For loop"
   ]
  },
  {
   "cell_type": "code",
   "execution_count": 19,
   "id": "b287ef3c",
   "metadata": {},
   "outputs": [
    {
     "name": "stdout",
     "output_type": "stream",
     "text": [
      "m ?\n",
      "y ?\n",
      "b ?\n",
      "l ?\n",
      "o ?\n",
      "g ?\n"
     ]
    }
   ],
   "source": [
    "for i in 'myblog':\n",
    "    print(i ,'?')"
   ]
  },
  {
   "cell_type": "code",
   "execution_count": 30,
   "id": "fb2e2401",
   "metadata": {},
   "outputs": [
    {
     "name": "stdout",
     "output_type": "stream",
     "text": [
      "0\n",
      "1\n",
      "2\n",
      "3\n",
      "4\n",
      "5\n",
      "6\n",
      "7\n",
      "8\n",
      "9\n",
      "10\n"
     ]
    }
   ],
   "source": [
    "# write a programme to print forst 10 natral number\n",
    "for i in  range (11):\n",
    "    print (i)"
   ]
  },
  {
   "cell_type": "code",
   "execution_count": 31,
   "id": "c0b0f185",
   "metadata": {},
   "outputs": [
    {
     "name": "stdout",
     "output_type": "stream",
     "text": [
      "0\n",
      "2\n",
      "4\n",
      "6\n",
      "8\n",
      "10\n"
     ]
    }
   ],
   "source": [
    "# write a programme to print forst 10 even number\n",
    "for i in range (11):\n",
    "    if i%2 == 0:\n",
    "        print(i)"
   ]
  },
  {
   "cell_type": "code",
   "execution_count": 32,
   "id": "e5b9c6aa",
   "metadata": {},
   "outputs": [
    {
     "name": "stdout",
     "output_type": "stream",
     "text": [
      "1\n",
      "3\n",
      "5\n",
      "7\n",
      "9\n"
     ]
    }
   ],
   "source": [
    "# write a programme to print forst 10 odd number\n",
    "for i in range (11):\n",
    "    if i%2 != 0:\n",
    "        print(i)"
   ]
  },
  {
   "cell_type": "code",
   "execution_count": 34,
   "id": "cf1a875c",
   "metadata": {},
   "outputs": [
    {
     "name": "stdout",
     "output_type": "stream",
     "text": [
      "20\n",
      "18\n",
      "16\n",
      "14\n",
      "12\n",
      "10\n",
      "8\n",
      "6\n",
      "4\n",
      "2\n"
     ]
    }
   ],
   "source": [
    "#write a programme to print first 10 even numbers in reverse order.\n",
    "for i in range (20 ,0,-2):\n",
    "        print(i)"
   ]
  },
  {
   "cell_type": "code",
   "execution_count": 38,
   "id": "44d5869f",
   "metadata": {},
   "outputs": [
    {
     "name": "stdout",
     "output_type": "stream",
     "text": [
      "entre number4\n",
      "factorial is  4\n"
     ]
    }
   ],
   "source": [
    "# write a programme to find the factrorial of a number\n",
    "\n",
    "num = int(input('entre number'))\n",
    "f = 1\n",
    "for i in range (1,num+1):\n",
    "    F= f*i\n",
    "print('factorial is ', F)\n"
   ]
  },
  {
   "cell_type": "code",
   "execution_count": 4,
   "id": "18864575",
   "metadata": {},
   "outputs": [
    {
     "name": "stdout",
     "output_type": "stream",
     "text": [
      "entre number5\n",
      "sum of digits 4\n"
     ]
    }
   ],
   "source": [
    "# write a programme to find the sum of digit of a number accepted from user \n",
    "\n",
    "num = int(input('entre number'))\n",
    "s =0\n",
    "\n",
    "while num:\n",
    "    digit = i%10 \n",
    "    s+=digit\n",
    "    num //= 10\n",
    "    print('sum of digits', s)"
   ]
  },
  {
   "cell_type": "code",
   "execution_count": 6,
   "id": "e33f2f57",
   "metadata": {},
   "outputs": [
    {
     "name": "stdout",
     "output_type": "stream",
     "text": [
      "entre number34\n",
      "prime number\n"
     ]
    }
   ],
   "source": [
    "# write a programme to check whether a number is prime or not \n",
    "\n",
    "num = int(input('entre number'))\n",
    "\n",
    "if num% 1 == 0 and num% num == 0:\n",
    "    print('prime number')\n",
    "else:\n",
    "    print('not prime number')"
   ]
  },
  {
   "cell_type": "code",
   "execution_count": 9,
   "id": "e77204ba",
   "metadata": {},
   "outputs": [
    {
     "name": "stdout",
     "output_type": "stream",
     "text": [
      "1\n",
      "10\n"
     ]
    }
   ],
   "source": [
    "for i in (1,10):\n",
    "    print(i)"
   ]
  },
  {
   "cell_type": "code",
   "execution_count": 10,
   "id": "6979f001",
   "metadata": {},
   "outputs": [
    {
     "name": "stdout",
     "output_type": "stream",
     "text": [
      "2\n",
      "3\n",
      "4\n",
      "5\n",
      "6\n"
     ]
    }
   ],
   "source": [
    "for i in range (2,7):\n",
    "    print(i)"
   ]
  },
  {
   "cell_type": "code",
   "execution_count": 13,
   "id": "bb35f4d2",
   "metadata": {},
   "outputs": [
    {
     "ename": "NameError",
     "evalue": "name 'end' is not defined",
     "output_type": "error",
     "traceback": [
      "\u001b[1;31m---------------------------------------------------------------------------\u001b[0m",
      "\u001b[1;31mNameError\u001b[0m                                 Traceback (most recent call last)",
      "Cell \u001b[1;32mIn[13], line 2\u001b[0m\n\u001b[0;32m      1\u001b[0m \u001b[38;5;28;01mfor\u001b[39;00m i \u001b[38;5;129;01min\u001b[39;00m \u001b[38;5;124m'\u001b[39m\u001b[38;5;124mpYTHON\u001b[39m\u001b[38;5;124m'\u001b[39m:\n\u001b[1;32m----> 2\u001b[0m     \u001b[38;5;28mprint\u001b[39m(i , \u001b[43mend\u001b[49m \u001b[38;5;241m==\u001b[39m \u001b[38;5;124m'\u001b[39m\u001b[38;5;124m?\u001b[39m\u001b[38;5;124m'\u001b[39m)\n",
      "\u001b[1;31mNameError\u001b[0m: name 'end' is not defined"
     ]
    }
   ],
   "source": [
    "for i in 'pYTHON':\n",
    "    print(i , end == '?')"
   ]
  },
  {
   "cell_type": "code",
   "execution_count": 14,
   "id": "99a08424",
   "metadata": {},
   "outputs": [
    {
     "name": "stdout",
     "output_type": "stream",
     "text": [
      "25\n",
      "64\n",
      "121\n",
      "196\n"
     ]
    }
   ],
   "source": [
    "x= 5 \n",
    "while x<15:\n",
    "    print(x**2)\n",
    "    x+=3 "
   ]
  },
  {
   "cell_type": "code",
   "execution_count": 16,
   "id": "94db823a",
   "metadata": {},
   "outputs": [
    {
     "name": "stdout",
     "output_type": "stream",
     "text": [
      "12\n",
      "13\n"
     ]
    }
   ],
   "source": [
    "a = 7\n",
    "b = 5\n",
    "while (a < 9):\n",
    "    print(a+b)\n",
    "    a+=1"
   ]
  },
  {
   "cell_type": "code",
   "execution_count": 20,
   "id": "20647853",
   "metadata": {},
   "outputs": [],
   "source": [
    "b =5 \n",
    "while( b>9) :\n",
    "    print('H')\n",
    "    b+=1"
   ]
  },
  {
   "cell_type": "code",
   "execution_count": 21,
   "id": "6b310e13",
   "metadata": {},
   "outputs": [
    {
     "name": "stdout",
     "output_type": "stream",
     "text": [
      "hello\n",
      "hello\n",
      "hello\n"
     ]
    }
   ],
   "source": [
    "b = 15\n",
    "while (b>9):\n",
    "    print('hello')\n",
    "    b = b-2"
   ]
  },
  {
   "cell_type": "code",
   "execution_count": 22,
   "id": "d657e8e6",
   "metadata": {},
   "outputs": [
    {
     "name": "stdout",
     "output_type": "stream",
     "text": [
      "hello\n"
     ]
    }
   ],
   "source": [
    "x =15 \n",
    "while (x==15):\n",
    "    print('hello')\n",
    "    x =x-3"
   ]
  },
  {
   "cell_type": "code",
   "execution_count": 24,
   "id": "afd3a935",
   "metadata": {},
   "outputs": [
    {
     "name": "stdout",
     "output_type": "stream",
     "text": [
      "****\n",
      "***\n",
      "**\n",
      "*\n",
      "\n"
     ]
    }
   ],
   "source": [
    "for i in range(5):\n",
    "    for j in range(4-i):\n",
    "        print('*',end ='')\n",
    "    print()\n"
   ]
  },
  {
   "cell_type": "code",
   "execution_count": 5,
   "id": "2766a8f1",
   "metadata": {},
   "outputs": [
    {
     "name": "stdout",
     "output_type": "stream",
     "text": [
      "avergage of 10 number is: 4.5\n"
     ]
    }
   ],
   "source": [
    "### accept 10 numbers fromm the user and display their averaage .\n",
    "total = 0\n",
    "for i in range(10):\n",
    "   # num = int(input(f'entre number{i+1}: '))\n",
    "    total +=i\n",
    "average = total /10\n",
    "print('avergage of 10 number is:', average)    \n",
    "    "
   ]
  },
  {
   "cell_type": "code",
   "execution_count": 9,
   "id": "7e2ee2fb",
   "metadata": {},
   "outputs": [
    {
     "name": "stdout",
     "output_type": "stream",
     "text": [
      "entre number1: 1\n",
      "entre number2: 2\n",
      "entre number3: 3\n",
      "entre number4: 4\n",
      "entre number5: 5\n",
      "entre number6: 6\n",
      "entre number7: 7\n",
      "entre number8: 8\n",
      "entre number9: 9\n",
      "entre number10: 10\n",
      "avergage of 10 number is: 5.5\n"
     ]
    }
   ],
   "source": [
    "### accept 10 numbers fromm the user and display their averaage .\n",
    "total = 0\n",
    "for i in range(10):\n",
    "    num = int(input(f'entre number{i+1}: '))\n",
    "    total +=num\n",
    "average = total /10\n",
    "print('avergage of 10 number is:', average)    \n",
    "    "
   ]
  },
  {
   "cell_type": "code",
   "execution_count": 2,
   "id": "b447165c",
   "metadata": {},
   "outputs": [
    {
     "name": "stdout",
     "output_type": "stream",
     "text": [
      "Enter number 1: 1\n",
      "Enter number 2: 2\n",
      "Enter number 3: 3\n",
      "Enter number 4: 4\n",
      "Enter number 5: 5\n",
      "Enter number 6: 6\n",
      "Enter number 7: 7\n",
      "Enter number 8: 8\n",
      "Enter number 9: 9\n",
      "Enter number 10: 10\n",
      "The average of the 10 numbers is: 5.5 55.0\n"
     ]
    }
   ],
   "source": [
    "total = 0\n",
    "for i in range(10):\n",
    "    num = float(input(f\"Enter number {i + 1}: \"))\n",
    "    total += num\n",
    "\n",
    "average = total / 10\n",
    "\n",
    "print(f\"The average of the 10 numbers is: {average}\",total)"
   ]
  },
  {
   "cell_type": "code",
   "execution_count": null,
   "id": "24f2ae28",
   "metadata": {},
   "outputs": [],
   "source": [
    "# write a programme to print prime numbers that fall between two numbers including both (accept two numbres from user)\n",
    "\n"
   ]
  },
  {
   "cell_type": "code",
   "execution_count": 11,
   "id": "d94e8fec",
   "metadata": {},
   "outputs": [
    {
     "name": "stdout",
     "output_type": "stream",
     "text": [
      "entre number:5\n",
      "120\n"
     ]
    }
   ],
   "source": [
    "# write a programme in python to display the factorial of number\n",
    "\n",
    "n = int(input('entre number:'))\n",
    "if (n==0 or n< 0):\n",
    "    print('n should bt greter than 0')\n",
    "else:\n",
    "    fact = 1\n",
    "    while (n):\n",
    "        fact*=n\n",
    "        n= n-1\n",
    "    print(fact)"
   ]
  },
  {
   "cell_type": "code",
   "execution_count": 17,
   "id": "c52a7d78",
   "metadata": {},
   "outputs": [
    {
     "name": "stdout",
     "output_type": "stream",
     "text": [
      "Input a word to reverse: python\n",
      "nohtyp\n",
      "\n"
     ]
    }
   ],
   "source": [
    "#write a programm in python to reverse a word \n",
    "\n",
    "str = input(\"Input a word to reverse: \")\n",
    "\n",
    "for i in range(len(str) - 1, -1, -1):\n",
    "  print(str[i], end=\"\")\n",
    "print(\"\\n\")"
   ]
  },
  {
   "cell_type": "code",
   "execution_count": 1,
   "id": "4530ea00",
   "metadata": {},
   "outputs": [
    {
     "name": "stdout",
     "output_type": "stream",
     "text": [
      "entre range : 10\n",
      "10 9 8 7 6 5 4 3 2 1 "
     ]
    }
   ],
   "source": [
    "# write a programme to print n natural number in asending order using a while loop\n",
    "\n",
    "n = int(input('entre range : '))\n",
    "\n",
    "while (n != 0 ):10\n",
    "    print(n,end = ' ')\n",
    "    n = n-1"
   ]
  },
  {
   "cell_type": "code",
   "execution_count": 4,
   "id": "9b1f862d",
   "metadata": {},
   "outputs": [
    {
     "name": "stdout",
     "output_type": "stream",
     "text": [
      "0 7 14 21 28 35 42 49 "
     ]
    }
   ],
   "source": [
    "# write a programme to display the first 7 multiplies of 7\n",
    "\n",
    "for i in range (8):\n",
    "    m = i*7\n",
    "    print(m, end = ' ')"
   ]
  },
  {
   "cell_type": "code",
   "execution_count": 15,
   "id": "3593810d",
   "metadata": {},
   "outputs": [
    {
     "name": "stdout",
     "output_type": "stream",
     "text": [
      "result [1, 4, 9, 16, 25]\n"
     ]
    }
   ],
   "source": [
    "# write a programme that appends the square of each number to a new list \n",
    "\n",
    "A = [1,2,3,4,5]\n",
    "Z = []\n",
    "for i in range(len(A)):\n",
    "    Z.append(A[i]**2)\n",
    "print('result:',Z)"
   ]
  },
  {
   "cell_type": "code",
   "execution_count": 19,
   "id": "242aa9a8",
   "metadata": {},
   "outputs": [
    {
     "name": "stdout",
     "output_type": "stream",
     "text": [
      "posotive number are: [-6, -9, -45, -8]\n",
      "negative number are: [23, 4, 23, 21, 3]\n"
     ]
    }
   ],
   "source": [
    "#seperate positive and negative number from a list.\n",
    "x = [23,4,-6,23,-9,21,3,-45,-8]\n",
    "a = []\n",
    "b =[]\n",
    "\n",
    "for i in range(len(x)):\n",
    "    if x[i] < 0:\n",
    "        a.append(x[i])\n",
    "    else:\n",
    "        b.append(x[i])\n",
    "print('posotive number are:', a)\n",
    "print('negative number are:',b)\n"
   ]
  },
  {
   "cell_type": "code",
   "execution_count": 22,
   "id": "a273035c",
   "metadata": {},
   "outputs": [
    {
     "name": "stdout",
     "output_type": "stream",
     "text": [
      "[<class 'int'>, <class 'str'>, <class 'float'>]\n"
     ]
    }
   ],
   "source": [
    "# write a programme that appends the type of elemnt from list \n",
    "\n",
    "x = [23 ,'python',23.98]\n",
    "a = [ ]\n",
    "\n",
    "for i in range(len(x)):\n",
    "    if i == 23:\n",
    "        a.append(type(x[i]))\n",
    "    elif i =='python':\n",
    "        a.append(type(x[i]))\n",
    "    else:\n",
    "        a.append(type(x[i]))\n",
    "print(a)"
   ]
  },
  {
   "cell_type": "code",
   "execution_count": 25,
   "id": "b48ceaf0",
   "metadata": {},
   "outputs": [
    {
     "name": "stdout",
     "output_type": "stream",
     "text": [
      "even number: [10, 24, 65, 90]\n",
      "odd number: [23, 35, 78]\n"
     ]
    }
   ],
   "source": [
    "# write a programme to filtere even and odd number from list \n",
    "\n",
    "X = [10,23,24,35,65,78,90]\n",
    "a = []\n",
    "b = []\n",
    "\n",
    "for i in range (len(X)):\n",
    "    if i%2 == 0 :\n",
    "        a.append(X[i])\n",
    "    else:\n",
    "        b.append(X[i])\n",
    "print('even number:',a)\n",
    "print('odd number:',b)"
   ]
  },
  {
   "cell_type": "code",
   "execution_count": 27,
   "id": "bdc2ee4e",
   "metadata": {},
   "outputs": [
    {
     "name": "stdout",
     "output_type": "stream",
     "text": [
      "10\n",
      "20\n",
      "22\n"
     ]
    }
   ],
   "source": [
    "# write a programme to fetch only even values from dictionary \n",
    "\n",
    "dic = {'val1':10, 'val2':20, 'val3':23, 'val4':22 }\n",
    "\n",
    "for key , value in dic.items():\n",
    "    if value%2 == 0:\n",
    "        print(value)"
   ]
  },
  {
   "cell_type": "code",
   "execution_count": null,
   "id": "0f3b4793",
   "metadata": {},
   "outputs": [],
   "source": [
    "#Write a for loop so that every item in the list is printed."
   ]
  },
  {
   "cell_type": "code",
   "execution_count": null,
   "id": "1e371d1a",
   "metadata": {},
   "outputs": [],
   "source": [
    "#Write a for loop which print \"Hello!, \" plus each name in the list. i.e.: \"Hello!, Sam\""
   ]
  },
  {
   "cell_type": "code",
   "execution_count": null,
   "id": "f951dfab",
   "metadata": {},
   "outputs": [],
   "source": [
    "#Write a for loop that iterates through a string and prints every letter."
   ]
  },
  {
   "cell_type": "code",
   "execution_count": null,
   "id": "c82a30bc",
   "metadata": {},
   "outputs": [],
   "source": [
    "#Type a code inside the for loop so that counter variable named c is increased by one each time loop iterates. Can you guess how many times it will add 1?."
   ]
  },
  {
   "cell_type": "code",
   "execution_count": null,
   "id": "0c760148",
   "metadata": {},
   "outputs": [],
   "source": [
    "#Using a for loop and .append() method append each item with a Dr. prefix to the lst."
   ]
  },
  {
   "cell_type": "code",
   "execution_count": null,
   "id": "48592183",
   "metadata": {},
   "outputs": [],
   "source": [
    "#Write a for loop which appends the square of each number to the new list."
   ]
  },
  {
   "cell_type": "code",
   "execution_count": null,
   "id": "31cf5368",
   "metadata": {},
   "outputs": [],
   "source": [
    "#Write a for loop using an if statement, that appends each number to the new list if it's positive.\n",
    "\n"
   ]
  },
  {
   "cell_type": "code",
   "execution_count": null,
   "id": "7ed4d7d6",
   "metadata": {},
   "outputs": [],
   "source": [
    "#Using for loop and if statement, append the value minus 1000 for each key to the new list if the value is above 1000. i.e.: if the value is 1500, 500 should be added to the new list.\n",
    "\n",
    "dict={\"z1\":900, \"t1\": 1100, \"p1\": 2300, \"r1\": 1050, \"k1\": 3200, \"g1\": 400}\n",
    "lst=[]\n"
   ]
  },
  {
   "cell_type": "code",
   "execution_count": 29,
   "id": "cecc6ab2",
   "metadata": {},
   "outputs": [],
   "source": [
    "#Write a for loop which appends the type of each element in the first list to the second list.\n"
   ]
  },
  {
   "cell_type": "code",
   "execution_count": null,
   "id": "972701ef",
   "metadata": {},
   "outputs": [],
   "source": [
    "#Write a while loop that adds all the numbers up to 100 (inclusive).\n",
    "\n"
   ]
  },
  {
   "cell_type": "code",
   "execution_count": 32,
   "id": "34dbdb5d",
   "metadata": {},
   "outputs": [
    {
     "name": "stdout",
     "output_type": "stream",
     "text": [
      "There is a 100 at index no: 12\n"
     ]
    }
   ],
   "source": [
    "#Using a while loop, len function, an if statement and the str() function; iterate through the given list and if there is a 100, assign a notification message to the variable my_message with the index of 100.\n",
    "#i.e.: \"There is a 100 at index no: 5\"\n",
    "    \n",
    "lst=[10, 99, 98, 85, 45, 59, 65, 66, 76, 12, 35, 13, 100, 80, 95]\n",
    "\n",
    "my_message=\"\"\n",
    "\n",
    "i = 0\n",
    "while i < len(lst):\n",
    "    if lst[i] == 100:\n",
    "        my_message = \"There is a 100 at index no: \" + str(i)\n",
    "    i = i+1\n",
    "print(my_message)"
   ]
  },
  {
   "cell_type": "code",
   "execution_count": 36,
   "id": "80e3ea4d",
   "metadata": {},
   "outputs": [
    {
     "name": "stdout",
     "output_type": "stream",
     "text": [
      "['Joe', 'Sarah', 'Mike', 'Jess', 'Matt', 'Greg']\n"
     ]
    }
   ],
   "source": [
    "#Using a while loop and an if statement write a function named name_adder which appends all the elements in a list to a new list unless the element is an empty string: \"\".\n",
    "\n",
    "\n",
    "lst1=[\"Joe\", \"Sarah\", \"Mike\", \"Jess\", \"\", \"Matt\", \"\", \"Greg\"]\n",
    "a = []\n",
    "\n",
    "i = 0 \n",
    "while i < len(lst1):\n",
    "    if lst1[i] != \"\":\n",
    "        a.append(lst1[i])\n",
    "    i+=1\n",
    "print(a)"
   ]
  },
  {
   "cell_type": "code",
   "execution_count": 2,
   "id": "746aa36c",
   "metadata": {},
   "outputs": [
    {
     "name": "stdout",
     "output_type": "stream",
     "text": [
      "['Sam', 'Luke']\n"
     ]
    }
   ],
   "source": [
    "#This time inside a function named name_adder, write a while loop that stops appending items to the new_list as soon as it encounters an empty string: \"\".\n",
    "\n",
    "\n",
    "lst1=[\"Sam\", \"Luke\", \"\", \"Ben\", \"Olivia\", \"Alicia\"]\n",
    "a = []\n",
    "\n",
    "i = 0 \n",
    "while i < len(lst1):\n",
    "    if lst1[i] != \"\":\n",
    "        a.append(lst1[i])\n",
    "    else:\n",
    "        break\n",
    "    i+=1\n",
    "print(a)"
   ]
  },
  {
   "cell_type": "code",
   "execution_count": null,
   "id": "7b09ead2",
   "metadata": {},
   "outputs": [],
   "source": [
    "#Print 5 by accessing the nested data.\n",
    "\n"
   ]
  },
  {
   "cell_type": "code",
   "execution_count": null,
   "id": "733418cd",
   "metadata": {},
   "outputs": [],
   "source": [
    "#Place a break statement in the for loop so that it prints from 0 to 7 only (including 7)."
   ]
  },
  {
   "cell_type": "code",
   "execution_count": null,
   "id": "f2a9d4a7",
   "metadata": {},
   "outputs": [],
   "source": [
    "#Add an if statement and a continue statement to the loop so that it skips when iterator equals \"sun\".\n",
    "\n",
    "weather=[\"snow\", \"rain\", \"sun\", \"clouds\"]\n"
   ]
  },
  {
   "cell_type": "code",
   "execution_count": 2,
   "id": "3d26bf25",
   "metadata": {},
   "outputs": [
    {
     "name": "stdout",
     "output_type": "stream",
     "text": [
      "[(19542209, 'New York'), (4887871, 'Alabama'), (1420491, 'Hawaii'), (626299, 'Vermont'), (1805832, 'West Virginia'), (39865590, 'California')]\n"
     ]
    }
   ],
   "source": [
    "#Using zip() function and list() function, create a merged list of tuples from the two lists given.\n",
    "\n",
    "lst1=[19542209, 4887871, 1420491, 626299, 1805832, 39865590]\n",
    "lst2=[\"New York\", \"Alabama\", \"Hawaii\", \"Vermont\", \"West Virginia\",  \"California\"]\n",
    "\n",
    "list3 = list(zip(lst1,lst2))\n",
    "print(list3)"
   ]
  },
  {
   "cell_type": "code",
   "execution_count": 5,
   "id": "741f9803",
   "metadata": {},
   "outputs": [],
   "source": [
    "#First create a range from 1 to 8. Then using zip, merge the given list and the range together to create a new list of tuples.\n",
    "lst1=[\"Energy\", \"Agriculture\", \"Industry\", \"Technology\", \"Finance\", \"Forestry\", \"Transport\"]\n",
    "\n",
    "\n",
    "rng1 = list(range(1,8))\n",
    "lst = zip(lst1, rng1)"
   ]
  },
  {
   "cell_type": "code",
   "execution_count": 6,
   "id": "a6523576",
   "metadata": {},
   "outputs": [
    {
     "name": "stdout",
     "output_type": "stream",
     "text": [
      "{'Netflix': 198, 'Hulu': 166, 'Sling': 237, 'Hbo': 125}\n"
     ]
    }
   ],
   "source": [
    "#Using zip and dict functions create a dictionary which has its key-value pairs coming from lst1 and lst2.\n",
    "\n",
    "lst1=[\"Netflix\", \"Hulu\", \"Sling\", \"Hbo\"]\n",
    "lst2=[198, 166, 237, 125]\n",
    "points=dict(zip(lst1,lst2))\n",
    "\n",
    "print(points)"
   ]
  },
  {
   "cell_type": "code",
   "execution_count": 7,
   "id": "2d9f5d2d",
   "metadata": {},
   "outputs": [
    {
     "name": "stdout",
     "output_type": "stream",
     "text": [
      "[('Annie', 19), ('Danny', 12), ('Jim', 7), ('Mike', 4)]\n"
     ]
    }
   ],
   "source": [
    "#Using zip, list and sorted functions create a sorted list of tuples from lst1 and lst2.\n",
    "\n",
    "lst1=[\"Mike\", \"Danny\", \"Jim\", \"Annie\"]\n",
    "lst2=[4, 12, 7, 19]\n",
    "\n",
    "#Type your answer here.\n",
    "\n",
    "\n",
    "sorted_lst=sorted(list(zip(lst1,lst2)))\n",
    "\n",
    "print(sorted_lst)"
   ]
  },
  {
   "cell_type": "code",
   "execution_count": 8,
   "id": "9faf3e16",
   "metadata": {},
   "outputs": [
    {
     "name": "stdout",
     "output_type": "stream",
     "text": [
      "p\n",
      "y\n",
      "t\n",
      "h\n",
      "o\n",
      "n\n",
      "i\n",
      "s\n",
      "t\n",
      "a\n"
     ]
    }
   ],
   "source": [
    "#1. Python for loop to iterate through the letters in a word\n",
    "\n",
    "for i in 'pythonista':\n",
    "    print(i)"
   ]
  },
  {
   "cell_type": "code",
   "execution_count": 1,
   "id": "7d078b7f",
   "metadata": {},
   "outputs": [
    {
     "name": "stdout",
     "output_type": "stream",
     "text": [
      "0\n",
      "1\n",
      "2\n",
      "3\n",
      "4\n",
      "5\n",
      "6\n",
      "7\n",
      "8\n",
      "9\n",
      "10\n"
     ]
    }
   ],
   "source": [
    "# Iterate 0 to 10 using for loop, do the same using while loop.\n",
    "\n",
    "i = 0\n",
    "while i<11:\n",
    "    print(i)\n",
    "    i+=1"
   ]
  },
  {
   "cell_type": "code",
   "execution_count": 28,
   "id": "3f5b3a5e",
   "metadata": {},
   "outputs": [
    {
     "name": "stdout",
     "output_type": "stream",
     "text": [
      "10 9 8 7 6 5 4 3 2 1 0 "
     ]
    }
   ],
   "source": [
    "## Iterate 0 to 10 using for loop, do the same using for loop.\n",
    "\n",
    "for i in range (10,-1,-1):\n",
    "    print(i ,end = ' ')\n"
   ]
  },
  {
   "cell_type": "code",
   "execution_count": 1,
   "id": "36aa5249",
   "metadata": {},
   "outputs": [
    {
     "name": "stdout",
     "output_type": "stream",
     "text": [
      "10\n",
      "9\n",
      "8\n",
      "7\n",
      "6\n",
      "5\n",
      "4\n",
      "3\n",
      "2\n",
      "1\n",
      "0\n"
     ]
    }
   ],
   "source": [
    "#Iterate 10 to 0 using for loop, do the same using while loop.\n",
    "i = 10\n",
    "while i >= 0:\n",
    "    print(i)\n",
    "    i -= 1\n"
   ]
  },
  {
   "cell_type": "code",
   "execution_count": 5,
   "id": "e053846d",
   "metadata": {},
   "outputs": [
    {
     "name": "stdout",
     "output_type": "stream",
     "text": [
      "\n",
      "#\n",
      "##\n",
      "###\n",
      "####\n",
      "#####\n",
      "######\n"
     ]
    }
   ],
   "source": [
    "#Write a loop that makes seven calls to print(), so we get on the output the following triangle:\n",
    "\n",
    "for i in range(7):\n",
    "    for j in range(i):\n",
    "        print('#', end= '')\n",
    "    print()"
   ]
  },
  {
   "cell_type": "code",
   "execution_count": 10,
   "id": "30d7f7d5",
   "metadata": {},
   "outputs": [
    {
     "name": "stdout",
     "output_type": "stream",
     "text": [
      "########\n",
      "########\n",
      "########\n",
      "########\n",
      "########\n",
      "########\n",
      "########\n",
      "########\n"
     ]
    }
   ],
   "source": [
    "for i in range(8):\n",
    "    for j in range(8):\n",
    "        print('#', end= '')\n",
    "    print()"
   ]
  },
  {
   "cell_type": "code",
   "execution_count": 14,
   "id": "44666602",
   "metadata": {},
   "outputs": [
    {
     "name": "stdout",
     "output_type": "stream",
     "text": [
      "0x0 = 0\n",
      "1x1 = 1\n",
      "2x2 = 4\n",
      "3x3 = 9\n",
      "4x4 = 16\n",
      "5x5 = 25\n",
      "6x6 = 36\n",
      "7x7 = 49\n",
      "8x8 = 64\n",
      "9x9 = 81\n",
      "10x10 = 100\n"
     ]
    }
   ],
   "source": [
    "for i in range (11):\n",
    "    result = i*i\n",
    "    print(f\"{i}x{i} = {result}\")"
   ]
  },
  {
   "cell_type": "code",
   "execution_count": 16,
   "id": "88e87480",
   "metadata": {},
   "outputs": [
    {
     "name": "stdout",
     "output_type": "stream",
     "text": [
      "Python\n",
      "Numpy\n",
      "Pandas\n",
      "Django\n",
      "Flask\n"
     ]
    }
   ],
   "source": [
    "#Iterate through the list, ['Python', 'Numpy','Pandas','Django', 'Flask'] using a for loop and print out the items.\n",
    "\n",
    "L = ['Python', 'Numpy','Pandas','Django', 'Flask'] \n",
    "\n",
    "for i in L:\n",
    "    print(i)"
   ]
  },
  {
   "cell_type": "code",
   "execution_count": 20,
   "id": "6ca06c98",
   "metadata": {},
   "outputs": [
    {
     "name": "stdout",
     "output_type": "stream",
     "text": [
      "0 2 4 6 8 10 12 14 16 18 20 22 24 26 28 30 32 34 36 38 40 42 44 46 48 50 52 54 56 58 60 62 64 66 68 70 72 74 76 78 80 82 84 86 88 90 92 94 96 98 "
     ]
    }
   ],
   "source": [
    "#Use for loop to iterate from 0 to 100 and print only even numbers\n",
    "\n",
    "for i in range (100):\n",
    "    if i%2 ==0 :\n",
    "        print(i,end = ' ')"
   ]
  },
  {
   "cell_type": "code",
   "execution_count": 19,
   "id": "20f60c88",
   "metadata": {},
   "outputs": [
    {
     "name": "stdout",
     "output_type": "stream",
     "text": [
      "1 3 5 7 9 11 13 15 17 19 21 23 25 27 29 31 33 35 37 39 41 43 45 47 49 51 53 55 57 59 61 63 65 67 69 71 73 75 77 79 81 83 85 87 89 91 93 95 97 99 "
     ]
    }
   ],
   "source": [
    "# Use for loop to iterate from 0 to 100 and print only odd numbers\n",
    "\n",
    "for i in range (100):\n",
    "    if i%2 != 0:\n",
    "        print(i ,end = ' ')"
   ]
  },
  {
   "cell_type": "code",
   "execution_count": 23,
   "id": "4c96cb07",
   "metadata": {},
   "outputs": [
    {
     "name": "stdout",
     "output_type": "stream",
     "text": [
      "The sum of all numbers is 5050\n"
     ]
    }
   ],
   "source": [
    "#Use for loop to iterate from 0 to 100 and print the sum of all numbers.\n",
    "sum= 0\n",
    "for i in range(101):\n",
    "    sum +=i\n",
    "print(\"The sum of all numbers is\",sum)\n",
    "\n",
    "   \n"
   ]
  },
  {
   "cell_type": "code",
   "execution_count": 25,
   "id": "ada204ee",
   "metadata": {},
   "outputs": [
    {
     "name": "stdout",
     "output_type": "stream",
     "text": [
      "The sum of all evens is 2550 And the sum of all odds is  2500\n"
     ]
    }
   ],
   "source": [
    "#Use for loop to iterate from 0 to 100 and print the sum of all evens and the sum of all odds\n",
    "\n",
    "sum_even = 0\n",
    "sum_odd = 0\n",
    "\n",
    "for i in range (101):\n",
    "    if i%2 ==0 :\n",
    "        sum_even +=i\n",
    "    else:\n",
    "        sum_odd +=i\n",
    "print(\"The sum of all evens is\" ,sum_even, \"And the sum of all odds is \",sum_odd)"
   ]
  },
  {
   "cell_type": "code",
   "execution_count": 27,
   "id": "6e17f0c3",
   "metadata": {},
   "outputs": [
    {
     "name": "stdout",
     "output_type": "stream",
     "text": [
      "['lemon', 'mango', 'orange', 'banana']\n"
     ]
    }
   ],
   "source": [
    "#This is a fruit list, ['banana', 'orange', 'mango', 'lemon'] reverse the order using loop\n",
    "\n",
    "fruits = ['banana', 'orange', 'mango', 'lemon']\n",
    "reversed_fruits = []\n",
    "\n",
    "for i in range(len(fruits) - 1, -1, -1):\n",
    "    reversed_fruits.append(fruits[i])\n",
    "\n",
    "print(reversed_fruits)"
   ]
  },
  {
   "cell_type": "code",
   "execution_count": 9,
   "id": "8d79c14a",
   "metadata": {},
   "outputs": [
    {
     "name": "stdout",
     "output_type": "stream",
     "text": [
      "entre number:5\n",
      "0 1 2 3 4 \n",
      "  Total 10\n"
     ]
    }
   ],
   "source": [
    "# Write a program to find the sum of all the numbers less than a number entered by the user. Display the sum. The expected output is attached below.\n",
    "\n",
    "num = int(input ('entre number:'))\n",
    "sum = 0\n",
    "\n",
    "for i in range(num):\n",
    "    sum +=i\n",
    "    print(i ,end = ' ')\n",
    "print(\"\\n  Total\", sum)"
   ]
  },
  {
   "cell_type": "code",
   "execution_count": 10,
   "id": "eeffb7f3",
   "metadata": {},
   "outputs": [
    {
     "name": "stdout",
     "output_type": "stream",
     "text": [
      "entre number(1-100):45\n",
      "That number is too low!\n",
      "entre number(1-100):89\n",
      "The number is too high!\n",
      "entre number(1-100):100\n",
      "The number is too high!\n",
      "entre number(1-100):560\n",
      "The number is too high!\n",
      "entre number(1-100):50\n",
      "Hooray! You got it correct\n"
     ]
    }
   ],
   "source": [
    "#Write a program that makes the user guess a particular number between 1 and 100. Save the number to be guessed in a variable called magic_number.\n",
    "# If the user guesses a number higher than the secret number, you should say Too high!. Similarly, you should say Too low! if they guess a number lower than the secret number. Once they guess the number, say Correct!\n",
    "\n",
    "magic_number = 50 \n",
    "while True:\n",
    "    guess = int(input('entre number(1-100):'))\n",
    "    if guess >magic_number:\n",
    "        print('The number is too high!')\n",
    "        continue\n",
    "    elif guess <magic_number:\n",
    "        print('That number is too low!')\n",
    "        continue\n",
    "    elif guess == magic_number:\n",
    "        print(\"Hooray! You got it correct\")\n",
    "        break"
   ]
  },
  {
   "cell_type": "code",
   "execution_count": 15,
   "id": "171741d0",
   "metadata": {},
   "outputs": [
    {
     "name": "stdout",
     "output_type": "stream",
     "text": [
      "entre number:234\n",
      "your guss is wrong , try again! \n",
      "\n",
      "entre number:23\n",
      "your guss is wrong , try again! \n",
      "\n",
      "entre number:1234\n",
      "your guss is correct!\n"
     ]
    }
   ],
   "source": [
    "#Write a program where the user enters a number. If the number matches the number, acknowledge the user and stop the program. If the number does not match, keep asking for the next number.\n",
    "\n",
    "secret_number = 1234\n",
    "while True:\n",
    "    guss = int(input('entre number:'))\n",
    "    if guss == secret_number:\n",
    "        print('your guss is correct!')\n",
    "        break\n",
    "    else:\n",
    "        print('your guss is wrong , try again! \\n')\n",
    "    "
   ]
  },
  {
   "cell_type": "code",
   "execution_count": 19,
   "id": "5b2dc79a",
   "metadata": {},
   "outputs": [
    {
     "name": "stdout",
     "output_type": "stream",
     "text": [
      "0 , 0 0 , 1 0 , 2 0 , 3 0 , 4 0 , 5 \n",
      "1 , 0 1 , 1 1 , 2 1 , 3 1 , 4 1 , 5 \n",
      "2 , 0 2 , 1 2 , 2 2 , 3 2 , 4 2 , 5 \n",
      "3 , 0 3 , 1 3 , 2 3 , 3 3 , 4 3 , 5 \n",
      "4 , 0 4 , 1 4 , 2 4 , 3 4 , 4 4 , 5 \n",
      "5 , 0 5 , 1 5 , 2 5 , 3 5 , 4 5 , 5 \n"
     ]
    }
   ],
   "source": [
    "# Question 4: Rolling a dice\n",
    "#Write a program that will print out all combinations that can be made when 2 dice are rolled. And should continue until all values up to 6, and 6 are printed. (Hint: You should have a space after each comma!)\n",
    "\n",
    "for i in range(6):\n",
    "    for j in range(6):\n",
    "        print(i ,',',j , end = ' ')\n",
    "    print()"
   ]
  },
  {
   "cell_type": "code",
   "execution_count": 23,
   "id": "d228a489",
   "metadata": {},
   "outputs": [
    {
     "name": "stdout",
     "output_type": "stream",
     "text": [
      "\n",
      "* \n",
      "* * \n",
      "* * * \n",
      "* * * * \n",
      "* * * * * \n"
     ]
    }
   ],
   "source": [
    "for i in range(6):\n",
    "    for j in range(i):\n",
    "        print('*',end= ' ')\n",
    "    print()"
   ]
  },
  {
   "cell_type": "code",
   "execution_count": 28,
   "id": "0854e328",
   "metadata": {},
   "outputs": [
    {
     "name": "stdout",
     "output_type": "stream",
     "text": [
      "* \n",
      "* * \n",
      "* * * \n",
      "* * * * \n",
      "* * * * * \n",
      "* * * * * * \n",
      "* * * * * \n",
      "* * * * \n",
      "* * * \n",
      "* * \n",
      "* \n"
     ]
    }
   ],
   "source": [
    "\n",
    "for i in range(5):\n",
    "    for j in range(0, i+1):\n",
    "        print(\"*\", end=\" \")\n",
    "    print()\n",
    "for i in range(6):\n",
    "    print(\"*\", end=\" \")\n",
    "print()  \n",
    "for i in range(5, 0, -1):\n",
    "    for j in range(1, i+1):\n",
    "        print(\"*\", end=\" \")\n",
    "    print()"
   ]
  },
  {
   "cell_type": "code",
   "execution_count": 34,
   "id": "b1536ffb",
   "metadata": {},
   "outputs": [
    {
     "name": "stdout",
     "output_type": "stream",
     "text": [
      "#\n",
      "#\n",
      "#\n",
      "#\n",
      "#\n",
      "#\n",
      "#\n"
     ]
    }
   ],
   "source": [
    "for i in range(5):\n",
    "    for j in range(0,2*i,2):\n",
    "        for k in range(j//2,0,-2):\n",
    "            print(\"#\")\n",
    "                  "
   ]
  },
  {
   "cell_type": "markdown",
   "id": "875a562b",
   "metadata": {},
   "source": [
    "# W3 Resourses\n",
    "\n",
    "https://www.w3resource.com/c-programming-exercises/for-loop/index.php"
   ]
  },
  {
   "cell_type": "code",
   "execution_count": 5,
   "id": "faf4c80c",
   "metadata": {},
   "outputs": [
    {
     "name": "stdout",
     "output_type": "stream",
     "text": [
      "55\n"
     ]
    }
   ],
   "source": [
    "sum = 0\n",
    "for i in range (11):\n",
    "    sum+=i\n",
    "print(sum)\n",
    "\n",
    "    "
   ]
  },
  {
   "cell_type": "code",
   "execution_count": 7,
   "id": "dcb5315c",
   "metadata": {},
   "outputs": [
    {
     "name": "stdout",
     "output_type": "stream",
     "text": [
      "0\n",
      "1\n",
      "2\n",
      "3\n",
      "4\n",
      "5\n",
      "6\n",
      "7\n",
      "28\n"
     ]
    }
   ],
   "source": [
    "sum =0 \n",
    "for i in range (8):\n",
    "    sum+=i\n",
    "    print(i)\n",
    "print(sum)\n",
    "    "
   ]
  },
  {
   "cell_type": "code",
   "execution_count": 10,
   "id": "af7baecd",
   "metadata": {},
   "outputs": [
    {
     "name": "stdout",
     "output_type": "stream",
     "text": [
      "45\n",
      "5.0\n"
     ]
    }
   ],
   "source": [
    "# Write a program in C to read 10 numbers from the keyboard and find their sum and average.\n",
    "sum = 0\n",
    "count = 0\n",
    "\n",
    "for i in range (1,10):\n",
    "    sum+=i\n",
    "    count+=1\n",
    "    a= sum/count\n",
    "print(sum)\n",
    "print(a)"
   ]
  },
  {
   "cell_type": "code",
   "execution_count": 12,
   "id": "7c5b26c7",
   "metadata": {},
   "outputs": [
    {
     "name": "stdout",
     "output_type": "stream",
     "text": [
      "0\n",
      "1\n",
      "8\n",
      "27\n",
      "64\n",
      "125\n"
     ]
    }
   ],
   "source": [
    "# Write a program in C to display the cube of the number up to an integer.\n",
    "\n",
    "for i in range(6):\n",
    "    print(i**3)"
   ]
  },
  {
   "cell_type": "code",
   "execution_count": 13,
   "id": "a110710c",
   "metadata": {},
   "outputs": [
    {
     "name": "stdout",
     "output_type": "stream",
     "text": [
      "0 x 0 = 0\n",
      "1 x 1 = 1\n",
      "2 x 2 = 4\n",
      "3 x 3 = 9\n",
      "4 x 4 = 16\n",
      "5 x 5 = 25\n",
      "6 x 6 = 36\n",
      "7 x 7 = 49\n",
      "8 x 8 = 64\n",
      "9 x 9 = 81\n",
      "10 x 10 = 100\n",
      "11 x 11 = 121\n",
      "12 x 12 = 144\n",
      "13 x 13 = 169\n",
      "14 x 14 = 196\n"
     ]
    }
   ],
   "source": [
    "#Write a program in C to display the multiplication table for a given integer.\n",
    "\n",
    "for i in range (16):\n",
    "    result = i*i\n",
    "    print(i,\"x\",i,'=',result)"
   ]
  },
  {
   "cell_type": "code",
   "execution_count": 23,
   "id": "57ae5b6c",
   "metadata": {},
   "outputs": [
    {
     "name": "stdout",
     "output_type": "stream",
     "text": [
      "0 x 0 = 00 x 1 = 00 x 2 = 00 x 3 = 00 x 4 = 00 x 5 = 00 x 6 = 00 x 7 = 00 x 8 = 00 x 9 = 01 x 0 = 01 x 1 = 11 x 2 = 21 x 3 = 31 x 4 = 41 x 5 = 51 x 6 = 61 x 7 = 71 x 8 = 81 x 9 = 92 x 0 = 02 x 1 = 22 x 2 = 42 x 3 = 62 x 4 = 82 x 5 = 102 x 6 = 122 x 7 = 142 x 8 = 162 x 9 = 183 x 0 = 03 x 1 = 33 x 2 = 63 x 3 = 93 x 4 = 123 x 5 = 153 x 6 = 183 x 7 = 213 x 8 = 243 x 9 = 274 x 0 = 04 x 1 = 44 x 2 = 84 x 3 = 124 x 4 = 164 x 5 = 204 x 6 = 244 x 7 = 284 x 8 = 324 x 9 = 365 x 0 = 05 x 1 = 55 x 2 = 105 x 3 = 155 x 4 = 205 x 5 = 255 x 6 = 305 x 7 = 355 x 8 = 405 x 9 = 456 x 0 = 06 x 1 = 66 x 2 = 126 x 3 = 186 x 4 = 246 x 5 = 306 x 6 = 366 x 7 = 426 x 8 = 486 x 9 = 547 x 0 = 07 x 1 = 77 x 2 = 147 x 3 = 217 x 4 = 287 x 5 = 357 x 6 = 427 x 7 = 497 x 8 = 567 x 9 = 638 x 0 = 08 x 1 = 88 x 2 = 168 x 3 = 248 x 4 = 328 x 5 = 408 x 6 = 488 x 7 = 568 x 8 = 648 x 9 = 729 x 0 = 09 x 1 = 99 x 2 = 189 x 3 = 279 x 4 = 369 x 5 = 459 x 6 = 549 x 7 = 639 x 8 = 729 x 9 = 81\n"
     ]
    }
   ],
   "source": [
    "#  Write a program in C to display the multiplier table vertically from 1 to n.\n",
    "\n",
    "for i in range(10):\n",
    "    for j in range (10):\n",
    "        print(i,'x',j,'=', i*j,end = '')\n",
    "print()"
   ]
  },
  {
   "cell_type": "code",
   "execution_count": 27,
   "id": "30397769",
   "metadata": {},
   "outputs": [
    {
     "name": "stdout",
     "output_type": "stream",
     "text": [
      "1\n",
      "3\n",
      "5\n",
      "7\n",
      "9\n",
      "25\n"
     ]
    }
   ],
   "source": [
    "# 8. Write a C program to display the n terms of odd natural numbers and their sum.\n",
    "sum = 0\n",
    "for i in range (10):\n",
    "    if i%2 != 0:\n",
    "        sum+=i\n",
    "        print(i)\n",
    "print(sum)\n",
    "        "
   ]
  },
  {
   "cell_type": "code",
   "execution_count": 4,
   "id": "a64edbcc",
   "metadata": {},
   "outputs": [
    {
     "name": "stdout",
     "output_type": "stream",
     "text": [
      "* \n",
      "* * \n",
      "* * * \n",
      "* * * * \n",
      "* * * * * \n",
      "* * * * \n",
      "* * * \n",
      "* * \n",
      "* \n"
     ]
    }
   ],
   "source": [
    "\"\"\"4. Write a Python program to construct the following pattern, using a nested for loop.\n",
    "\n",
    "* \n",
    "* * \n",
    "* * * \n",
    "* * * * \n",
    "* * * * * \n",
    "* * * * \n",
    "* * * \n",
    "* * \n",
    "*\n",
    "\"\"\"\n",
    "\n",
    "n= 5 \n",
    "for i in range (1,n+1):      # upper half pattrn \n",
    "    for  j in range(i):\n",
    "        print('*' , end = ' ')\n",
    "    print()\n",
    "for i in range (n-1,0,-1):  # lower half pattern , negative step value (-1 in this case) means that the sequence will decrease by 1 with each iteration.\n",
    "    for j in range(i):\n",
    "        print('*',end = ' ')\n",
    "    print()"
   ]
  },
  {
   "cell_type": "code",
   "execution_count": 5,
   "id": "1e85f78f",
   "metadata": {},
   "outputs": [
    {
     "name": "stdout",
     "output_type": "stream",
     "text": [
      "ilahsrah\n"
     ]
    }
   ],
   "source": [
    "# 5. Write a Python program that accepts a word from the user and reverses it.\n",
    "\n",
    "a= 'harshali'\n",
    "\n",
    "reverse_word = a[::-1]\n",
    "print(reverse_word)"
   ]
  },
  {
   "cell_type": "code",
   "execution_count": 10,
   "id": "0e49000c",
   "metadata": {},
   "outputs": [
    {
     "name": "stdout",
     "output_type": "stream",
     "text": [
      "ilahsrah\n"
     ]
    }
   ],
   "source": [
    "a = 'harshali'\n",
    "reversed_word = ''\n",
    "for i in range(len(a)-1,-1,-1):\n",
    "    reversed_word +=a[i]\n",
    "print(reversed_word)"
   ]
  },
  {
   "cell_type": "code",
   "execution_count": 11,
   "id": "83873c48",
   "metadata": {},
   "outputs": [
    {
     "name": "stdout",
     "output_type": "stream",
     "text": [
      "ilahsrah\n"
     ]
    }
   ],
   "source": [
    "a = 'harshali'\n",
    "reversed_word = ''\n",
    "i = len(a)-1     # Start from the last character of the word\n",
    "while i >=0:\n",
    "    reversed_word += a[i]\n",
    "    i-=1          # Move to the previous character\n",
    "print(reversed_word)"
   ]
  },
  {
   "cell_type": "code",
   "execution_count": 14,
   "id": "c0e089a0",
   "metadata": {},
   "outputs": [
    {
     "name": "stdout",
     "output_type": "stream",
     "text": [
      "Number of even numbers: 4\n",
      "Number of odd numbers: 5\n"
     ]
    }
   ],
   "source": [
    "# . Write a Python program to count the number of even and odd numbers in a series of numbers\n",
    "\n",
    "numbers = (1, 2, 3, 4, 5, 6, 7, 8, 9) \n",
    "# Initialize counters for even and odd numbers\n",
    "even_count = 0\n",
    "odd_count = 0\n",
    "\n",
    "# Iterate through the numbers and count even and odd numbers\n",
    "for number in numbers:\n",
    "    if number % 2 == 0:\n",
    "        even_count += 1\n",
    "    else:\n",
    "        odd_count += 1\n",
    "\n",
    "# Print the counts\n",
    "print(\"Number of even numbers:\", even_count)\n",
    "print(\"Number of odd numbers:\", odd_count)"
   ]
  },
  {
   "cell_type": "code",
   "execution_count": 15,
   "id": "96e9158e",
   "metadata": {},
   "outputs": [
    {
     "name": "stdout",
     "output_type": "stream",
     "text": [
      "1452 <class 'int'>\n",
      "11.23 <class 'float'>\n",
      "(1+2j) <class 'complex'>\n",
      "True <class 'bool'>\n",
      "w3resource <class 'str'>\n",
      "(0, -1) <class 'tuple'>\n",
      "[5, 12] <class 'list'>\n",
      "{'class': 'V', 'section': 'A'} <class 'dict'>\n"
     ]
    }
   ],
   "source": [
    "#7. Write a Python program that prints each item and its corresponding type from the following list.\n",
    "datalist = [1452, 11.23, 1+2j, True, 'w3resource', (0, -1), [5, 12], {\"class\":'V', \"section\":'A'}]\n",
    "\n",
    "for i in datalist:\n",
    "    print(i , type(i))"
   ]
  },
  {
   "cell_type": "code",
   "execution_count": 29,
   "id": "ba903e33",
   "metadata": {},
   "outputs": [
    {
     "name": "stdout",
     "output_type": "stream",
     "text": [
      "0\n",
      "1\n",
      "2\n",
      "4\n",
      "5\n"
     ]
    }
   ],
   "source": [
    "#8. Write a Python program that prints all the numbers from 0 to 6 except 3 and 6\n",
    "\n",
    "for number in range(7):\n",
    "    if number == 3 or number == 6:\n",
    "        continue                    # Skip printing 3 and 6\n",
    "    print(number)"
   ]
  },
  {
   "cell_type": "code",
   "execution_count": 30,
   "id": "93089a18",
   "metadata": {},
   "outputs": [
    {
     "name": "stdout",
     "output_type": "stream",
     "text": [
      "0\n",
      "1\n",
      "1\n",
      "2\n",
      "3\n",
      "5\n"
     ]
    }
   ],
   "source": [
    "#9. Write a Python program to get the Fibonacci series between 0 and 5\n",
    "\n",
    "# Initialize variables for the first two Fibonacci numbers\n",
    "a, b = 0, 1\n",
    "\n",
    "# Print the first Fibonacci number (0)\n",
    "print(a)\n",
    "\n",
    "# Generate and print the Fibonacci series up to 5\n",
    "while b <= 5:\n",
    "    print(b)\n",
    "    a, b = b, a + b"
   ]
  },
  {
   "cell_type": "code",
   "execution_count": 32,
   "id": "7bcc485e",
   "metadata": {},
   "outputs": [
    {
     "name": "stdout",
     "output_type": "stream",
     "text": [
      "1\n",
      "2\n",
      "fizz\n",
      "3\n",
      "4\n",
      "buzz\n",
      "5\n",
      "fizz\n",
      "6\n",
      "7\n",
      "8\n",
      "fizz\n",
      "9\n",
      "buzz\n",
      "10\n",
      "11\n",
      "fizz\n",
      "12\n",
      "13\n",
      "14\n",
      "fizz\n",
      "buzz\n",
      "FizzBuzz\n",
      "16\n",
      "17\n",
      "fizz\n",
      "18\n",
      "19\n",
      "buzz\n",
      "20\n",
      "fizz\n",
      "21\n",
      "22\n",
      "23\n",
      "fizz\n",
      "24\n",
      "buzz\n",
      "25\n",
      "26\n",
      "fizz\n",
      "27\n",
      "28\n",
      "29\n",
      "fizz\n",
      "buzz\n",
      "FizzBuzz\n",
      "31\n",
      "32\n",
      "fizz\n",
      "33\n",
      "34\n",
      "buzz\n",
      "35\n",
      "fizz\n",
      "36\n",
      "37\n",
      "38\n",
      "fizz\n",
      "39\n",
      "buzz\n",
      "40\n",
      "41\n",
      "fizz\n",
      "42\n",
      "43\n",
      "44\n",
      "fizz\n",
      "buzz\n",
      "FizzBuzz\n",
      "46\n",
      "47\n",
      "fizz\n",
      "48\n",
      "49\n",
      "buzz\n",
      "50\n"
     ]
    }
   ],
   "source": [
    "#10. Write a Python program that iterates the integers from 1 to 50. For multiples of three print \"Fizz\" instead of the number and for multiples of five print \"Buzz\". For numbers that are multiples of three and five, print \"FizzBuzz\".\n",
    "\n",
    "for i in range(1,51):\n",
    "    if i%3 == 0:\n",
    "        print('fizz')\n",
    "    if i%5 == 0:\n",
    "        print('buzz')\n",
    "    if i%3 == 0 and i%5 ==0 :\n",
    "        print('FizzBuzz')\n",
    "    else:\n",
    "        print(i)\n"
   ]
  },
  {
   "cell_type": "code",
   "execution_count": 37,
   "id": "a218f321",
   "metadata": {},
   "outputs": [
    {
     "name": "stdout",
     "output_type": "stream",
     "text": [
      "Enter the number of rows: 2\n",
      "Enter the number of columns: 3\n",
      "[0, 0, 0]\n",
      "[0, 1, 2]\n"
     ]
    }
   ],
   "source": [
    "# 11. Write a Python program that takes two digits m (row) and n (column) as input and generates a two-dimensional array. The element value in the i-th row and j-th column of the array should be i*j.\n",
    "\n",
    "\n",
    "# Input the number of rows and columns\n",
    "m = int(input(\"Enter the number of rows: \"))\n",
    "n = int(input(\"Enter the number of columns: \"))\n",
    "\n",
    "# Initialize a two-dimensional array\n",
    "result = []\n",
    "\n",
    "# Fill the array with values based on the product of row and column indices\n",
    "for i in range(m):\n",
    "    row = []  # Initialize an empty row\n",
    "    for j in range(n):\n",
    "        row.append(i * j)  # Calculate the value for the current element and add it to the row\n",
    "    result.append(row)  # Add the row to the result array\n",
    "for row in result:\n",
    "    print(row)"
   ]
  },
  {
   "cell_type": "code",
   "execution_count": 2,
   "id": "1f3fe7fe",
   "metadata": {},
   "outputs": [
    {
     "name": "stdout",
     "output_type": "stream",
     "text": [
      "Python\n",
      "\n",
      "python\n"
     ]
    }
   ],
   "source": [
    "# 12. Write a Python program that accepts a sequence of lines (blank line to terminate) as input and prints the lines as output (all characters in lower case).\n",
    "lines = []\n",
    "\n",
    "# Input lines until a blank line is encountered\n",
    "while True:\n",
    "    line = input(  )\n",
    "    \n",
    "    # Check if the line is blank (empty)\n",
    "    if not line:\n",
    "        break\n",
    "    \n",
    "    # Append the line to the list of lines\n",
    "    lines.append(line)\n",
    "\n",
    "# Convert lines to lowercase and print them\n",
    "for line in lines:\n",
    "    print(line.lower())"
   ]
  },
  {
   "cell_type": "code",
   "execution_count": 41,
   "id": "d18fe586",
   "metadata": {},
   "outputs": [
    {
     "ename": "IndentationError",
     "evalue": "unindent does not match any outer indentation level (<tokenize>, line 4)",
     "output_type": "error",
     "traceback": [
      "\u001b[1;36m  File \u001b[1;32m<tokenize>:4\u001b[1;36m\u001b[0m\n\u001b[1;33m    * *\u001b[0m\n\u001b[1;37m    ^\u001b[0m\n\u001b[1;31mIndentationError\u001b[0m\u001b[1;31m:\u001b[0m unindent does not match any outer indentation level\n"
     ]
    }
   ],
   "source": [
    "# Write a C program to make such a pattern as a pyramid with an asterisk.\n",
    "\n",
    "   * \n",
    "  * * \n",
    " * * * \n",
    "* * * *"
   ]
  },
  {
   "cell_type": "code",
   "execution_count": null,
   "id": "fb31a9c0",
   "metadata": {},
   "outputs": [],
   "source": [
    "# 13"
   ]
  },
  {
   "cell_type": "code",
   "execution_count": 3,
   "id": "4c102ffc",
   "metadata": {},
   "outputs": [
    {
     "name": "stdout",
     "output_type": "stream",
     "text": [
      "entre string: Python 0.8\n",
      "Number of letters: 6\n",
      "Number of digits: 2\n"
     ]
    }
   ],
   "source": [
    "#14. Write a Python program that accepts a string and calculates the number of digits and letters.\n",
    "\n",
    "A= input('entre string: ')\n",
    "letter_count = 0\n",
    "digit_count = 0\n",
    "\n",
    "for i in A:\n",
    "    if i.isalpha():\n",
    "        letter_count+=1\n",
    "    elif i.isdigit():\n",
    "        digit_count += 1\n",
    "print(\"Number of letters:\", letter_count)\n",
    "print(\"Number of digits:\", digit_count)\n",
    "            \n",
    "        \n",
    "    "
   ]
  },
  {
   "cell_type": "code",
   "execution_count": 4,
   "id": "76c9315e",
   "metadata": {},
   "outputs": [
    {
     "name": "stdout",
     "output_type": "stream",
     "text": [
      "Input your passwordhaEdd4#\n",
      "Valid Password\n"
     ]
    }
   ],
   "source": [
    "\"\"\"15. Write a Python program to check the validity of passwords input by users.\n",
    "Validation :\n",
    "\n",
    "At least 1 letter between [a-z] and 1 letter between [A-Z].\n",
    "At least 1 number between [0-9].\n",
    "At least 1 character from [$#@].\n",
    "Minimum length 6 characters.\n",
    "Maximum length 16 characters.\"\"\"\n",
    "\n",
    "\n",
    "import re\n",
    "p= input(\"Input your password\")\n",
    "x = True\n",
    "while x:  \n",
    "    if (len(p)<6 or len(p)>12):\n",
    "        break\n",
    "    elif not re.search(\"[a-z]\",p):\n",
    "        break\n",
    "    elif not re.search(\"[0-9]\",p):\n",
    "        break\n",
    "    elif not re.search(\"[A-Z]\",p):\n",
    "        break\n",
    "    elif not re.search(\"[$#@]\",p):\n",
    "        break\n",
    "    elif re.search(\"\\s\",p):\n",
    "        break\n",
    "    else:\n",
    "        print(\"Valid Password\")\n",
    "        x=False\n",
    "        break\n",
    "\n",
    "if x:\n",
    "    print(\"Not a Valid Password\")\n",
    "\n",
    "    \n",
    "\"\"\"We initially set x to True.\n",
    "\n",
    "Inside the loop, we use not with the re.search conditions to check if the password doesn't meet each criterion. If any of these conditions are met (indicating that the password is invalid), the program breaks out of the loop and prints \"Invalid Password.\"\n",
    "\n",
    "If none of the conditions are met, it means that the password meets all the validation criteria. In this case, the program prints \"Valid Password\" and sets x to False to exit the loop.\n",
    "\n",
    "After exiting the loop, the program checks the x flag. If it's still True, it prints \"Invalid Password,\" indicating that the password did not meet the criteria.\n",
    "\n",
    "This corrected program will print \"Valid Password\" when the password is valid and \"Invalid Password\" when it's not.\"\"\""
   ]
  },
  {
   "cell_type": "code",
   "execution_count": 10,
   "id": "ffe00c77",
   "metadata": {},
   "outputs": [
    {
     "name": "stdout",
     "output_type": "stream",
     "text": [
      "entre password: Harshali@2002\n",
      "valid Password\n"
     ]
    }
   ],
   "source": [
    "import re \n",
    "\n",
    "p = input('entre password: ')\n",
    "x = True\n",
    "while x:\n",
    "    if len(p)<6 and len(p)>12:\n",
    "        break\n",
    "    elif not re.search('[a-z]',p):\n",
    "        break\n",
    "    elif not re.search('[0-9]',p):\n",
    "        break\n",
    "    elif not re.search('[A-Z]',p):\n",
    "        break\n",
    "    elif not re.search('[@#$]',p):\n",
    "        break\n",
    "    else:\n",
    "        print('valid Password')\n",
    "        x = False\n",
    "        break\n",
    "if x:\n",
    "    print('invalid password')"
   ]
  },
  {
   "cell_type": "code",
   "execution_count": 16,
   "id": "015f9123",
   "metadata": {},
   "outputs": [
    {
     "name": "stdout",
     "output_type": "stream",
     "text": [
      "200,202,204,206,208,220,222,224,226,228,240,242,244,246,248,260,262,264,266,268,280,282,284,286,288,400\n"
     ]
    }
   ],
   "source": [
    "# 16. Write a Python program to find numbers between 100 and 400 (both included) where each digit of a number is an even number. The numbers obtained should be printed in a comma-separated sequence\n",
    "\n",
    "even_digit = []\n",
    "for i in range(100,401):\n",
    "    string = str(i)\n",
    "    if all (digit in '02468' for digit in string):\n",
    "        even_digit .append(string)\n",
    "result = ','.join(even_digit)\n",
    "\n",
    "print(result)"
   ]
  },
  {
   "cell_type": "code",
   "execution_count": 14,
   "id": "3682c7af",
   "metadata": {},
   "outputs": [
    {
     "name": "stdout",
     "output_type": "stream",
     "text": [
      "Numbers with all even digits between 100 and 400 (inclusive): 200, 202, 204, 206, 208, 220, 222, 224, 226, 228, 240, 242, 244, 246, 248, 260, 262, 264, 266, 268, 280, 282, 284, 286, 288, 400\n"
     ]
    }
   ],
   "source": [
    "# Initialize an empty list to store the numbers that meet the criteria\n",
    "even_digit_numbers = []\n",
    "\n",
    "# Iterate through numbers from 100 to 400\n",
    "for number in range(100, 401):\n",
    "    # Convert the number to a string to examine each digit\n",
    "    number_str = str(number)\n",
    "    \n",
    "    # Check if all digits are even (0, 2, 4, 6, or 8)\n",
    "    if all(digit in '02468' for digit in number_str):\n",
    "        even_digit_numbers.append(str(number))\n",
    "\n",
    "# Join the numbers in the list into a comma-separated string\n",
    "result = ', '.join(even_digit_numbers)\n",
    "\n",
    "# Print the result\n",
    "print(\"Numbers with all even digits between 100 and 400 (inclusive):\", result)"
   ]
  },
  {
   "cell_type": "code",
   "execution_count": 24,
   "id": "c390504e",
   "metadata": {},
   "outputs": [
    {
     "name": "stdout",
     "output_type": "stream",
     "text": [
      "entre alphabet :H\n",
      "H is consont\n"
     ]
    }
   ],
   "source": [
    "#32. Write a Python program to check whether an alphabet is a vowel or consonant.\n",
    "\n",
    "A = input('entre alphabet :')\n",
    "for i in A:\n",
    "    if A in '[aeiou]'or A in '[AEIOU]':\n",
    "        print(i,'is vowel')\n",
    "    else:\n",
    "        print(i , 'is consont')\n"
   ]
  },
  {
   "cell_type": "code",
   "execution_count": 26,
   "id": "2881eac9",
   "metadata": {},
   "outputs": [
    {
     "name": "stdout",
     "output_type": "stream",
     "text": [
      "List of months: January, February, March, April, May, June, July, August, September, October, November, December\n",
      "entre month:May\n",
      "no of days : 31 days\n"
     ]
    }
   ],
   "source": [
    "#33. Write a Python program to convert a month name to a number of days.\n",
    "\n",
    "print(\"List of months: January, February, March, April, May, June, July, August, September, October, November, December\")\n",
    "\n",
    "month_name = input('entre month:')\n",
    "\n",
    "if month_name == 'February':\n",
    "    print('no of days : 28/29 days')\n",
    "elif month_name in (\"April\", \"June\", \"September\", \"November\"):\n",
    "    print('no of days : 30 days')\n",
    "elif month_name in (\"January\", \"March\", \"May\", \"July\", \"August\", \"October\", \"December\"):\n",
    "    print('no of days : 31 days')\n",
    "else:\n",
    "    print('wrong month name')"
   ]
  },
  {
   "cell_type": "code",
   "execution_count": 5,
   "id": "47702561",
   "metadata": {
    "scrolled": true
   },
   "outputs": [
    {
     "name": "stdout",
     "output_type": "stream",
     "text": [
      "entre number: 12\n",
      "entre number: 5\n",
      "20\n"
     ]
    }
   ],
   "source": [
    "# Write a Python program to sum two integers. However, if the sum is between 15 and 20 it will return 20.\n",
    "\n",
    "A = int(input ('entre number: '))\n",
    "B = int(input ('entre number: '))\n",
    "\n",
    "sum = A+B\n",
    "if sum in range(15,20):\n",
    "    print(20)\n",
    "else:\n",
    "    print(sum)"
   ]
  },
  {
   "cell_type": "code",
   "execution_count": 5,
   "id": "e624648d",
   "metadata": {
    "scrolled": true
   },
   "outputs": [
    {
     "name": "stdout",
     "output_type": "stream",
     "text": [
      "entre number: 2\n",
      "entre number: 4\n",
      "entre number: 7\n",
      "scalene triangle \n"
     ]
    }
   ],
   "source": [
    "\"\"\"# 36. Write a Python program to check if a triangle is equilateral, isosceles or scalene.\n",
    "Note :\n",
    "An equilateral triangle is a triangle in which all three sides are equal.\n",
    "A scalene triangle is a triangle that has three unequal sides.\n",
    "An isosceles triangle is a triangle with (at least) two equal sides.\"\"\"\n",
    "\n",
    "A = int(input ('entre number: '))\n",
    "B = int(input ('entre number: '))\n",
    "C = int(input ('entre number: '))\n",
    "\n",
    "if A==B or B==C or C==A :\n",
    "    print('isosceles triangle')\n",
    "elif A==B==C:\n",
    "    print(' equilateral triangle ')\n",
    "elif A != B!=C :\n",
    "    print('scalene triangle ')\n",
    "    "
   ]
  },
  {
   "cell_type": "code",
   "execution_count": 6,
   "id": "1e70bf8c",
   "metadata": {},
   "outputs": [
    {
     "name": "stdout",
     "output_type": "stream",
     "text": [
      "Input the month (e.g. January, February etc.): january\n",
      "Input the day: 20\n",
      "Season is autumn\n"
     ]
    }
   ],
   "source": [
    "#37. Write a Python program that reads two integers representing a month and day and prints the season for that month and day.\n",
    "\n",
    "month = input(\"Input the month (e.g. January, February etc.): \")\n",
    "day = int(input(\"Input the day: \"))\n",
    "\n",
    "if month in ('January', 'February', 'March'):\n",
    "    season = 'winter'\n",
    "elif month in ('April', 'May', 'June'):\n",
    "    season = 'spring'\n",
    "elif month in ('July', 'August', 'September'):\n",
    "    season = 'summer'\n",
    "else:\n",
    "    season = 'autumn'\n",
    "\n",
    "if (month == 'March') and (day > 19):\n",
    "    season = 'spring'\n",
    "elif (month == 'June') and (day > 20):\n",
    "    season = 'summer'\n",
    "elif (month == 'September') and (day > 21):\n",
    "    season = 'autumn'\n",
    "elif (month == 'December') and (day > 20):\n",
    "    season = 'winter'\n",
    "\n",
    "print(\"Season is\",season)"
   ]
  },
  {
   "cell_type": "code",
   "execution_count": null,
   "id": "549faa88",
   "metadata": {},
   "outputs": [],
   "source": [
    "# Write a Python program to display the astrological sign for a given date of birth.\n",
    "\n",
    "\n",
    "day = int(input(\"Input birthday: \"))\n",
    "month = input(\"Input month of birth (e.g. march, july etc): \")\n",
    "if month == 'december':\n",
    "\tastro_sign = 'Sagittarius' if (day < 22) else 'capricorn'\n",
    "elif month == 'january':\n",
    "\tastro_sign = 'Capricorn' if (day < 20) else 'aquarius'\n",
    "elif month == 'february':\n",
    "\tastro_sign = 'Aquarius' if (day < 19) else 'pisces'\n",
    "elif month == 'march':\n",
    "\tastro_sign = 'Pisces' if (day < 21) else 'aries'\n",
    "elif month == 'april':\n",
    "\tastro_sign = 'Aries' if (day < 20) else 'taurus'\n",
    "elif month == 'may':\n",
    "\tastro_sign = 'Taurus' if (day < 21) else 'gemini'\n",
    "elif month == 'june':\n",
    "\tastro_sign = 'Gemini' if (day < 21) else 'cancer'\n",
    "elif month == 'july':\n",
    "\tastro_sign = 'Cancer' if (day < 23) else 'leo'\n",
    "elif month == 'august':\n",
    "\tastro_sign = 'Leo' if (day < 23) else 'virgo'\n",
    "elif month == 'september':\n",
    "\tastro_sign = 'Virgo' if (day < 23) else 'libra'\n",
    "elif month == 'october':\n",
    "\tastro_sign = 'Libra' if (day < 23) else 'scorpio'\n",
    "elif month == 'november':\n",
    "\tastro_sign = 'scorpio' if (day < 22) else 'sagittarius'\n",
    "print(\"Your Astrological sign is :\",astro_sign)\n"
   ]
  },
  {
   "cell_type": "code",
   "execution_count": null,
   "id": "66b8d3c2",
   "metadata": {},
   "outputs": [],
   "source": [
    " # Write a Python program to find the median of three values"
   ]
  },
  {
   "cell_type": "code",
   "execution_count": 81,
   "id": "3d84f92b",
   "metadata": {},
   "outputs": [
    {
     "name": "stdout",
     "output_type": "stream",
     "text": [
      "* \n",
      "* * \n",
      "* * * \n",
      "* * * * \n",
      "* * * * * \n",
      "* * * * \n",
      "* * * \n",
      "* * \n",
      "* \n"
     ]
    }
   ],
   "source": [
    "\"\"\"4. Write a Python program to construct the following pattern, using a nested for loop.\n",
    "\n",
    "* \n",
    "* * \n",
    "* * * \n",
    "* * * * \n",
    "* * * * * \n",
    "* * * * \n",
    "* * * \n",
    "* * \n",
    "*\n",
    "\"\"\"\n",
    "\n",
    "n= 5 \n",
    "for row in range (1,n+1):      # upper half pattrn \n",
    "    for  column in range(row):\n",
    "        print('*' , end = ' ')\n",
    "    print()\n",
    "for row in range (n-1,0,-1):  # lower half pattern , negative step value (-1 in this case) means that the sequence will decrease by 1 with each iteration.\n",
    "    for j in range(i):\n",
    "        print('*',end = ' ')\n",
    "    print()"
   ]
  },
  {
   "cell_type": "code",
   "execution_count": 28,
   "id": "ab24bf00",
   "metadata": {},
   "outputs": [
    {
     "name": "stdout",
     "output_type": "stream",
     "text": [
      "  ***  \n",
      " *   * \n",
      " *   * \n",
      " ***** \n",
      " *   * \n",
      " *   * \n",
      " *   * \n",
      "\n"
     ]
    }
   ],
   "source": [
    "#Write a Python program to print the alphabet pattern 'A'.\n",
    "\n",
    "result_str = \"\";                      # \"\" yat space thevlyavr pattrn change hota\n",
    "for row in range (0,7):\n",
    "    for column in range (0,7):\n",
    "        if (((column ==1 or column==5)and row !=0) or ((row == 0 or row ==3)and (column >1 and column<5))):\n",
    "            result_str=result_str+\"*\"    \n",
    "        else :\n",
    "            result_str=result_str+\" \"    \n",
    "    result_str=result_str+\"\\n\"    \n",
    "print(result_str);\n",
    "\n"
   ]
  },
  {
   "cell_type": "code",
   "execution_count": 32,
   "id": "d6d11274",
   "metadata": {},
   "outputs": [
    {
     "name": "stdout",
     "output_type": "stream",
     "text": [
      " ****  \n",
      " *   * \n",
      " *   * \n",
      " *   * \n",
      " *   * \n",
      " *   * \n",
      " ****  \n",
      "\n"
     ]
    }
   ],
   "source": [
    "#18. Write a Python program to print the alphabet pattern 'D'.\n",
    "\n",
    "result_str=\"\";      # \"\" yat space thevlyavr pattrn change hota\n",
    "for row in range(0,7):    \n",
    "    for column in range(0,7):     \n",
    "        if (column == 1 or ((row == 0 or row == 6) and (column > 1 and column < 5)) or (column == 5 and row != 0 and row != 6)):  \n",
    "            result_str=result_str+\"*\"    \n",
    "        else:      \n",
    "            result_str=result_str+\" \"    \n",
    "    result_str=result_str+\"\\n\"    \n",
    "print(result_str);"
   ]
  },
  {
   "cell_type": "code",
   "execution_count": 36,
   "id": "ad086d66",
   "metadata": {},
   "outputs": [
    {
     "name": "stdout",
     "output_type": "stream",
     "text": [
      " ****  \n",
      " *   * \n",
      " *   * \n",
      " *   * \n",
      " *   * \n",
      " *   * \n",
      " ****  \n",
      "\n"
     ]
    }
   ],
   "source": [
    "result_str = \"\"\n",
    "for row in range(0,7):\n",
    "    for column in range(0,7):\n",
    "        if (column == 1 or ((row ==0 or row ==6)and (column >1 and column <5)) or(column == 5 and row != 0 and row != 6)):\n",
    "            result_str = result_str + '*'\n",
    "        else:\n",
    "            result_str = result_str +' '\n",
    "    result_str = result_str +\"\\n\"\n",
    "print(result_str);\n",
    "    "
   ]
  },
  {
   "cell_type": "code",
   "execution_count": 40,
   "id": "bb5467c6",
   "metadata": {},
   "outputs": [
    {
     "name": "stdout",
     "output_type": "stream",
     "text": [
      "*******\n",
      "*      \n",
      "*      \n",
      "*******\n",
      "*      \n",
      "*      \n",
      "*******\n",
      "\n"
     ]
    }
   ],
   "source": [
    "#. Write a Python program to print the alphabet pattern 'E\n",
    "\n",
    "result_str = \"\"\n",
    "for row in range(0,7):\n",
    "    for column in range(0,7):\n",
    "        if (column == 0 or (row ==0 or row ==3 or row ==6)):\n",
    "            result_str = result_str + '*'\n",
    "        else:\n",
    "            result_str = result_str +' '\n",
    "    result_str = result_str +\"\\n\"\n",
    "print(result_str);"
   ]
  },
  {
   "cell_type": "code",
   "execution_count": 43,
   "id": "3e90672f",
   "metadata": {},
   "outputs": [
    {
     "name": "stdout",
     "output_type": "stream",
     "text": [
      "*     *\n",
      "*     *\n",
      "*     *\n",
      "*******\n",
      "*     *\n",
      "*     *\n",
      "*     *\n",
      "\n"
     ]
    }
   ],
   "source": [
    "#20. Write a Python program to print the alphabet pattern 'H'.\n",
    "\n",
    "result_str = ''\n",
    "for row in range (0,7):\n",
    "    for column in range(0,7):\n",
    "        if ((column == 0 or column ==6 )or  (row ==3)):\n",
    "            result_str = result_str +'*'\n",
    "        else:\n",
    "            result_str = result_str +' '\n",
    "    result_str = result_str +'\\n'\n",
    "print(result_str)\n",
    "    "
   ]
  },
  {
   "cell_type": "code",
   "execution_count": 44,
   "id": "fa7e7ed1",
   "metadata": {},
   "outputs": [
    {
     "name": "stdout",
     "output_type": "stream",
     "text": [
      "*      \n",
      "*      \n",
      "*      \n",
      "*      \n",
      "*      \n",
      "*      \n",
      "*******\n",
      "\n"
     ]
    }
   ],
   "source": [
    "#21. Write a Python program to print the alphabet pattern 'L'.\n",
    "\n",
    "result_str = ''\n",
    "for row in range(0,7):\n",
    "    for column in range (0,7):\n",
    "        if (column == 0 or row ==6):\n",
    "            result_str = result_str + '*'\n",
    "        else :\n",
    "            result_str = result_str + ' '\n",
    "    result_str = result_str + '\\n'\n",
    "print(result_str)"
   ]
  },
  {
   "cell_type": "code",
   "execution_count": 47,
   "id": "11d7fcb3",
   "metadata": {},
   "outputs": [
    {
     "name": "stdout",
     "output_type": "stream",
     "text": [
      "*     *\n",
      "**   **\n",
      "* * * *\n",
      "*  *  *\n",
      "*     *\n",
      "*     *\n",
      "*     *\n",
      "\n"
     ]
    }
   ],
   "source": [
    "#22. Write a Python program to print the alphabet pattern 'M'.\n",
    "\n",
    "result_str = \"\"\n",
    "for row in range(0,7):\n",
    "    for column in range(0,7):\n",
    "        if((column ==0 or column==6)or((column==1 or column ==5)and (row ==1 ))or((column==2 or column ==4)and (row ==2 ))or(column ==3 and row ==3)):\n",
    "            result_str = result_str + '*'\n",
    "        else:\n",
    "            result_str = result_str +' '\n",
    "    result_str = result_str + '\\n'\n",
    "print(result_str)"
   ]
  },
  {
   "cell_type": "code",
   "execution_count": 52,
   "id": "0c751dcc",
   "metadata": {},
   "outputs": [
    {
     "name": "stdout",
     "output_type": "stream",
     "text": [
      "  ***  \n",
      " *   * \n",
      " *   * \n",
      " *   * \n",
      " *   * \n",
      " *   * \n",
      "  ***  \n",
      "\n"
     ]
    }
   ],
   "source": [
    "#23. Write a Python program to print the alphabet pattern 'O'.\n",
    "\n",
    "result_str = ''\n",
    "for row in range(0,7):\n",
    "    for column in range(0,7):\n",
    "        if (((column == 1 or column == 5) and row != 0 and row != 6) or ((row == 0 or row == 6) and column > 1 and column < 5)):  \n",
    "            result_str = result_str + '*'\n",
    "        else:\n",
    "            result_str = result_str + ' '\n",
    "    result_str = result_str + '\\n'\n",
    "print(result_str)"
   ]
  },
  {
   "cell_type": "code",
   "execution_count": 54,
   "id": "b98c87c8",
   "metadata": {},
   "outputs": [
    {
     "name": "stdout",
     "output_type": "stream",
     "text": [
      "***** \n",
      "*    *\n",
      "*    *\n",
      "***** \n",
      "*     \n",
      "*     \n",
      "\n"
     ]
    }
   ],
   "source": [
    "# Write a Python program to print the alphabet pattern 'P'.\n",
    "\n",
    "result_str = ''\n",
    "for row in range(0,6):\n",
    "    for column in range(0,6):\n",
    "        if ((column ==0) or ((row==0 or row ==3)and column !=5) or ((column ==5 ) and (row ==1 or row==2))):\n",
    "            result_str = result_str + \"*\"\n",
    "        else:\n",
    "            result_str = result_str + \" \"\n",
    "    result_str = result_str +'\\n'\n",
    "print(result_str)\n",
    "            "
   ]
  },
  {
   "cell_type": "code",
   "execution_count": 56,
   "id": "81bc8037",
   "metadata": {},
   "outputs": [
    {
     "name": "stdout",
     "output_type": "stream",
     "text": [
      "***** \n",
      "*    *\n",
      "*    *\n",
      "***** \n",
      "**    \n",
      "* *   \n",
      "\n"
     ]
    }
   ],
   "source": [
    "#25. Write a Python program to print the alphabet pattern 'R'.\n",
    "result_str = ''\n",
    "for row in range(0,6):\n",
    "    for column in range(0,6):\n",
    "        if ((column ==0) or ((row==0 or row ==3)and column !=5) or ((column ==5 ) and (row ==1 or row==2))or ((column ==1)and row ==4)) or ((column==2) and row ==5) or ((column==3)and row==6):\n",
    "            result_str = result_str + \"*\"\n",
    "        else:\n",
    "            result_str = result_str + \" \"\n",
    "    result_str = result_str +'\\n'\n",
    "print(result_str)\n",
    "            "
   ]
  },
  {
   "cell_type": "code",
   "execution_count": 60,
   "id": "f26f3ee8",
   "metadata": {},
   "outputs": [
    {
     "name": "stdout",
     "output_type": "stream",
     "text": [
      "  **** \n",
      " *     \n",
      " *     \n",
      "  ***  \n",
      "     * \n",
      "     * \n",
      " ****  \n",
      "\n"
     ]
    }
   ],
   "source": [
    "#Write a Python program to print the following patterns.\n",
    "\n",
    "\n",
    "result_str=\"\";    \n",
    "for row in range(0,7):    \n",
    "    for column in range(0,7):     \n",
    "        if (((row == 0 or row == 3 or row == 6) and column > 1 and column < 5) or (column == 1 and (row == 1 or row == 2 or row == 6)) or (column == 5 and (row == 0 or row == 4 or row == 5))):  \n",
    "            result_str=result_str+\"*\"    \n",
    "        else:      \n",
    "            result_str=result_str+\" \"    \n",
    "    result_str=result_str+\"\\n\"    \n",
    "print(result_str);\n"
   ]
  },
  {
   "cell_type": "code",
   "execution_count": 65,
   "id": "766d6120",
   "metadata": {},
   "outputs": [
    {
     "name": "stdout",
     "output_type": "stream",
     "text": [
      "********\n",
      "    *   \n",
      "    *   \n",
      "    *   \n",
      "    *   \n",
      "    *   \n",
      "    *   \n",
      "    *   \n",
      "\n"
     ]
    }
   ],
   "source": [
    "#27. Write a Python program to print the alphabet pattern 'T'.\n",
    "\n",
    "result_str=\"\";      # \"\" yat space thevlyavr pattrn change hota\n",
    "for row in range(0,8):    \n",
    "    for column in range(0,8):     \n",
    "        if( (row ==0)or (column==4)):  \n",
    "            result_str=result_str+\"*\"    \n",
    "        else:      \n",
    "            result_str=result_str+\" \"    \n",
    "    result_str=result_str+\"\\n\"    \n",
    "print(result_str);"
   ]
  },
  {
   "cell_type": "code",
   "execution_count": 77,
   "id": "484b3c3c",
   "metadata": {},
   "outputs": [
    {
     "name": "stdout",
     "output_type": "stream",
     "text": [
      " *   * \n",
      " *   * \n",
      " *   * \n",
      " *   * \n",
      " *   * \n",
      " *   * \n",
      "  ***  \n",
      "\n"
     ]
    }
   ],
   "source": [
    "#  Write a Python program to print the alphabet pattern 'U'.\n",
    "\n",
    "result_str=\"\";      # \"\" yat space thevlyavr pattrn change hota\n",
    "for row in range(0,7):    \n",
    "    for column in range(0,7):     \n",
    "        if (((column == 1 or column == 5) and row != 6) or (row == 6 and column > 1 and column < 5)):  \n",
    "            result_str=result_str+\"*\"    \n",
    "        else:      \n",
    "            result_str=result_str+\" \"    \n",
    "    result_str=result_str+\"\\n\"    \n",
    "print(result_str);"
   ]
  },
  {
   "cell_type": "code",
   "execution_count": 80,
   "id": "6dd7be6b",
   "metadata": {},
   "outputs": [
    {
     "name": "stdout",
     "output_type": "stream",
     "text": [
      "*******\n",
      "     * \n",
      "    *  \n",
      "   *   \n",
      "  *    \n",
      " *     \n",
      "*******\n",
      "\n"
     ]
    }
   ],
   "source": [
    "#29. Write a Python program to print the alphabet pattern 'X'.\n",
    "\n",
    "result_str=\"\"     # \"\" yat space thevlyavr pattrn change hota\n",
    "for row in range(0,7):    \n",
    "    for column in range(0,7):     \n",
    "        if (((row == 0 or row == 6) and column >= 0 and column <= 6) or row+column==6):  \n",
    "            result_str=result_str+\"*\"    \n",
    "        else:      \n",
    "            result_str=result_str+\" \"    \n",
    "    result_str=result_str+\"\\n\"    \n",
    "print(result_str);\n"
   ]
  },
  {
   "cell_type": "code",
   "execution_count": 84,
   "id": "ba766d19",
   "metadata": {},
   "outputs": [
    {
     "name": "stdout",
     "output_type": "stream",
     "text": [
      "6 x 1 = 6\n",
      "6 x 2 = 12\n",
      "6 x 3 = 18\n",
      "6 x 4 = 24\n",
      "6 x 5 = 30\n",
      "6 x 6 = 36\n",
      "6 x 7 = 42\n",
      "6 x 8 = 48\n",
      "6 x 9 = 54\n",
      "6 x 10 = 60\n",
      "6 x 11 = 66\n"
     ]
    }
   ],
   "source": [
    "# Write a Python program to create the multiplication table (from 1 to 10) of a number.\n",
    "\n",
    "for i in range ( 1,12):\n",
    "    result = 6*i\n",
    "    print('6','x',i ,'=',result)"
   ]
  },
  {
   "cell_type": "code",
   "execution_count": 85,
   "id": "06775a8e",
   "metadata": {},
   "outputs": [
    {
     "name": "stdout",
     "output_type": "stream",
     "text": [
      "\n",
      "1\n",
      "22\n",
      "333\n",
      "4444\n",
      "55555\n",
      "666666\n",
      "7777777\n",
      "88888888\n",
      "999999999\n"
     ]
    }
   ],
   "source": [
    "for i in range(10):\n",
    "    print(str(i) * i)"
   ]
  },
  {
   "cell_type": "code",
   "execution_count": 1,
   "id": "dc6b0445",
   "metadata": {},
   "outputs": [
    {
     "name": "stdout",
     "output_type": "stream",
     "text": [
      "1 \r\n",
      "1 2 \r\n",
      "1 2 3 \r\n",
      "1 2 3 4 \r\n",
      "1 2 3 4 5 \r\n"
     ]
    }
   ],
   "source": [
    "def num(n):\n",
    "    num = 1\n",
    "    for i in range(0, n):\n",
    "        num = 1\n",
    "        for j in range(0, i+1):\n",
    "            print(num, end=\" \")\n",
    "            num = num + 1\n",
    "        print(\"\\r\")\n",
    "n = 5\n",
    "num(n)"
   ]
  },
  {
   "cell_type": "code",
   "execution_count": 2,
   "id": "ffa6c39a",
   "metadata": {},
   "outputs": [
    {
     "name": "stdout",
     "output_type": "stream",
     "text": [
      "1 \r\n",
      "2 3 \r\n",
      "4 5 6 \r\n",
      "7 8 9 10 \r\n",
      "11 12 13 14 15 \r\n"
     ]
    }
   ],
   "source": [
    "def num(n):\n",
    "    num = 1\n",
    "    for i in range(0, n):\n",
    "        for j in range(0, i+1):\n",
    "            print(num, end=\" \")\n",
    "            num = num + 1\n",
    "        print(\"\\r\")\n",
    "n = 5\n",
    "num(n)"
   ]
  },
  {
   "cell_type": "code",
   "execution_count": 3,
   "id": "4dd390aa",
   "metadata": {},
   "outputs": [
    {
     "name": "stdout",
     "output_type": "stream",
     "text": [
      "A \r\n",
      "B B \r\n",
      "C C C \r\n",
      "D D D D \r\n",
      "E E E E E \r\n"
     ]
    }
   ],
   "source": [
    "def alphapat(n):\n",
    "    num = 65\n",
    "    for i in range(0, n):\n",
    "        for j in range(0, i+1):\n",
    "            ch = chr(num)\n",
    "            print(ch, end=\" \")\n",
    "        num = num + 1\n",
    "    \n",
    "        print(\"\\r\")\n",
    "n = 5\n",
    "alphapat(n)"
   ]
  },
  {
   "cell_type": "code",
   "execution_count": 4,
   "id": "03c58d86",
   "metadata": {},
   "outputs": [
    {
     "name": "stdout",
     "output_type": "stream",
     "text": [
      "A \n",
      "B C \n",
      "D E F \n",
      "G H I J \n",
      "K L M N O \n"
     ]
    }
   ],
   "source": [
    "def contalpha(n):\n",
    "    num = 65\n",
    "    for i in range(0, n):\n",
    "        for j in range(0, i+1):\n",
    "            ch = chr(num)\n",
    "            print(ch, end=\" \")\n",
    "            num = num + 1\n",
    "        print()\n",
    "n = 5\n",
    "contalpha(n)"
   ]
  },
  {
   "cell_type": "code",
   "execution_count": null,
   "id": "d958ed6f",
   "metadata": {},
   "outputs": [],
   "source": []
  }
 ],
 "metadata": {
  "kernelspec": {
   "display_name": "Python 3 (ipykernel)",
   "language": "python",
   "name": "python3"
  },
  "language_info": {
   "codemirror_mode": {
    "name": "ipython",
    "version": 3
   },
   "file_extension": ".py",
   "mimetype": "text/x-python",
   "name": "python",
   "nbconvert_exporter": "python",
   "pygments_lexer": "ipython3",
   "version": "3.10.9"
  }
 },
 "nbformat": 4,
 "nbformat_minor": 5
}
