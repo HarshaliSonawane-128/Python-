{
 "cells": [
  {
   "cell_type": "markdown",
   "id": "acdd0ba3",
   "metadata": {},
   "source": [
    "##### 1. Write a Python program to triple all numbers in a given list of integers. Use Python map"
   ]
  },
  {
   "cell_type": "code",
   "execution_count": 1,
   "id": "a694f43c",
   "metadata": {},
   "outputs": [
    {
     "name": "stdout",
     "output_type": "stream",
     "text": [
      "[3, 6, 9, 12, 15, 18, 21]\n"
     ]
    }
   ],
   "source": [
    "num = (1,2,3,4,5,6,7)\n",
    "\n",
    "result = map(lambda a :a+a+a , num)\n",
    "print(list(result))"
   ]
  },
  {
   "cell_type": "markdown",
   "id": "e4f2439f",
   "metadata": {},
   "source": [
    "##### 2. Write a Python program to add three given lists using Python map and lambda."
   ]
  },
  {
   "cell_type": "code",
   "execution_count": 5,
   "id": "c1cccc7a",
   "metadata": {},
   "outputs": [
    {
     "name": "stdout",
     "output_type": "stream",
     "text": [
      "[12, 15, 18]\n"
     ]
    }
   ],
   "source": [
    "nums1 = [1, 2, 3] \n",
    "nums2 = [4, 5, 6] \n",
    "nums3 = [7, 8, 9] \n",
    "\n",
    "result = map(lambda a,b,c : a+b+c,nums1,nums2,nums3)\n",
    "print(list(result))"
   ]
  },
  {
   "cell_type": "markdown",
   "id": "9b803cf2",
   "metadata": {},
   "source": [
    "#### 3. Write a Python program to listify the list of given strings individually using Python map."
   ]
  },
  {
   "cell_type": "code",
   "execution_count": 11,
   "id": "e34da64a",
   "metadata": {},
   "outputs": [
    {
     "name": "stdout",
     "output_type": "stream",
     "text": [
      "\n",
      "After listify the list of strings are:\n",
      "[['R', 'e', 'd'], ['B', 'l', 'u', 'e'], ['B', 'l', 'a', 'c', 'k'], ['W', 'h', 'i', 't', 'e'], ['P', 'i', 'n', 'k']]\n"
     ]
    }
   ],
   "source": [
    "color = ['Red', 'Blue', 'Black', 'White', 'Pink'] \n",
    "\n",
    "print(\"\\nAfter listify the list of strings are:\") \n",
    "result = list(map(list, color)) \n",
    "print(result)"
   ]
  },
  {
   "cell_type": "markdown",
   "id": "7b115ac0",
   "metadata": {},
   "source": [
    "#### 4. Write a Python program to create a list containing the power of said number in bases raised to the corresponding number in the index using Python map."
   ]
  },
  {
   "cell_type": "code",
   "execution_count": 15,
   "id": "54f1e13a",
   "metadata": {},
   "outputs": [
    {
     "name": "stdout",
     "output_type": "stream",
     "text": [
      "[1, 20, 900, 64000, 6250000, 777600000]\n"
     ]
    }
   ],
   "source": [
    "numbers = [10,20,30,40,50,60]\n",
    "\n",
    "power_list = list(map(lambda b,e : b**e , numbers , range(len(numbers))))\n",
    "\n",
    "\n",
    "print(power_list)"
   ]
  },
  {
   "cell_type": "code",
   "execution_count": 21,
   "id": "e0a8fbf3",
   "metadata": {},
   "outputs": [
    {
     "name": "stdout",
     "output_type": "stream",
     "text": [
      "[10, 400, 27000, 2560000, 312500000, 46656000000, 8235430000000, 1677721600000000, 387420489000000000, 100000000000000000000]\n"
     ]
    }
   ],
   "source": [
    "bases_num = [10, 20, 30, 40, 50, 60, 70, 80, 90, 100]\n",
    "index = [1, 2, 3, 4, 5, 6, 7, 8, 9, 10]\n",
    "\n",
    "result = list(map(pow, bases_num, index))\n",
    "print(result)"
   ]
  },
  {
   "cell_type": "markdown",
   "id": "c05540b0",
   "metadata": {},
   "source": [
    "### 5. Write a Python program to square the elements of a list using the map() function."
   ]
  },
  {
   "cell_type": "code",
   "execution_count": 29,
   "id": "e8d8a8f0",
   "metadata": {},
   "outputs": [
    {
     "name": "stdout",
     "output_type": "stream",
     "text": [
      "[1, 4, 9, 16, 25]\n"
     ]
    }
   ],
   "source": [
    "l = [1,2,3,4,5]\n",
    " \n",
    "print(list(map(lambda a :pow(a,2) ,l)))"
   ]
  },
  {
   "cell_type": "code",
   "execution_count": 28,
   "id": "22742dd5",
   "metadata": {},
   "outputs": [
    {
     "name": "stdout",
     "output_type": "stream",
     "text": [
      "[1, 4, 9, 16, 25]\n"
     ]
    }
   ],
   "source": [
    "def squre (n):\n",
    "    a = n**2\n",
    "    return a\n",
    "l = [1,2,3,4,5]\n",
    "result = list(map(squre , l))\n",
    "print(result)"
   ]
  },
  {
   "cell_type": "markdown",
   "id": "2361c6c2",
   "metadata": {},
   "source": [
    "##### 6. Write a Python program to convert all the characters into uppercase and lowercase and eliminate duplicate letters from a given sequence. Use the map() function."
   ]
  },
  {
   "cell_type": "code",
   "execution_count": 36,
   "id": "336bb91d",
   "metadata": {},
   "outputs": [
    {
     "name": "stdout",
     "output_type": "stream",
     "text": [
      "{('O', 'o'), ('A', 'a'), ('B', 'b'), ('U', 'u'), ('E', 'e'), ('F', 'f'), ('I', 'i')}\n"
     ]
    }
   ],
   "source": [
    "def func (s):\n",
    "    return str(s).upper(),str(s).lower()\n",
    "\n",
    "chrars = ['a', 'b', 'E', 'f', 'a', 'i', 'o', 'U', 'a']\n",
    "\n",
    "result = map(func , chrars)\n",
    "print(set(result))"
   ]
  },
  {
   "cell_type": "markdown",
   "id": "58dfa3d2",
   "metadata": {},
   "source": [
    "####  Write a Python program to add two given lists and find the difference between them. Use the map() function.\n"
   ]
  },
  {
   "cell_type": "code",
   "execution_count": 38,
   "id": "d8ff0818",
   "metadata": {},
   "outputs": [
    {
     "name": "stdout",
     "output_type": "stream",
     "text": [
      "[-22, 41, 21, 8, -21]\n"
     ]
    }
   ],
   "source": [
    "A = [23,65,87,95,35]\n",
    "B = [45,24,66,87,56]\n",
    "\n",
    "def substraction (a,b):\n",
    "    return a-b\n",
    "\n",
    "result = map(substraction , A,B)\n",
    "print(list(result))"
   ]
  },
  {
   "cell_type": "code",
   "execution_count": 39,
   "id": "e172116c",
   "metadata": {},
   "outputs": [
    {
     "name": "stdout",
     "output_type": "stream",
     "text": [
      "[-22, 41, 21, 8, -21]\n"
     ]
    }
   ],
   "source": [
    "print(list(map(lambda a,b : a-b ,A,B )))"
   ]
  },
  {
   "cell_type": "markdown",
   "id": "59f19a01",
   "metadata": {},
   "source": [
    "#### 8. Write a Python program to convert a given list of integers and a tuple of integers in a list of strings.\n"
   ]
  },
  {
   "cell_type": "code",
   "execution_count": 43,
   "id": "aa916b21",
   "metadata": {},
   "outputs": [
    {
     "name": "stdout",
     "output_type": "stream",
     "text": [
      "['1', '2', '3', '4']\n",
      "['0', '1', '2', '3']\n"
     ]
    }
   ],
   "source": [
    "nums_list = [1,2,3,4]\n",
    "nums_tuple = (0, 1, 2, 3) \n",
    "\n",
    "print(list(map(str,nums_list)))\n",
    "print(list(map(str,nums_tuple)))"
   ]
  },
  {
   "cell_type": "markdown",
   "id": "69c3085a",
   "metadata": {},
   "source": [
    "#### 9. Write a Python program to create a new list taking specific elements from a tuple and convert a string value to an integer."
   ]
  },
  {
   "cell_type": "code",
   "execution_count": 47,
   "id": "92b33cbb",
   "metadata": {},
   "outputs": [
    {
     "name": "stdout",
     "output_type": "stream",
     "text": [
      "['Alberto Franco', 'Gino Mcneill', 'Ryan Parkes', 'Eesha Hinton']\n",
      "['15/05/2002', '17/05/2002', '16/02/1999', '25/09/1998']\n",
      "['35kg', '37kg', '39kg', '35kg']\n",
      "[35, 37, 39, 35]\n"
     ]
    }
   ],
   "source": [
    "student_data  = [('Alberto Franco','15/05/2002','35kg'), ('Gino Mcneill','17/05/2002','37kg'), ('Ryan Parkes','16/02/1999', '39kg'), ('Eesha Hinton','25/09/1998', '35kg')]\n",
    "\n",
    "print(list(map(lambda x:x[0],student_data)))\n",
    "print(list(map(lambda x:x[1],student_data)))\n",
    "print(list(map(lambda x:x[2],student_data)))\n",
    "print(list(map(lambda x:int(x[2][:-2]),student_data)))"
   ]
  },
  {
   "cell_type": "markdown",
   "id": "3301c9d2",
   "metadata": {},
   "source": [
    "#### 0. Write a Python program to compute the square of the first N Fibonacci numbers, using the map function and generate a list of the numbers."
   ]
  },
  {
   "cell_type": "markdown",
   "id": "c68ed3ea",
   "metadata": {},
   "source": [
    "#### 11. Write a Python program to compute the sum of elements of an array of integers. Use the map() function."
   ]
  },
  {
   "cell_type": "code",
   "execution_count": 58,
   "id": "83ea0d75",
   "metadata": {},
   "outputs": [
    {
     "name": "stdout",
     "output_type": "stream",
     "text": [
      "Sum of elements: 15\n"
     ]
    }
   ],
   "source": [
    "arr = [1, 2, 3, 4, 5]\n",
    "\n",
    "# Use the map() function to convert the elements to integers (not necessary in this case, but shown for demonstration)\n",
    "arr_int = list(map(int,arr))\n",
    "\n",
    "\n",
    "# Compute the sum of the elements using the sum() function\n",
    "total_sum = sum(arr_int)\n",
    "\n",
    "# Print the sum\n",
    "print(\"Sum of elements:\", total_sum)"
   ]
  },
  {
   "cell_type": "code",
   "execution_count": 54,
   "id": "3e64241e",
   "metadata": {},
   "outputs": [
    {
     "name": "stdout",
     "output_type": "stream",
     "text": [
      "15\n"
     ]
    }
   ],
   "source": [
    "arr= [1,2,3,4,5]\n",
    "\n",
    "print(sum(map(int,arr)))\n"
   ]
  },
  {
   "cell_type": "code",
   "execution_count": 62,
   "id": "761e47ff",
   "metadata": {},
   "outputs": [
    {
     "name": "stdout",
     "output_type": "stream",
     "text": [
      "[15]\n"
     ]
    }
   ],
   "source": [
    "def summ (a):\n",
    "    sum = 0\n",
    "    for i in a:\n",
    "        sum += i\n",
    "    return(sum)  \n",
    "\n",
    "arr = [1, 2, 3, 4, 5]\n",
    "print(list(map(summ,[arr])))\n",
    "\n"
   ]
  },
  {
   "cell_type": "markdown",
   "id": "98299a1e",
   "metadata": {},
   "source": [
    "#### 12. Write a Python program to find the ratio of positive numbers, negative numbers and zeroes in an array of integers."
   ]
  },
  {
   "cell_type": "code",
   "execution_count": 73,
   "id": "33e9ec4d",
   "metadata": {},
   "outputs": [
    {
     "name": "stdout",
     "output_type": "stream",
     "text": [
      "(0.42857142857142855, 0.2857142857142857, 0.2857142857142857)\n",
      "Positive Ratio: 0.42857142857142855\n",
      "Negative Ratio: 0.2857142857142857\n",
      "Zero Ratio: 0.2857142857142857\n"
     ]
    }
   ],
   "source": [
    "def find_ratio (a):\n",
    "    positive_count = 0\n",
    "    negative_count = 0\n",
    "    zero_count = 0\n",
    "    \n",
    "    for i in a:\n",
    "        if i>0:\n",
    "            positive_count += 1\n",
    "        elif i<0 :\n",
    "            negative_count +=1\n",
    "        else :\n",
    "            zero_count +=1\n",
    "        \n",
    "    total_count = len(a)\n",
    "    positive_ratio = positive_count/total_count\n",
    "    negative_ratio = negative_count/total_count\n",
    "    zero_ratio = zero_count / total_count\n",
    "    \n",
    "    return (positive_ratio, negative_ratio, zero_ratio)\n",
    "    \n",
    "a = [1, -2, 0, 3, -4, 0, 5]\n",
    "\n",
    "result = find_ratio(a)\n",
    "print(result)\n",
    "print(\"Positive Ratio:\", result[0])\n",
    "print(\"Negative Ratio:\", result[1])\n",
    "print(\"Zero Ratio:\", result[2])"
   ]
  },
  {
   "cell_type": "markdown",
   "id": "08bb1ab1",
   "metadata": {},
   "source": [
    "#### 13. Write a Python program to count the same pair in two given lists. use map() function."
   ]
  },
  {
   "cell_type": "code",
   "execution_count": null,
   "id": "f5d9c237",
   "metadata": {},
   "outputs": [],
   "source": []
  },
  {
   "cell_type": "markdown",
   "id": "33fbd479",
   "metadata": {},
   "source": [
    "#### 14. Write a Python program to interleave two lists into another list randomly. Use the map() function"
   ]
  },
  {
   "cell_type": "code",
   "execution_count": null,
   "id": "1884c442",
   "metadata": {},
   "outputs": [],
   "source": []
  },
  {
   "cell_type": "markdown",
   "id": "71ccf619",
   "metadata": {},
   "source": [
    "#### 15. Write a Python program to split a given dictionary of lists into list of dictionaries using the map function."
   ]
  },
  {
   "cell_type": "code",
   "execution_count": null,
   "id": "8e02194b",
   "metadata": {},
   "outputs": [],
   "source": []
  },
  {
   "cell_type": "markdown",
   "id": "3ffc80b8",
   "metadata": {},
   "source": [
    "#### 16. Write a Python program to convert a given list of strings into a list of lists using the map function."
   ]
  },
  {
   "cell_type": "code",
   "execution_count": 3,
   "id": "59b8e883",
   "metadata": {},
   "outputs": [
    {
     "name": "stdout",
     "output_type": "stream",
     "text": [
      "[['m', 'o', 'n', 'a'], ['t', 'i', 'n', 'a'], ['n', 'e', 'h', 'a']]\n"
     ]
    }
   ],
   "source": [
    "A = ['mona','tina','neha']\n",
    "print(list(map(list,A)))"
   ]
  },
  {
   "cell_type": "markdown",
   "id": "2d740c95",
   "metadata": {},
   "source": [
    "#### 17. Write a Python program to convert a given list of tuples to a list of strings using the map function. "
   ]
  },
  {
   "cell_type": "code",
   "execution_count": 2,
   "id": "4bdf054e",
   "metadata": {},
   "outputs": [
    {
     "name": "stdout",
     "output_type": "stream",
     "text": [
      "['1', '3', '5', '7']\n"
     ]
    }
   ],
   "source": [
    "A = (1,3,5,7)\n",
    "print(list(map(str,A)))"
   ]
  },
  {
   "cell_type": "markdown",
   "id": "3c31bdd6",
   "metadata": {},
   "source": [
    "#### 18.Create a program that takes a list of dictionaries, each containing a 'name' and 'age' key, and sorts the list of dictionaries based on the 'age' field in ascending order using the sorted() function"
   ]
  },
  {
   "cell_type": "code",
   "execution_count": 8,
   "id": "53f01c01",
   "metadata": {},
   "outputs": [
    {
     "name": "stdout",
     "output_type": "stream",
     "text": [
      "[{'name': 'Eve', 'age': 22}, {'name': 'Alice', 'age': 25}, {'name': 'Bob', 'age': 30}, {'name': 'David', 'age': 35}]\n"
     ]
    }
   ],
   "source": [
    "people = [\n",
    "    {'name': 'Alice', 'age': 25},\n",
    "    {'name': 'Bob', 'age': 30},\n",
    "    {'name': 'Eve', 'age': 22},\n",
    "    {'name': 'David', 'age': 35}]\n",
    "\n",
    "# Sort the list of dictionaries based on the 'age' field in ascending order\n",
    "sorted_people = sorted(people,key = lambda x:x['age'])\n",
    "\n",
    "print(sorted_people)"
   ]
  },
  {
   "cell_type": "code",
   "execution_count": 10,
   "id": "ead1f6c5",
   "metadata": {},
   "outputs": [
    {
     "name": "stdout",
     "output_type": "stream",
     "text": [
      "Name: Eve, Age: 22\n",
      "Name: Alice, Age: 25\n",
      "Name: Bob, Age: 30\n",
      "Name: David, Age: 35\n"
     ]
    }
   ],
   "source": [
    "\n",
    "# Print the sorted list\n",
    "for person in sorted_people:\n",
    "    print(f\"Name: {person['name']}, Age: {person['age']}\")"
   ]
  },
  {
   "cell_type": "markdown",
   "id": "d2676742",
   "metadata": {},
   "source": [
    "#### 15. Write a Python program to split a given dictionary of lists into list of dictionaries using the map function."
   ]
  },
  {
   "cell_type": "code",
   "execution_count": null,
   "id": "6cd1c75f",
   "metadata": {},
   "outputs": [],
   "source": []
  },
  {
   "cell_type": "markdown",
   "id": "152cae7a",
   "metadata": {},
   "source": [
    "#### 19.Write a map function that adds plus 5 to each item in the list."
   ]
  },
  {
   "cell_type": "code",
   "execution_count": 12,
   "id": "bfc3235a",
   "metadata": {},
   "outputs": [
    {
     "name": "stdout",
     "output_type": "stream",
     "text": [
      "[15, 25, 35, 45, 55, 65]\n"
     ]
    }
   ],
   "source": [
    "lst1=[10, 20, 30, 40, 50, 60]\n",
    "\n",
    "lst2= list(map(lambda a: a+5 ,lst1))\n",
    "\n",
    "print(lst2)\n"
   ]
  },
  {
   "cell_type": "markdown",
   "id": "70a48dc1",
   "metadata": {},
   "source": [
    "#### 20.Write a map function that adds \"Hello, \" in front of each item in the list."
   ]
  },
  {
   "cell_type": "code",
   "execution_count": 16,
   "id": "1a1f4321",
   "metadata": {},
   "outputs": [
    {
     "name": "stdout",
     "output_type": "stream",
     "text": [
      "['Hello Jane', 'Hello Lee', 'Hello Will', 'Hello Brie']\n"
     ]
    }
   ],
   "source": [
    "lst1=[\"Jane\", \"Lee\", \"Will\", \"Brie\"]\n",
    "\n",
    "lst2=list(map(lambda a : 'Hello '+ a , lst1))\n",
    "\n",
    "print(lst2)"
   ]
  },
  {
   "cell_type": "markdown",
   "id": "49162d1b",
   "metadata": {},
   "source": [
    "#### 21.Write a map function that returns the squares of the items in the list"
   ]
  },
  {
   "cell_type": "code",
   "execution_count": 17,
   "id": "1b9c8719",
   "metadata": {},
   "outputs": [
    {
     "name": "stdout",
     "output_type": "stream",
     "text": [
      "[100, 400, 900, 1600, 2500, 3600]\n"
     ]
    }
   ],
   "source": [
    "lst1=[10, 20, 30, 40, 50, 60]\n",
    "print(list(map( lambda a: a**2 , lst1)))"
   ]
  },
  {
   "cell_type": "markdown",
   "id": "8be49786",
   "metadata": {},
   "source": [
    "#### 20.Using map() function and len() function create a list that's consisted of lengths of each element in the first list."
   ]
  },
  {
   "cell_type": "code",
   "execution_count": 18,
   "id": "41b1e814",
   "metadata": {},
   "outputs": [
    {
     "name": "stdout",
     "output_type": "stream",
     "text": [
      "[6, 9, 6, 9, 6]\n"
     ]
    }
   ],
   "source": [
    "\n",
    "lst1=[\"Alpine\", \"Avalanche\", \"Powder\", \"Snowflake\", \"Summit\"]\n",
    "\n",
    "lst2= list(map( len , lst1))\n",
    "\n",
    "print(lst2)"
   ]
  },
  {
   "cell_type": "markdown",
   "id": "b61e1242",
   "metadata": {},
   "source": [
    "#### 21.Using map() function and lambda add each elements of two lists together. Use a lambda with two arguments."
   ]
  },
  {
   "cell_type": "code",
   "execution_count": 20,
   "id": "f9f77b6f",
   "metadata": {},
   "outputs": [
    {
     "name": "stdout",
     "output_type": "stream",
     "text": [
      "[101, 210, 400, 1400, 10500]\n"
     ]
    }
   ],
   "source": [
    "lst1=[100, 200, 300, 400, 500]\n",
    "lst2=[1,10,100,1000,10000]\n",
    "\n",
    "\n",
    "\n",
    "lst3= list (map (lambda a,b : a+b , lst1,lst2))\n",
    "\n",
    "print(lst3)"
   ]
  },
  {
   "cell_type": "markdown",
   "id": "301b03f5",
   "metadata": {},
   "source": [
    "#### 22.Using map() function and lambda and count() function create a list which consists of the number of occurence of letter: a."
   ]
  },
  {
   "cell_type": "code",
   "execution_count": 21,
   "id": "7b704f6c",
   "metadata": {},
   "outputs": [
    {
     "name": "stdout",
     "output_type": "stream",
     "text": [
      "[2, 4, 2, 1]\n"
     ]
    }
   ],
   "source": [
    "lst1 = ['aandi', 'aradhana' ,'atharv','amsuni']\n",
    "\n",
    "print( list(map(lambda x:x.count('a'),lst1)))"
   ]
  },
  {
   "cell_type": "markdown",
   "id": "04c03928",
   "metadata": {},
   "source": [
    "#### 23.Using map() function and lambda and count() function create a list consisted of the number of occurence of both letters: A and a."
   ]
  },
  {
   "cell_type": "code",
   "execution_count": 23,
   "id": "48a64258",
   "metadata": {},
   "outputs": [
    {
     "name": "stdout",
     "output_type": "stream",
     "text": [
      "[3, 4, 2, 3]\n"
     ]
    }
   ],
   "source": [
    "lst1=[\"Alaska\", \"Alabama\", \"Arizona\", \"Arkansas\"]\n",
    "\n",
    "lst2 = list(map(lambda x: x.lower().count(\"a\"), lst1))\n",
    "print(lst2)"
   ]
  },
  {
   "cell_type": "markdown",
   "id": "72487606",
   "metadata": {},
   "source": [
    "#### 24.Using map() function, first return a new list with absolute values of existing list. Then for ans_1, find the total sum of the new list's elements."
   ]
  },
  {
   "cell_type": "code",
   "execution_count": 28,
   "id": "394deea4",
   "metadata": {},
   "outputs": [
    {
     "name": "stdout",
     "output_type": "stream",
     "text": [
      "117.6043\n"
     ]
    }
   ],
   "source": [
    "\n",
    "lst=[99.3890,-3.5, 5, -0.7123, -9, -0.003]\n",
    "new_lst= list(map(abs ,lst))\n",
    "\n",
    "ans_1= sum(new_lst)\n",
    "\n",
    "print(ans_1)"
   ]
  }
 ],
 "metadata": {
  "kernelspec": {
   "display_name": "Python 3 (ipykernel)",
   "language": "python",
   "name": "python3"
  },
  "language_info": {
   "codemirror_mode": {
    "name": "ipython",
    "version": 3
   },
   "file_extension": ".py",
   "mimetype": "text/x-python",
   "name": "python",
   "nbconvert_exporter": "python",
   "pygments_lexer": "ipython3",
   "version": "3.10.9"
  }
 },
 "nbformat": 4,
 "nbformat_minor": 5
}
