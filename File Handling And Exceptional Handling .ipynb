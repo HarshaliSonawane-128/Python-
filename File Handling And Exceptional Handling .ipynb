{
 "cells": [
  {
   "cell_type": "markdown",
   "id": "424a68e9",
   "metadata": {},
   "source": [
    "### Creating Text file"
   ]
  },
  {
   "cell_type": "code",
   "execution_count": 1,
   "id": "a807d2e5",
   "metadata": {},
   "outputs": [],
   "source": [
    "f = open('text.txt','w')"
   ]
  },
  {
   "cell_type": "markdown",
   "id": "8d407140",
   "metadata": {},
   "source": [
    "### Writtng in file"
   ]
  },
  {
   "cell_type": "code",
   "execution_count": 10,
   "id": "a0463cba",
   "metadata": {},
   "outputs": [],
   "source": [
    "f = open('text.txt','w')\n",
    "f.write('thses is test file ')\n",
    "f.close()"
   ]
  },
  {
   "cell_type": "code",
   "execution_count": 12,
   "id": "2426a531",
   "metadata": {},
   "outputs": [],
   "source": [
    "f = open('text.txt','a')\n",
    "f.write('\\nmy name is harishali \\n I am 22 yers old')\n",
    "f.close()"
   ]
  },
  {
   "cell_type": "markdown",
   "id": "37c2a1a4",
   "metadata": {},
   "source": [
    "### reading of file"
   ]
  },
  {
   "cell_type": "code",
   "execution_count": 14,
   "id": "45d9a0a7",
   "metadata": {},
   "outputs": [
    {
     "data": {
      "text/plain": [
       "'thses is test file my name is harishali \\n I am 22 yers old\\nmy name is harishali \\n I am 22 yers old'"
      ]
     },
     "execution_count": 14,
     "metadata": {},
     "output_type": "execute_result"
    }
   ],
   "source": [
    "f = open('text.txt','r')\n",
    "f.read()"
   ]
  },
  {
   "cell_type": "code",
   "execution_count": 16,
   "id": "9f60fda4",
   "metadata": {},
   "outputs": [
    {
     "data": {
      "text/plain": [
       "'thses is t'"
      ]
     },
     "execution_count": 16,
     "metadata": {},
     "output_type": "execute_result"
    }
   ],
   "source": [
    "f = open('text.txt','r')\n",
    "f.read(10)"
   ]
  },
  {
   "cell_type": "markdown",
   "id": "ad7d7c14",
   "metadata": {},
   "source": [
    "### read file line by line "
   ]
  },
  {
   "cell_type": "code",
   "execution_count": 19,
   "id": "91a63ce5",
   "metadata": {},
   "outputs": [
    {
     "data": {
      "text/plain": [
       "'thses is test file my name is harishali \\n'"
      ]
     },
     "execution_count": 19,
     "metadata": {},
     "output_type": "execute_result"
    }
   ],
   "source": [
    "f = open('text.txt','r')\n",
    "f.readline()"
   ]
  },
  {
   "cell_type": "code",
   "execution_count": 22,
   "id": "c26c85b5",
   "metadata": {},
   "outputs": [
    {
     "data": {
      "text/plain": [
       "' is test file my name is harishali \\n'"
      ]
     },
     "execution_count": 22,
     "metadata": {},
     "output_type": "execute_result"
    }
   ],
   "source": [
    "f = open('text.txt','r')\n",
    "f.seek(5)\n",
    "f.readline()"
   ]
  },
  {
   "cell_type": "code",
   "execution_count": 23,
   "id": "4d0f6080",
   "metadata": {},
   "outputs": [
    {
     "name": "stdout",
     "output_type": "stream",
     "text": [
      "thses is test file my name is harishali \n",
      "\n",
      " I am 22 yers old\n",
      "\n",
      "my name is harishali \n",
      "\n",
      " I am 22 yers old\n"
     ]
    }
   ],
   "source": [
    "f = open('text.txt','r')\n",
    "\n",
    "for i in f:\n",
    "    print(i)"
   ]
  },
  {
   "cell_type": "markdown",
   "id": "8aedc064",
   "metadata": {},
   "source": [
    "### create multiple copies of  file"
   ]
  },
  {
   "cell_type": "code",
   "execution_count": 40,
   "id": "1844329a",
   "metadata": {},
   "outputs": [
    {
     "data": {
      "text/plain": [
       "'copy.txt'"
      ]
     },
     "execution_count": 40,
     "metadata": {},
     "output_type": "execute_result"
    }
   ],
   "source": [
    "import shutil\n",
    "shutil.copy('text.txt', 'copy.txt')"
   ]
  },
  {
   "cell_type": "code",
   "execution_count": 42,
   "id": "6cc5cf58",
   "metadata": {},
   "outputs": [
    {
     "name": "stdout",
     "output_type": "stream",
     "text": [
      "thses is test file my name is harishali \n",
      " I am 22 yers old\n",
      "my name is harishali \n",
      " I am 22 yers old\n"
     ]
    }
   ],
   "source": [
    "with open('copy.txt' ,'r') as f:\n",
    "    print(f.read())"
   ]
  },
  {
   "cell_type": "markdown",
   "id": "6fc76feb",
   "metadata": {},
   "source": [
    "### deleating of thse file "
   ]
  },
  {
   "cell_type": "code",
   "execution_count": 45,
   "id": "1acf554e",
   "metadata": {},
   "outputs": [],
   "source": [
    "import os\n",
    "os. remove ('copy.txt')"
   ]
  },
  {
   "cell_type": "markdown",
   "id": "59b36813",
   "metadata": {},
   "source": [
    "# JOSN"
   ]
  },
  {
   "cell_type": "markdown",
   "id": "a02cdfe5",
   "metadata": {},
   "source": [
    "## create json file"
   ]
  },
  {
   "cell_type": "code",
   "execution_count": 9,
   "id": "b06201b1",
   "metadata": {},
   "outputs": [],
   "source": [
    "\n",
    "import json\n",
    "\n",
    "data = {\n",
    "    'name': 'sudh',\n",
    "    'mail_id': 'sudh@gmail.com',\n",
    "    'phone_no': 9119501731,\n",
    "    'subject': ['DS', 'DA']\n",
    "}\n",
    "\n",
    "with open('Data.json', 'w') as f:\n",
    "    json.dump(data, f)"
   ]
  },
  {
   "cell_type": "markdown",
   "id": "edbdf175",
   "metadata": {},
   "source": [
    "### read json file "
   ]
  },
  {
   "cell_type": "code",
   "execution_count": 11,
   "id": "a0cddef8",
   "metadata": {},
   "outputs": [
    {
     "name": "stdout",
     "output_type": "stream",
     "text": [
      "{'name': 'sudh', 'mail_id': 'sudh@gmail.com', 'phone_no': 9119501731, 'subject': ['DS', 'DA']}\n"
     ]
    }
   ],
   "source": [
    "import json\n",
    "\n",
    "with open('Data.json', 'r') as f:\n",
    "    data1 = json.load(f)\n",
    "\n",
    "print(data1)\n"
   ]
  },
  {
   "cell_type": "code",
   "execution_count": 12,
   "id": "b9ab865d",
   "metadata": {},
   "outputs": [
    {
     "data": {
      "text/plain": [
       "['DS', 'DA']"
      ]
     },
     "execution_count": 12,
     "metadata": {},
     "output_type": "execute_result"
    }
   ],
   "source": [
    "data1['subject']"
   ]
  },
  {
   "cell_type": "code",
   "execution_count": 13,
   "id": "ede254ed",
   "metadata": {},
   "outputs": [
    {
     "data": {
      "text/plain": [
       "'DA'"
      ]
     },
     "execution_count": 13,
     "metadata": {},
     "output_type": "execute_result"
    }
   ],
   "source": [
    "data1['subject'][1]"
   ]
  },
  {
   "cell_type": "markdown",
   "id": "ba897a2d",
   "metadata": {},
   "source": [
    "# csv file"
   ]
  },
  {
   "cell_type": "code",
   "execution_count": 14,
   "id": "50f67a4b",
   "metadata": {},
   "outputs": [],
   "source": [
    "data = [['name','email_id','phone_number'],\n",
    "       ['sudh','sudh@gmail.com' ,46575869],\n",
    "       ['krish','krish@gmail.com',3465746]]"
   ]
  },
  {
   "cell_type": "code",
   "execution_count": 17,
   "id": "291329a2",
   "metadata": {},
   "outputs": [],
   "source": [
    "## createing csv file \n",
    "\n",
    "import csv\n",
    "\n",
    "with open ('data.csv','w') as f:\n",
    "    writer = csv.writer(f)\n",
    "    \n",
    "    for i in data:\n",
    "        writer.writerow(i)"
   ]
  },
  {
   "cell_type": "code",
   "execution_count": 27,
   "id": "58e97661",
   "metadata": {},
   "outputs": [],
   "source": [
    "## read thse file \n",
    "\n"
   ]
  },
  {
   "cell_type": "code",
   "execution_count": 21,
   "id": "08392e34",
   "metadata": {},
   "outputs": [],
   "source": [
    "import csv\n",
    "\n",
    "with open('data.csv', 'r') as f:\n",
    "    reader = csv.reader(f)\n",
    "    \n",
    "    for row in reader:\n",
    "        print(row)\n"
   ]
  },
  {
   "cell_type": "code",
   "execution_count": null,
   "id": "4ce87c42",
   "metadata": {},
   "outputs": [],
   "source": []
  },
  {
   "cell_type": "markdown",
   "id": "abebaab2",
   "metadata": {},
   "source": [
    "# Exception Handling "
   ]
  },
  {
   "cell_type": "code",
   "execution_count": 32,
   "id": "34dea18f",
   "metadata": {},
   "outputs": [
    {
     "name": "stdout",
     "output_type": "stream",
     "text": [
      "entre first number:34\n",
      "entre number:46\n",
      "1.0\n",
      "rest in pice\n"
     ]
    }
   ],
   "source": [
    "num1 = int(input('entre first number:'))\n",
    "num1 = int(input('entre number:'))\n",
    "\n",
    "div = num1/num1\n",
    "print(div)\n",
    "\n",
    "print('rest in pice')"
   ]
  },
  {
   "cell_type": "code",
   "execution_count": 39,
   "id": "407adea9",
   "metadata": {},
   "outputs": [
    {
     "name": "stdout",
     "output_type": "stream",
     "text": [
      "entre first number:78\n",
      "entre number:0\n",
      "somthhing wrong in code \n",
      "rest in pice\n"
     ]
    }
   ],
   "source": [
    "num1 = int(input('entre first number:'))\n",
    "num1 = int(input('entre number:'))\n",
    "\n",
    "\n",
    "try :\n",
    "    div = num1/num1\n",
    "    print(div)\n",
    "except: \n",
    "    print('somthhing wrong in code ')\n",
    "\n",
    "print('rest in pice')"
   ]
  },
  {
   "cell_type": "code",
   "execution_count": 51,
   "id": "479cabdc",
   "metadata": {},
   "outputs": [
    {
     "name": "stdout",
     "output_type": "stream",
     "text": [
      "Enter first number: 34\n",
      "Enter second number: 0\n",
      "Error: Division by zero occurred\n",
      "Rest in peace\n"
     ]
    }
   ],
   "source": [
    "\n",
    "num1 = int(input('Enter first number: '))\n",
    "num2 = int(input('Enter second number: '))\n",
    "\n",
    "try:\n",
    "    div = num1 / num2\n",
    "    print(div)\n",
    "\n",
    "except ZeroDivisionError:\n",
    "    print('Error: Division by zero occurred')\n",
    "\n",
    "print('Rest in peace')\n"
   ]
  },
  {
   "cell_type": "code",
   "execution_count": 52,
   "id": "ab0770d8",
   "metadata": {},
   "outputs": [
    {
     "name": "stdout",
     "output_type": "stream",
     "text": [
      "Enter first number: 34\n",
      "Enter second number: 0\n",
      "division by zero\n",
      "Rest in peace\n"
     ]
    }
   ],
   "source": [
    "\n",
    "num1 = int(input('Enter first number: '))\n",
    "num2 = int(input('Enter second number: '))\n",
    "\n",
    "try:\n",
    "    div = num1 / num2\n",
    "    print(div)\n",
    "\n",
    "except Exception as e:\n",
    "    print(e)\n",
    "\n",
    "print('Rest in peace')\n"
   ]
  },
  {
   "cell_type": "code",
   "execution_count": 50,
   "id": "adafe111",
   "metadata": {},
   "outputs": [
    {
     "name": "stdout",
     "output_type": "stream",
     "text": [
      "[Errno 2] No such file or directory: 'micr.txt'\n"
     ]
    },
    {
     "data": {
      "text/plain": [
       "9"
      ]
     },
     "execution_count": 50,
     "metadata": {},
     "output_type": "execute_result"
    }
   ],
   "source": [
    "try :\n",
    "    f  = open('micr.txt','r')\n",
    "except Exception as e:\n",
    "    print(e)\n",
    "    \n",
    "4+5"
   ]
  },
  {
   "cell_type": "markdown",
   "id": "72adddc9",
   "metadata": {},
   "source": [
    "## Try ,Except ,Else and finally keyword "
   ]
  },
  {
   "cell_type": "code",
   "execution_count": 12,
   "id": "f554ca85",
   "metadata": {},
   "outputs": [
    {
     "name": "stdout",
     "output_type": "stream",
     "text": [
      "no exception Exist\n",
      "it alway excecuted in exception exist or not\n"
     ]
    }
   ],
   "source": [
    "try :\n",
    "    f  = open('text.txt','r')\n",
    "except Exception as e:\n",
    "    print(e)\n",
    "else :\n",
    "    print ('no exception Exist')\n",
    "finally :\n",
    "    print ('it alway excecuted in exception exist or not')"
   ]
  },
  {
   "cell_type": "code",
   "execution_count": 17,
   "id": "99710c30",
   "metadata": {},
   "outputs": [
    {
     "name": "stdout",
     "output_type": "stream",
     "text": [
      "entre first number:36\n",
      "entre number:6\n",
      "0.09230769230769231\n",
      "no exception Exist\n",
      "it alway excecuted in exception exist or not\n",
      "rest in pice\n"
     ]
    }
   ],
   "source": [
    "num1 = int(input('entre first number:'))\n",
    "num1 = int(input('entre number:'))\n",
    "\n",
    "try:\n",
    "    div = num1/num2\n",
    "    print(div)\n",
    "except:\n",
    "    print('something went wrong')\n",
    "else:\n",
    "    print('no exception Exist')\n",
    "finally:\n",
    "    print('it alway excecuted in exception exist or not')\n",
    "\n",
    "print('rest in pice')"
   ]
  },
  {
   "cell_type": "markdown",
   "id": "13001892",
   "metadata": {},
   "source": [
    "## multiple Exept"
   ]
  },
  {
   "cell_type": "code",
   "execution_count": 3,
   "id": "caaacbee",
   "metadata": {},
   "outputs": [
    {
     "name": "stdout",
     "output_type": "stream",
     "text": [
      "Enter first number: 34\n",
      "Enter second number: 65\n",
      "name Error  name 'harshali' is not defined\n"
     ]
    }
   ],
   "source": [
    "#Method 1 \n",
    "\n",
    "num1 = int(input('Enter first number: '))\n",
    "num2 = int(input('Enter second number: '))\n",
    "\n",
    "\n",
    "try :\n",
    "    div = num1 /num2\n",
    "    print(harshali)\n",
    "    \n",
    "except ZeroDivisionError as e:\n",
    "    print(e)\n",
    "    \n",
    "except Exception as ei:\n",
    "    print('name Error ' ,ei)\n",
    "    \n"
   ]
  },
  {
   "cell_type": "code",
   "execution_count": 7,
   "id": "90703bc8",
   "metadata": {},
   "outputs": [
    {
     "name": "stdout",
     "output_type": "stream",
     "text": [
      "Enter first number: 24\n",
      "Enter second number: 0\n",
      "error is : division by zero\n",
      "rest in pice \n"
     ]
    }
   ],
   "source": [
    "num1 = int(input('Enter first number: '))\n",
    "num2 = int(input('Enter second number: '))\n",
    "\n",
    "\n",
    "try :\n",
    "    div = num1 /num2\n",
    "    print(harshali)\n",
    "    \n",
    "except Exception as e:\n",
    "    print('error is :' , e)\n",
    "    \n",
    "except Exception as ei:\n",
    "    print('name Error ' ,ei)\n",
    "    \n",
    "print('rest in pice ')"
   ]
  },
  {
   "cell_type": "code",
   "execution_count": 11,
   "id": "d7f216f9",
   "metadata": {},
   "outputs": [
    {
     "name": "stdout",
     "output_type": "stream",
     "text": [
      "Enter first number: 34\n",
      "Enter second number: 65\n",
      "error is : name 'harshali' is not defined\n",
      "rest in pice \n"
     ]
    }
   ],
   "source": [
    "##Method 2 \n",
    "\n",
    "num1 = int(input('Enter first number: '))\n",
    "num2 = int(input('Enter second number: '))\n",
    "\n",
    "\n",
    "try :\n",
    "    div = num1 /num2\n",
    "    print(harshali)\n",
    "    \n",
    "except Exception as e:\n",
    "    print('error is :' , e)\n",
    "    \n",
    "print('rest in pice ')"
   ]
  },
  {
   "cell_type": "code",
   "execution_count": 10,
   "id": "755aa5b5",
   "metadata": {},
   "outputs": [
    {
     "name": "stdout",
     "output_type": "stream",
     "text": [
      "Enter first number: 34\n",
      "Enter second number: 0\n",
      "error is : division by zero\n",
      "rest in pice \n"
     ]
    }
   ],
   "source": [
    "num1 = int(input('Enter first number: '))\n",
    "num2 = int(input('Enter second number: '))\n",
    "\n",
    "\n",
    "try :\n",
    "    div = num1 /num2\n",
    "    print(harshali)\n",
    "    \n",
    "except Exception as e:\n",
    "    print('error is :' , e)\n",
    "    \n",
    "print('rest in pice ')"
   ]
  },
  {
   "cell_type": "markdown",
   "id": "83c61115",
   "metadata": {},
   "source": [
    "## custom Exceptional Handling \n"
   ]
  },
  {
   "cell_type": "code",
   "execution_count": 22,
   "id": "7107f375",
   "metadata": {},
   "outputs": [
    {
     "name": "stdout",
     "output_type": "stream",
     "text": [
      "Enter your age: -9\n",
      "Error: negative age Invalid age\n",
      "Rest of the code\n"
     ]
    }
   ],
   "source": [
    "try:\n",
    "    age = int(input('Enter your age: '))\n",
    "    if age < 0:\n",
    "        raise ValueError('negative age Invalid age')\n",
    "    \n",
    "    print('Your age is:', age)\n",
    "    \n",
    "except ValueError as e:\n",
    "    print('Error:', e)\n",
    "\n",
    "print('Rest of the code')\n"
   ]
  },
  {
   "cell_type": "code",
   "execution_count": 21,
   "id": "610ef51e",
   "metadata": {},
   "outputs": [
    {
     "name": "stdout",
     "output_type": "stream",
     "text": [
      "Enter your age: 34\n",
      "Your age is: 34\n",
      "Rest of the code\n"
     ]
    }
   ],
   "source": [
    "try:\n",
    "    age = int(input('Enter your age: '))\n",
    "    if age < 0:\n",
    "        raise Valueo('Invalid age')\n",
    "    \n",
    "    print('Your age is:', age)\n",
    "    \n",
    "except Valueo as e:\n",
    "    print('Error:', e)\n",
    "\n",
    "print('Rest of the code')"
   ]
  }
 ],
 "metadata": {
  "kernelspec": {
   "display_name": "Python 3 (ipykernel)",
   "language": "python",
   "name": "python3"
  },
  "language_info": {
   "codemirror_mode": {
    "name": "ipython",
    "version": 3
   },
   "file_extension": ".py",
   "mimetype": "text/x-python",
   "name": "python",
   "nbconvert_exporter": "python",
   "pygments_lexer": "ipython3",
   "version": "3.10.9"
  }
 },
 "nbformat": 4,
 "nbformat_minor": 5
}
