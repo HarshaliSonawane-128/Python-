{
 "cells": [
  {
   "cell_type": "markdown",
   "id": "082b802c",
   "metadata": {},
   "source": [
    "### import Math Module "
   ]
  },
  {
   "cell_type": "code",
   "execution_count": 12,
   "id": "83422338",
   "metadata": {},
   "outputs": [
    {
     "name": "stdout",
     "output_type": "stream",
     "text": [
      "Note: you may need to restart the kernel to use updated packages.\n"
     ]
    },
    {
     "name": "stderr",
     "output_type": "stream",
     "text": [
      "ERROR: Could not find a version that satisfies the requirement math (from versions: none)\n",
      "ERROR: No matching distribution found for math\n"
     ]
    }
   ],
   "source": [
    "%pip install math\n",
    "import math as m"
   ]
  },
  {
   "cell_type": "markdown",
   "id": "a0d8baaf",
   "metadata": {},
   "source": [
    "### Constant "
   ]
  },
  {
   "cell_type": "code",
   "execution_count": 4,
   "id": "7da372cb",
   "metadata": {},
   "outputs": [
    {
     "data": {
      "text/plain": [
       "2.718281828459045"
      ]
     },
     "execution_count": 4,
     "metadata": {},
     "output_type": "execute_result"
    }
   ],
   "source": [
    "m.e"
   ]
  },
  {
   "cell_type": "code",
   "execution_count": 5,
   "id": "d25bce45",
   "metadata": {},
   "outputs": [
    {
     "data": {
      "text/plain": [
       "3.141592653589793"
      ]
     },
     "execution_count": 5,
     "metadata": {},
     "output_type": "execute_result"
    }
   ],
   "source": [
    "m.pi"
   ]
  },
  {
   "cell_type": "code",
   "execution_count": 7,
   "id": "5b204110",
   "metadata": {},
   "outputs": [
    {
     "data": {
      "text/plain": [
       "6.283185307179586"
      ]
     },
     "execution_count": 7,
     "metadata": {},
     "output_type": "execute_result"
    }
   ],
   "source": [
    "m.tau"
   ]
  },
  {
   "cell_type": "code",
   "execution_count": 9,
   "id": "f5174052",
   "metadata": {},
   "outputs": [
    {
     "data": {
      "text/plain": [
       "inf"
      ]
     },
     "execution_count": 9,
     "metadata": {},
     "output_type": "execute_result"
    }
   ],
   "source": [
    "m.inf"
   ]
  },
  {
   "cell_type": "code",
   "execution_count": 10,
   "id": "95024a2e",
   "metadata": {},
   "outputs": [
    {
     "data": {
      "text/plain": [
       "nan"
      ]
     },
     "execution_count": 10,
     "metadata": {},
     "output_type": "execute_result"
    }
   ],
   "source": [
    "m.nan"
   ]
  },
  {
   "cell_type": "markdown",
   "id": "72f27cfe",
   "metadata": {},
   "source": [
    "### Math Method "
   ]
  },
  {
   "cell_type": "code",
   "execution_count": 46,
   "id": "2d2de2ca",
   "metadata": {},
   "outputs": [
    {
     "data": {
      "text/plain": [
       "23"
      ]
     },
     "execution_count": 46,
     "metadata": {},
     "output_type": "execute_result"
    }
   ],
   "source": [
    "m.floor(23.65)"
   ]
  },
  {
   "cell_type": "code",
   "execution_count": 13,
   "id": "8c2561b5",
   "metadata": {},
   "outputs": [
    {
     "data": {
      "text/plain": [
       "24"
      ]
     },
     "execution_count": 13,
     "metadata": {},
     "output_type": "execute_result"
    }
   ],
   "source": [
    "m.ceil(23.65)"
   ]
  },
  {
   "cell_type": "code",
   "execution_count": 16,
   "id": "be280048",
   "metadata": {},
   "outputs": [
    {
     "data": {
      "text/plain": [
       "10313.240312354817"
      ]
     },
     "execution_count": 16,
     "metadata": {},
     "output_type": "execute_result"
    }
   ],
   "source": [
    "m.degrees(180)"
   ]
  },
  {
   "cell_type": "code",
   "execution_count": 20,
   "id": "bbefa62f",
   "metadata": {},
   "outputs": [
    {
     "data": {
      "text/plain": [
       "583461742527454.9"
      ]
     },
     "execution_count": 20,
     "metadata": {},
     "output_type": "execute_result"
    }
   ],
   "source": [
    "m.exp(34)"
   ]
  },
  {
   "cell_type": "code",
   "execution_count": 21,
   "id": "2ba3618f",
   "metadata": {},
   "outputs": [
    {
     "data": {
      "text/plain": [
       "24"
      ]
     },
     "execution_count": 21,
     "metadata": {},
     "output_type": "execute_result"
    }
   ],
   "source": [
    "m.factorial(4)"
   ]
  },
  {
   "cell_type": "code",
   "execution_count": 23,
   "id": "77fb5f7a",
   "metadata": {},
   "outputs": [
    {
     "data": {
      "text/plain": [
       "15.0"
      ]
     },
     "execution_count": 23,
     "metadata": {},
     "output_type": "execute_result"
    }
   ],
   "source": [
    "x = [1,2,3,4,5]\n",
    "m.fsum(x)"
   ]
  },
  {
   "cell_type": "code",
   "execution_count": 26,
   "id": "15356edf",
   "metadata": {},
   "outputs": [
    {
     "data": {
      "text/plain": [
       "5"
      ]
     },
     "execution_count": 26,
     "metadata": {},
     "output_type": "execute_result"
    }
   ],
   "source": [
    "m.gcd(15,20)"
   ]
  },
  {
   "cell_type": "code",
   "execution_count": 27,
   "id": "fa9d8b3f",
   "metadata": {},
   "outputs": [
    {
     "data": {
      "text/plain": [
       "0.6931471805599453"
      ]
     },
     "execution_count": 27,
     "metadata": {},
     "output_type": "execute_result"
    }
   ],
   "source": [
    "m.log(2)"
   ]
  },
  {
   "cell_type": "code",
   "execution_count": 28,
   "id": "3845b9e2",
   "metadata": {},
   "outputs": [
    {
     "data": {
      "text/plain": [
       "0.3010299956639812"
      ]
     },
     "execution_count": 28,
     "metadata": {},
     "output_type": "execute_result"
    }
   ],
   "source": [
    "m.log10(2)"
   ]
  },
  {
   "cell_type": "code",
   "execution_count": 29,
   "id": "559e365e",
   "metadata": {},
   "outputs": [
    {
     "data": {
      "text/plain": [
       "1.0986122886681098"
      ]
     },
     "execution_count": 29,
     "metadata": {},
     "output_type": "execute_result"
    }
   ],
   "source": [
    "m.log1p(2)"
   ]
  },
  {
   "cell_type": "code",
   "execution_count": 31,
   "id": "0690294c",
   "metadata": {},
   "outputs": [
    {
     "data": {
      "text/plain": [
       "1.584962500721156"
      ]
     },
     "execution_count": 31,
     "metadata": {},
     "output_type": "execute_result"
    }
   ],
   "source": [
    "m.log2(3)"
   ]
  },
  {
   "cell_type": "code",
   "execution_count": 37,
   "id": "b7c5bbb7",
   "metadata": {},
   "outputs": [
    {
     "data": {
      "text/plain": [
       "720"
      ]
     },
     "execution_count": 37,
     "metadata": {},
     "output_type": "execute_result"
    }
   ],
   "source": [
    "m.perm(6)"
   ]
  },
  {
   "cell_type": "code",
   "execution_count": 39,
   "id": "4adf8ca5",
   "metadata": {},
   "outputs": [
    {
     "data": {
      "text/plain": [
       "49.0"
      ]
     },
     "execution_count": 39,
     "metadata": {},
     "output_type": "execute_result"
    }
   ],
   "source": [
    "m.pow(7,2)"
   ]
  },
  {
   "cell_type": "code",
   "execution_count": 40,
   "id": "a8a42331",
   "metadata": {},
   "outputs": [
    {
     "data": {
      "text/plain": [
       "120"
      ]
     },
     "execution_count": 40,
     "metadata": {},
     "output_type": "execute_result"
    }
   ],
   "source": [
    "m.prod(x)"
   ]
  },
  {
   "cell_type": "code",
   "execution_count": 41,
   "id": "3fac5316",
   "metadata": {},
   "outputs": [
    {
     "data": {
      "text/plain": [
       "0.5235987755982988"
      ]
     },
     "execution_count": 41,
     "metadata": {},
     "output_type": "execute_result"
    }
   ],
   "source": [
    "m.radians(30)"
   ]
  },
  {
   "cell_type": "code",
   "execution_count": 42,
   "id": "80c0101e",
   "metadata": {},
   "outputs": [
    {
     "data": {
      "text/plain": [
       "4.0"
      ]
     },
     "execution_count": 42,
     "metadata": {},
     "output_type": "execute_result"
    }
   ],
   "source": [
    "m.sqrt(16)"
   ]
  },
  {
   "cell_type": "markdown",
   "id": "d4fe537a",
   "metadata": {},
   "source": [
    "### import Random modules "
   ]
  },
  {
   "cell_type": "code",
   "execution_count": 1,
   "id": "d15834f5",
   "metadata": {},
   "outputs": [],
   "source": [
    "import random "
   ]
  },
  {
   "cell_type": "code",
   "execution_count": 6,
   "id": "c7bc3f78",
   "metadata": {},
   "outputs": [],
   "source": [
    "random.seed(45)"
   ]
  },
  {
   "cell_type": "code",
   "execution_count": 8,
   "id": "b2ebd38f",
   "metadata": {},
   "outputs": [
    {
     "data": {
      "text/plain": [
       "7"
      ]
     },
     "execution_count": 8,
     "metadata": {},
     "output_type": "execute_result"
    }
   ],
   "source": [
    "random.randrange(1,10,3)"
   ]
  },
  {
   "cell_type": "code",
   "execution_count": 13,
   "id": "d9c70c88",
   "metadata": {},
   "outputs": [
    {
     "name": "stdout",
     "output_type": "stream",
     "text": [
      "cherry\n"
     ]
    }
   ],
   "source": [
    "\n",
    "fruits = [\"apple\", \"banana\", \"cherry\", \"date\"]\n",
    "random_fruit = random.choice(fruits)\n",
    "print(random_fruit)"
   ]
  },
  {
   "cell_type": "code",
   "execution_count": 15,
   "id": "65aee6af",
   "metadata": {},
   "outputs": [
    {
     "data": {
      "text/plain": [
       "['banana']"
      ]
     },
     "execution_count": 15,
     "metadata": {},
     "output_type": "execute_result"
    }
   ],
   "source": [
    "random.choices(fruits)"
   ]
  },
  {
   "cell_type": "code",
   "execution_count": 11,
   "id": "4113cdab",
   "metadata": {},
   "outputs": [
    {
     "data": {
      "text/plain": [
       "63"
      ]
     },
     "execution_count": 11,
     "metadata": {},
     "output_type": "execute_result"
    }
   ],
   "source": [
    "\n",
    "number = random.randint(1, 100)  # Random integer between 1 and 100\n",
    "number"
   ]
  },
  {
   "cell_type": "code",
   "execution_count": 17,
   "id": "1a8472d8",
   "metadata": {},
   "outputs": [
    {
     "name": "stdout",
     "output_type": "stream",
     "text": [
      "[1, 2, 3, 4.5]\n"
     ]
    }
   ],
   "source": [
    "list = [1,2,3,4.5]\n",
    "print(list)"
   ]
  },
  {
   "cell_type": "code",
   "execution_count": 19,
   "id": "e4b8280e",
   "metadata": {},
   "outputs": [
    {
     "name": "stdout",
     "output_type": "stream",
     "text": [
      "[2, 3, 1, 4.5]\n"
     ]
    }
   ],
   "source": [
    "random.shuffle(list)\n",
    "print(list)"
   ]
  },
  {
   "cell_type": "code",
   "execution_count": 20,
   "id": "e3d754f3",
   "metadata": {},
   "outputs": [
    {
     "data": {
      "text/plain": [
       "[34, 54]"
      ]
     },
     "execution_count": 20,
     "metadata": {},
     "output_type": "execute_result"
    }
   ],
   "source": [
    "l = [12,34,54,65,34]\n",
    "\n",
    "random.sample (l ,2)   ## return list of two unique number \n"
   ]
  },
  {
   "cell_type": "code",
   "execution_count": 26,
   "id": "286a440f",
   "metadata": {},
   "outputs": [
    {
     "data": {
      "text/plain": [
       "0.7173017220824032"
      ]
     },
     "execution_count": 26,
     "metadata": {},
     "output_type": "execute_result"
    }
   ],
   "source": [
    "random.random()"
   ]
  },
  {
   "cell_type": "code",
   "execution_count": 27,
   "id": "288d3209",
   "metadata": {},
   "outputs": [
    {
     "data": {
      "text/plain": [
       "1.149902650906409"
      ]
     },
     "execution_count": 27,
     "metadata": {},
     "output_type": "execute_result"
    }
   ],
   "source": [
    "random.uniform(1,3)"
   ]
  },
  {
   "cell_type": "markdown",
   "id": "c9b8d980",
   "metadata": {},
   "source": [
    "### itertool Module"
   ]
  },
  {
   "cell_type": "code",
   "execution_count": 49,
   "id": "0a235c87",
   "metadata": {},
   "outputs": [
    {
     "name": "stdout",
     "output_type": "stream",
     "text": [
      "The cartesian product using repeat:\n"
     ]
    },
    {
     "ename": "TypeError",
     "evalue": "'list' object is not callable",
     "output_type": "error",
     "traceback": [
      "\u001b[1;31m---------------------------------------------------------------------------\u001b[0m",
      "\u001b[1;31mTypeError\u001b[0m                                 Traceback (most recent call last)",
      "Cell \u001b[1;32mIn[49], line 5\u001b[0m\n\u001b[0;32m      2\u001b[0m \u001b[38;5;28;01mfrom\u001b[39;00m \u001b[38;5;21;01mitertools\u001b[39;00m \u001b[38;5;28;01mimport\u001b[39;00m product\n\u001b[0;32m      4\u001b[0m \u001b[38;5;28mprint\u001b[39m(\u001b[38;5;124m\"\u001b[39m\u001b[38;5;124mThe cartesian product using repeat:\u001b[39m\u001b[38;5;124m\"\u001b[39m)\n\u001b[1;32m----> 5\u001b[0m \u001b[38;5;28mprint\u001b[39m(\u001b[38;5;28;43mlist\u001b[39;49m\u001b[43m(\u001b[49m\u001b[43mproduct\u001b[49m\u001b[43m(\u001b[49m\u001b[43m[\u001b[49m\u001b[38;5;241;43m1\u001b[39;49m\u001b[43m,\u001b[49m\u001b[43m \u001b[49m\u001b[38;5;241;43m2\u001b[39;49m\u001b[43m]\u001b[49m\u001b[43m,\u001b[49m\u001b[43m \u001b[49m\u001b[43mrepeat\u001b[49m\u001b[43m \u001b[49m\u001b[38;5;241;43m=\u001b[39;49m\u001b[43m \u001b[49m\u001b[38;5;241;43m2\u001b[39;49m\u001b[43m)\u001b[49m\u001b[43m)\u001b[49m)\n\u001b[0;32m      6\u001b[0m \u001b[38;5;28mprint\u001b[39m()\n\u001b[0;32m      8\u001b[0m \u001b[38;5;28mprint\u001b[39m(\u001b[38;5;124m\"\u001b[39m\u001b[38;5;124mThe cartesian product of the containers:\u001b[39m\u001b[38;5;124m\"\u001b[39m)\n",
      "\u001b[1;31mTypeError\u001b[0m: 'list' object is not callable"
     ]
    }
   ],
   "source": [
    "# import the product function from itertools module\n",
    "from itertools import product\n",
    "   \n",
    "print(\"The cartesian product using repeat:\")\n",
    "print(list(product([1, 2], repeat = 2)))\n",
    "print()\n",
    "   \n",
    "print(\"The cartesian product of the containers:\")\n",
    "print(list(product(['python', 'for', 'datascience'], '3')))\n",
    "print()\n",
    "   \n",
    "print(\"The cartesian product of the containers:\")\n",
    "print(list(product('AB', [1, 2])))\n",
    "   "
   ]
  },
  {
   "cell_type": "code",
   "execution_count": 35,
   "id": "ad797d99",
   "metadata": {},
   "outputs": [
    {
     "data": {
      "text/plain": [
       "<itertools.product at 0x2635d7c6f00>"
      ]
     },
     "execution_count": 35,
     "metadata": {},
     "output_type": "execute_result"
    }
   ],
   "source": [
    "from itertools import product\n",
    "\n",
    "result = product([1, 2], ['a', 'b'])\n",
    "# Output: [(1, 'a'), (1, 'b'), (2, 'a'), (2, 'b')]\n",
    "result"
   ]
  },
  {
   "cell_type": "code",
   "execution_count": 46,
   "id": "c7334ff6",
   "metadata": {},
   "outputs": [
    {
     "data": {
      "text/plain": [
       "<itertools.permutations at 0x2635d8125c0>"
      ]
     },
     "execution_count": 46,
     "metadata": {},
     "output_type": "execute_result"
    }
   ],
   "source": [
    "from itertools import permutations\n",
    "a = [1,2,3,4,5,6]\n",
    "permutations(a,2)"
   ]
  },
  {
   "cell_type": "code",
   "execution_count": 40,
   "id": "59feb5a8",
   "metadata": {},
   "outputs": [],
   "source": [
    "from itertools import combinations\n",
    "\n",
    "result = combinations([1, 2, 3], 2)\n",
    "# Output: [(1, 2), (1, 3), (2, 3)]\n"
   ]
  },
  {
   "cell_type": "code",
   "execution_count": 41,
   "id": "55471c17",
   "metadata": {},
   "outputs": [],
   "source": [
    "from itertools import combinations_with_replacement\n",
    "\n",
    "result = combinations_with_replacement([1, 2], 2)\n",
    "# Output: [(1, 1), (1, 2), (2, 2)]\n"
   ]
  },
  {
   "cell_type": "markdown",
   "id": "ce3859dc",
   "metadata": {},
   "source": [
    "## Datetime Module"
   ]
  },
  {
   "cell_type": "code",
   "execution_count": 10,
   "id": "584a89fe",
   "metadata": {},
   "outputs": [
    {
     "name": "stdout",
     "output_type": "stream",
     "text": [
      "time.struct_time(tm_year=1970, tm_mon=1, tm_mday=1, tm_hour=5, tm_min=30, tm_sec=23, tm_wday=3, tm_yday=1, tm_isdst=0)\n",
      "time.struct_time(tm_year=2023, tm_mon=11, tm_mday=28, tm_hour=18, tm_min=45, tm_sec=25, tm_wday=1, tm_yday=332, tm_isdst=0)\n"
     ]
    }
   ],
   "source": [
    "import time \n",
    "\n",
    "# get current date and time \n",
    "print(time.localtime(23))\n",
    "print(time.localtime(time.time()))"
   ]
  },
  {
   "cell_type": "code",
   "execution_count": 11,
   "id": "3a9b4c56",
   "metadata": {},
   "outputs": [
    {
     "data": {
      "text/plain": [
       "1701177487.9086113"
      ]
     },
     "execution_count": 11,
     "metadata": {},
     "output_type": "execute_result"
    }
   ],
   "source": [
    "time.time()"
   ]
  },
  {
   "cell_type": "code",
   "execution_count": 3,
   "id": "2a11cd50",
   "metadata": {},
   "outputs": [
    {
     "data": {
      "text/plain": [
       "'Tue Nov 28 18:25:58 2023'"
      ]
     },
     "execution_count": 3,
     "metadata": {},
     "output_type": "execute_result"
    }
   ],
   "source": [
    "import time    \n",
    "  \n",
    "#returns the formatted time \n",
    "    \n",
    "time.asctime(time.localtime(time.time()))"
   ]
  },
  {
   "cell_type": "code",
   "execution_count": 7,
   "id": "fd63b2f5",
   "metadata": {},
   "outputs": [
    {
     "data": {
      "text/plain": [
       "datetime.datetime(2023, 11, 28, 18, 40, 5, 665664)"
      ]
     },
     "execution_count": 7,
     "metadata": {},
     "output_type": "execute_result"
    }
   ],
   "source": [
    "import datetime  as dt\n",
    "\n",
    "#returns the current datetime object     \n",
    "\n",
    "dt.datetime.now()\n"
   ]
  },
  {
   "cell_type": "code",
   "execution_count": 81,
   "id": "dd05d0ca",
   "metadata": {},
   "outputs": [
    {
     "name": "stdout",
     "output_type": "stream",
     "text": [
      "2023-11-28\n",
      "2023\n",
      "28\n",
      "11\n"
     ]
    }
   ],
   "source": [
    "import datetime as dt\n",
    "\n",
    "print(dt.date.today() )\n",
    "print(dt.date.today().year)\n",
    "print(dt.date.today().day)\n",
    "print(dt.date.today().month)"
   ]
  },
  {
   "cell_type": "code",
   "execution_count": 57,
   "id": "0a3845d2",
   "metadata": {},
   "outputs": [
    {
     "name": "stdout",
     "output_type": "stream",
     "text": [
      "Working hours....\n"
     ]
    }
   ],
   "source": [
    "from datetime import datetime as dt  \n",
    "\n",
    "#Compare the time. If the time is in between 8AM and 4PM, then it prints working hours otherwise it prints Relaxing hours\n",
    "\n",
    "if dt(dt.now().year,dt.now().month,dt.now().day,8)<dt.now()<dt(dt.now().year,dt.now().month,dt.now().day,16):    \n",
    "    print(\"Working hours....\")    \n",
    "else:    \n",
    "    print(\"Relaxing hours\") "
   ]
  },
  {
   "cell_type": "code",
   "execution_count": 17,
   "id": "11a8709f",
   "metadata": {},
   "outputs": [
    {
     "name": "stdout",
     "output_type": "stream",
     "text": [
      "2023-01-15\n",
      "2023-01-15 12:30:00\n"
     ]
    }
   ],
   "source": [
    "from datetime import datetime\n",
    "from datetime import date\n",
    "from datetime import time\n",
    "\n",
    "specific_date  = date(2023, 1, 15)\n",
    "print(specific_date)\n",
    "\n",
    "specific_datetime = datetime(2023, 1, 15, 12, 30, 0)\n",
    "print(specific_datetime)\n"
   ]
  },
  {
   "cell_type": "code",
   "execution_count": 21,
   "id": "1ca7cc0b",
   "metadata": {
    "scrolled": true
   },
   "outputs": [
    {
     "name": "stdout",
     "output_type": "stream",
     "text": [
      "2023-11-28\n",
      "5 days, 3:45:45\n",
      "2023-12-03\n"
     ]
    }
   ],
   "source": [
    "## Compare two dates\n",
    "\n",
    "from datetime import timedelta as td\n",
    "\n",
    "curr_date_time = dt.date.today()\n",
    "print(curr_date_time)\n",
    "\n",
    "time_diff = td(days=5,hours=3,minutes=45,seconds=45)\n",
    "print(time_diff)\n",
    "\n",
    "\n",
    "# Add time diff to the current time\n",
    "req_date_time = curr_date_time + time_diff\n",
    "\n",
    "print(req_date_time)"
   ]
  },
  {
   "cell_type": "code",
   "execution_count": 22,
   "id": "154671a2",
   "metadata": {},
   "outputs": [
    {
     "name": "stdout",
     "output_type": "stream",
     "text": [
      "-9\n"
     ]
    }
   ],
   "source": [
    "from datetime import date\n",
    "f_date = date(2022, 5, 20)\n",
    "l_date = date(2022, 5, 11)\n",
    "delta = l_date - f_date\n",
    "print(delta.days)"
   ]
  },
  {
   "cell_type": "code",
   "execution_count": 90,
   "id": "46d168fc",
   "metadata": {},
   "outputs": [
    {
     "name": "stdout",
     "output_type": "stream",
     "text": [
      "   February 2024\n",
      "Mo Tu We Th Fr Sa Su\n",
      "          1  2  3  4\n",
      " 5  6  7  8  9 10 11\n",
      "12 13 14 15 16 17 18\n",
      "19 20 21 22 23 24 25\n",
      "26 27 28 29\n",
      "\n",
      "                                  2024\n",
      "\n",
      "      January                   February                   March\n",
      "Mo Tu We Th Fr Sa Su      Mo Tu We Th Fr Sa Su      Mo Tu We Th Fr Sa Su\n",
      " 1  2  3  4  5  6  7                1  2  3  4                   1  2  3\n",
      " 8  9 10 11 12 13 14       5  6  7  8  9 10 11       4  5  6  7  8  9 10\n",
      "15 16 17 18 19 20 21      12 13 14 15 16 17 18      11 12 13 14 15 16 17\n",
      "22 23 24 25 26 27 28      19 20 21 22 23 24 25      18 19 20 21 22 23 24\n",
      "29 30 31                  26 27 28 29               25 26 27 28 29 30 31\n",
      "\n",
      "       April                      May                       June\n",
      "Mo Tu We Th Fr Sa Su      Mo Tu We Th Fr Sa Su      Mo Tu We Th Fr Sa Su\n",
      " 1  2  3  4  5  6  7             1  2  3  4  5                      1  2\n",
      " 8  9 10 11 12 13 14       6  7  8  9 10 11 12       3  4  5  6  7  8  9\n",
      "15 16 17 18 19 20 21      13 14 15 16 17 18 19      10 11 12 13 14 15 16\n",
      "22 23 24 25 26 27 28      20 21 22 23 24 25 26      17 18 19 20 21 22 23\n",
      "29 30                     27 28 29 30 31            24 25 26 27 28 29 30\n",
      "\n",
      "        July                     August                  September\n",
      "Mo Tu We Th Fr Sa Su      Mo Tu We Th Fr Sa Su      Mo Tu We Th Fr Sa Su\n",
      " 1  2  3  4  5  6  7                1  2  3  4                         1\n",
      " 8  9 10 11 12 13 14       5  6  7  8  9 10 11       2  3  4  5  6  7  8\n",
      "15 16 17 18 19 20 21      12 13 14 15 16 17 18       9 10 11 12 13 14 15\n",
      "22 23 24 25 26 27 28      19 20 21 22 23 24 25      16 17 18 19 20 21 22\n",
      "29 30 31                  26 27 28 29 30 31         23 24 25 26 27 28 29\n",
      "                                                    30\n",
      "\n",
      "      October                   November                  December\n",
      "Mo Tu We Th Fr Sa Su      Mo Tu We Th Fr Sa Su      Mo Tu We Th Fr Sa Su\n",
      "    1  2  3  4  5  6                   1  2  3                         1\n",
      " 7  8  9 10 11 12 13       4  5  6  7  8  9 10       2  3  4  5  6  7  8\n",
      "14 15 16 17 18 19 20      11 12 13 14 15 16 17       9 10 11 12 13 14 15\n",
      "21 22 23 24 25 26 27      18 19 20 21 22 23 24      16 17 18 19 20 21 22\n",
      "28 29 30 31               25 26 27 28 29 30         23 24 25 26 27 28 29\n",
      "                                                    30 31\n"
     ]
    }
   ],
   "source": [
    "## Print calender \n",
    "\n",
    "import calendar;    \n",
    "cal= calendar.month(2024,2)\n",
    "print(cal) \n",
    "\n",
    "#To print calendar for year 2022\n",
    "import calendar    \n",
    "s = calendar.prcal(2024)"
   ]
  },
  {
   "cell_type": "code",
   "execution_count": null,
   "id": "905dc19b",
   "metadata": {},
   "outputs": [],
   "source": [
    "## Date Parsing formats "
   ]
  },
  {
   "cell_type": "code",
   "execution_count": 93,
   "id": "3d13c13e",
   "metadata": {},
   "outputs": [
    {
     "name": "stdout",
     "output_type": "stream",
     "text": [
      "May\n"
     ]
    }
   ],
   "source": [
    "import datetime \n",
    "\n",
    "x = datetime.datetime(2022,5,1)\n",
    "print(x.strftime('%B'))"
   ]
  },
  {
   "cell_type": "code",
   "execution_count": 95,
   "id": "7228a8db",
   "metadata": {},
   "outputs": [
    {
     "ename": "AttributeError",
     "evalue": "module 'datetime' has no attribute 'strptime'",
     "output_type": "error",
     "traceback": [
      "\u001b[1;31m---------------------------------------------------------------------------\u001b[0m",
      "\u001b[1;31mAttributeError\u001b[0m                            Traceback (most recent call last)",
      "Cell \u001b[1;32mIn[95], line 2\u001b[0m\n\u001b[0;32m      1\u001b[0m string \u001b[38;5;241m=\u001b[39m \u001b[38;5;124m'\u001b[39m\u001b[38;5;124m9 mar 2022 18:45:00\u001b[39m\u001b[38;5;124m'\u001b[39m\n\u001b[1;32m----> 2\u001b[0m d1 \u001b[38;5;241m=\u001b[39m \u001b[43mdt\u001b[49m\u001b[38;5;241;43m.\u001b[39;49m\u001b[43mstrptime\u001b[49m(string, \u001b[38;5;124m\"\u001b[39m\u001b[38;5;132;01m%d\u001b[39;00m\u001b[38;5;124m \u001b[39m\u001b[38;5;124m%\u001b[39m\u001b[38;5;124mb \u001b[39m\u001b[38;5;124m%\u001b[39m\u001b[38;5;124mY \u001b[39m\u001b[38;5;124m%\u001b[39m\u001b[38;5;124mH:\u001b[39m\u001b[38;5;124m%\u001b[39m\u001b[38;5;124mM:\u001b[39m\u001b[38;5;124m%\u001b[39m\u001b[38;5;124mS\u001b[39m\u001b[38;5;124m\"\u001b[39m)\n\u001b[0;32m      3\u001b[0m \u001b[38;5;28mprint\u001b[39m(d1)\n",
      "\u001b[1;31mAttributeError\u001b[0m: module 'datetime' has no attribute 'strptime'"
     ]
    }
   ],
   "source": [
    "string = '9 mar 2022 18:45:00'\n",
    "d1 = dt.strptime(string, \"%d %b %Y %H:%M:%S\")\n",
    "print(d1)  # YYYY-MM-DD HH:MM:SS"
   ]
  },
  {
   "cell_type": "code",
   "execution_count": 4,
   "id": "6d29f06f",
   "metadata": {},
   "outputs": [
    {
     "name": "stdout",
     "output_type": "stream",
     "text": [
      "2023-11-28 13:01:45.565210+00:00\n"
     ]
    }
   ],
   "source": [
    "from datetime import datetime, timezone, timedelta\n",
    "\n",
    "utc_timezone = timezone.utc\n",
    "current_utc_time = datetime.now(utc_timezone)\n",
    "print(current_utc_time)\n"
   ]
  }
 ],
 "metadata": {
  "kernelspec": {
   "display_name": "Python 3 (ipykernel)",
   "language": "python",
   "name": "python3"
  },
  "language_info": {
   "codemirror_mode": {
    "name": "ipython",
    "version": 3
   },
   "file_extension": ".py",
   "mimetype": "text/x-python",
   "name": "python",
   "nbconvert_exporter": "python",
   "pygments_lexer": "ipython3",
   "version": "3.10.9"
  }
 },
 "nbformat": 4,
 "nbformat_minor": 5
}
