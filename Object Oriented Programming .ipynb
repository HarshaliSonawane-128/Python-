{
 "cells": [
  {
   "cell_type": "markdown",
   "id": "a37d8cfe",
   "metadata": {},
   "source": [
    "### Write a Python program to create a class representing a Circle. Include methods to calculate its area and perimeter."
   ]
  },
  {
   "cell_type": "code",
   "execution_count": 13,
   "id": "e9deb5bd",
   "metadata": {},
   "outputs": [
    {
     "name": "stdout",
     "output_type": "stream",
     "text": [
      "<class '__main__.Circle'>\n",
      "Area of the circle: 36.316811075498\n",
      "Perimeter of the circle: 10.681415022205297\n"
     ]
    }
   ],
   "source": [
    "import math\n",
    "\n",
    "class Circle :\n",
    "    def __init__ (self ,radius ):\n",
    "        self.Radius = radius\n",
    "        \n",
    "    def area_of_circle(self):\n",
    "        return math.pi*self.Radius**2\n",
    "    \n",
    "    def perimeter_of_circle (self):\n",
    "        return math.pi*self.Radius\n",
    "    \n",
    "\n",
    "## Create round as object with provided radius \n",
    "\n",
    "round1 = Circle(3.4)\n",
    "area_of_round = round1.area_of_circle()\n",
    "perimeter_of_round = round1.perimeter_of_circle()\n",
    "\n",
    "# find class of round1 object \n",
    "print(type(round1))\n",
    "\n",
    "# find area and perimeter of round1 circle \n",
    "\n",
    "print(\"Area of the circle:\",area_of_round)\n",
    "print(\"Perimeter of the circle:\",perimeter_of_round)"
   ]
  },
  {
   "cell_type": "code",
   "execution_count": 1,
   "id": "215dfdf7",
   "metadata": {},
   "outputs": [
    {
     "name": "stdout",
     "output_type": "stream",
     "text": [
      "enter the radius of circle:4.5\n",
      "Area of the circle: 63.61725123519331\n",
      "Perimeter of the circle: 28.274333882308138\n"
     ]
    }
   ],
   "source": [
    "import math\n",
    "\n",
    "class Circle:\n",
    "    def __init__(self, radius):\n",
    "        self.radius = radius\n",
    "\n",
    "    def area_of_circle(self):\n",
    "        return math.pi * self.radius ** 2\n",
    "\n",
    "    def perimeter_of_circle(self):\n",
    "        return 2 * math.pi * self.radius\n",
    "    \n",
    "radius  = float(input('enter the radius of circle:'))\n",
    "\n",
    "# Create a Circle object with the provided radius\n",
    "round2 = Circle(radius)\n",
    "\n",
    "# Print the calculated area and perimeter\n",
    "print(\"Area of the circle:\", round2.area_of_circle())\n",
    "print(\"Perimeter of the circle:\", round2.perimeter_of_circle())"
   ]
  },
  {
   "cell_type": "markdown",
   "id": "3d93f3e4",
   "metadata": {},
   "source": [
    "### Write a Python program to create a person class. Include attributes like name, country and date of birth. Implement a method to determine the person's age."
   ]
  },
  {
   "cell_type": "code",
   "execution_count": 9,
   "id": "012e4a75",
   "metadata": {},
   "outputs": [
    {
     "name": "stdout",
     "output_type": "stream",
     "text": [
      "6\n"
     ]
    }
   ],
   "source": [
    "from datetime import date ,datetime \n",
    "\n",
    "class Person :\n",
    "    def __init__ (self ,name ,country , BOD):\n",
    "        self.Name = name\n",
    "        self.Country = country\n",
    "        self.Birth_date = datetime.strptime(BOD, '%d/%m/%Y').date()\n",
    "        \n",
    "    def age (self):\n",
    "        today = date.today()\n",
    "        age = today.year - self.Birth_date.year\n",
    "        return age \n",
    "    \n",
    "\n",
    "rahul = Person('Rahul','india','12/03/2017')\n",
    "age_rahul = rahul.age()\n",
    "\n",
    "print(age_rahul)"
   ]
  },
  {
   "cell_type": "markdown",
   "id": "628fedae",
   "metadata": {},
   "source": [
    "### Write a Python program to create a calculator class. Include methods for basic arithmetic operations."
   ]
  },
  {
   "cell_type": "code",
   "execution_count": 2,
   "id": "d3d429d8",
   "metadata": {},
   "outputs": [
    {
     "name": "stdout",
     "output_type": "stream",
     "text": [
      "etnter number :34\n",
      "entre number :43\n",
      "77 -9 1462 1.2647058823529411\n"
     ]
    }
   ],
   "source": [
    "class Calculator :\n",
    "    def __init__ (self ,num1 ,num2):\n",
    "        self.num1 = num1 \n",
    "        self.num2 = num2 \n",
    "        \n",
    "    def addition (self):\n",
    "        return self.num1 + self.num2 \n",
    "    \n",
    "    def substraction (self):\n",
    "        return self.num1 - self.num2\n",
    "    \n",
    "    def multiplication (self):\n",
    "        return self.num1 * self.num2 \n",
    "    \n",
    "    def Dividation (self):\n",
    "        return self.num2 / self.num1\n",
    "    \n",
    "    \n",
    "num1 = int(input('etnter number :'))\n",
    "num2 = int(input('entre number :'))\n",
    "\n",
    "calculation_1 = Calculator(num1 ,num2)\n",
    "\n",
    "add = calculation_1.addition()\n",
    "sub = calculation_1.substraction()\n",
    "mult = calculation_1.multiplication()\n",
    "div = calculation_1.Dividation()\n",
    "    \n",
    "print (add ,sub ,mult ,div )"
   ]
  },
  {
   "cell_type": "code",
   "execution_count": null,
   "id": "43404791",
   "metadata": {},
   "outputs": [],
   "source": []
  },
  {
   "cell_type": "markdown",
   "id": "79276a18",
   "metadata": {},
   "source": [
    "### Print the average of three numbers entered by user by creating a class named 'Average'having a method to calculate and print the averag"
   ]
  },
  {
   "cell_type": "code",
   "execution_count": 7,
   "id": "5ec42d68",
   "metadata": {},
   "outputs": [
    {
     "name": "stdout",
     "output_type": "stream",
     "text": [
      "Enter the first number: 23\n",
      "Enter the second number: 43\n",
      "Enter the third number: 45\n",
      "The average of 23.0, 43.0, and 45.0 is: 37.00\n"
     ]
    }
   ],
   "source": [
    "class Average:\n",
    "    def calculate_and_print_average(self, num1, num2, num3):\n",
    "        average = (num1 + num2 + num3) / 3\n",
    "        print(\"The average of {}, {}, and {} is: {:.2f}\".format(num1, num2, num3, average))\n",
    "\n",
    "# Taking user input for three numbers\n",
    "num1 = float(input(\"Enter the first number: \"))\n",
    "num2 = float(input(\"Enter the second number: \"))\n",
    "num3 = float(input(\"Enter the third number: \"))\n",
    "\n",
    "# Creating an instance of the Average class\n",
    "average_calculator = Average()\n",
    "\n",
    "# Calculating and printing the average using the class method\n",
    "average_calculator.calculate_and_print_average(num1, num2, num3)\n"
   ]
  },
  {
   "cell_type": "code",
   "execution_count": 2,
   "id": "4957d238",
   "metadata": {},
   "outputs": [
    {
     "name": "stdout",
     "output_type": "stream",
     "text": [
      "entre number:23\n",
      "entre number:54\n",
      "entre number:65\n",
      "the average is 98.66666666666667\n"
     ]
    }
   ],
   "source": [
    "class Average:\n",
    "    def __init__ (self ,num1 ,num2 ,num3):\n",
    "        self.n1 = num1 \n",
    "        self.n2 = num2\n",
    "        self.n3 = num3 \n",
    "        \n",
    "    def cal_average(self):\n",
    "        result = self.n1 +self.n2+self.n3 /3 \n",
    "        print('the average is',result)\n",
    "        \n",
    "num1 = float(input('entre number:'))\n",
    "num2 = float(input('entre number:'))\n",
    "num3 = float(input('entre number:'))\n",
    "\n",
    "average_instance = Average(num1,num2,num3)\n",
    "average_instance.cal_average()"
   ]
  },
  {
   "cell_type": "markdown",
   "id": "9e129c61",
   "metadata": {},
   "source": [
    "###  Write a program to create a class by name Students, and initialize attributes like name, age, and grade while creating an object."
   ]
  },
  {
   "cell_type": "code",
   "execution_count": 5,
   "id": "fdb9cd66",
   "metadata": {},
   "outputs": [
    {
     "name": "stdout",
     "output_type": "stream",
     "text": [
      "<__main__.student object at 0x0000014D65041840>\n",
      "45\n"
     ]
    }
   ],
   "source": [
    "class student :\n",
    "    def __init__ (self ,name ,age ,grade):\n",
    "        self.name = name \n",
    "        self.age = age \n",
    "        self.grade = grade\n",
    "        \n",
    "rohan = student('rohal',45,'A')\n",
    "\n",
    "print(rohan)\n",
    "print(rohan.age)"
   ]
  },
  {
   "cell_type": "markdown",
   "id": "ae3387c3",
   "metadata": {},
   "source": [
    "### create a programme to get deatial of stuent of school"
   ]
  },
  {
   "cell_type": "code",
   "execution_count": 56,
   "id": "79679a9b",
   "metadata": {},
   "outputs": [
    {
     "name": "stdout",
     "output_type": "stream",
     "text": [
      "A\n",
      "nisha\n",
      "pass\n",
      "22\n",
      "pass\n",
      "vilas\n",
      "pramila\n"
     ]
    }
   ],
   "source": [
    "class School:\n",
    "    def __init__(self, name, age, marks, Class):\n",
    "        self.name = name\n",
    "        self.age = age\n",
    "        self.marks = marks\n",
    "        self.class = Class\n",
    "\n",
    "    def grade(self):\n",
    "        if self.marks > 50:\n",
    "            return 'pass'\n",
    "        else:\n",
    "            return 'fail'\n",
    "\n",
    "    def parents(self, father, mother):\n",
    "        self.Father = father\n",
    "        self.Mother = mother\n",
    "\n",
    "# Create an instance of the School class\n",
    "Nitu = School('nisha', 34, 87, 'A')\n",
    "\n",
    "# Access attributes\n",
    "print(Nitu.class)\n",
    "print(Nitu.name)\n",
    "\n",
    "# Call the grade method\n",
    "Nitu_grade = Nitu.grade()\n",
    "print(Nitu_grade)\n",
    "\n",
    "# Create another instance and call the parents method\n",
    "Harshali = School('Harshali', 22, 98, 'B')\n",
    "Harshali.parents('vilas', 'pramila')\n",
    "\n",
    "# Access attributes of the second instance\n",
    "print(Harshali.age)\n",
    "print(Harshali.grade())\n",
    "print(Harshali.Father)\n",
    "print(Harshali.Mother)\n"
   ]
  },
  {
   "cell_type": "markdown",
   "id": "f3649314",
   "metadata": {},
   "source": [
    "###  create a prograame where give info about empolyee details \n"
   ]
  },
  {
   "cell_type": "code",
   "execution_count": 19,
   "id": "9e833ba9",
   "metadata": {},
   "outputs": [
    {
     "name": "stdout",
     "output_type": "stream",
     "text": [
      "Name: prakah\n",
      "Age: 34\n",
      "Salary: 120452\n",
      "Department: marketing\n",
      "Company: GOOGLE\n",
      "Family Members: 4\n",
      "Family Type: <class 'type'>\n"
     ]
    }
   ],
   "source": [
    "class Empolyee :\n",
    "    def __init__ (self, name ,age ,salary ,department):\n",
    "        self.name = name \n",
    "        self.age = age \n",
    "        self.salary = salary \n",
    "        self.department = department \n",
    "        \n",
    "    def Compay_deatils ( self , company_name ):\n",
    "        self.company = company_name\n",
    "        \n",
    "    def family (self, member , tpye):\n",
    "        self.Fam_member = member \n",
    "        self.type = type \n",
    "        \n",
    "        \n",
    "Emp1 = Empolyee('prakah',34,120452 ,'marketing')\n",
    "Emp1.Compay_deatils ('GOOGLE')\n",
    "Emp1.family (4,'nuclear')\n",
    "\n",
    "\n",
    "\n",
    "# Extract all information about Emp1\n",
    "print(\"Name:\", Emp1.name)\n",
    "print(\"Age:\", Emp1.age)\n",
    "print(\"Salary:\", Emp1.salary)\n",
    "print(\"Department:\", Emp1.department)\n",
    "print(\"Company:\", Emp1.company)\n",
    "print(\"Family Members:\", Emp1.Fam_member)\n",
    "print(\"Family Type:\", Emp1.type)\n"
   ]
  },
  {
   "cell_type": "code",
   "execution_count": null,
   "id": "b756e510",
   "metadata": {},
   "outputs": [],
   "source": []
  },
  {
   "cell_type": "markdown",
   "id": "84f0b7f1",
   "metadata": {},
   "source": [
    "# Inheritance "
   ]
  },
  {
   "cell_type": "code",
   "execution_count": 61,
   "id": "cae03776",
   "metadata": {},
   "outputs": [
    {
     "name": "stdout",
     "output_type": "stream",
     "text": [
      "200\n",
      "4\n",
      "Car is ued for driving\n",
      "IT is a self driving car\n",
      "<__main__.Car object at 0x000001C0FF08EE90>\n",
      "<__main__.Audi object at 0x000001C0FF08E620>\n"
     ]
    }
   ],
   "source": [
    "#### inheritance\n",
    "## car class blueprint\n",
    "\n",
    "class Car:\n",
    "    def __init__(self,windows,doors,enginetype):\n",
    "        self.windows=windows\n",
    "        self.doors=doors\n",
    "        self.enginetype=enginetype\n",
    "\n",
    "    def driving(self):\n",
    "        print(\"Car is ued for driving\")\n",
    "\n",
    "##Audi car is inherting from Car class\n",
    "class Audi(Car):\n",
    "    def __init__(self,windows,doors,enginetype,horsepower):\n",
    "        super().__init__(windows,doors,enginetype)           # # Call the constructor of the base class using super()\n",
    "        self.horsepower=horsepower                           # # Additional attributes for the Car subclass\n",
    "\n",
    "    def selfdriving(self):\n",
    "        print(\"IT is a self driving car\")\n",
    "\n",
    "\n",
    "audiq7=Audi(4,5,\"Diesel\",200)                            ## object of child class\n",
    "print(audiq7.horsepower)                                 ## horse power of audiq7 car\n",
    "print(audiq7.windows)                                    ## windows of audiq7 car \n",
    "audiq7.driving()                                         ## check audiq7 car is drive \n",
    "audiq7.selfdriving()                                     ## audiq7 car is sef drive \n",
    "\n",
    "car1=Car(4,5,\"Diesel\")                                   ## create object of child class  \n",
    "\n",
    "\n",
    "print(car1)                                              ## check car1 and audiq7  thses object belong to which class \n",
    "print(audiq7)\n",
    "\n",
    "\n",
    "#print(dir(audiq7))\n",
    "#print(dir(car1))\n",
    "\n",
    "\n",
    "#car1 = Car(4,4,'disel',300)              ## error  Car.__init__() takes 3 positional arguments but 4 were given\n",
    "#print(car1.Horespower)                 ## error occur because Horsepower is not attribute of car class , whih is attribute of theire chid class audi\n",
    " "
   ]
  },
  {
   "cell_type": "markdown",
   "id": "57711824",
   "metadata": {},
   "source": [
    "###  Write a Python program to create a class that represents a shape. Include methods to calculate its area and perimeter. Implement subclasses for different shapes like circle, triangle, and square."
   ]
  },
  {
   "cell_type": "code",
   "execution_count": 52,
   "id": "8166bcc6",
   "metadata": {},
   "outputs": [
    {
     "name": "stdout",
     "output_type": "stream",
     "text": [
      "78.53981633974483\n",
      "31.41592653589793\n",
      "-0.0\n",
      "12\n",
      "100\n",
      "40\n"
     ]
    }
   ],
   "source": [
    "import math\n",
    "\n",
    "class Shape:\n",
    "    def area(self):\n",
    "        pass\n",
    "    def perimeter(self):\n",
    "        pass\n",
    "    \n",
    "class Circle (Shape):\n",
    "    def __init__ (self , radius):\n",
    "        self.radius = radius \n",
    "        \n",
    "    def area(self):\n",
    "        return math.pi*self.radius **2\n",
    "    \n",
    "    def perimeter(self):\n",
    "        return 2* math.pi*self.radius\n",
    "    \n",
    "class Triangle (Shape):\n",
    "    def __init__ (self , side1 ,side2 ,side3):\n",
    "        self.s1 = side1\n",
    "        self.s2 = side2 \n",
    "        self.s3 = side3 \n",
    "        \n",
    "    def area(self):\n",
    "        s = (self.s1 +self.s2 +self.s3 )/3\n",
    "        return math.sqrt(s*(s-self.s1)*(s-self.s2)*(s-self.s3))\n",
    "    \n",
    "    def perimeter(self):\n",
    "        return self.s1 +self.s2 +self.s3\n",
    "    \n",
    "class square (Shape):\n",
    "    def __init__ (self ,side):\n",
    "        self.s1 = side \n",
    "        \n",
    "    def area (self):\n",
    "        return self.s1**2 \n",
    "    \n",
    "    def perimeter(self):\n",
    "        return 4* self.s1\n",
    "    \n",
    "circle1 = Circle(5)\n",
    "print(circle1.area())\n",
    "print(circle1.perimeter())\n",
    "\n",
    "\n",
    "triangle1 = Triangle(3,4,5)\n",
    "print(triangle1.area())\n",
    "print(triangle1.perimeter())\n",
    "\n",
    "squre1 =square(10) \n",
    "print(squre1.area())\n",
    "print(squre1.perimeter())\n"
   ]
  },
  {
   "cell_type": "markdown",
   "id": "f23a035d",
   "metadata": {},
   "source": [
    "### Create a base class called Vehicle with attributes like make, model, and year. Include a method display_info to print these attributes. Create a subclass Car that inherits from Vehicle and includes additional attributes like num_doors and fuel_type.\n",
    " \n",
    "##### Basic  Inheritance \n",
    "\n",
    " ##### Method Override:\n",
    "\n",
    "- The display_info method is originally defined in the base class Vehicle.\n",
    "- In the Car subclass, we provide a new implementation for this method. This is known as method overriding.\n",
    "- When an object of the Car class calls display_info, it will execute this overridden version rather than the one in the base class.\n"
   ]
  },
  {
   "cell_type": "code",
   "execution_count": 67,
   "id": "9201cf7a",
   "metadata": {},
   "outputs": [
    {
     "name": "stdout",
     "output_type": "stream",
     "text": [
      "Make: Honda, Model: Accord, Year: 2023\n",
      "Number of Doors: 4, Fuel Type: Gasoline\n"
     ]
    }
   ],
   "source": [
    "method =2 \n",
    "\n",
    "class Vehicle:\n",
    "    def __init__(self, make, model, year):\n",
    "        self.make = make\n",
    "        self.model = model\n",
    "        self.year = year\n",
    "\n",
    "    def display_info(self):\n",
    "        print(f\"Make: {self.make}, Model: {self.model}, Year: {self.year}\")\n",
    "\n",
    "\n",
    "class Car(Vehicle):\n",
    "    def __init__(self, make, model, year, num_doors, fuel_type):\n",
    "                                                               # Call the constructor of the base class using super()\n",
    "        super().__init__(make, model, year)\n",
    "                                                               # Additional attributes for the Car subclass\n",
    "        self.num_doors = num_doors\n",
    "        self.fuel_type = fuel_type\n",
    "\n",
    "    # Override the display_info method to include additional attributes\n",
    "    def display_info(self):\n",
    "        super().display_info()\n",
    "        print(f\"Number of Doors: {self.num_doors}, Fuel Type: {self.fuel_type}\")\n",
    "\n",
    "\n",
    "# Example usage:\n",
    "#vehicle1 = Vehicle(\"Toyota\", \"Camry\", 2022)\n",
    "#vehicle1.display_info()\n",
    "\n",
    "car1 = Car(\"Honda\", \"Accord\", 2023, 4, \"Gasoline\")\n",
    "car1.display_info()\n"
   ]
  },
  {
   "cell_type": "code",
   "execution_count": 60,
   "id": "d86ec479",
   "metadata": {},
   "outputs": [
    {
     "name": "stdout",
     "output_type": "stream",
     "text": [
      "Make: toyoto, Model: canry, Year: 2022\n",
      "Make: Ford, Model: Mustang, Year: 2023\n"
     ]
    }
   ],
   "source": [
    "method = 1\n",
    "\n",
    "class Vehicle :\n",
    "    def __init__ (self ,make ,model ,year):\n",
    "        self.make = make \n",
    "        self.model = model \n",
    "        self.year = year \n",
    "    \n",
    "    def display_info (self):\n",
    "        print(f\"Make: {self.make}, Model: {self.model}, Year: {self.year}\")\n",
    "\n",
    "class car(Vehicle):\n",
    "    def __init__ (self ,make ,model ,year , num_doors , fuel_type):\n",
    "        super().__init__(make ,model ,year)\n",
    "        self.doors = num_doors \n",
    "        self.fueltype = fuel_type \n",
    "        \n",
    "        \n",
    "Vechile1 = Vehicle('toyoto', 'canry',2022)\n",
    "Vechile1.display_info()\n",
    "\n",
    "car1 = car(\"Ford\", \"Mustang\", 2023, 2, \"Gasoline\")\n",
    "car1.display_info()\n",
    "                         \n",
    "## eithe[ car1.display_info() ] mhade fakt vehicle classs mhade jeje  positional argument didleNA Ttychi value print jaly .\n",
    "### jar car1 chi comple info havi asel ter = use the concept of methon overridding "
   ]
  },
  {
   "cell_type": "markdown",
   "id": "1e2862bc",
   "metadata": {},
   "source": [
    "\n",
    "### Define a class Person with a method introduce that prints \"I am a person.\" Create a subclass Student that inherits from Person and overrides the introduce method to print \"I am a student.\"\n",
    "\n",
    "- mETHOD OVERIDING "
   ]
  },
  {
   "cell_type": "code",
   "execution_count": 64,
   "id": "0a1b9952",
   "metadata": {},
   "outputs": [
    {
     "name": "stdout",
     "output_type": "stream",
     "text": [
      "i am a person\n",
      "i am a student.\n"
     ]
    }
   ],
   "source": [
    "class Person : \n",
    "    def introduce(self):\n",
    "        print('i am a person')\n",
    "        \n",
    "class student(Person):\n",
    "    def introduce(self):\n",
    "        print('i am a student.')\n",
    "        \n",
    "person = Person()\n",
    "person.introduce()\n",
    "\n",
    "Student = student()\n",
    "Student.introduce()"
   ]
  },
  {
   "cell_type": "markdown",
   "id": "bd0ec855",
   "metadata": {},
   "source": [
    "### Create a base class Animal with attributes name and sound.Create a subclass Dog that inherits from Animal and uses the super() function to initialize the name and sound attributes."
   ]
  },
  {
   "cell_type": "code",
   "execution_count": 66,
   "id": "7b5b6c13",
   "metadata": {},
   "outputs": [
    {
     "name": "stdout",
     "output_type": "stream",
     "text": [
      "Name: buddy,sound:woof,Breed:labrador\n"
     ]
    }
   ],
   "source": [
    "class Animal:\n",
    "    def __init__ (self , name ,sound):\n",
    "        self.name = name \n",
    "        self.sound = sound \n",
    "        \n",
    "class Dog(Animal):\n",
    "    def __init__ (self , name ,sound ,breed):\n",
    "        super().__init__(name ,sound)\n",
    "        self.breed = breed \n",
    "        \n",
    "    def display_info (self):\n",
    "        print(f\"Name: {self.name},sound:{self.sound},Breed:{self.breed}\")\n",
    "              \n",
    "dog1 = Dog('buddy','woof','labrador')\n",
    "dog1.display_info()"
   ]
  },
  {
   "cell_type": "code",
   "execution_count": null,
   "id": "14eeb22f",
   "metadata": {},
   "outputs": [],
   "source": [
    "## multilevel inheritance "
   ]
  },
  {
   "cell_type": "code",
   "execution_count": 73,
   "id": "2c2f3e63",
   "metadata": {},
   "outputs": [
    {
     "name": "stdout",
     "output_type": "stream",
     "text": [
      "Buddy says Woof!\n",
      "Buddy is giving birth.\n"
     ]
    }
   ],
   "source": [
    "# Base class\n",
    "class Animal:\n",
    "    def __init__(self, name):\n",
    "        self.name = name\n",
    "\n",
    "    def speak(self):\n",
    "        pass\n",
    "\n",
    "# Intermediate class inheriting from Animal\n",
    "class Mammal(Animal):\n",
    "    def give_birth(self):\n",
    "        print(f\"{self.name} is giving birth.\")\n",
    "\n",
    "# Derived class inheriting from Mammal\n",
    "class Dog(Mammal):\n",
    "    def speak(self):\n",
    "        print(f\"{self.name} says Woof!\")\n",
    "\n",
    "# Creating an instance of the Dog class\n",
    "my_dog = Dog(\"Buddy\")\n",
    "\n",
    "# Accessing methods from different levels of inheritance\n",
    "my_dog.speak()       # Calls the speak() method from the Dog class\n",
    "my_dog.give_birth()  # Calls the give_birth() method from the Mammal class\n"
   ]
  },
  {
   "cell_type": "code",
   "execution_count": 76,
   "id": "cd7029a0",
   "metadata": {},
   "outputs": [
    {
     "name": "stdout",
     "output_type": "stream",
     "text": [
      "Generic Model\n",
      "Toyota , Camry , 4 doors\n",
      "Tesla Model S ,4 doors, Battery Range: 300 miles\n"
     ]
    }
   ],
   "source": [
    "class Vehicle:\n",
    "    def __init__(self, brand, model):\n",
    "        self.brand = brand\n",
    "        self.model = model\n",
    "\n",
    "    def Vehicle_info(self):\n",
    "        print(f\"{self.brand} {self.model}\")\n",
    "\n",
    "class Car(Vehicle):\n",
    "    def __init__(self, brand, model, num_doors):\n",
    "        super().__init__(brand, model)\n",
    "        self.num_doors = num_doors\n",
    "\n",
    "    def Car_info(self):\n",
    "        print(f\"{self.brand} , {self.model} , {self.num_doors} doors\")\n",
    "\n",
    "class ElectricCar(Car):\n",
    "    def __init__(self, brand, model, num_doors, battery_range):\n",
    "        super().__init__(brand, model, num_doors)\n",
    "        self.battery_range = battery_range\n",
    "\n",
    "    def ElectricCar_info(self):\n",
    "        print(f\"{self.brand} {self.model} ,{self.num_doors} doors, Battery Range: {self.battery_range} miles\")\n",
    "\n",
    "# Creating instances of each class\n",
    "vehicle = Vehicle(\"Generic\", \"Model\")\n",
    "car = Car(\"Toyota\", \"Camry\", 4)\n",
    "electric_car = ElectricCar(\"Tesla\", \"Model S\", 4, 300)\n",
    "\n",
    "# Using the methods\n",
    "vehicle.Vehicle_info()  # Output: Generic Model\n",
    "car.Car_info()  # Output: Toyota Camry - 4 doors\n",
    "electric_car.ElectricCar_info()  # Output: Tesla Model S - 4 doors, Battery Range: 300 miles\n"
   ]
  },
  {
   "cell_type": "markdown",
   "id": "580e8fcf",
   "metadata": {},
   "source": [
    "## Encapsulation In Python\n",
    "- Encapsulation is a fundamental principle in object-oriented programming that focuses on bundling data and the methods that operate on that data into a single unit called a class. It allows you to control the access and visibility of the data and methods, providing a way to protect and organize your code"
   ]
  },
  {
   "cell_type": "code",
   "execution_count": 1,
   "id": "1fe3efc3",
   "metadata": {},
   "outputs": [
    {
     "name": "stdout",
     "output_type": "stream",
     "text": [
      "the person name is Krish and the age is 32\n"
     ]
    }
   ],
   "source": [
    "### Access Modifier--->Encapsulation  = thses private access variable can be acces only in thse class \n",
    "## private\n",
    "\n",
    "class Person:\n",
    "    ## constructor\n",
    "    def __init__(self,name,age):\n",
    "        self.__name=name                 ## two underscore(__) sighn used to repersent Private Acess Modifier\n",
    "        self.__age=age\n",
    "\n",
    "    def display_info(self):\n",
    "        print(f\"the person name is {self.__name} and the age is {self.__age}\")\n",
    "        \n",
    "person=Person(\"Krish\",32)\n",
    "print(person.__name)                 ## -- error = beacuse private vattribute alway access in  thse class  \n",
    "\n",
    "person.display_info()                 ## --- so for accessing private attribute use thses method "
   ]
  },
  {
   "cell_type": "code",
   "execution_count": 80,
   "id": "d50f76d6",
   "metadata": {},
   "outputs": [
    {
     "data": {
      "text/plain": [
       "32"
      ]
     },
     "execution_count": 80,
     "metadata": {},
     "output_type": "execute_result"
    }
   ],
   "source": [
    "### Access Modifier--->Encapsulation\n",
    "## Protected \n",
    "\n",
    "class school:\n",
    "    ## constructor\n",
    "    def __init__(self,name,age):\n",
    "        self._name=name                # use single underscore(_) sighn used to repersent Protected Acess Modifier\n",
    "        self._age=age\n",
    "\n",
    "    \n",
    "person=school(\"Krish\",32)\n",
    "\n",
    "dir(person)    \n",
    "person._age                           ## -- not error occur but it is not good practice  = beacuse protected attribute alway  access in  thse child (derived ) variable \n",
    "\n"
   ]
  },
  {
   "cell_type": "code",
   "execution_count": 82,
   "id": "55d01206",
   "metadata": {},
   "outputs": [
    {
     "name": "stdout",
     "output_type": "stream",
     "text": [
      "the person name is Krish and the age is 33\n"
     ]
    }
   ],
   "source": [
    "class classA(school):\n",
    "    def __init__(self,name,age):\n",
    "        super().__init__(name,age)\n",
    "\n",
    "    def student_details(self):\n",
    "        print(f\"the person name is {self._name} and the age is {self._age}\")\n",
    "\n",
    "    \n",
    "\n",
    "    \n",
    "student1=classA(\"Krish\",33)\n",
    "student1.student_details()"
   ]
  },
  {
   "cell_type": "code",
   "execution_count": 83,
   "id": "411a91c2",
   "metadata": {},
   "outputs": [
    {
     "name": "stdout",
     "output_type": "stream",
     "text": [
      "the person name is Krish and the age is 33\n"
     ]
    }
   ],
   "source": [
    "class school:\n",
    "    ## constructor\n",
    "    def __init__(self,name,age):\n",
    "        self._name=name                # use single underscore(_) sighn used to repersent Protected Acess Modifier\n",
    "        self._age=age\n",
    "\n",
    "    def student_details(self):\n",
    "        print(f\"the person name is {self._name} and the age is {self._age}\")\n",
    "        \n",
    "class classA(school):\n",
    "    def __init__(self,name,age):\n",
    "        super().__init__(name,age)\n",
    "        \n",
    "student1=classA(\"Krish\",33)\n",
    "student1.student_details()"
   ]
  },
  {
   "cell_type": "code",
   "execution_count": null,
   "id": "d1521aeb",
   "metadata": {},
   "outputs": [],
   "source": []
  },
  {
   "cell_type": "code",
   "execution_count": 7,
   "id": "8a1b042f",
   "metadata": {},
   "outputs": [],
   "source": [
    "## public access modifiers\n",
    "class Person:\n",
    "    ## constructor\n",
    "    def __init__(self,name,age):\n",
    "        self.name=name\n",
    "        self.age=age"
   ]
  },
  {
   "cell_type": "markdown",
   "id": "2fdeda56",
   "metadata": {},
   "source": [
    "## Q.1 "
   ]
  },
  {
   "cell_type": "code",
   "execution_count": 11,
   "id": "dd151cc6",
   "metadata": {},
   "outputs": [
    {
     "data": {
      "text/plain": [
       "100"
      ]
     },
     "execution_count": 11,
     "metadata": {},
     "output_type": "execute_result"
    }
   ],
   "source": [
    "class car:\n",
    "    def __init__ (self , year ,make ,model ,speed ):\n",
    "        self.__year = year \n",
    "        self.__make =make \n",
    "        self.__model = model \n",
    "        self.__speed = speed \n",
    "        \n",
    "    def set_speed (self ,speed):\n",
    "        if self.__speed < 0 :\n",
    "            self.__speed = 0\n",
    "        else :\n",
    "            self.__speed = speed\n",
    "            \n",
    "    def get_speed (self):\n",
    "        return self.__speed \n",
    "    \n",
    "    \n",
    "car1 = car(2022, 'suzuki',17 , 100)\n",
    "## car1.__speed                                \n",
    "## Error occur because __speed is make as private attribute/variable which is only acces in calss\n",
    "## so , if we want t oaccess thses variable in outsisde the class or changes the value of it use the spcific function or ethod created for that in in class \n",
    "\n",
    "car1.get_speed()\n",
    "\n",
    "\n"
   ]
  },
  {
   "cell_type": "code",
   "execution_count": 12,
   "id": "d7c5fdcd",
   "metadata": {},
   "outputs": [],
   "source": [
    "car1.set_speed(234)\n"
   ]
  },
  {
   "cell_type": "code",
   "execution_count": 13,
   "id": "147e1ebd",
   "metadata": {},
   "outputs": [
    {
     "data": {
      "text/plain": [
       "234"
      ]
     },
     "execution_count": 13,
     "metadata": {},
     "output_type": "execute_result"
    }
   ],
   "source": [
    "car1.get_speed()"
   ]
  },
  {
   "cell_type": "markdown",
   "id": "088013a8",
   "metadata": {},
   "source": [
    "# Q.2 "
   ]
  },
  {
   "cell_type": "code",
   "execution_count": 18,
   "id": "c34482e7",
   "metadata": {},
   "outputs": [
    {
     "data": {
      "text/plain": [
       "1000"
      ]
     },
     "execution_count": 18,
     "metadata": {},
     "output_type": "execute_result"
    }
   ],
   "source": [
    "class bank_account:\n",
    "    def __init__(self ,balance):\n",
    "        self.__balance = balance \n",
    "        \n",
    "    def deposit (self, amount):\n",
    "        self.__balance = self.__balance + amount\n",
    "        \n",
    "    def withdraw(self , amount):\n",
    "        if self.__balance >0:\n",
    "            self.__balance = self.__balance - amount\n",
    "            return True \n",
    "        else :\n",
    "            return false \n",
    "        \n",
    "    def check_balance (self):\n",
    "        return self.__balance\n",
    "    \n",
    "    \n",
    "sudh = bank_account (1000)\n",
    "\n",
    "sudh. check_balance()\n",
    "\n"
   ]
  },
  {
   "cell_type": "code",
   "execution_count": 19,
   "id": "c94bcdfc",
   "metadata": {},
   "outputs": [
    {
     "data": {
      "text/plain": [
       "6000"
      ]
     },
     "execution_count": 19,
     "metadata": {},
     "output_type": "execute_result"
    }
   ],
   "source": [
    "sudh.deposit(5000)\n",
    "sudh. check_balance()"
   ]
  },
  {
   "cell_type": "code",
   "execution_count": 20,
   "id": "b935b11b",
   "metadata": {},
   "outputs": [
    {
     "data": {
      "text/plain": [
       "True"
      ]
     },
     "execution_count": 20,
     "metadata": {},
     "output_type": "execute_result"
    }
   ],
   "source": [
    "sudh.withdraw(2000)"
   ]
  },
  {
   "cell_type": "code",
   "execution_count": 21,
   "id": "7c2c6cd9",
   "metadata": {},
   "outputs": [
    {
     "data": {
      "text/plain": [
       "4000"
      ]
     },
     "execution_count": 21,
     "metadata": {},
     "output_type": "execute_result"
    }
   ],
   "source": [
    "sudh. check_balance()"
   ]
  },
  {
   "cell_type": "markdown",
   "id": "ca225e18",
   "metadata": {},
   "source": [
    "## Q.3 "
   ]
  },
  {
   "cell_type": "code",
   "execution_count": 29,
   "id": "67639319",
   "metadata": {},
   "outputs": [
    {
     "name": "stdout",
     "output_type": "stream",
     "text": [
      "Species: Lion\n",
      "Age: 5\n",
      "Health Status : Healthy\n"
     ]
    }
   ],
   "source": [
    "class Animal :\n",
    "    def __init__ (self ,species , age ,health_status):\n",
    "        self.__species = species\n",
    "        self.__age = age\n",
    "        self.health_status = health_status\n",
    "        \n",
    "    def get_species (self):\n",
    "        return self.__species \n",
    "    \n",
    "    def get_age (self):\n",
    "        return self.__age \n",
    "    \n",
    "    def get_health_status(self):\n",
    "        return self.health_status\n",
    "    \n",
    "    def set_age (self , new_age):\n",
    "        if new_age > 0 :\n",
    "            self.__age = new_age \n",
    "        else:\n",
    "            self.__age = 'Enter Age'\n",
    "            \n",
    "    def set_health_status(self , new_status):\n",
    "        valid_status = [\"Healthy\", \"Sick\", \"Injured\"]\n",
    "        \n",
    "        if new_status in valid_status:\n",
    "            self.__health_status = new_status\n",
    "        else :\n",
    "            print('invalid health satus')\n",
    "            \n",
    "\n",
    "animal1 = Animal(\"Lion\", 5, \"Healthy\")\n",
    "\n",
    "print('Species:' , animal1.get_species())\n",
    "print('Age:' , animal1.get_age())\n",
    "print('Health Status :',animal1 . get_health_status())\n",
    "\n",
    "# Using setter methods to update attributes\n",
    "\n"
   ]
  },
  {
   "cell_type": "code",
   "execution_count": 30,
   "id": "4384b7a2",
   "metadata": {},
   "outputs": [],
   "source": [
    "animal1.set_age(6)\n",
    "animal1.set_health_status('Sick')\n",
    "\n"
   ]
  },
  {
   "cell_type": "code",
   "execution_count": 33,
   "id": "96e55e53",
   "metadata": {
    "scrolled": true
   },
   "outputs": [
    {
     "name": "stdout",
     "output_type": "stream",
     "text": [
      "6\n",
      "Healthy\n"
     ]
    }
   ],
   "source": [
    "# Accessing updated attributes using getter methods\n",
    "\n",
    "print(animal1.get_age())\n",
    "print(animal1.get_health_status())"
   ]
  },
  {
   "cell_type": "markdown",
   "id": "bc832433",
   "metadata": {},
   "source": [
    "## Q.4"
   ]
  },
  {
   "cell_type": "code",
   "execution_count": 16,
   "id": "664e1bba",
   "metadata": {},
   "outputs": [
    {
     "data": {
      "text/plain": [
       "'prakash'"
      ]
     },
     "execution_count": 16,
     "metadata": {},
     "output_type": "execute_result"
    }
   ],
   "source": [
    "class Person :\n",
    "    def __init__ (self ,name ,age):\n",
    "        self.__name = name \n",
    "        self.__age = age \n",
    "        \n",
    "    def set_name (self , new_name):\n",
    "         self.__name = new_name\n",
    "    \n",
    "    def set_age (self ,new_age):\n",
    "        self.__age = new_age\n",
    "    \n",
    "    def get_name (self):\n",
    "        return self.__name \n",
    "    \n",
    "    def get_age (self):\n",
    "        return self.__age\n",
    "    \n",
    "    \n",
    "person1 = Person( 'prakash',45)\n",
    "\n",
    "person1.get_name()"
   ]
  },
  {
   "cell_type": "code",
   "execution_count": 17,
   "id": "57453483",
   "metadata": {},
   "outputs": [
    {
     "data": {
      "text/plain": [
       "45"
      ]
     },
     "execution_count": 17,
     "metadata": {},
     "output_type": "execute_result"
    }
   ],
   "source": [
    "person1.get_age()"
   ]
  },
  {
   "cell_type": "code",
   "execution_count": 18,
   "id": "b0cae50f",
   "metadata": {},
   "outputs": [],
   "source": [
    "person1.set_name('hitesh')"
   ]
  },
  {
   "cell_type": "code",
   "execution_count": 19,
   "id": "376f4e4f",
   "metadata": {},
   "outputs": [
    {
     "data": {
      "text/plain": [
       "'hitesh'"
      ]
     },
     "execution_count": 19,
     "metadata": {},
     "output_type": "execute_result"
    }
   ],
   "source": [
    "person1.get_name()"
   ]
  },
  {
   "cell_type": "markdown",
   "id": "853a8e56",
   "metadata": {},
   "source": [
    "# Q.5 "
   ]
  },
  {
   "cell_type": "code",
   "execution_count": 23,
   "id": "9da07d5d",
   "metadata": {},
   "outputs": [
    {
     "data": {
      "text/plain": [
       "'Harshali'"
      ]
     },
     "execution_count": 23,
     "metadata": {},
     "output_type": "execute_result"
    }
   ],
   "source": [
    "class student :\n",
    "    def __init__  (self , name ,age , grade):\n",
    "        self.__name = name \n",
    "        self.__age = age \n",
    "        self.__grade = grade\n",
    "        \n",
    "    def get_name (self):\n",
    "        return self.__name\n",
    "    \n",
    "    def get_age (self):\n",
    "        return self.__age \n",
    "    \n",
    "    def set_name (self , new_name):\n",
    "        self.__name = new_name \n",
    "        \n",
    "    def set_age (self , new_age):\n",
    "        self.__age = new_age\n",
    "        \n",
    "        \n",
    "student1 = student('Harshali', 22 , 'A' )\n",
    "\n",
    "student1.get_name()"
   ]
  },
  {
   "cell_type": "code",
   "execution_count": 24,
   "id": "bac108da",
   "metadata": {},
   "outputs": [],
   "source": [
    "student1.set_name('jony')"
   ]
  },
  {
   "cell_type": "code",
   "execution_count": 25,
   "id": "944d3754",
   "metadata": {},
   "outputs": [
    {
     "data": {
      "text/plain": [
       "'jony'"
      ]
     },
     "execution_count": 25,
     "metadata": {},
     "output_type": "execute_result"
    }
   ],
   "source": [
    "student1.get_name()"
   ]
  },
  {
   "cell_type": "code",
   "execution_count": null,
   "id": "4c6a6911",
   "metadata": {},
   "outputs": [],
   "source": []
  },
  {
   "cell_type": "markdown",
   "id": "7189e0e3",
   "metadata": {},
   "source": [
    "## Polymorphism \n",
    "\n",
    "#### condition \n",
    "- Inheritance: a new class (child) can inherit characteristics and actions from an existing class (parent). This is the first step to enable polymorphism.\n",
    "- Method Overriding:, when a new class inherits from another, it can change or add its own version of certain actions (methods). This is essential for making different things happen with the same method name.\n",
    "- Common Interface: The base class and its derived classes should define a common interface, meaning they share method names and signatures. They have methods with the same names, so you can use any of them interchangeabl\n",
    "\n",
    "- Dynamic Binding (Run-time Polymorphism):\n",
    " the program/method /fun  deciding which specific action to take = when you call a method based on the actual type of the object."
   ]
  },
  {
   "cell_type": "code",
   "execution_count": null,
   "id": "48ff67ea",
   "metadata": {},
   "outputs": [],
   "source": [
    "Common Interface:\n",
    "Imagine you have different gadgets - a smartphone, a tablet, and a laptop. Each gadget has a \"power\" button, and they all agree on what happens when you press it. You don't need to know the details of how each gadget's power button works; you just know that pressing it turns the device on or off.\n",
    "\n",
    "In programming, a common interface is like agreeing on a set of actions (methods) that different classes will have. For example:\n",
    "\n",
    "class Gadget:\n",
    "    def power_button(self):\n",
    "        pass  # Just a rule, no specific action\n",
    "\n",
    "class Smartphone(Gadget):\n",
    "    def power_button(self):\n",
    "        return \"Smartphone is turning on/off\"\n",
    "\n",
    "class Tablet(Gadget):\n",
    "    def power_button(self):\n",
    "        return \"Tablet is turning on/off\"\n",
    "    \n",
    "    \n",
    "Here, Gadget is the common interface, and both Smartphone and Tablet agree to have a power_button method. This means you can use them interchangeably in your program because they speak the same \"language\" of methods."
   ]
  },
  {
   "cell_type": "code",
   "execution_count": 28,
   "id": "4675cc45",
   "metadata": {},
   "outputs": [],
   "source": [
    "class data_science :\n",
    "    def syllabus (self):\n",
    "        print('this is my syllabus for DS')\n",
    "        \n",
    "class data_anlysis :\n",
    "    def syllabus(self):\n",
    "        print('this is my syllabua for data_anlysis')\n",
    "        \n",
    "DS = data_science()\n",
    "DA = data_anlysis()\n",
    "        "
   ]
  },
  {
   "cell_type": "code",
   "execution_count": 32,
   "id": "6f5295ea",
   "metadata": {},
   "outputs": [
    {
     "name": "stdout",
     "output_type": "stream",
     "text": [
      "this is my syllabus for DS\n",
      "this is my syllabua for data_anlysis\n"
     ]
    }
   ],
   "source": [
    "def class_parcer (class_obj):\n",
    "    for i in class_obj :\n",
    "        i.syllabus()\n",
    "        \n",
    "L = [DS ,DA]\n",
    "\n",
    "class_parcer(L)\n",
    "\n",
    "## class_pRCER YE jo external function hai behve as diffeently depend upon the object which are going to pass on it "
   ]
  },
  {
   "cell_type": "code",
   "execution_count": null,
   "id": "f8f0b4b3",
   "metadata": {},
   "outputs": [],
   "source": [
    "Q.1 "
   ]
  },
  {
   "cell_type": "code",
   "execution_count": 1,
   "id": "5fd21fd8",
   "metadata": {},
   "outputs": [
    {
     "name": "stdout",
     "output_type": "stream",
     "text": [
      "Parrot can fly\n",
      "Penguin can not fly\n"
     ]
    }
   ],
   "source": [
    "class Parrot :\n",
    "    def fly (self):\n",
    "        print('Parrot can fly')\n",
    "        \n",
    "    def swim (self):\n",
    "        print('parrot can not swim')\n",
    "              \n",
    "class Penguine :\n",
    "    def fly (self):\n",
    "        print('Penguin can not fly')\n",
    "              \n",
    "    def swim (self):\n",
    "        print('pengine can swim')\n",
    "\n",
    " ## instance of objects         \n",
    "bird1 = Parrot()\n",
    "peggy = Penguine ()\n",
    "\n",
    "\n",
    " ## commom interface/ polymorphic function\n",
    "def flying_test (bird):\n",
    "    bird.fly()\n",
    "    \n",
    "\n",
    "## passing thse object in to common interface \n",
    "# ## demonstrate polymorphism = i.e flying_test( a) thses a single method show different optput base on Object insert in to it\n",
    "\n",
    "flying_test(bird1)\n",
    "flying_test(peggy)"
   ]
  },
  {
   "cell_type": "code",
   "execution_count": null,
   "id": "1610e6e9",
   "metadata": {},
   "outputs": [],
   "source": [
    "Q.2 "
   ]
  },
  {
   "cell_type": "code",
   "execution_count": 12,
   "id": "b3dd3cea",
   "metadata": {},
   "outputs": [
    {
     "name": "stdout",
     "output_type": "stream",
     "text": [
      "Meet BUDDY is aged of  3. and is sound is 'woof! woof' \n",
      "Meet Whiskers is aged of  2. and is sound is 'Meow' \n",
      "generic pet sound\n"
     ]
    }
   ],
   "source": [
    "class pet:                                   # common interface \n",
    "    def __init__ (self , name ,age):\n",
    "        self.name = name \n",
    "        self.age = age \n",
    "        \n",
    "    def make_sound(self):                    # common interface method \n",
    "        print('generic pet sound')\n",
    "        \n",
    "class Dog(pet):\n",
    "    def make_sound (self):\n",
    "        print(f\"Meet {self.name} is aged of  { self.age}. and is sound is 'woof! woof' \")\n",
    "        \n",
    "class cat(pet):\n",
    "    def make_sound(self):\n",
    "        print(f\"Meet {self.name} is aged of  { self.age}. and is sound is 'Meow' \")\n",
    "        \n",
    "class Parrot(pet):\n",
    "    def make_sound(self):\n",
    "        print(f\"Meet {self.name} is aged of  { self.age}. and is sound  'squawk'\")\n",
    "\n",
    "class cock(pet):\n",
    "    pass\n",
    " \n",
    " ## instance of objects \n",
    "dog1 = Dog('BUDDY',3)\n",
    "cat1 = cat ('Whiskers',2)\n",
    "parrot1 = Parrot(\"Polly\", 1)\n",
    "cock1 = cock('hen' ,4)\n",
    "        \n",
    "dog1. make_sound()\n",
    "cat1.make_sound()\n",
    "cock1.make_sound()\n"
   ]
  },
  {
   "cell_type": "markdown",
   "id": "a69db3f1",
   "metadata": {},
   "source": [
    "Q.3 \n"
   ]
  },
  {
   "cell_type": "markdown",
   "id": "945567ea",
   "metadata": {},
   "source": [
    "## data abstraction \n",
    "    "
   ]
  },
  {
   "cell_type": "code",
   "execution_count": 21,
   "id": "3c42ae50",
   "metadata": {},
   "outputs": [
    {
     "name": "stdout",
     "output_type": "stream",
     "text": [
      "milage of maruti suzuki is 30 kph\n",
      "milage of tata car is 60 kph\n",
      "milage of duster is 70 kph\n",
      "white\n",
      "white\n",
      "white\n"
     ]
    }
   ],
   "source": [
    "from abc import ABC , abstractmethod\n",
    "\n",
    "class car(ABC):\n",
    "    \n",
    "    @abstractmethod \n",
    "    def milage(self):\n",
    "        pass \n",
    "    \n",
    "    def colour (self):\n",
    "        print('white')\n",
    "            \n",
    "            \n",
    "class maruti_suzuki(car):\n",
    "    \n",
    "    def milage(self):\n",
    "        print('milage of maruti suzuki is 30 kph')\n",
    "        \n",
    "class Tata (car):\n",
    "    \n",
    "    def milage (self):\n",
    "        print('milage of tata car is 60 kph')\n",
    "        \n",
    "class duster (car):\n",
    "    \n",
    "    def milage(self):\n",
    "        print('milage of duster is 70 kph')\n",
    "        \n",
    "        \n",
    "m1 = maruti_suzuki()\n",
    "t1 = Tata()\n",
    "d1 = duster()\n",
    "\n",
    "m1.milage()\n",
    "t1.milage()\n",
    "d1.milage()\n",
    "\n",
    "m1.colour()\n",
    "t1.colour()\n",
    "d1.colour()"
   ]
  },
  {
   "cell_type": "code",
   "execution_count": null,
   "id": "98cbae52",
   "metadata": {},
   "outputs": [],
   "source": []
  },
  {
   "cell_type": "code",
   "execution_count": null,
   "id": "a787888e",
   "metadata": {},
   "outputs": [],
   "source": []
  },
  {
   "cell_type": "code",
   "execution_count": null,
   "id": "de9d8b6e",
   "metadata": {},
   "outputs": [],
   "source": []
  },
  {
   "cell_type": "code",
   "execution_count": null,
   "id": "4c1cd282",
   "metadata": {},
   "outputs": [],
   "source": []
  }
 ],
 "metadata": {
  "kernelspec": {
   "display_name": "Python 3 (ipykernel)",
   "language": "python",
   "name": "python3"
  },
  "language_info": {
   "codemirror_mode": {
    "name": "ipython",
    "version": 3
   },
   "file_extension": ".py",
   "mimetype": "text/x-python",
   "name": "python",
   "nbconvert_exporter": "python",
   "pygments_lexer": "ipython3",
   "version": "3.10.9"
  }
 },
 "nbformat": 4,
 "nbformat_minor": 5
}
