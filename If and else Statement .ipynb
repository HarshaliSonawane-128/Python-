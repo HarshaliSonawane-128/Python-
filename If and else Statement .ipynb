{
 "cells": [
  {
   "cell_type": "markdown",
   "id": "94d7c4ec",
   "metadata": {},
   "source": [
    "# if satatement  \n",
    "used to determine whether a block of code will be execute or not.\n",
    "\n",
    "It allows you to control the flow of your program by executing certain blocks of code only if a specified condition is true."
   ]
  },
  {
   "cell_type": "code",
   "execution_count": null,
   "id": "c9813c91",
   "metadata": {},
   "outputs": [],
   "source": [
    "age = 18\n",
    "\n",
    "if age >= 18:\n",
    "    print(\"You are an adult.\")\n",
    "    "
   ]
  },
  {
   "cell_type": "code",
   "execution_count": null,
   "id": "24727361",
   "metadata": {},
   "outputs": [],
   "source": [
    "# short cut\n",
    "a =10\n",
    "b =40\n",
    "\n",
    "if a<b:print('shortcut')"
   ]
  },
  {
   "cell_type": "markdown",
   "id": "af24738d",
   "metadata": {},
   "source": [
    "# if _else _statement \n",
    "The if-else statement comprises 2blocks of statements out of which the first set of code executes only when the if statement condition is true .\n",
    "\n",
    "●If the condition is false , then the statements in the body of the else section will be executed"
   ]
  },
  {
   "cell_type": "code",
   "execution_count": null,
   "id": "bbcc608d",
   "metadata": {},
   "outputs": [],
   "source": [
    "age = 18\n",
    "\n",
    "if age >= 18:\n",
    "    print(\"You are an adult.\")\n",
    "else:\n",
    "    print(\"You are not an adult.\")"
   ]
  },
  {
   "cell_type": "code",
   "execution_count": null,
   "id": "ee0c9913",
   "metadata": {},
   "outputs": [],
   "source": [
    "print(\"age\")if age ==19 else print(\"lessage\") "
   ]
  },
  {
   "cell_type": "markdown",
   "id": "eef64158",
   "metadata": {},
   "source": [
    "# if_elif_statement \n",
    "elif keyword in python way of saying if the previous condition wrere not true ,then try thses condition \n",
    "\n"
   ]
  },
  {
   "cell_type": "code",
   "execution_count": null,
   "id": "dba9f95e",
   "metadata": {},
   "outputs": [],
   "source": [
    "a = 33\n",
    "b = 33\n",
    "\n",
    "if b > a:\n",
    "    print('b greater than a')\n",
    "elif a == b:\n",
    "    print('a and b equal')"
   ]
  },
  {
   "cell_type": "markdown",
   "id": "f2a2b6a0",
   "metadata": {},
   "source": [
    "# if_elif_else_statement \n",
    "used to check for multiple condition and execute the code block within if an of condition evaluate to be true.\n",
    "If the first condition is\n",
    "not true,then\n",
    "the\n",
    "next condition is executed, if this condition is also not true then the next condition is executed and soon."
   ]
  },
  {
   "cell_type": "code",
   "execution_count": null,
   "id": "85a3e40b",
   "metadata": {},
   "outputs": [],
   "source": [
    "grade = 85\n",
    "\n",
    "if grade == 90:\n",
    "    print(\"A\")\n",
    "elif grade >= 80:\n",
    "    print(\"B\")\n",
    "elif grade == 70:\n",
    "    print(\"C\")\n",
    "else:\n",
    "    print(\"F\")"
   ]
  },
  {
   "cell_type": "markdown",
   "id": "0a39a9a6",
   "metadata": {},
   "source": [
    "# nested_if \n",
    "Wecanhaveanif...elsestatementinsideanotherif...elsestatement.Thisiscallednested-if.\n",
    "Pythonprovidesuswiththenestingmethod.\n",
    "\n",
    "●Thesestatementscanbenestedinsideeachotherinanyorder.\n",
    "\n",
    "Indentationhelpsidentifythedepthofnesting\n",
    "\n",
    "syntax = "
   ]
  },
  {
   "cell_type": "code",
   "execution_count": null,
   "id": "77c4f33b",
   "metadata": {},
   "outputs": [],
   "source": [
    "# Example: Determine the grade based on score and if it's passing\n",
    "score = 75\n",
    "\n",
    "if score >= 60:\n",
    "    print(\"You passed.\")\n",
    "    if score >= 90:\n",
    "        print(\"Your grade is A.\")\n",
    "    elif score >= 80:\n",
    "        print(\"Your grade is B.\")\n",
    "    else:\n",
    "        print(\"Your grade is C.\")\n",
    "else:\n",
    "    print(\"You failed.\")"
   ]
  },
  {
   "cell_type": "markdown",
   "id": "b6744e39",
   "metadata": {},
   "source": [
    "# if condition with operator (ans ,or ,not)"
   ]
  },
  {
   "cell_type": "code",
   "execution_count": null,
   "id": "3c0144f8",
   "metadata": {},
   "outputs": [],
   "source": [
    "a = 33\n",
    "b = 36\n",
    "\n",
    "if a>b  or a<b:\n",
    "    print('truw')"
   ]
  },
  {
   "cell_type": "markdown",
   "id": "1490bc46",
   "metadata": {},
   "source": [
    "# if_elif _else = practice question\n",
    "https://csiplearninghub.com/python-if-else-conditional-statement-practice/#test1"
   ]
  },
  {
   "cell_type": "code",
   "execution_count": null,
   "id": "ffda2705",
   "metadata": {},
   "outputs": [],
   "source": [
    "# writing programme to check person is eleigible  for voting or not \n",
    "age = int(input('entre your age'))\n",
    "\n",
    "if age >= 18:\n",
    "    print('elegible gor voting')\n",
    "else :\n",
    "    print(\"not eligible\" )"
   ]
  },
  {
   "cell_type": "code",
   "execution_count": null,
   "id": "fee2bbf3",
   "metadata": {},
   "outputs": [],
   "source": [
    "#1. write a programme to no entre by user is even or odd\n",
    "\n",
    "number = int(input ('entre no'))\n",
    "\n",
    "if number%2 == 0 :\n",
    "    print('even no')\n",
    "else: \n",
    "    print('odd no')"
   ]
  },
  {
   "cell_type": "code",
   "execution_count": null,
   "id": "0cc4817a",
   "metadata": {},
   "outputs": [],
   "source": [
    "#2. write a programme to check no is divisible by 7 or not \n",
    "\n",
    "number = int(input('entre no.'))\n",
    "\n",
    "if number % 7 ==0:\n",
    "    print('divsible by 7')\n",
    "else :\n",
    "    print('not divisble by 7 ')"
   ]
  },
  {
   "cell_type": "code",
   "execution_count": null,
   "id": "93a8527e",
   "metadata": {},
   "outputs": [],
   "source": [
    "\n",
    "number = int(input('entre no.'))\n",
    "\n",
    "if number %5 ==0:\n",
    "    print('Hello')\n",
    "else :\n",
    "    print('bye')"
   ]
  },
  {
   "cell_type": "code",
   "execution_count": null,
   "id": "42caed0c",
   "metadata": {},
   "outputs": [],
   "source": [
    "# 3.write a programme to calculate electricity bill (accept no of unit from user) according to following criteria \n",
    "#     unit                                price \n",
    "#  first 100 unit                   - no charges \n",
    "#  next 100 unit                     - rs 5 per unit \n",
    "#  after 200 unit                   - rs 10 per unit \n",
    "#  ( for example if input unit is 350 than total bill amount is rs . 20000)\n",
    "\n",
    "\n",
    "amt = 0\n",
    "nu = int(input('entre electricity unit'))\n",
    "if nu == 100:\n",
    "    amt = 0\n",
    "if nu >100 and nu<=200:\n",
    "    amt = (nu - 100)*5\n",
    "if nu >200:\n",
    "    amt = 500 + (nu-100)*10\n",
    "    \n",
    "print('electricity bill :', amt)\n"
   ]
  },
  {
   "cell_type": "code",
   "execution_count": null,
   "id": "58675b56",
   "metadata": {},
   "outputs": [],
   "source": [
    "#4. write a programme to display last 10 digit (hint = any no %10 will return last digit )\n",
    "\n",
    "num = int(input ('entre any no'))\n",
    "print('last digit of number is :' , num%10 )"
   ]
  },
  {
   "cell_type": "code",
   "execution_count": null,
   "id": "3bf20448",
   "metadata": {},
   "outputs": [],
   "source": [
    "# 5.write a programme to check last digit of number (entre by user) is divisble by 3 or not \n",
    "\n",
    "num = int(input('entre number'))\n",
    "id = num%10\n",
    "if id%3 ==0:\n",
    "    print('num divisble by 3')\n",
    "else :\n",
    "    print('not divisible')"
   ]
  },
  {
   "cell_type": "code",
   "execution_count": null,
   "id": "d9258477",
   "metadata": {},
   "outputs": [],
   "source": [
    "#6. Write a programmeto accept percentage from user and display gred according following cirteria \n",
    "\n",
    "#    marks                                        gred\n",
    "#  >90                                             A\n",
    "#  >80 and <=90                                    B\n",
    "# >60 and <=80                                     C\n",
    "# below 60                                         D\n",
    "\n",
    "marks = int(input('entre your marks'))\n",
    "\n",
    "\n",
    "if marks >90:\n",
    "    print(\"A\")\n",
    "elif marks >80 and marks <=90  :\n",
    "    print(\"B\")\n",
    "elif marks >60 and marks <= 80:\n",
    "    print(\"c\")\n",
    "else :\n",
    "    print(\"D\")\n"
   ]
  },
  {
   "cell_type": "code",
   "execution_count": null,
   "id": "d2d5a16f",
   "metadata": {},
   "outputs": [],
   "source": [
    "marks = int(input('entre your marks'))\n",
    "Gred = 0\n",
    "\n",
    "if marks >90:\n",
    "    Gred = 'A'\n",
    "elif marks >80 and marks <=90  :\n",
    "    Gred = 'B'\n",
    "elif marks >60 and marks <= 80:\n",
    "    Gred ='C'\n",
    "else :\n",
    "    print('D')\n",
    "    \n",
    "print('gread is:', Gred)"
   ]
  },
  {
   "cell_type": "code",
   "execution_count": null,
   "id": "a2366775",
   "metadata": {},
   "outputs": [],
   "source": [
    "# 7. WRITE A [ROGRAMME ] TO CHECK YEAR IS LEAP OR NOT \n",
    "\n",
    "yr = int(input('entre uear'))\n",
    "\n",
    "if yr%4 == 0:\n",
    "    print('yrar is leap')\n",
    "else:\n",
    "    print('not leap year')\n",
    "    "
   ]
  },
  {
   "cell_type": "code",
   "execution_count": null,
   "id": "56721deb",
   "metadata": {},
   "outputs": [],
   "source": [
    "#8. write a programme to accept a number from 1 to 7 and display the day like 1 for sunday ,or 2 for monday"
   ]
  },
  {
   "cell_type": "code",
   "execution_count": null,
   "id": "29a219d1",
   "metadata": {},
   "outputs": [],
   "source": [
    "day_number  = int(input('entre a number from 1 to 7:'))\n",
    "days_of_week = ['sunday','monday','tusday','wensday','tursday','friday','saturday']    ## Define a list of days of the week\n",
    "\n",
    "if 1 <= day_number <=7:\n",
    "    day_number = days_of_week[day_number - 1]\n",
    "    print(f\"The day corresponding to {day_number} is {day_name}.\")\n",
    "else:\n",
    "    print('invalid output')"
   ]
  },
  {
   "cell_type": "code",
   "execution_count": null,
   "id": "dcf440ef",
   "metadata": {},
   "outputs": [],
   "source": [
    "day_number = int(input(\"Enter a number from 1 to 7: \"))\n",
    "\n",
    "# Define a list of days of the week\n",
    "days_of_week = [\"Sunday\", \"Monday\", \"Tuesday\", \"Wednesday\", \"Thursday\", \"Friday\", \"Saturday\"]\n",
    "\n",
    "# Check if the input is valid (between 1 and 7 )\n",
    "if 1 <= day_number <= 7:\n",
    "                                                                      # Subtract 1 from the input to index the list correctly\n",
    "    day_name = days_of_week[day_number - 1]\n",
    "    print(f\"The day corresponding to {day_number} is {day_name}.\")\n",
    "else:\n",
    "    print(\"Invalid input. Please enter a number from 1 to 7.\")"
   ]
  },
  {
   "cell_type": "code",
   "execution_count": null,
   "id": "4bd58a58",
   "metadata": {},
   "outputs": [],
   "source": [
    "9.dn = int(input('Entre a number from 1 to 7:'))\n",
    "\n",
    "if dn == 1 :\n",
    "    print('sunday')\n",
    "elif dn ==2:\n",
    "    print('monday')\n",
    "elif dn == 3:\n",
    "    print('tusday')\n",
    "elif dn == 4:\n",
    "    print('wensaday')\n",
    "elif dn == 5:\n",
    "    print('tursday')\n",
    "elif dn == 6:\n",
    "    print('friday')\n",
    "elif dn==7 :\n",
    "    print('saturday')\n",
    "else:\n",
    "    print('num bet 1 to 7')"
   ]
  },
  {
   "cell_type": "code",
   "execution_count": null,
   "id": "1177f488",
   "metadata": {},
   "outputs": [],
   "source": [
    "#10. write a proframme to acept day between 1 -12 and display name month \n",
    "\n",
    "day_number = int(input(' entre day number:'))\n",
    "month = ['jan','feb','march','april','may','jun','july','aug','sep','oct','nov','dec']\n",
    "\n",
    "if 1 <= day_number <= 12:\n",
    "    month_name = month[day_number - 1]\n",
    "    print(f\"The day corresponding to {day_number} is {month_name}.\")\n",
    "else:\n",
    "    print('entre day brtween 1 t0 12')\n",
    "\n"
   ]
  },
  {
   "cell_type": "code",
   "execution_count": null,
   "id": "32a422cb",
   "metadata": {},
   "outputs": [],
   "source": [
    "if True:\n",
    "    print(101)\n",
    "else:\n",
    "    print(102)"
   ]
  },
  {
   "cell_type": "code",
   "execution_count": null,
   "id": "dec987e5",
   "metadata": {},
   "outputs": [],
   "source": [
    "# 12.accept any city from user and sispaly monument of each city \n",
    "city = input('ente city:')\n",
    "\n",
    "if city == \"Delhi\":\n",
    "    print('lal kila')\n",
    "elif city == \"Agra\":\n",
    "    print('taj mahal')\n",
    "elif city == \"jaipur\":\n",
    "    print('jal mahal')\n",
    "else:\n",
    "    print('plses entre city')"
   ]
  },
  {
   "cell_type": "code",
   "execution_count": null,
   "id": "337a4dc6",
   "metadata": {},
   "outputs": [],
   "source": [
    "city_monuments = {\n",
    "    \"Paris\": \"Eiffel Tower\",\n",
    "    \"Rome\": \"Colosseum\",\n",
    "    \"New York\": \"Statue of Liberty\",\n",
    "    \"Cairo\": \"Pyramids of Giza\",\n",
    "    \"Tokyo\": \"Tokyo Tower\",\n",
    "    \"Sydney\": \"Sydney Opera House\",\n",
    "    \"London\": \"Big Ben\"\n",
    "}\n",
    "\n",
    "                                                         # Get input from the user\n",
    "city = input(\"Enter a city: \")\n",
    "\n",
    "                                                         # Check if the entered city is in the dictionary\n",
    "if city in city_monuments:\n",
    "    monument = city_monuments[city]\n",
    "    print(f\"The famous monument in {city} is the {monument}.\")\n",
    "else:\n",
    "    print(f\"Sorry, we don't have information about a famous monument in {city}.\")"
   ]
  },
  {
   "cell_type": "code",
   "execution_count": null,
   "id": "057532d2",
   "metadata": {},
   "outputs": [],
   "source": [
    "a = 9 \n",
    "\n",
    "if (a>5 and a<10):\n",
    "    print('hello')\n",
    "else :\n",
    "    print('bye')"
   ]
  },
  {
   "cell_type": "code",
   "execution_count": null,
   "id": "06b577f9",
   "metadata": {},
   "outputs": [],
   "source": [
    "#13. write a programme to check number entre is three digti no or not \n",
    "\n",
    "num = int(input(\"Enter a number: \"))\n",
    "\n",
    "if 100 <= num <= 999:\n",
    "    print(f\"{num} is a three-digit number.\")\n",
    "else:\n",
    "    print(f\"{num} is not a three-digit number.\")"
   ]
  },
  {
   "cell_type": "code",
   "execution_count": null,
   "id": "fc13829d",
   "metadata": {},
   "outputs": [],
   "source": [
    "# 14.write a prgramme to check person is eligible for voting or not \n",
    "\n",
    "age = int(input('entre age'))\n",
    "if age >= 18:\n",
    "    print('eligible for voting')\n",
    "else:\n",
    "    print('not elegible for voting')"
   ]
  },
  {
   "cell_type": "code",
   "execution_count": null,
   "id": "ae450455",
   "metadata": {},
   "outputs": [],
   "source": [
    "# 15.write a prgramme to person is sinour citzen or not \n",
    "\n",
    "age = int(input('entre age'))\n",
    "if age >= 60:\n",
    "    print('sinour Citizen')\n",
    "else:\n",
    "    print('adult')\n"
   ]
  },
  {
   "cell_type": "code",
   "execution_count": null,
   "id": "65f27515",
   "metadata": {},
   "outputs": [],
   "source": [
    "#16. write a programme to find lowest number out of two number except from user\n",
    "\n",
    "num1 = int(input('entre 1 number'))\n",
    "num2 = int(input('entre 2 number'))\n",
    "\n",
    "if num1< num2:\n",
    "    print('lowest number:', num1)\n",
    "else:\n",
    "    print('lowest number:', num2)"
   ]
  },
  {
   "cell_type": "code",
   "execution_count": null,
   "id": "6a5c90e2",
   "metadata": {},
   "outputs": [],
   "source": [
    "# 18.write a programme to check number accepted form user is positive ir negative\n",
    "\n",
    "num = int(input('entre number:'))\n",
    "\n",
    "if num1 > 0 :\n",
    "    print('negative numbee')\n",
    "else :\n",
    "    ('positive number')"
   ]
  },
  {
   "cell_type": "code",
   "execution_count": null,
   "id": "f2c0012c",
   "metadata": {},
   "outputs": [],
   "source": [
    "# 20.write a programme to programme is even or odd\n",
    "\n",
    "num = int(input('entre number'))\n",
    "\n",
    "if num%2 ==0 :\n",
    "    print('even numbe')\n",
    "else :\n",
    "    print('odd number')"
   ]
  },
  {
   "cell_type": "code",
   "execution_count": null,
   "id": "8921515f",
   "metadata": {},
   "outputs": [],
   "source": [
    "#21 write a programme to check number is divisible by 2 and 3 both\n",
    "\n",
    "num = int(input('entre number'))\n",
    "\n",
    "if num%2 == 0 and num%3 == 0 :\n",
    "    print('divisible by both')\n",
    "else :\n",
    "    print('not divisible')"
   ]
  },
  {
   "cell_type": "code",
   "execution_count": null,
   "id": "fbd9b7ae",
   "metadata": {},
   "outputs": [],
   "source": [
    "#22.write a programme to find largest number find out of three number excepted from user \n",
    "\n",
    "num1 = int(input('entre number'))\n",
    "num2 = int(input('entre number'))\n",
    "num3 = int(input('entre number'))\n",
    "\n",
    "if num1>num2 :\n",
    "    print('largest number',num1)\n",
    "elif num2 >num1:\n",
    "    print('largest number',num2)\n",
    "elif num2>num3 :\n",
    "    print('largest number',num2) \n",
    "elif num3>num2 :\n",
    "    print('largest number',num3)\n",
    "elif num1>num3 :\n",
    "    print('largest number',num1)\n",
    "elif num3>num1 :\n",
    "    print('largest number',num3)\n",
    "else:\n",
    "    print('plse entre number')"
   ]
  },
  {
   "cell_type": "code",
   "execution_count": null,
   "id": "969e6445",
   "metadata": {},
   "outputs": [],
   "source": [
    "\n",
    "num1 = int(input('entre number'))\n",
    "num2 = int(input('entre number'))\n",
    "num3 = int(input('entre number'))\n",
    "\n",
    "if num1>num2  and num1>num3:\n",
    "    print('largest number',num1)\n",
    "elif num2 >num1 and num2>num3:\n",
    "    print('largest number',num2)\n",
    "elif num3>num2 and  num3>num1:\n",
    "    print('largest number',num3)"
   ]
  },
  {
   "cell_type": "code",
   "execution_count": null,
   "id": "3b56670c",
   "metadata": {},
   "outputs": [],
   "source": [
    "# 23.accept temperarure in degree celcius in water and check wether it is boilling or not \n",
    "\n",
    "temp = int(input('entre temp'))\n",
    "\n",
    "if temp >= 100:\n",
    "    print('boilling point')\n",
    "else :\n",
    "    print('evaporation')"
   ]
  },
  {
   "cell_type": "code",
   "execution_count": null,
   "id": "e628380f",
   "metadata": {},
   "outputs": [],
   "source": [
    "# 24 .display age of 4 people and display whhch is youngest one \n",
    "\n",
    "p1 = int(input('entre age'))\n",
    "p2 = int(input('entre age'))\n",
    "p3 = int(input('entre age'))\n",
    "p4 = int(input('entre age'))\n",
    "\n",
    "if p1< p2  and p1 <p3 and p1 < p4:\n",
    "    print('youngest pepople', p1)\n",
    "elif  p2< p1  and p2 <p3 and P2 < p4:\n",
    "    print('youngest pepople', p2)\n",
    "elif  p3< p2  and p3 <p1 and P3 < p4:\n",
    "    print('youngest pepople', p3)\n",
    "elif  p4< p1  and p4 <p2 and P4 < p3:\n",
    "    print('youngest pepople', p4)"
   ]
  },
  {
   "cell_type": "code",
   "execution_count": null,
   "id": "77be3147",
   "metadata": {},
   "outputs": [],
   "source": [
    "#25.accept age of four people and dispay oldest one "
   ]
  },
  {
   "cell_type": "code",
   "execution_count": null,
   "id": "fc6733be",
   "metadata": {},
   "outputs": [],
   "source": [
    "# prime number = \n",
    "A prime number is a positive integer greater than 1 that has no positive integer divisors other than 1 and itself. \n",
    "In other words, a prime number is a number that can only be divided by 1 and itself without leaving a remainder."
   ]
  },
  {
   "cell_type": "code",
   "execution_count": null,
   "id": "d4bca3c3",
   "metadata": {},
   "outputs": [],
   "source": [
    "#26. write a programme is to  chek numbe is prime or not \n",
    "\n",
    "num = int(input ('ntre number '))\n",
    "\n",
    "if num%1 == 0 and num%num == 0 :\n",
    "    print(\"it is prime number\")\n",
    "else :\n",
    "    print(' not a prime number')"
   ]
  },
  {
   "cell_type": "code",
   "execution_count": null,
   "id": "ec0c3f1b",
   "metadata": {},
   "outputs": [],
   "source": [
    "# 27.write a pogramme is to check character id vowel or not \n",
    "\n",
    "id = input ('entre any character')\n",
    "vowel = 'aeiouAEIOU'\n",
    "\n",
    "if id in vowel:\n",
    "    print('vowel  present')\n",
    "else :\n",
    "    print('vowel absent')"
   ]
  },
  {
   "cell_type": "code",
   "execution_count": null,
   "id": "12d8048f",
   "metadata": {},
   "outputs": [],
   "source": [
    "# 28. ACCEPT THE FOLLOWING FROM USER AND CALCULATE THE PERCENTAGE OF CLASS ATTEND\n",
    "# total numberof working days\n",
    "# total number of day absent \n",
    "# after calacutating percentage show that ,if percentage is less than 75 , thsen student not be able to sit in  exame \n",
    "\n",
    "working_days = int(input('enre no of das'))\n",
    "absent_days = int(input ('entre absetny '))\n",
    " \n",
    "percentage = ((working_days - absent_days)/working_days  )*100\n",
    "\n",
    "if percentage >75 :\n",
    "    print('sit in class')\n",
    "else :\n",
    "    print(' not eleigible to sit n calss')"
   ]
  },
  {
   "cell_type": "code",
   "execution_count": null,
   "id": "79bac611",
   "metadata": {},
   "outputs": [],
   "source": [
    "#29.Accept percentage from the user and display the grade according to following criteria\n",
    "\n",
    "per = int(input('entre percentage'))\n",
    "\n",
    "if per < 25 :\n",
    "    print('D')\n",
    "elif per >25 and per< 45 :\n",
    "    print ('c')\n",
    "elif per > 45 and per < 50:\n",
    "    print('B')\n",
    "elif per > 50 and per < 60 :\n",
    "    print('B+')\n",
    "elif per > 60 and per < 80:\n",
    "    print('A')\n",
    "else :\n",
    "    print ('A+')"
   ]
  },
  {
   "cell_type": "code",
   "execution_count": null,
   "id": "0b7d5f66",
   "metadata": {},
   "outputs": [],
   "source": [
    "#30.company decide to give bonus to employee according to following criteria \n",
    "\n",
    "salary = int(input ('entre salry '))\n",
    "exp = int(input ('entre time peroid of servise  '))\n",
    "\n",
    "\n",
    "if exp > 10 :\n",
    "    print(\"bonus:\",(10 /100 )*salary )\n",
    "elif exp >= 6 and exp<= 10 :\n",
    "    print(\"bonus:\", (8 /100 )*salary)\n",
    "elif exp < 6:\n",
    "    print(\"bonus :\" ,(5/100 )*salary)\n",
    "else :\n",
    "    print('get exp')\n",
    "    \n",
    "    "
   ]
  },
  {
   "cell_type": "code",
   "execution_count": null,
   "id": "b0fb6212",
   "metadata": {},
   "outputs": [],
   "source": [
    "# 31.accept the marked price from user and calculate the net \n",
    "#amount as ( Marked Price - Discount ) to pay accoerding to \n",
    "#following criteria.\n",
    "\n",
    "mp = int(input('entre marke price')) \n",
    "\n",
    "if mp > 10000 :\n",
    "    print('net ampount =',mp- 20/100*mp)\n",
    "elif mp >7000 and mp <= 10000:\n",
    "    print('net ampount =',mp - 15/100*mp)\n",
    "elif mp <= 7000:\n",
    "    print('net ampount =',mp -10 /100*mp)\n"
   ]
  },
  {
   "cell_type": "code",
   "execution_count": null,
   "id": "ba1821dc",
   "metadata": {},
   "outputs": [],
   "source": [
    "# 32.write a programme to accept percentage and display the category \n",
    "#accoerding to the following criteria \n",
    "\n",
    "per = int(input('entre percentage'))\n",
    "\n",
    "if per < 40:\n",
    "    print('category :', 'failed')\n",
    "elif per >= 40 and per <55 :\n",
    "    print ( \"category:\", \"fair\" )\n",
    "elif per >=55 and per < 65 :\n",
    "    print('category:' , 'good')\n",
    "elif per ==65 :\n",
    "    print('category: ', 'excallent')\n",
    "else:\n",
    "    print(\"pass\")"
   ]
  },
  {
   "cell_type": "code",
   "execution_count": null,
   "id": "dd1c2b15",
   "metadata": {},
   "outputs": [],
   "source": [
    "#33. Accept three side of trainge;e and cjheck whether it is an equi;\\lateral \n",
    "# , isosceles or sca;ene triangle.\n",
    "\n",
    "s1  = int(input ('entre length'))\n",
    "s2 = int(input ('entre length'))\n",
    "s3 = int(input ('entre length'))\n",
    "\n",
    "if s1== s2 == s3 :\n",
    "    print(\"equilateral triangle\")\n",
    "elif (s1 == s2 or s2 == s3  or s1 ==s3):\n",
    "    print('isosceles trainge')\n",
    "elif s1 != s2 != s3 :\n",
    "    print('scalene traingle')\n",
    "    "
   ]
  },
  {
   "cell_type": "code",
   "execution_count": null,
   "id": "46c90db6",
   "metadata": {},
   "outputs": [],
   "source": [
    "# 34.write a programme to accept two numbers and mathematical operators and prform operatin accoerdingel\n",
    "\n",
    "n1  = int(input ('entre length'))\n",
    "n2 = int(input ('entre length'))\n",
    "op =  input ('entre operator')\n",
    "\n",
    "if op == '+':\n",
    "    print(n1 +n2)\n",
    "elif op == '-':\n",
    "    print(n1 -n2)\n",
    "elif op == '*':\n",
    "    print(n1*n2)\n",
    "elif op == '/':\n",
    "    print(n1/n2)\n",
    "elif op == '%':\n",
    "    print(n1//n2)"
   ]
  },
  {
   "cell_type": "code",
   "execution_count": null,
   "id": "7836b9bd",
   "metadata": {},
   "outputs": [],
   "source": [
    "# 35.accept the age , sex (M,F) number of days and display thje wages accordingly \n",
    "\n",
    "age =int(input ('entre age'))\n",
    "no_of_days = int(input('enter workinf days'))\n",
    "sex = input(\"entre sex(M/F):\" )\n",
    "\n",
    "if age >= 18 and age <30 :\n",
    "    if sex == 'M':\n",
    "        print('wages:', 700/no_of_days)\n",
    "    else:\n",
    "        print('wages:', 750/no_of_days)\n",
    "elif age >= 30 and age <= 40 :\n",
    "    if sex =='M':\n",
    "        print('wages:',800/no_of_days)\n",
    "    else:\n",
    "        print('wages:', 850/no_of_days)\n",
    "else :\n",
    "    print('Entre appropriate age')"
   ]
  },
  {
   "cell_type": "code",
   "execution_count": null,
   "id": "3f5f1e37",
   "metadata": {},
   "outputs": [],
   "source": [
    "age = int(input('Enter age: '))\n",
    "sex = input('Enter sex (M/F): ')\n",
    "no_of_days = int(input('Enter number of working days: '))\n",
    "\n",
    "if age >= 18 and age < 30:\n",
    "    if sex == 'M':\n",
    "        print('Wages:', 700 / no_of_days)\n",
    "    elif sex == 'F':\n",
    "        print('Wages:', 750 / no_of_days)\n",
    "elif age >= 30 and age <= 40:\n",
    "    if sex == 'M':\n",
    "        print('Wages:', 800 / no_of_days)\n",
    "    elif sex == 'F':\n",
    "        print('Wages:', 850 / no_of_days)\n",
    "else:\n",
    "    print('Enter appropriate age and sex.')\n",
    "\n",
    "\n"
   ]
  },
  {
   "cell_type": "code",
   "execution_count": null,
   "id": "834cef39",
   "metadata": {},
   "outputs": [],
   "source": [
    "# 36.Aceept three numbers from the users and display the second largest number \n",
    "\n",
    "num1 = int(input('entre numner 1:'))\n",
    "num2 = int(input('entre numner 2:'))\n",
    "num3 = int(input('entre numner 3:'))\n",
    "\n",
    "if num1 >num2 and num1>num3 :\n",
    "    print('largest number :- ', num1)\n",
    "elif num2 > num1 and num2 >num3 :\n",
    "    print('largest number :- ', num2)\n",
    "elif num3 >num2 and num3 > num1:\n",
    "    print('largerst number :- ', num3)"
   ]
  },
  {
   "cell_type": "code",
   "execution_count": null,
   "id": "606bee20",
   "metadata": {},
   "outputs": [],
   "source": [
    "#37.Accept three side of trANGLE AND CHECK WETHER THE TRIANGLE IS POSSIBLE OR NOT \n",
    "\n",
    "S1 = int(input('entre numner 1:'))\n",
    "S2 = int(input('entre numner 2:'))\n",
    "S3 = int(input('entre numner 3:'))\n",
    "\n",
    "if S1+S2 > S3 or S2+S3>S1 or S1+S3 >S2 :\n",
    "    print('possible')\n",
    "else:\n",
    "    print('not possible')"
   ]
  },
  {
   "cell_type": "code",
   "execution_count": null,
   "id": "9f3353e3",
   "metadata": {},
   "outputs": [],
   "source": [
    "#38. accept the electric unit from user and calculate the bill according to the followung rates.\n",
    "\n"
   ]
  },
  {
   "cell_type": "code",
   "execution_count": null,
   "id": "a1c47f1c",
   "metadata": {},
   "outputs": [],
   "source": [
    "#39.Accept the number of days from user and calaculate thee charge for libarary accor foll\n",
    "\n",
    "days = int(input('entre days :'))\n",
    "\n",
    "if days <= 5:\n",
    "    amt =days*2\n",
    "elif days >=6 and days <=10:\n",
    "    amt = days*3\n",
    "elif days >=11 and days <=15:\n",
    "    amt =days*4\n",
    "elif days > 15 :\n",
    "    amt =days*5\n",
    "\n",
    "print('total amount pAY',amt) "
   ]
  },
  {
   "cell_type": "code",
   "execution_count": null,
   "id": "d3e460b4",
   "metadata": {},
   "outputs": [],
   "source": [
    "#40. accept the klometers coversd and calculate the bil accoe=rding to followung \n",
    "\n",
    "distance = int(input ('entre dis:'))\n",
    "\n",
    "if distance <= 10 :\n",
    "    amt = distance*11\n",
    "elif distance >10 and distance <= 100 :\n",
    "    amt = 110+ (distance-10)*10\n",
    "elif distance > 100 :\n",
    "    amt= 1010 + (distance -100)*9\n",
    "    \n",
    "    \n",
    "print(amt)\n",
    "    "
   ]
  },
  {
   "cell_type": "code",
   "execution_count": null,
   "id": "10049b21",
   "metadata": {},
   "outputs": [],
   "source": [
    "# 41 .accept the marks of english ,math and science , social studies and display the stream alloted accprd follw \n",
    "\n",
    "english = int(input('entre marks;'))\n",
    "math = int(input('entre marks;'))\n",
    "science = int(input('entre marks;'))\n",
    "ss= int(input('entre marks;'))\n",
    " \n",
    "if english > 80 and math >80 and science >80 and ss> 80:\n",
    "    print('sciencse strem')\n",
    "elif english >80 and math >50 and science > 50 :\n",
    "    print('commerse')\n",
    "elif english > 80 and ss> 80 :\n",
    "    print('humaniteis')"
   ]
  },
  {
   "cell_type": "code",
   "execution_count": null,
   "id": "7276ced7",
   "metadata": {},
   "outputs": [],
   "source": [
    "\n",
    "english = int(input('entre marks;'))\n",
    "math = int(input('entre marks;'))\n",
    "science = int(input('entre marks;'))\n",
    "ss= int(input('entre marks;'))\n",
    "\n",
    "science_strem = english > 80 and math >80 and science >80 and ss> 80\n",
    "commers_stream = english >80 and math >50 and science > 50 \n",
    "humanities = english > 80 and ss> 80\n",
    "\n",
    "if science_strem:\n",
    "    print('You are eligible for the science stream.')\n",
    "elif commers_stream:\n",
    "    print('You are eligible for the Commerce stream.')\n",
    "elif humanities:\n",
    "    print('You are eligible for the humanities stream.')\n",
    "else:\n",
    "    print('You are not eligible for any stream.')\n"
   ]
  }
 ],
 "metadata": {
  "kernelspec": {
   "display_name": "Python 3 (ipykernel)",
   "language": "python",
   "name": "python3"
  },
  "language_info": {
   "codemirror_mode": {
    "name": "ipython",
    "version": 3
   },
   "file_extension": ".py",
   "mimetype": "text/x-python",
   "name": "python",
   "nbconvert_exporter": "python",
   "pygments_lexer": "ipython3",
   "version": "3.10.9"
  }
 },
 "nbformat": 4,
 "nbformat_minor": 5
}
